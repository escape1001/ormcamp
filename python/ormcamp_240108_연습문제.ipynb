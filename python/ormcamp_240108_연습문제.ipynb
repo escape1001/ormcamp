{
  "nbformat": 4,
  "nbformat_minor": 0,
  "metadata": {
    "colab": {
      "provenance": [],
      "authorship_tag": "ABX9TyNmMp0bYP8I0dY88OoodqbM",
      "include_colab_link": true
    },
    "kernelspec": {
      "name": "python3",
      "display_name": "Python 3"
    },
    "language_info": {
      "name": "python"
    }
  },
  "cells": [
    {
      "cell_type": "markdown",
      "metadata": {
        "id": "view-in-github",
        "colab_type": "text"
      },
      "source": [
        "<a href=\"https://colab.research.google.com/github/escape1001/ormcamp/blob/main/python/ormcamp_240108_%EC%97%B0%EC%8A%B5%EB%AC%B8%EC%A0%9C.ipynb\" target=\"_parent\"><img src=\"https://colab.research.google.com/assets/colab-badge.svg\" alt=\"Open In Colab\"/></a>"
      ]
    },
    {
      "cell_type": "markdown",
      "source": [
        "# 연습문제\n",
        "## 기초문제"
      ],
      "metadata": {
        "id": "dtNeMlzNOFSR"
      }
    },
    {
      "cell_type": "code",
      "execution_count": 1,
      "metadata": {
        "colab": {
          "base_uri": "https://localhost:8080/"
        },
        "id": "K3HqU7Rj7O9d",
        "outputId": "23781d83-9bf1-4d2c-f140-f414aa2af5a7"
      },
      "outputs": [
        {
          "output_type": "stream",
          "name": "stdout",
          "text": [
            "I\n",
            "love\n",
            "python\n"
          ]
        }
      ],
      "source": [
        "# 1. 다음 코드를 실행하면 출력되는 값을 순서대로 작성해보세요.\n",
        "a = 'pithon'\n",
        "\n",
        "def 함수1():\n",
        "    def 함수2():\n",
        "        print('love') # 2번째 출력\n",
        "\n",
        "    print('I') # 1번째 출력\n",
        "    함수2()\n",
        "    return \"python\"\n",
        "\n",
        "\n",
        "a = 함수1()\n",
        "print(a) # 리턴값 \"python\"을 3번째로 출력"
      ]
    },
    {
      "cell_type": "code",
      "source": [
        "# 2. 함수를 이용하여 계산기 프로그램을 만들어주세요.\n",
        "def plus(num1, num2):\n",
        "    return num1 + num2\n",
        "\n",
        "def minus(num1, num2):\n",
        "    return num1 - num2\n",
        "\n",
        "def multiply(num1, num2):\n",
        "    return num1 * num2\n",
        "\n",
        "def divide(num1, num2):\n",
        "    if num2 == 0 :\n",
        "        return \"0으로 나눌 수 없습니다.\"\n",
        "    return num1 / num2 # 정수로 받고싶으면 //\n",
        "\n",
        "print(f'plus : {plus(10, 5)}')\n",
        "print(f'minus : {minus(10, 5)}')\n",
        "print(f'multiply : {multiply(10, 5)}')\n",
        "print(f'divide : {divide(10, 5)}')"
      ],
      "metadata": {
        "colab": {
          "base_uri": "https://localhost:8080/"
        },
        "id": "XnNu-fCw7SIL",
        "outputId": "a3e2d3b2-d2b1-4bbb-ddb6-16d9452aedc4"
      },
      "execution_count": 40,
      "outputs": [
        {
          "output_type": "stream",
          "name": "stdout",
          "text": [
            "plus : 15\n",
            "minus : 5\n",
            "multiply : 50\n",
            "divide : 2.0\n"
          ]
        }
      ]
    },
    {
      "cell_type": "code",
      "source": [
        "# 2.1. 2번의 해답을 이용하여 a와 b를 더한 값과 a와 b를 뺀 값을 곱하는 함수를 만들어주세요.\n",
        "# 아래와 같은 값이 있다면 (2 + 3) * (2 - 3) = -5가 출력이 되어야 합니다.\n",
        "a = 2\n",
        "b = 3\n",
        "\n",
        "def calc(num1, num2):\n",
        "    return (num1 + num2) * (num1 - num2)\n",
        "\n",
        "print(calc(2, 3))\n",
        "\n",
        "# 아 위의걸 사용해야하는구나\n",
        "\n",
        "res = multiply(plus(a,b), minus(a,b))\n",
        "print(res)"
      ],
      "metadata": {
        "colab": {
          "base_uri": "https://localhost:8080/"
        },
        "id": "znLTL_AL7UQi",
        "outputId": "5c05d44a-e13e-40a1-ece8-12a4a2b27a0e"
      },
      "execution_count": 43,
      "outputs": [
        {
          "output_type": "stream",
          "name": "stdout",
          "text": [
            "-5\n",
            "-5\n"
          ]
        }
      ]
    },
    {
      "cell_type": "code",
      "source": [
        "# 2.2. x의 n제곱을 구하는 함수를 만들어주세요.\n",
        "# 재귀함수를 이용하여 만들어야하며, x은 0이 아닙니다. (x, n > 1)\n",
        "\n",
        "def square1(x, n):\n",
        "    if x == 0 or n == 0:\n",
        "        return \"0은 제곱할 수 없습니다.\"\n",
        "\n",
        "    return x ** n\n",
        "\n",
        "# 재귀를 이용한 풀이\n",
        "def square2(x, n):\n",
        "    if n == 0:\n",
        "        return 1\n",
        "    else:\n",
        "        return x * square2(x, n-1)\n",
        "\n",
        "\n",
        "print(square1(2, 2))\n",
        "print(square2(3, 1))"
      ],
      "metadata": {
        "colab": {
          "base_uri": "https://localhost:8080/"
        },
        "id": "K_nBXBVNGPDd",
        "outputId": "2788ab15-23b4-4ace-ef3e-b0e865ae5e31"
      },
      "execution_count": 10,
      "outputs": [
        {
          "output_type": "stream",
          "name": "stdout",
          "text": [
            "4\n",
            "3\n"
          ]
        }
      ]
    },
    {
      "cell_type": "code",
      "source": [
        "# 3. 이 데이터에서 licat을 출력해주세요.\n",
        "# 단, 직접 접근은 안됩니다. data[1]로 접근하는 것은 안됩니다.\n",
        "data = [['weniv CTO binky', 2], ['weniv CEO licat', 1], ['weniv COO mura', 2]]\n",
        "\n",
        "data.pop(1).pop(0).split().pop(2)\n",
        "\n",
        "# 풀이.. 왜 이렇게 풀었지?\n",
        "# 기존 list 변경 없이 접근만을 따진 것 같음\n",
        "s = sorted(data, key=lambda x:x[1])[0][0]\n",
        "s[s.find('licat'):]\n",
        "\n",
        "s = str(list(data))\n",
        "s[s.find('licat'):s.find('licat') + 5]"
      ],
      "metadata": {
        "colab": {
          "base_uri": "https://localhost:8080/",
          "height": 35
        },
        "id": "cg5jw-rxGz0A",
        "outputId": "c58a1f02-62d2-4e5b-c2af-c07f11922bb7"
      },
      "execution_count": 13,
      "outputs": [
        {
          "output_type": "execute_result",
          "data": {
            "text/plain": [
              "'licat'"
            ],
            "application/vnd.google.colaboratory.intrinsic+json": {
              "type": "string"
            }
          },
          "metadata": {},
          "execution_count": 13
        }
      ]
    },
    {
      "cell_type": "code",
      "source": [
        "# 4. 다음 함수 is_palindrome를 완성하시오.\n",
        "# 이 함수는 하나의 문자열을 인자로 받아, 해당 문자열이\n",
        "# 앞으로 읽으나 뒤로 읽으나 같은 단어이면 True를, 아니면 False를 반환해야 합니다.\n",
        "\n",
        "def is_palindrome(s):\n",
        "    # print(f\"{list(s)} / {list(reversed(s))}\")\n",
        "    if list(s) == list(reversed(s)) :\n",
        "        return True\n",
        "    else:\n",
        "        return False\n",
        "\n",
        "test = \"기러기\"\n",
        "print(f\"{test}는 거꾸로 해도 {test} : {is_palindrome(test)}\")\n",
        "\n",
        "\n",
        "# 풀이 추가\n",
        "def is_palindrome(s):\n",
        "    if s == s[::-1]:\n",
        "      return True\n",
        "    return False\n",
        "\n",
        "def is_palindrome(word):\n",
        "    if len(word) < 2:\n",
        "        return True\n",
        "    if word[0] != word[-1]:\n",
        "        return False\n",
        "    return is_palindrome(word[1:-1]) # 오 신박하다.. 양 끝 글자 비교하는걸 재귀함."
      ],
      "metadata": {
        "colab": {
          "base_uri": "https://localhost:8080/"
        },
        "id": "3Mb4IuG9KcmF",
        "outputId": "9928d77b-2e5d-49e6-c54b-6d1fc7af186b"
      },
      "execution_count": 32,
      "outputs": [
        {
          "output_type": "stream",
          "name": "stdout",
          "text": [
            "['기', '러', '기'] / ['기', '러', '기']\n",
            "기러기는 거꾸로 해도 기러기 : True\n"
          ]
        }
      ]
    },
    {
      "cell_type": "code",
      "source": [
        "# 5. 리스트 numbers가 주어졌을 때, 이 리스트 내의 모든 짝수를 제거하는 코드를 작성하시오.\n",
        "numbers = [2, 3, 4, 5, 6, 7, 8, 9, 10]\n",
        "\n",
        "numbers = list(filter(lambda x: x%2 != 0, numbers))\n",
        "\n",
        "print(numbers)  # 결과: [3, 5, 7, 9]"
      ],
      "metadata": {
        "colab": {
          "base_uri": "https://localhost:8080/"
        },
        "id": "Ao1Uegu6K3LX",
        "outputId": "820811d4-f1e5-42a4-8189-0d12741e8c45"
      },
      "execution_count": 38,
      "outputs": [
        {
          "output_type": "stream",
          "name": "stdout",
          "text": [
            "[3, 5, 7, 9]\n"
          ]
        }
      ]
    },
    {
      "cell_type": "markdown",
      "source": [
        "## 심화 내용"
      ],
      "metadata": {
        "id": "gmixsplPOI54"
      }
    },
    {
      "cell_type": "code",
      "source": [
        "# 이 코드는 복잡한 데이터 구조를 실행하는 예제입니다.\n",
        "# 리스트의 첫 번째 요소[2,3,4,5,6]를 기준으로 오름차순 정렬을 수행합니다.\n",
        "\n",
        "data = [\n",
        "    [2, 'hello world', 30],\n",
        "    [3, 'hworl', 33],\n",
        "    [5, 'hello wo', 35],\n",
        "    [4, 'hello w', 31],\n",
        "    [6, 'hello w', 39]\n",
        "]\n",
        "\n",
        "# 1번째 문제: 첫 번째 요소의 값을 정렬하세요.\n",
        "print(sorted(data))\n",
        "\n",
        "# 2번째 문제: 두 번째 요소의 문자열 길이를 기준으로 정렬하세요.\n",
        "sorted(data, key=lambda x:len(x[1]))\n",
        "# sorted([11, 5, 7, 8, 7])를 정렬하는 것과 같습니다. 다만 숫자 값으로 반환하는 것이 아니라 object로 반환하죠.'\n",
        "\n",
        "# 3번째 문제: 세 번째 요소 기준으로 정렬하세요.\n",
        "sorted(data, key=lambda x:x[2])\n",
        "\n",
        "# 4번째 문제: 첫번째 요소와 세 번째 요소의 차가 큰 순으로 출력해주세요.\n",
        "# 예를 들어 [2, 'hello world', 30]의 경우 30 - 2 == 28입니다. 이런 차 순서대로 출력하시면 됩니다.\n",
        "sorted(data, key=lambda x:x[0]-x[2])\n",
        "sorted(data, key=lambda x:x[2]-x[0], reverse=True)"
      ],
      "metadata": {
        "colab": {
          "base_uri": "https://localhost:8080/"
        },
        "id": "Tk26vx37MK1J",
        "outputId": "b054c4ff-1e5c-4075-aa62-6e9da7ad5568"
      },
      "execution_count": 45,
      "outputs": [
        {
          "output_type": "stream",
          "name": "stdout",
          "text": [
            "[[2, 'hello world', 30], [3, 'hworl', 33], [4, 'hello w', 31], [5, 'hello wo', 35], [6, 'hello w', 39]]\n"
          ]
        }
      ]
    },
    {
      "cell_type": "markdown",
      "source": [
        "### range는 타입이다! 왜 이런 타입이 생겼을까?"
      ],
      "metadata": {
        "id": "v2RT7igAOwMl"
      }
    },
    {
      "cell_type": "code",
      "source": [
        "# range(start, stop, step) # 슬라이싱과 비슷한 형태를 지니고 있습니다.\n",
        "print(range(10)) # 값을 가지고 있지 않습니다.\n",
        "print(list(range(10)))\n",
        "x = range(10)\n",
        "print(type(x))\n",
        "print(list(range(0, 10, 2)))\n",
        "print(list(range(10, 0, -2)))\n",
        "# print(list(range(10, 0, 2.1))) # error, numpy 모듈 사용하면 가능합니다.\n",
        "# print(list(range(10.1, 2.0, 2))) # error, numpy 모듈 사용하면 가능합니다.\n",
        "print(list(range(0, 10, -2)))\n",
        "\n",
        "# 2.x에서 range와 그 외 값들에 대한 히스토리\n",
        "# print(range(10)) # 출력: [0, 1, 2, 3, 4, 5, 6, 7, 8, 9]\n",
        "# 메모리를 모두 차지해야 합니다.\n",
        "\n",
        "# print(range(100000000000000000000000000000000000000))\n",
        "# 메모리의 효율이 극도로 안좋아짐\n",
        "\n",
        "# 그런데 3.x에서 range(10000000000000000000000000000)는 메모리 효율이 안좋나요?\n",
        "# 시작과, 끝, 스텝값만 가지고 있기 때문에 메모리 낭비가 전혀 없습니다. <- !!!!!!\n",
        "\n",
        "# 2.x에서도 3.x와 같은 range타입이 있었습니다. xrange문법입니다. xrange문법이 3.x되면서 range가 된겁니다.\n",
        "# 2.x에서 사용가능 문법\n",
        "# print(xrange(10)) # 출력: xrange(10)\n",
        "# for i in xrange(10): # 출력: 순회 가능\n",
        "#     print(i)"
      ],
      "metadata": {
        "id": "eH3K14Q_OZ23"
      },
      "execution_count": null,
      "outputs": []
    },
    {
      "cell_type": "markdown",
      "source": [
        "## 실전 문제"
      ],
      "metadata": {
        "id": "tfzzuq_wO829"
      }
    },
    {
      "cell_type": "code",
      "source": [
        "숫자 = [1, 2, 3, 4, 5]\n",
        "승수 = [2, 2, 2, 3, 3]\n",
        "\n",
        "#문제\n",
        "#1. 숫자의 승수를 zip으로 맵핑해서 진행하세요. / 결과값 : [(1, 2), (2, 2), (3, 2), (4, 3), (5, 3)]\n",
        "step1 = list(zip(숫자, 승수))\n",
        "print(step1)\n",
        "\n",
        "#2. 숫자를 승수만큼 제곱하여 결과값을 표현해주세요. / 결과값 : [1, 4, 9, 64, 125]\n",
        "step2 = list(map(lambda x: x[0] ** x[1], step1))\n",
        "print(step2)\n",
        "\n",
        "#3. 승수한 값이 100이상인 값을 출력하세요. / 결과값 : [125]\n",
        "step3 = list(filter(lambda x: x >= 100, step2))\n",
        "print(step3)\n",
        "\n",
        "#4. 승수한 값을 모두 더하세요. / 결과값 : 203\n",
        "step4 = sum(step2)\n",
        "print(step4)"
      ],
      "metadata": {
        "colab": {
          "base_uri": "https://localhost:8080/"
        },
        "id": "-QDro42DO9uW",
        "outputId": "dc3fb623-d82a-4fb8-aed2-62de100235b5"
      },
      "execution_count": 53,
      "outputs": [
        {
          "output_type": "stream",
          "name": "stdout",
          "text": [
            "[(1, 2), (2, 2), (3, 2), (4, 3), (5, 3)]\n",
            "[1, 4, 9, 64, 125]\n",
            "[125]\n",
            "203\n"
          ]
        }
      ]
    },
    {
      "cell_type": "code",
      "source": [],
      "metadata": {
        "id": "t0dQs4nePSbJ"
      },
      "execution_count": null,
      "outputs": []
    }
  ]
}