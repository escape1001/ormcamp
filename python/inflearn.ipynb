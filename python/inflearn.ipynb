{
  "cells": [
    {
      "cell_type": "markdown",
      "metadata": {
        "id": "view-in-github",
        "colab_type": "text"
      },
      "source": [
        "<a href=\"https://colab.research.google.com/github/escape1001/ormcamp/blob/main/python/inflearn.ipynb\" target=\"_parent\"><img src=\"https://colab.research.google.com/assets/colab-badge.svg\" alt=\"Open In Colab\"/></a>"
      ]
    },
    {
      "cell_type": "code",
      "execution_count": null,
      "metadata": {
        "colab": {
          "background_save": true,
          "base_uri": "https://localhost:8080/"
        },
        "id": "sZx1U7aOcUoh",
        "outputId": "85b0e98d-267e-4337-ebe5-c3c2e74c8000"
      },
      "outputs": [
        {
          "name": "stdout",
          "output_type": "stream",
          "text": [
            "적립금을 사용할 수 있습니다. 현재 적립금액은 15000노드입니다.\n"
          ]
        }
      ],
      "source": [
        "회원명 = input('회원명을 입력하세요 : ')\n",
        "구매가격 = int(input('가격을 입력하세요 : '))\n",
        "\n",
        "회원 = {'씨-캣':5000, '자바캣':3500, '파이캣':15000, '썬캣':7000}\n",
        "\n",
        "def 회원조회(_회원명) :\n",
        "  if _회원명 in 회원 :\n",
        "    return True\n",
        "  else :\n",
        "    return False\n",
        "\n",
        "def 적립조회(_회원명, _구매가격):\n",
        "  현재적립금 = 회원[_회원명]\n",
        "\n",
        "  # 구매가격이 적립금보다 많으면 사용 못한다.\n",
        "  if _구매가격 > 현재적립금 :\n",
        "    print(f'현재 적립금이 {현재적립금}노드이므로 아직 적립금을 사용할 수 없습니다.\\\n",
        "    결제 금액은 {_구매가격}노드이고, 적립 포인트는 {_구매가격//10}노드, 합산 포인트는 {현재적립금 + _구매가격//10}입니다.')\n",
        "  else :\n",
        "    print(f'적립금을 사용할 수 있습니다. 현재 적립금액은 {현재적립금}노드입니다.')\n",
        "    사용적립금 = int(input('사용할 적립금 노드를 입력하세요 : '))\n",
        "    현재적립금 -= 사용적립금\n",
        "    회원[_회원명] = 현재적립금\n",
        "    print(f'{사용적립금}노드를 사용하였습니다. 남은 적립금은 {현재적립금}노드입니다. 결제 금액은 {사용적립금}입니다.')\n",
        "\n",
        "\n",
        "if 회원조회(회원명) :\n",
        "  적립조회(회원명, 구매가격)\n",
        "  print(f'회원현황 : {회원}')\n",
        "else :\n",
        "    print(\"회원이 아닙니다.\")"
      ]
    },
    {
      "cell_type": "code",
      "execution_count": null,
      "metadata": {
        "id": "0L7CGpMqcbqZ",
        "colab": {
          "base_uri": "https://localhost:8080/"
        },
        "outputId": "987a0173-3fd8-456d-867a-eb852bb9cf77"
      },
      "outputs": [
        {
          "output_type": "stream",
          "name": "stdout",
          "text": [
            "하이에나 1121명 더했다!\n",
            "코뿔소 122명 더했다!\n",
            "코끼리 88명 더했다!\n",
            "기린 119명 더했다!\n",
            "독수리 62명 더했다!\n",
            "고양이 31명 더했다!\n",
            "총 신하는 1543명 입니다.\n",
            "-----------------\n",
            "하이에나 출전합니다!\n",
            "코뿔소 출전합니다!\n",
            "코끼리 수호합니다!\n",
            "기린 출전합니다!\n",
            "독수리 수호합니다!\n",
            "고양이 수호합니다!\n",
            "출전동물 : 1362명 / 수호동물 : 181명\n",
            "-----------------\n",
            "출전 귀환 : 271명\n",
            "사상자 : 1091명\n",
            "총원 : 452명\n"
          ]
        }
      ],
      "source": [
        "# 1. 왕의 충성스런 신하는 아래와 같다. 왕의 신하가 총 몇 명인지 구하라.\n",
        "신하 = {\n",
        "\t'하이에나' : 1121,\n",
        "  '코뿔소' : 122,\n",
        "  '코끼리' : 88,\n",
        "  '기린' : 119,\n",
        "  '독수리' : 62,\n",
        "  '고양이' : 31,\n",
        "}\n",
        "\n",
        "신하인원 = 0\n",
        "\n",
        "for i, j in 신하.items() :\n",
        "  신하인원 += j\n",
        "  print(f'{i} {j}명 더했다!')\n",
        "\n",
        "print(f'총 신하는 {신하인원}명 입니다.')\n",
        "print('-----------------')\n",
        "\n",
        "\n",
        "#2. 이웃 왕국의 침략이 있어 출전 준비해야 한다. 100명 이상인 종은 출전을! 100명 이하인 종은 왕국을 수호한다. 출전 신하는 몇 명이고, 왕국을 수호하는 신하는 몇 명인가?\n",
        "\n",
        "출전리스트 = {}\n",
        "수호리스트 = {}\n",
        "귀환리스트 = {}\n",
        "\n",
        "for i in 신하 :\n",
        "  if 신하[i] >= 100 :\n",
        "    출전리스트[i] = 신하[i]\n",
        "    print(f'{i} 출전합니다!')\n",
        "  else :\n",
        "    수호리스트[i] = 신하[i]\n",
        "    print(f'{i} 수호합니다!')\n",
        "\n",
        "print(f'출전동물 : {sum(출전리스트.values())}명 / 수호동물 : {sum(수호리스트.values())}명')\n",
        "print('-----------------')\n",
        "\n",
        "#3. 침략을 방어하고, 출전 했던 신하들은 각각 80%라는 큰 손실을 입었습니다. 왕국을 수호하는 신하까지 총 얼마의 신하가 남아 있나요?\n",
        "\n",
        "for i in 출전리스트 :\n",
        "  귀환리스트[i] = int(출전리스트[i]*0.2)\n",
        "\n",
        "print(f'출전 귀환 : {sum(귀환리스트.values())}명')\n",
        "print(f'사상자 : {sum(출전리스트.values()) - sum(귀환리스트.values())}명')\n",
        "print(f'총원 : {sum(귀환리스트.values()) + sum(수호리스트.values())}명')"
      ]
    },
    {
      "cell_type": "code",
      "source": [
        "# 1. 대리인 10명 생성\n",
        "class 대리인(object):\n",
        "    경비 = 0\n",
        "    물품 = []\n",
        "\n",
        "    def __init__(self, name):\n",
        "        self.name = (f\"대리인 {name}\")\n",
        "\n",
        "    @classmethod\n",
        "    def 경비구하기(cls, 시간):\n",
        "        시간_int = int(시간[:-2])\n",
        "        시간당_노드 = 1000000\n",
        "\n",
        "        cls.경비 += 시간_int * 시간당_노드\n",
        "\n",
        "    def 물품구하기(self, 시간):\n",
        "        시간_int = int(시간[:-2])\n",
        "\n",
        "        for _ in range(시간_int) :\n",
        "            self.물품.append(f\"대리인이 구해온 물품 {len(self.물품) + 1}\")\n",
        "\n",
        "대리인_그룹 = []\n",
        "\n",
        "for name in range(10):\n",
        "    대리인_그룹.append(대리인(str(name)))\n",
        "\n",
        "대리인_그룹[1].물품구하기('1시간')\n",
        "대리인_그룹[2].물품구하기('3시간')\n",
        "대리인_그룹[0].물품"
      ],
      "metadata": {
        "colab": {
          "base_uri": "https://localhost:8080/"
        },
        "id": "9a1ZoTtM5ni2",
        "outputId": "0c283941-306b-42cc-e1cb-0fb7f233bb7d"
      },
      "execution_count": 32,
      "outputs": [
        {
          "output_type": "execute_result",
          "data": {
            "text/plain": [
              "['대리인이 구해온 물품 1', '대리인이 구해온 물품 2', '대리인이 구해온 물품 3', '대리인이 구해온 물품 4']"
            ]
          },
          "metadata": {},
          "execution_count": 32
        }
      ]
    },
    {
      "cell_type": "code",
      "source": [
        "# 2.대리인에게 스킬 추가하기!\n",
        "# 아래와 같은 코드가 있었다고 하였을 때 이 대리인의 모든 스킬 합을 구하십시오.\n",
        "# 또, 스킬을 추가해주는 메서드를 만들어주세요!\n",
        "\n",
        "class 대리인(object):\n",
        "    이름 = '라이캣의 대리인'\n",
        "    대리인_목록 = []\n",
        "    훈장 = [\n",
        "          '백상아리를 잡은 고양이',\n",
        "          '성실한 납세자',\n",
        "          '해골섬 낚시꾼',\n",
        "          '청년 고용 착한 기업',\n",
        "          '회사를 설립한 자',\n",
        "          '혈통의 인정을 받은 자',\n",
        "          '천민을 위한 병원을 세운 자'\n",
        "          ]\n",
        "    기술 = {\n",
        "        '회사운영': 99,\n",
        "        '낚시' : 96,\n",
        "        '통발' : 93,\n",
        "        '큰그물' : 95,\n",
        "        '재무' : 34\n",
        "        }\n",
        "\n",
        "    def __init__(self, name):\n",
        "        self.대리인_목록.append(name)\n",
        "        self.이름 = name\n",
        "\n",
        "    def 계산하기(self, x):\n",
        "        print(int(x)*5000, '원 입니다.')\n",
        "\n",
        "    def 포장하기(self):\n",
        "        print('포장이 완료되었습니다.')\n",
        "\n",
        "    def 스킬추가(self):\n",
        "        스킬입력 = input(\"추가할 스킬명과 능력치를 띄어쓰기로 구분해 입력해주세요 : \")\n",
        "        스킬입력_list = 스킬입력.split()\n",
        "        추가스킬_dict = {스킬입력_list[0] : int(스킬입력_list[1])}\n",
        "        self.기술.update(추가스킬_dict)\n",
        "\n",
        "대리인1 = 대리인('123')\n",
        "대리인2 = 대리인('456')\n",
        "\n",
        "대리인1.스킬추가()\n",
        "\n",
        "print(대리인2.기술)\n",
        "\n",
        "스킬총합 = sum(대리인1.기술.values())\n",
        "print(f\"대리인1의 모든 스킬의 합은 : {스킬총합}\")\n",
        "\n",
        "class 진화된_대리인(대리인):\n",
        "    def 던전탐험(self):\n",
        "        print(f\"{self.이름}이 던전을 탐험하다!\")\n",
        "\n",
        "    def 위험판단(self):\n",
        "        print(f\"{self.이름}이 위험을 판단하다!\")\n",
        "\n",
        "진화대리인1 = 진화된_대리인('789')\n",
        "\n",
        "진화대리인1.던전탐험()"
      ],
      "metadata": {
        "id": "vwQyU_1HT4Xj"
      },
      "execution_count": null,
      "outputs": []
    },
    {
      "cell_type": "code",
      "source": [
        "# 암호해독\n",
        "password = ['   + -- + - + -   ', '   + --- + - +   ', '   + -- + - + -   ', '   + - + - + - +   ']\n",
        "\n",
        "def trans(x):\n",
        "    table = str.maketrans(\"+-\", \"10\")\n",
        "    res = x.strip().translate(table).replace(' ', '')\n",
        "    return chr(int(res, 2))\n",
        "\n",
        "password = map(trans, password)\n",
        "\n",
        "list(password)"
      ],
      "metadata": {
        "colab": {
          "base_uri": "https://localhost:8080/"
        },
        "id": "OKgutSXyZJlg",
        "outputId": "64fa89ac-fff5-4dbd-d68e-4012f26ea863"
      },
      "execution_count": 57,
      "outputs": [
        {
          "output_type": "execute_result",
          "data": {
            "text/plain": [
              "['J', 'E', 'J', 'U']"
            ]
          },
          "metadata": {},
          "execution_count": 57
        }
      ]
    },
    {
      "cell_type": "code",
      "source": [],
      "metadata": {
        "id": "xBvw4YywdfHh"
      },
      "execution_count": null,
      "outputs": []
    }
  ],
  "metadata": {
    "colab": {
      "provenance": [],
      "authorship_tag": "ABX9TyPRKEFtIQooSX1jLCtwnZAK",
      "include_colab_link": true
    },
    "kernelspec": {
      "display_name": "Python 3",
      "name": "python3"
    },
    "language_info": {
      "name": "python"
    }
  },
  "nbformat": 4,
  "nbformat_minor": 0
}