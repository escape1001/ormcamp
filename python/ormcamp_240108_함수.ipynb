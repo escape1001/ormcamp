{
  "nbformat": 4,
  "nbformat_minor": 0,
  "metadata": {
    "colab": {
      "provenance": [],
      "authorship_tag": "ABX9TyNUhaeLQdG4hCcbye7YALK8",
      "include_colab_link": true
    },
    "kernelspec": {
      "name": "python3",
      "display_name": "Python 3"
    },
    "language_info": {
      "name": "python"
    }
  },
  "cells": [
    {
      "cell_type": "markdown",
      "metadata": {
        "id": "view-in-github",
        "colab_type": "text"
      },
      "source": [
        "<a href=\"https://colab.research.google.com/github/escape1001/ormcamp/blob/main/python/ormcamp_240108_%ED%95%A8%EC%88%98.ipynb\" target=\"_parent\"><img src=\"https://colab.research.google.com/assets/colab-badge.svg\" alt=\"Open In Colab\"/></a>"
      ]
    },
    {
      "cell_type": "markdown",
      "source": [
        "# 함수\n",
        "## 1. 함수 기초"
      ],
      "metadata": {
        "id": "y3ctmDNcshEC"
      }
    },
    {
      "cell_type": "code",
      "execution_count": 3,
      "metadata": {
        "colab": {
          "base_uri": "https://localhost:8080/"
        },
        "id": "NQBQXVa1qsF0",
        "outputId": "8e072b47-a203-4af3-b21a-f7602fe209d2"
      },
      "outputs": [
        {
          "output_type": "stream",
          "name": "stdout",
          "text": [
            "1\n",
            "2\n",
            "3\n"
          ]
        }
      ],
      "source": [
        "# 1. 함수 정의하기\n",
        "\n",
        "def test(): # def : 이거는 함수야 / test라는 이름의 / () : <- 요거 있어야함\n",
        "    print(1) # 들여쓰기 캐중요함. 파이썬에서는 들여쓰기로 단락 구분함.\n",
        "    print(2)\n",
        "    print(3)\n",
        "\n",
        "test() # 함수의 실행"
      ]
    },
    {
      "cell_type": "code",
      "source": [
        "def function(x, y): # 함수 정의\n",
        "    z = x + y # 연산\n",
        "    return z # 리턴으로 결과물 뱉어주기. 리턴 없을 경우 print 찍으면 None 나옴\n",
        "\n",
        "print(f\"function(10,9) = {function(10,9)}\") # 뱉은 결과물 출력"
      ],
      "metadata": {
        "colab": {
          "base_uri": "https://localhost:8080/"
        },
        "id": "RNnqLsDss5UJ",
        "outputId": "4b84ac35-ad00-4f54-be28-e95eb9145d16"
      },
      "execution_count": 4,
      "outputs": [
        {
          "output_type": "stream",
          "name": "stdout",
          "text": [
            "function(10,9) = 19\n"
          ]
        }
      ]
    },
    {
      "cell_type": "code",
      "source": [
        "def nothing1():\n",
        "    pass # 기능 없으면 pass 넣어야 함. 이거 없으면 에러임"
      ],
      "metadata": {
        "colab": {
          "base_uri": "https://localhost:8080/"
        },
        "id": "E3-46I4Q2lZQ",
        "outputId": "54091d00-614c-4f28-ac86-c0a04773a640"
      },
      "execution_count": 12,
      "outputs": [
        {
          "output_type": "stream",
          "name": "stdout",
          "text": [
            "None\n"
          ]
        }
      ]
    },
    {
      "cell_type": "code",
      "source": [
        "# 함수는 호출 전에는 실행되지 않음\n",
        "def error():\n",
        "    return 1 / 0 # zerodivision 에러남\n",
        "\n",
        "# error()"
      ],
      "metadata": {
        "id": "rhXu5H3Z5EvO"
      },
      "execution_count": 16,
      "outputs": []
    },
    {
      "cell_type": "markdown",
      "source": [
        "- 파라미터와 아규먼트는 구별되어야 하는 용어입니다. 보통 `파선아실`로 외웁니다.\n",
        "- 파라미터는 선언할 때, 아규먼트는 실행할 때 사용되는 것을 얘기합니다."
      ],
      "metadata": {
        "id": "z9azVEk682o6"
      }
    },
    {
      "cell_type": "code",
      "source": [
        "# 2.1. 입력 매개변수가 없고, 리턴도 없는 함수\n",
        "def simple_function():\n",
        "    print('hello world') # 함수 실행됐기 때문에 출력됨\n",
        "\n",
        "print(simple_function()) # 리턴이 없어서 None"
      ],
      "metadata": {
        "colab": {
          "base_uri": "https://localhost:8080/"
        },
        "id": "ERgXE7VA8jLB",
        "outputId": "e73e0940-3d16-4472-ff8d-a9652e4a2908"
      },
      "execution_count": 17,
      "outputs": [
        {
          "output_type": "stream",
          "name": "stdout",
          "text": [
            "hello world\n",
            "None\n"
          ]
        }
      ]
    },
    {
      "cell_type": "code",
      "source": [
        "# 2.2 파라미터가 없고, 반환 값은 있는 함수\n",
        "def give_me_five():\n",
        "    return 5\n",
        "\n",
        "result = give_me_five() # 함수의 리턴값 5 / 어차피 연산되는것도 없는데 매개변수가 있건말건 몬상관..\n",
        "print(result)"
      ],
      "metadata": {
        "colab": {
          "base_uri": "https://localhost:8080/"
        },
        "id": "CiYz_QoQ9fbD",
        "outputId": "5f47ba87-f9c4-4b93-95d5-811cf5bf120e"
      },
      "execution_count": 19,
      "outputs": [
        {
          "output_type": "stream",
          "name": "stdout",
          "text": [
            "5\n"
          ]
        }
      ]
    },
    {
      "cell_type": "code",
      "source": [
        "# 2.3 입력 매개변수가 있고, 반환 값이 없는 함수\n",
        "def duruchigi(name):\n",
        "    print(f\"두루치기 makes {name} Happy :)\") # 받은 매개변수 name을 출력\n",
        "\n",
        "duruchigi('Licat')"
      ],
      "metadata": {
        "colab": {
          "base_uri": "https://localhost:8080/"
        },
        "id": "ggyY9MhI-D5h",
        "outputId": "0383d827-1241-42e2-8e4a-9bd17db69643"
      },
      "execution_count": 20,
      "outputs": [
        {
          "output_type": "stream",
          "name": "stdout",
          "text": [
            "두루치기 makes Licat Happy :)\n"
          ]
        }
      ]
    },
    {
      "cell_type": "code",
      "source": [
        "# 2.4 입력 매개변수가 있고, 반환 값이 있는 함수\n",
        "def add_numbers(x, y):\n",
        "    sum = x + y\n",
        "    return sum\n",
        "\n",
        "result = add_numbers(5, 3)\n",
        "print(result)  # 출력: 8 / 함수 내부에 print 있는거 아니기 때문에 print 안찍어주면 아무것도 안나옴."
      ],
      "metadata": {
        "id": "eWYqpyTuCgzD"
      },
      "execution_count": 24,
      "outputs": []
    },
    {
      "cell_type": "markdown",
      "source": [
        "## 파라미터와 아규먼트\n",
        "- 파라미터는 함수를 정의할 때 사용되는 변수입니다. 파라미터는 함수가 호출될 때 들어온 값을 변수에 할당하는 역할을 합니다.\n",
        "- 아규먼트는 함수를 호출할 때 전달하는 실제 값입니다. 이 값들은 함수 호출 시 파라미터에 할당됩니다.\n",
        "- 파라미터가 2개 있으면 함수 호출할 때 아규먼트도 2개 넣어줘야 함!"
      ],
      "metadata": {
        "id": "h-9y72pOHTLI"
      }
    },
    {
      "cell_type": "code",
      "source": [
        "def my_function(x, y): # x, y가 파라미터\n",
        "    return x + y\n",
        "\n",
        "result = my_function(5, 3) # 실제 값인 5,3은 아규먼트"
      ],
      "metadata": {
        "id": "ck1Su-QvE3oV"
      },
      "execution_count": 25,
      "outputs": []
    },
    {
      "cell_type": "code",
      "source": [
        "# 파라미터 기본값 설정도 가능함! 이러면 아규먼트 생략도 가능!\n",
        "def f(a=10, b=20, c=30):\n",
        "    print(a, b, c)\n",
        "\n",
        "f() # 출력: 10 20 30\n",
        "f(100, 10) # 출력: 100 10 30\n",
        "f(a=100, b=200, c=300) # 출력: 100 200 300\n",
        "f(c=300, a=100, b=200) # 출력: 100 200 300"
      ],
      "metadata": {
        "colab": {
          "base_uri": "https://localhost:8080/"
        },
        "id": "dAjW4Sg3IqKX",
        "outputId": "aa0c87d8-bdb2-493e-9485-2234c958fe29"
      },
      "execution_count": 26,
      "outputs": [
        {
          "output_type": "stream",
          "name": "stdout",
          "text": [
            "10 20 30\n",
            "100 10 30\n",
            "100 200 300\n",
            "100 200 300\n"
          ]
        }
      ]
    },
    {
      "cell_type": "code",
      "source": [
        "# 일부 파라미터만 기본값 설정한다면 앞 요소만 가능. 뒷요소는 기본값 생략 불가능\n",
        "\n",
        "# 잘못된 예시. 이거 호출할 때를 상상해봐. f1(, , 40) 이런식으로 불러올거야?\n",
        "# def f1(a=10, b=20, c):\n",
        "#     print(a, b, c) # error\n",
        "\n",
        "# 올바른 예시\n",
        "def f2(a, b=20, c=10):\n",
        "    print(a, b, c)\n",
        "\n",
        "f2(100, 10) # 출력: 100 10 10\n",
        "f2(a=100, b=200, c=300) # 출력: 100 200 300\n",
        "f2(c=300, a=100, b=200) # 출력: 100 200 300"
      ],
      "metadata": {
        "colab": {
          "base_uri": "https://localhost:8080/"
        },
        "id": "d1dFHUZYIv_O",
        "outputId": "4be637aa-7966-41f5-f62d-b14b76acde13"
      },
      "execution_count": 28,
      "outputs": [
        {
          "output_type": "stream",
          "name": "stdout",
          "text": [
            "100 10 10\n",
            "100 200 300\n",
            "100 200 300\n"
          ]
        }
      ]
    },
    {
      "cell_type": "markdown",
      "source": [
        "## 2. 컨밴션 자료형을 아규먼트로 넣었을 때"
      ],
      "metadata": {
        "id": "GtIxRwS9KzaJ"
      }
    },
    {
      "cell_type": "code",
      "source": [
        "def add_element(my_list):\n",
        "    my_list.append(1)\n",
        "    print(id(my_list)) # 출력: 135115033605760\n",
        "\n",
        "a = [2, 3, 4]\n",
        "add_element(a)\n",
        "print(id(a)) # 출력: 135115033605760\n",
        "print(a)  # 출력: [2, 3, 4, 1] / 인자로 받아온 my_list와 a는 같은 id를 가르킴"
      ],
      "metadata": {
        "colab": {
          "base_uri": "https://localhost:8080/"
        },
        "id": "-c-DtQFvJ8wT",
        "outputId": "b3147d9c-dd72-4fc2-fbc3-83cc83d00ca2"
      },
      "execution_count": 30,
      "outputs": [
        {
          "output_type": "stream",
          "name": "stdout",
          "text": [
            "139071212867648\n",
            "139071212867648\n",
            "[2, 3, 4, 1]\n"
          ]
        }
      ]
    },
    {
      "cell_type": "code",
      "source": [
        "def add_element(my_list):\n",
        "    print(f\"(함수 안) arg로 받아온 my_list의 값 : {my_list}\") # 출력: [2, 3, 4]\n",
        "    print(f\"(함수 안) arg로 받아온 my_list의 id : {id(my_list)}\") # 출력: 139072261046800\n",
        "    my_list = 10\n",
        "    print(f\"(함수 안) 10 할당한 뒤 my_list의 값: {my_list}\") # 출력: 10\n",
        "    print(f\"(함수 안) 10 할당한 뒤 my_list의 id : {id(my_list)}\") # 출력: 139072261046800\n",
        "\n",
        "a = [2, 3, 4]\n",
        "print(f\"arg로 보낸 a의 id는 : {id(a)}\") # 출력: 139071212732992\n",
        "\n",
        "print(f\"함수 실행 전 a의 값은 : {a}\")  # 출력: [2, 3, 4]\n",
        "add_element(a)\n",
        "print(f\"함수 실행 후 a의 값은 : {a}\")  # 출력: [2, 3, 4]"
      ],
      "metadata": {
        "colab": {
          "base_uri": "https://localhost:8080/"
        },
        "id": "lToTT8XRK20H",
        "outputId": "a0d2c8c7-fd8a-4fa6-cd8e-508d8ba26c17"
      },
      "execution_count": 48,
      "outputs": [
        {
          "output_type": "stream",
          "name": "stdout",
          "text": [
            "arg로 보낸 a의 id는 : 139071212601856\n",
            "함수 실행 전 a의 값은 : [2, 3, 4]\n",
            "(함수 안) arg로 받아온 my_list의 값 : [2, 3, 4]\n",
            "(함수 안) arg로 받아온 my_list의 id : 139071212601856\n",
            "(함수 안) 10 할당한 뒤 my_list의 값: 10\n",
            "(함수 안) 10 할당한 뒤 my_list의 id : 139072261046800\n",
            "함수 실행 후 a의 값은 : [2, 3, 4]\n"
          ]
        }
      ]
    },
    {
      "cell_type": "code",
      "source": [
        "# 빈 리스트를 파라미터 기본값으로 넣는 것 비추하지 않음!\n",
        "\n",
        "# 잘못된 예시\n",
        "def append_to_list1(value, lst=[]):\n",
        "    lst.append(value)\n",
        "    return lst # 예상치 못한 결과가 발생할 수 있습니다.\n",
        "\n",
        "print(append_to_list1(2)) # [2]\n",
        "print(append_to_list1(4)) # [2, 4] 와 웃기네..\n",
        "\n",
        "# 올바른 예시\n",
        "def append_to_list2(value, lst=None):\n",
        "    if lst is None:\n",
        "        lst = []\n",
        "    lst.append(value)\n",
        "    return lst\n",
        "\n",
        "''' 이 방법은 lst 파라미터의 기본값을 None으로 설정하고,\n",
        "    함수 본문 내에서 None 값을 새로운 리스트로 바꾸어 주어,\n",
        "    함수 호출 사이에 리스트가 공유되지 않도록 합니다.\n",
        "    이렇게 하면, 각 함수 호출이 독립적인 리스트를 가지게 되므로,\n",
        "    위에서 설명한 예상치 못한 부작용을 피할 수 있습니다.\n",
        "'''\n",
        "\n",
        "print(append_to_list2(2)) # [2]\n",
        "print(append_to_list2(4)) # [4]"
      ],
      "metadata": {
        "colab": {
          "base_uri": "https://localhost:8080/"
        },
        "id": "H6gvRIwZLR2W",
        "outputId": "89b36b17-39bf-42e6-a327-b9fca3cd5a90"
      },
      "execution_count": 52,
      "outputs": [
        {
          "output_type": "stream",
          "name": "stdout",
          "text": [
            "[2]\n",
            "[2, 4]\n",
            "[2]\n",
            "[4]\n"
          ]
        }
      ]
    },
    {
      "cell_type": "markdown",
      "source": [
        "## 3. 지역 변수와 전역 변수"
      ],
      "metadata": {
        "id": "Gp6mEVEOhWRV"
      }
    },
    {
      "cell_type": "code",
      "source": [
        "# 3.1. 지역변수 locals()\n",
        "\n",
        "def f():\n",
        "    a1 = 1 # 지역변수\n",
        "    print(locals()) # 지역변수 보기\n",
        "    print(a1)  # 출력: 1\n",
        "\n",
        "f()\n",
        "# print(a1)  # error: a는 f 함수 내부에서만 정의되었습니다.\n",
        "\n",
        "# a1 출력하고 싶다면 리턴해주거나 함수 정의 전에 a1을 전역으로 선언해주기~"
      ],
      "metadata": {
        "colab": {
          "base_uri": "https://localhost:8080/"
        },
        "id": "z-RVmqOQfsub",
        "outputId": "fa73a0c3-6d84-41be-b46d-b7536eb0ba92"
      },
      "execution_count": 71,
      "outputs": [
        {
          "output_type": "stream",
          "name": "stdout",
          "text": [
            "{'a1': 1}\n",
            "1\n"
          ]
        }
      ]
    },
    {
      "cell_type": "code",
      "source": [
        "# 3.2. 전역변수 global\n",
        "a = 100\n",
        "\n",
        "def f():\n",
        "    global a # 전역변수 수정하고 싶을 때 사용. 권장하진 않음~ / 읽기만 하는건 global 없어도 됨\n",
        "    a = a + 1\n",
        "\n",
        "f()\n",
        "print(a)  # 출력: 101, 함수 f 내에서 전역 변수 a가 수정되었습니다.\n",
        "\n",
        "\n",
        "# global 없이 사용할 경우\n",
        "bb = 100\n",
        "print(f\"전역의 bb : {bb}\") # 100\n",
        "\n",
        "def f():\n",
        "    bb = 1000 # 전역의 bb와 지역의 bb는 이름은 같아도 다른 값임. js와는 다르다 js와는!!! 정신차렷\n",
        "    print(f\"지역의 bb : {bb}\") #1000\n",
        "\n",
        "f()\n",
        "print(f\"함수 실행 수 전역의 bb : {bb}\") # 100\n",
        "\n",
        "print(globals()) # 전역변수 확인코드"
      ],
      "metadata": {
        "colab": {
          "base_uri": "https://localhost:8080/"
        },
        "id": "UM2c4UIxhnFV",
        "outputId": "9c0e3a93-1584-4c22-d512-19dc7ef1b71d"
      },
      "execution_count": 82,
      "outputs": [
        {
          "output_type": "stream",
          "name": "stdout",
          "text": [
            "101\n",
            "전역의 bb : 100\n",
            "지역의 bb : 1000\n",
            "함수 실행 수 전역의 bb : 100\n"
          ]
        }
      ]
    },
    {
      "cell_type": "code",
      "source": [
        "# 복잡한 예시~\n",
        "\n",
        "# 지역변수\n",
        "a = 10\n",
        "def f():\n",
        "    a = 100\n",
        "    print(a) # 출력: 100\n",
        "    def ff():\n",
        "        a = 1000\n",
        "        print(a) # 출력: 1000\n",
        "        def fff():\n",
        "            a = 10000 # 출력: 10000\n",
        "            print(a)\n",
        "        fff()\n",
        "    ff()\n",
        "f()\n",
        "print(a, \"\\n\") # 출력: 10\n",
        "\n",
        "# 전역변수\n",
        "# global을 하면 함수가 얼만큼 중첩되어 있건 최상단에 있는 a를 바라봅니다.\n",
        "a = 10\n",
        "def f():\n",
        "    a = 100\n",
        "    print(a) # 100\n",
        "    def ff():\n",
        "        a = 1000\n",
        "        print(a) # 1000\n",
        "        def fff():\n",
        "            global a\n",
        "            print(a) # 10\n",
        "        fff()\n",
        "    ff()\n",
        "f()\n",
        "print(a) # 10"
      ],
      "metadata": {
        "colab": {
          "base_uri": "https://localhost:8080/"
        },
        "id": "y40nPtLXkp0T",
        "outputId": "1d6934fa-5198-411a-9a58-92c9c6372b61"
      },
      "execution_count": 87,
      "outputs": [
        {
          "output_type": "stream",
          "name": "stdout",
          "text": [
            "100\n",
            "1000\n",
            "10000\n",
            "10 \n",
            "\n",
            "100\n",
            "1000\n",
            "10\n",
            "10\n"
          ]
        }
      ]
    },
    {
      "cell_type": "code",
      "source": [],
      "metadata": {
        "id": "5RtwoB5nmPZ_"
      },
      "execution_count": null,
      "outputs": []
    }
  ]
}