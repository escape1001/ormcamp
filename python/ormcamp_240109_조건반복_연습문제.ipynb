{
  "nbformat": 4,
  "nbformat_minor": 0,
  "metadata": {
    "colab": {
      "provenance": [],
      "authorship_tag": "ABX9TyPwAiBlCjbBdNDN6wq3qn7I",
      "include_colab_link": true
    },
    "kernelspec": {
      "name": "python3",
      "display_name": "Python 3"
    },
    "language_info": {
      "name": "python"
    }
  },
  "cells": [
    {
      "cell_type": "markdown",
      "metadata": {
        "id": "view-in-github",
        "colab_type": "text"
      },
      "source": [
        "<a href=\"https://colab.research.google.com/github/escape1001/ormcamp/blob/main/python/ormcamp_240109_%EC%A1%B0%EA%B1%B4%EB%B0%98%EB%B3%B5_%EC%97%B0%EC%8A%B5%EB%AC%B8%EC%A0%9C.ipynb\" target=\"_parent\"><img src=\"https://colab.research.google.com/assets/colab-badge.svg\" alt=\"Open In Colab\"/></a>"
      ]
    },
    {
      "cell_type": "markdown",
      "source": [
        "# 연습문제 1\n",
        "\n",
        "주어진 코드는 고등어의 재고를 표시하는 간단한 예제입니다. 그럼 이 코드를 사용하여 다음과 같은 문제를 만들어보겠습니다.\n",
        "\n",
        "연습문제 1. 고등어 가게에서 고등어가 팔리고 있는 상황을 파이썬 프로그램으로 작성하려고 합니다. 아래의 코드를 완성하여, 5마리의 고등어부터 1마리의 고등어까지 재고를 표시하고, 마지막에는 ‘고등어 다 팔렸습니다.’라는 메시지가 출력되도록 하세요."
      ],
      "metadata": {
        "id": "n9cYzWSSKGdB"
      }
    },
    {
      "cell_type": "code",
      "execution_count": 14,
      "metadata": {
        "colab": {
          "base_uri": "https://localhost:8080/"
        },
        "id": "J83yPQ6YJ5Ot",
        "outputId": "0747d4e8-1f8a-4988-b2ae-e7fb47dc1fe1"
      },
      "outputs": [
        {
          "output_type": "stream",
          "name": "stdout",
          "text": [
            "고등어 5마리 남았다냥\n",
            "고등어 4마리 남았다냥\n",
            "고등어 3마리 남았다냥\n",
            "고등어 2마리 남았다냥\n",
            "고등어 1마리 남았다냥\n",
            "고등어 다 팔렸다냥!\n",
            "ddd\n"
          ]
        }
      ],
      "source": [
        "for i in range(5, -1, -1) : # 숫자 역순으로 갈 때는 -1\n",
        "    print(f\"고등어 {i}마리 남았다냥\") if i > 0 else print(\"고등어 다 팔렸다냥!\")\n",
        "\n",
        "''' 풀이\n",
        "    for i in range(5, 0, -1):\n",
        "        print('고등어 ', i, ' 개 남았습니다.')\n",
        "    else: # <- 아이고 for에 else 문이 있네!!\n",
        "        print('고등어 다 팔렸습니다.')\n",
        "'''"
      ]
    },
    {
      "cell_type": "markdown",
      "source": [
        "# 연습문제 2\n",
        "1. 더미데이터를 생성하고\n",
        "2. 회원들의 age 평균을 구해주세요.\n",
        "3. 회원들의 남녀 성비를 구해주세요.\n",
        "    1. 추가미션 : matplotlib을 검색해서 pie 그래프로 남녀 성비를 출력하세요."
      ],
      "metadata": {
        "id": "rScN78XaMIfR"
      }
    },
    {
      "cell_type": "code",
      "source": [
        "data = [\n",
        "  {\n",
        "    \"_id\": \"659cf9ccd4394d68947b8429\",\n",
        "    \"age\": 30,\n",
        "    \"eyeColor\": \"blue\",\n",
        "    \"name\": \"Dixon Joyce\",\n",
        "    \"gender\": \"male\"\n",
        "  },\n",
        "  {\n",
        "    \"_id\": \"659cf9cc5d934aa66dbd75ef\",\n",
        "    \"age\": 20,\n",
        "    \"eyeColor\": \"blue\",\n",
        "    \"name\": \"Corrine Garcia\",\n",
        "    \"gender\": \"female\"\n",
        "  },\n",
        "  {\n",
        "    \"_id\": \"659cf9cc54bc6409f43dafa3\",\n",
        "    \"age\": 27,\n",
        "    \"eyeColor\": \"blue\",\n",
        "    \"name\": \"Carey Villarreal\",\n",
        "    \"gender\": \"male\"\n",
        "  },\n",
        "  {\n",
        "    \"_id\": \"659cf9ccd18c5bbc0fb54865\",\n",
        "    \"age\": 39,\n",
        "    \"eyeColor\": \"brown\",\n",
        "    \"name\": \"Caroline Peterson\",\n",
        "    \"gender\": \"female\"\n",
        "  },\n",
        "  {\n",
        "    \"_id\": \"659cf9cc01998e2090ee61d7\",\n",
        "    \"age\": 30,\n",
        "    \"eyeColor\": \"brown\",\n",
        "    \"name\": \"Griffith Hodges\",\n",
        "    \"gender\": \"male\"\n",
        "  },\n",
        "  {\n",
        "    \"_id\": \"659cf9cc3dfc3a2cd1b02827\",\n",
        "    \"age\": 29,\n",
        "    \"eyeColor\": \"brown\",\n",
        "    \"name\": \"Gwendolyn Gallagher\",\n",
        "    \"gender\": \"female\"\n",
        "  },\n",
        "  {\n",
        "    \"_id\": \"659cf9cc140c2421b6365f8c\",\n",
        "    \"age\": 25,\n",
        "    \"eyeColor\": \"brown\",\n",
        "    \"name\": \"Lessie Vega\",\n",
        "    \"gender\": \"female\"\n",
        "  }\n",
        "]\n",
        "\n",
        "# 평균나이 구하기\n",
        "age_list = list(map(lambda x:x[\"age\"], data))\n",
        "age_average = sum(age_list) // len(age_list)\n",
        "\n",
        "print(f\"나이배열 : {age_list} / 평균나이 : {age_average}세\")\n",
        "\n",
        "# 성비 구하기\n",
        "gender_list = list(map(lambda x:x[\"gender\"], data))\n",
        "male_count = gender_list.count('male')\n",
        "\n",
        "print(f\"남자 {male_count}명 / 여자 {len(gender_list) - male_count}명 / 성비는 1 : {male_count / len(gender_list) * 100:.2f}\")"
      ],
      "metadata": {
        "colab": {
          "base_uri": "https://localhost:8080/"
        },
        "id": "p5HKpUStKLQ_",
        "outputId": "815eb40c-9668-4e70-a239-a44231732adc"
      },
      "execution_count": 32,
      "outputs": [
        {
          "output_type": "stream",
          "name": "stdout",
          "text": [
            "나이배열 : [30, 20, 27, 39, 30, 29, 25] / 평균나이 : 28세\n",
            "남자 3명 / 여자 4명 / 성비는 1 : 42.86\n"
          ]
        }
      ]
    },
    {
      "cell_type": "code",
      "source": [],
      "metadata": {
        "id": "3mprw66TMg27"
      },
      "execution_count": null,
      "outputs": []
    }
  ]
}