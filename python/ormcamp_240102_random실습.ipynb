{
  "nbformat": 4,
  "nbformat_minor": 0,
  "metadata": {
    "colab": {
      "provenance": [],
      "authorship_tag": "ABX9TyNqc6TtMYUaaoOzxLJbtuPf",
      "include_colab_link": true
    },
    "kernelspec": {
      "name": "python3",
      "display_name": "Python 3"
    },
    "language_info": {
      "name": "python"
    }
  },
  "cells": [
    {
      "cell_type": "markdown",
      "metadata": {
        "id": "view-in-github",
        "colab_type": "text"
      },
      "source": [
        "<a href=\"https://colab.research.google.com/github/escape1001/ormcamp/blob/main/python/ormcamp_240102_random%EC%8B%A4%EC%8A%B5.ipynb\" target=\"_parent\"><img src=\"https://colab.research.google.com/assets/colab-badge.svg\" alt=\"Open In Colab\"/></a>"
      ]
    },
    {
      "cell_type": "markdown",
      "source": [
        "# Random\n",
        "\n",
        "## 1. randrange(start, stop[, step])\n",
        "\n",
        "- start: 범위의 시작값입니다. 이 값은 범위에 포함됩니다. 만약 start가 생략되면, 기본값은 0이 됩니다.\n",
        "- stop: 범위의 끝값입니다. 이 값은 범위에 포함되지 않으며, 함수는 stop - 1까지의 수 중에서 무작위로 선택합니다.\n",
        "- step: 선택적 매개변수로, 숫자 간의 간격을 지정합니다. 예를 들어, step이 2이면 함수는 두 숫자 간격으로 무작위 수를 선택합니다."
      ],
      "metadata": {
        "id": "Npk1MR1Az2N0"
      }
    },
    {
      "cell_type": "code",
      "source": [
        "# 1.1 기본 사용법\n",
        "\n",
        "import random\n",
        "\n",
        "# 0~9 까지의 임의의 숫자를 선택하는 코드를 작성\n",
        "# 파이썬의 숫자의 시작은 무조건 0부터 시작\n",
        "# 10으로 입력하면 -1 즉, 9까지 나온다고 보면 됨\n",
        "\n",
        "num = random.randrange(10)\n",
        "print(num)"
      ],
      "metadata": {
        "colab": {
          "base_uri": "https://localhost:8080/"
        },
        "id": "o3mYg3JB8-OH",
        "outputId": "10127b79-556c-434c-d921-8e48cec7e02c"
      },
      "execution_count": 26,
      "outputs": [
        {
          "output_type": "stream",
          "name": "stdout",
          "text": [
            "6\n"
          ]
        }
      ]
    },
    {
      "cell_type": "code",
      "execution_count": 4,
      "metadata": {
        "colab": {
          "base_uri": "https://localhost:8080/"
        },
        "id": "Yb71GETgzvOs",
        "outputId": "452428d4-84de-4ceb-c4e5-7f46ee7bd9de"
      },
      "outputs": [
        {
          "output_type": "stream",
          "name": "stdout",
          "text": [
            "오늘의 로또 번호는 2 21 11 20 2 29 입니다.\n"
          ]
        }
      ],
      "source": [
        "# 1.2 시작값과 끝값을 지정\n",
        "\n",
        "num1 = random.randrange(1, 46)\n",
        "num2 = random.randrange(1, 46)\n",
        "num3 = random.randrange(1, 46)\n",
        "num4 = random.randrange(1, 46)\n",
        "num5 = random.randrange(1, 46)\n",
        "num6 = random.randrange(1, 46)\n",
        "\n",
        "print(\"오늘의 로또 번호는\", num1, num2, num3, num4, num5, num6, \"입니다.\")"
      ]
    },
    {
      "cell_type": "code",
      "source": [
        "# 1.3. 간격 설정\n",
        "# 10부터 100까지 숫자 중에서 10의 간격으로 무작위 선택\n",
        "\n",
        "rand100_0 = random.randrange(10, 101, 10)\n",
        "rand100_1 = random.randrange(10, 101, 10)\n",
        "rand100_2 = random.randrange(10, 101, 10)\n",
        "\n",
        "print(rand100_0, rand100_1, rand100_2)"
      ],
      "metadata": {
        "colab": {
          "base_uri": "https://localhost:8080/"
        },
        "id": "2HOVaNgM7y3N",
        "outputId": "30d1728c-913c-47b0-da0a-ef4615100e86"
      },
      "execution_count": 29,
      "outputs": [
        {
          "output_type": "stream",
          "name": "stdout",
          "text": [
            "70 50 50\n"
          ]
        },
        {
          "output_type": "execute_result",
          "data": {
            "text/plain": [
              "int"
            ]
          },
          "metadata": {},
          "execution_count": 29
        }
      ]
    },
    {
      "cell_type": "markdown",
      "source": [
        "## 2. randint(start, stop)\n",
        "\n",
        "?? randrange도 int 반환하잖아. 무슨 차이지?\n",
        "- randint는 간격 설정이 없음\n",
        "- randint는 범위 마지막 값을 포함함"
      ],
      "metadata": {
        "id": "dUyLDpsF_peT"
      }
    },
    {
      "cell_type": "code",
      "source": [
        "randumrange_num = random.randrange(1, 3) # 얘는 1에서 2까지 나옴\n",
        "randumint_num = random.randint(1, 3) # 얘는 1에서 3까지 나옴\n",
        "\n",
        "print(f\"randumrange_num : 타입 {type(randumrange_num)} / 값 {randumrange_num}\")\n",
        "print(f\"randumint_num : 타입 {type(randumint_num)} / 값 {randumint_num}\")"
      ],
      "metadata": {
        "colab": {
          "base_uri": "https://localhost:8080/"
        },
        "id": "oU-Q1ftR_u9P",
        "outputId": "29eed24e-a885-465c-81d5-755a451dfc7f"
      },
      "execution_count": 64,
      "outputs": [
        {
          "output_type": "stream",
          "name": "stdout",
          "text": [
            "randumrange_num : 타입 <class 'int'> / 값 1\n",
            "randumint_num : 타입 <class 'int'> / 값 3\n"
          ]
        }
      ]
    },
    {
      "cell_type": "markdown",
      "source": [
        "## 3. choice\n",
        "순회할 수 있는 객체 안에서 랜덤한 값 하나 뽑아내기.<br/>\n",
        "모든 값은 동일한 확률을 가진다."
      ],
      "metadata": {
        "id": "sPlX1ppz82aQ"
      }
    },
    {
      "cell_type": "code",
      "source": [
        "# 3.1\n",
        "#리스트에서 무작위 과일 선택\n",
        "elements = [\"사과\", \"바나나\", \"체리\"]\n",
        "choiced_element = random.choice(elements)\n",
        "\n",
        "print(f\"{elements} 중에서 아무거나 하나만 주세요!\")\n",
        "print(f\"와! {choiced_element}가 나왔어!\")"
      ],
      "metadata": {
        "id": "HjJMcYWG8DVo",
        "colab": {
          "base_uri": "https://localhost:8080/"
        },
        "outputId": "312b2b78-1a1b-4186-9866-71a96f6f5021"
      },
      "execution_count": 27,
      "outputs": [
        {
          "output_type": "stream",
          "name": "stdout",
          "text": [
            "['사과', '바나나', '체리'] 중에서 아무거나 하나만 주세요!\n",
            "와! 사과가 나왔어!\n"
          ]
        }
      ]
    },
    {
      "cell_type": "code",
      "source": [
        "# 3.2 문자열에서 무작위 문자 선택\n",
        "greeting = \"안녕하세요\"\n",
        "choiced_char = random.choice(greeting)\n",
        "\n",
        "print(choiced_char)"
      ],
      "metadata": {
        "colab": {
          "base_uri": "https://localhost:8080/"
        },
        "id": "9PiczyuU9MQ1",
        "outputId": "b224a4c7-b654-452e-b623-5713bc6b5689"
      },
      "execution_count": 28,
      "outputs": [
        {
          "output_type": "stream",
          "name": "stdout",
          "text": [
            "세\n"
          ]
        }
      ]
    },
    {
      "cell_type": "markdown",
      "source": [
        "# 실습하기\n",
        "\n",
        "## 1. 주사위 던지기\n",
        "1. 라이브러리 임포트\n",
        "2. 주사위 두개 던지기\n",
        "3. 주사위 합산\n",
        "4. 결과 출력"
      ],
      "metadata": {
        "id": "ASSd-mHbBztN"
      }
    },
    {
      "cell_type": "code",
      "source": [
        "# import random  <- 위에 있으니 생략~\n",
        "\n",
        "dice1 = random.randint(1,6) # randrange로 하면 random.randrange(1,7)\n",
        "dice2 = random.randint(1,6)\n",
        "total = dice1 + dice2\n",
        "\n",
        "print(f\"주사위 1 : {dice1} / 주사위 2 : {dice2} / total : {total}\")"
      ],
      "metadata": {
        "colab": {
          "base_uri": "https://localhost:8080/"
        },
        "id": "lAtuh2e7B8Np",
        "outputId": "680ba49a-f269-41a5-ddd4-48391bc54c50"
      },
      "execution_count": 65,
      "outputs": [
        {
          "output_type": "stream",
          "name": "stdout",
          "text": [
            "주사위 1 : 4 / 주사위 2 : 5 / total : 9\n"
          ]
        }
      ]
    },
    {
      "cell_type": "markdown",
      "source": [
        "## 2. 윷놀이\n",
        "1. 각 **`throw`** 변수(**`throw1`**, **`throw2`**, **`throw3`**, **`throw4`**)는 **`random.choice([0, 1])`**를 사용하여 무작위로 0(앞) 또는 1(뒤)를 선택합니다.\n",
        "2. **`total_back`**은 네 번의 윷 던지기 결과 중 뒷면(1)이 나온 횟수를 합산합니다.\n",
        "3. **`results`** 리스트에서 **`total_back`**의 값에 해당하는 결과를 선택하여 출력합니다."
      ],
      "metadata": {
        "id": "12W2iitnE7VD"
      }
    },
    {
      "cell_type": "code",
      "source": [
        "# 2.1 윷 하나하나 계산하는 방식\n",
        "\n",
        "윷놀이_list = [\"모\", \"도\", \"개\", \"결\", \"윷\"]\n",
        "throw1 = random.choice([0,1])\n",
        "throw2 = random.choice([0,1])\n",
        "throw3 = random.choice([0,1])\n",
        "throw4 = random.choice([0,1])\n",
        "\n",
        "total_back = throw1 + throw2 + throw3 + throw4\n",
        "res = 윷놀이_list[total_back]\n",
        "\n",
        "print(f\"total : {total_back}\")\n",
        "print(f\"윷놀이 결과는 : {res}\")"
      ],
      "metadata": {
        "colab": {
          "base_uri": "https://localhost:8080/"
        },
        "id": "KoYpNtNBE-sY",
        "outputId": "eca73b83-e87c-4e5d-c8b0-2ddb81026b10"
      },
      "execution_count": 83,
      "outputs": [
        {
          "output_type": "stream",
          "name": "stdout",
          "text": [
            "total : 2\n",
            "윷놀이 결과는 : 개\n"
          ]
        }
      ]
    },
    {
      "cell_type": "code",
      "source": [
        "# 2.2 윷 계산 없이 바로 결과내는 방식\n",
        "elements = ['도', '개', '걸', '윷', '모']\n",
        "choiced_elements = random.choice(elements)\n",
        "\n",
        "print(f\"윷놀이 결과는 : {choiced_elements}\")"
      ],
      "metadata": {
        "colab": {
          "base_uri": "https://localhost:8080/"
        },
        "id": "4FXZk9zWLYc8",
        "outputId": "11ebc891-df18-45cb-ee56-261407322105"
      },
      "execution_count": 91,
      "outputs": [
        {
          "output_type": "stream",
          "name": "stdout",
          "text": [
            "윷놀이 결과는 : 모\n"
          ]
        }
      ]
    }
  ]
}