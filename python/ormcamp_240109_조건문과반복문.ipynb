{
  "nbformat": 4,
  "nbformat_minor": 0,
  "metadata": {
    "colab": {
      "provenance": [],
      "toc_visible": true,
      "authorship_tag": "ABX9TyM86AuOjHfBRT/VJpaqWv2h",
      "include_colab_link": true
    },
    "kernelspec": {
      "name": "python3",
      "display_name": "Python 3"
    },
    "language_info": {
      "name": "python"
    }
  },
  "cells": [
    {
      "cell_type": "markdown",
      "metadata": {
        "id": "view-in-github",
        "colab_type": "text"
      },
      "source": [
        "<a href=\"https://colab.research.google.com/github/escape1001/ormcamp/blob/main/python/ormcamp_240109_%EC%A1%B0%EA%B1%B4%EB%AC%B8%EA%B3%BC%EB%B0%98%EB%B3%B5%EB%AC%B8.ipynb\" target=\"_parent\"><img src=\"https://colab.research.google.com/assets/colab-badge.svg\" alt=\"Open In Colab\"/></a>"
      ]
    },
    {
      "cell_type": "markdown",
      "source": [
        "# 1. if 조건문\n",
        "## 1.1 if문의 기본구조"
      ],
      "metadata": {
        "id": "NIp9ZvTApWcd"
      }
    },
    {
      "cell_type": "code",
      "execution_count": null,
      "metadata": {
        "id": "p3bjSS9IhtiO"
      },
      "outputs": [],
      "source": [
        "# if 다음 조건이 참인 경우에만 코드블록이 실행된다.\n",
        "\n",
        "x = 2 # 비교할 대상\n",
        "\n",
        "if x > 2 : # 비교식 : 비교식이 참일 경우에만 하단의 print문이 실행된다. / 참이 아닌경우에는 실행되지 않음\n",
        "    print(\"True\") # 출력 : True"
      ]
    },
    {
      "cell_type": "code",
      "source": [
        "# 아예 조건에 boolean값 넣을수도 있음\n",
        "if True:\n",
        "    print('True') # 출력: True"
      ],
      "metadata": {
        "colab": {
          "base_uri": "https://localhost:8080/"
        },
        "id": "eOvKg7j0pj60",
        "outputId": "00f804f2-c3eb-4e24-c968-518d3c2f6ca9"
      },
      "execution_count": null,
      "outputs": [
        {
          "output_type": "stream",
          "name": "stdout",
          "text": [
            "True\n"
          ]
        }
      ]
    },
    {
      "cell_type": "code",
      "source": [
        "# if문 안에 있는 코드블럭과 바깥에 있는 코드블럭¸\n",
        "# 비교식은 모두 참/거짓으로 평가됨\n",
        "\n",
        "if 0 :\n",
        "    print(\"hello\")\n",
        "\n",
        "print(\"world\")\n",
        "\n",
        "if 1 :\n",
        "    print(\"It's\")\n",
        "\n",
        "print(\"me\")\n",
        "\n",
        "if '' : # 공백 없는 문자\n",
        "    print(\"How is it\")\n",
        "\n",
        "print(\"going\")\n",
        "\n",
        "if '' : # 공백 있는 문자\n",
        "    print(\"Get some\")\n",
        "\n",
        "print(\"coffee\")\n",
        "\n",
        "if None :\n",
        "    print(\"banana\")\n",
        "\n",
        "print(\"apple\")"
      ],
      "metadata": {
        "colab": {
          "base_uri": "https://localhost:8080/"
        },
        "id": "reHIKv6-qSJw",
        "outputId": "cf6f966e-ed88-498a-f682-d9530e80b629"
      },
      "execution_count": null,
      "outputs": [
        {
          "output_type": "stream",
          "name": "stdout",
          "text": [
            "world\n",
            "It's\n",
            "me\n",
            "going\n",
            "coffee\n",
            "apple\n"
          ]
        }
      ]
    },
    {
      "cell_type": "markdown",
      "source": [
        "## 1.2. if문에 사용할 수 있는 표현식\n",
        "\n",
        "**`if`**문의 조건에는 불리언(boolean) 표현식이 사용됩니다. 이 표현식은 **`True`** 또는 **`False`** 값을 결과로 반환해야 합니다. 여기 몇 가지 예시가 있습니다:\n",
        "\n",
        "- 비교 연산자: **`==`**, **`!=`**, **`<`**, **`<=`**, **`>`**, **`>=`**\n",
        "- 논리 연산자: **`and`**, **`or`**, **`not`**\n",
        "- 멤버십 연산자: **`in`**, **`not in`**\n",
        "- 식별 연산자: **`is`**, **`is not`**\n",
        "- 다른 함수의 반환 값이나 변수의 값 (이 값들이 결국 불리언으로 평가됨)"
      ],
      "metadata": {
        "id": "mCe2cKybxsug"
      }
    },
    {
      "cell_type": "code",
      "source": [
        "# 성능에 영향을 끼칩니다!\n",
        "def f():\n",
        "    return True\n",
        "\n",
        "def ff():\n",
        "    x = 100 / 0 # error\n",
        "    return 'hello'\n",
        "\n",
        "if f() or ff():\n",
        "    print('hello') # 출력: hello\n",
        "\n",
        "if f() and ff(): # <- 요러면 에러남! ff()까지 실행되어버려~\n",
        "    print('hello') # 출력: hello"
      ],
      "metadata": {
        "colab": {
          "base_uri": "https://localhost:8080/"
        },
        "id": "ZxYYWhFerYVy",
        "outputId": "bc1d3eb1-398c-4ac9-dfa9-78727fdcb47e"
      },
      "execution_count": null,
      "outputs": [
        {
          "output_type": "stream",
          "name": "stdout",
          "text": [
            "hello\n"
          ]
        }
      ]
    },
    {
      "cell_type": "markdown",
      "source": [
        "## 1.3. 삼항연산자"
      ],
      "metadata": {
        "id": "hX-cn3uUy8YK"
      }
    },
    {
      "cell_type": "code",
      "source": [
        "x = 5\n",
        "y = 10\n",
        "result = 'x가 더 큽니다' if x > y else 'y와 같거나 y가 더 큽니다.'\n",
        "print(result) # 출력: 'y와 같거나 y가 더 큽니다.'\n",
        "\n",
        "def f(x, y):\n",
        "    return x if x > y else y\n",
        "\n",
        "print(f(3,2))\n",
        "\n",
        "''' 자바스크립트 삼항연산자와의 비교\n",
        "\n",
        "    [자바스크립트]\n",
        "    x > y ? \"x가 크다\" : \"y가 크다\"\n",
        "\n",
        "    [파이썬 ver]\n",
        "    \"x가 크다\" if x > y else \"y가 크다\"\n",
        "    나름 직관적으로 생긴거같음. 왼쪽이 참~ 오른쪽이 거짓~\n",
        "'''"
      ],
      "metadata": {
        "colab": {
          "base_uri": "https://localhost:8080/"
        },
        "id": "tL9ivI0Kx8PV",
        "outputId": "65c64951-f8b5-4609-94e3-b7a5d7da2956"
      },
      "execution_count": null,
      "outputs": [
        {
          "output_type": "stream",
          "name": "stdout",
          "text": [
            "y와 같거나 y가 더 큽니다.\n",
            "3\n"
          ]
        }
      ]
    },
    {
      "cell_type": "code",
      "source": [
        "# 리스트 컴프리헨션 예시\n",
        "# 지금은 이게뭐고 싶음. 나중에 다시 보러와보자..\n",
        "[i for i in range(10) if i % 2 == 0] # [0, 2, 4, 6, 8]\n",
        "[i if i % 2 == 0 else None for i in range(10)] # [0, None, 2, None, 4, None, 6, None, 8, None]"
      ],
      "metadata": {
        "id": "h6dsIZ880GXd"
      },
      "execution_count": null,
      "outputs": []
    },
    {
      "cell_type": "markdown",
      "source": [
        "## 1.4. 조건문과 람다 함수\n",
        "### 람다함수란?\n",
        "- 바로 만들어 바로 쓰는 익명함수. js에서 () => {} 로 쓰던거.\n",
        "- 한줄로 표현 / 임시함수 만들 때 사용"
      ],
      "metadata": {
        "id": "-M1h9jM-z98N"
      }
    },
    {
      "cell_type": "code",
      "source": [
        "# 람다 예시\n",
        "# sum1과 sum2는 같다.\n",
        "\n",
        "def sum1(x, y):\n",
        "    z = x + y\n",
        "    return z\n",
        "\n",
        "print(sum1(2,3))\n",
        "\n",
        "sum2 = lambda x,y : x+y\n",
        "print(sum2(2,3))"
      ],
      "metadata": {
        "colab": {
          "base_uri": "https://localhost:8080/"
        },
        "id": "cEdMt6dg0e16",
        "outputId": "8deffef6-cafb-4150-f560-92c2228e7ccd"
      },
      "execution_count": null,
      "outputs": [
        {
          "output_type": "stream",
          "name": "stdout",
          "text": [
            "5\n",
            "5\n"
          ]
        }
      ]
    },
    {
      "cell_type": "code",
      "source": [
        "# 람다 함수 내에서 조건문을 사용하여 간단한 조건 로직을 구현할 수 있습니다.\n",
        "my_function = lambda x: 'Even' if x % 2 == 0 else 'Odd'\n",
        "\n",
        "my_function(3)"
      ],
      "metadata": {
        "colab": {
          "base_uri": "https://localhost:8080/",
          "height": 35
        },
        "id": "gKr4753FzC1C",
        "outputId": "1e1437ac-13d2-46c0-e0b7-12222db8f1d8"
      },
      "execution_count": null,
      "outputs": [
        {
          "output_type": "execute_result",
          "data": {
            "text/plain": [
              "'Odd'"
            ],
            "application/vnd.google.colaboratory.intrinsic+json": {
              "type": "string"
            }
          },
          "metadata": {},
          "execution_count": 22
        }
      ]
    },
    {
      "cell_type": "markdown",
      "source": [
        "# 2. if, elif, else와 중첩 조건문\n",
        "- if문을 사용하면 조건을 기반으로 서로 다른 코드 블록을 실행할 수 있습니다.\n",
        "- 그러나 조건이 많아질수록 if문만으로는 코드를 효율적으로 관리하기 어렵습니다.\n",
        "- 이러한 문제를 해결하기 위해, else문을 사용하여 if문의 조건이 거짓이거나 충족되지 않는 경우를 처리할 수 있습니다.\n",
        "\n",
        "```\n",
        "# if, else문의 기본구조\n",
        "if 조건문: # 조건문을 확인해서 만약 '참'이면 if 문 다음에 문장들은 수행합니다.\n",
        "    pass\n",
        "\t  # 수행할 문장 1\n",
        "else: # if문의 조건이 거짓이면 else 문이 실행됩니다.\n",
        "    pass\n",
        "\t  # 수행할 문장 2\n",
        "```"
      ],
      "metadata": {
        "id": "arvqnZuV1tfv"
      }
    },
    {
      "cell_type": "code",
      "source": [
        "# 2.1. if / else\n",
        "x = 3\n",
        "y = 1\n",
        "\n",
        "if x > y:\n",
        "    print('첫번째 값이 더 큽니다.')\n",
        "else:\n",
        "    print('두번째 값이 더 크거나 같습니다.')"
      ],
      "metadata": {
        "colab": {
          "base_uri": "https://localhost:8080/"
        },
        "id": "4MbQMlDV1-J3",
        "outputId": "242f6266-4b60-45cf-b6e7-d083237a7d1a"
      },
      "execution_count": null,
      "outputs": [
        {
          "output_type": "stream",
          "name": "stdout",
          "text": [
            "첫번째 값이 더 큽니다.\n"
          ]
        }
      ]
    },
    {
      "cell_type": "code",
      "source": [
        "# 2.2. if / elif / else\n",
        "\n",
        "score = int(input(\"성적을 입력하세요 (0-100): \"))\n",
        "\n",
        "if score >= 90:\n",
        "    print(\"A\")\n",
        "elif score >= 80:\n",
        "    print(\"B\")\n",
        "elif score >= 70:\n",
        "    print(\"C\")\n",
        "elif score >= 60:\n",
        "    print(\"D\")\n",
        "else:\n",
        "    print(\"F\")\n",
        "\n",
        "''' [elif 조건 범위 상세하게 안쓰는 이유]\n",
        "    이미 첫번째 코드에서 False라는 것은 그 아래 점수는 90점 미만이라는 의미가 내포되어 있기 때문입니다.\n",
        "\n",
        "    score = int(input(\"성적을 입력하세요 (0-100): \"))\n",
        "\n",
        "    if score >= 90:\n",
        "        print(\"A\")\n",
        "    elif 90 > score >= 80:\n",
        "        print(\"B\")\n",
        "    elif 80 > score >= 70:\n",
        "        print(\"C\")\n",
        "    elif 70 > score >= 60:\n",
        "        print(\"D\")\n",
        "    else:\n",
        "        print(\"F\")\n",
        "'''"
      ],
      "metadata": {
        "colab": {
          "base_uri": "https://localhost:8080/"
        },
        "id": "ZiAVLOGP2Hdi",
        "outputId": "97be2157-a25a-48dd-e45b-860df523da68"
      },
      "execution_count": null,
      "outputs": [
        {
          "output_type": "stream",
          "name": "stdout",
          "text": [
            "성적을 입력하세요 (0-100): 88\n",
            "B\n"
          ]
        }
      ]
    },
    {
      "cell_type": "code",
      "source": [
        "score = 81\n",
        "money = 0\n",
        "\n",
        "if score >= 90:\n",
        "    money += 1000000\n",
        "elif score >= 80:\n",
        "    money += 100000\n",
        "elif score >= 70:\n",
        "    money += 10000\n",
        "elif score >= 60:\n",
        "    money += 1000\n",
        "else:\n",
        "    money = 0\n",
        "print(money) # 출력: 100000"
      ],
      "metadata": {
        "colab": {
          "base_uri": "https://localhost:8080/"
        },
        "id": "hdf_i01G2RIe",
        "outputId": "ec3e0cbf-d04a-42e9-a637-7705776ecbcb"
      },
      "execution_count": null,
      "outputs": [
        {
          "output_type": "stream",
          "name": "stdout",
          "text": [
            "100000\n"
          ]
        }
      ]
    },
    {
      "cell_type": "code",
      "source": [
        "# 이렇게 죄 if문으로 써버리면 if문 두개 걸려서 값 중첩됨\n",
        "score = 81\n",
        "money = 0\n",
        "\n",
        "if score >= 90:\n",
        "    money += 1000000\n",
        "if score >= 80:\n",
        "    money += 100000\n",
        "if score >= 70:\n",
        "    money += 10000\n",
        "if score >= 60:\n",
        "    money += 1000\n",
        "else:\n",
        "    money = 0\n",
        "print(money) # 출력: 111000"
      ],
      "metadata": {
        "colab": {
          "base_uri": "https://localhost:8080/"
        },
        "id": "Xpciejqh6Yaq",
        "outputId": "8c8f242f-18d1-45a7-c0ee-dd4008a8ea4c"
      },
      "execution_count": null,
      "outputs": [
        {
          "output_type": "stream",
          "name": "stdout",
          "text": [
            "111000\n"
          ]
        }
      ]
    },
    {
      "cell_type": "code",
      "source": [
        "# 2.3. 중첩 if - elif문\n",
        "\n",
        "# if를 중첩해서 사용하기\n",
        "movie = {\n",
        "    '영화': '레미제라블',\n",
        "    '장르': '드라마',\n",
        "    '서비스': '디즈니',\n",
        "    '비용': 15000,\n",
        "    '평점': 4.9\n",
        "}\n",
        "\n",
        "if movie['장르'] == '드라마':\n",
        "    if movie['서비스'] == '디즈니' or movie['서비스'] == '넷플릭스':\n",
        "        if movie['평점'] >= 4.5:\n",
        "            if movie['비용'] <= 20000:\n",
        "                print('영화시청') # 출력: 영화시청"
      ],
      "metadata": {
        "colab": {
          "base_uri": "https://localhost:8080/"
        },
        "id": "LCo7s087BHGT",
        "outputId": "87022907-f7d2-4bc3-9ec7-a718e2948467"
      },
      "execution_count": null,
      "outputs": [
        {
          "output_type": "stream",
          "name": "stdout",
          "text": [
            "영화시청\n"
          ]
        }
      ]
    },
    {
      "cell_type": "code",
      "source": [
        "# and로 조건 변경. 가독성 난리남.\n",
        "movie = {\n",
        "    '영화': '레미제라블',\n",
        "    '장르': '드라마',\n",
        "    '서비스': '디즈니',\n",
        "    '비용': 15000,\n",
        "    '평점': 4.9\n",
        "}\n",
        "\n",
        "if movie['장르'] == 'SF' and (movie['서비스'] == '디즈니' or movie['서비스'] == '넷플릭스') and movie['평점'] >= 4.5 and movie['비용'] <= 20000:\n",
        "    print('영화시청') # 출력: 영화시청"
      ],
      "metadata": {
        "id": "cC_2V5NWBSy7"
      },
      "execution_count": null,
      "outputs": []
    },
    {
      "cell_type": "code",
      "source": [
        "# if / elif / and 적당히 써주세요~\n",
        "movie = {\n",
        "    '영화': '아바타',\n",
        "    '장르': 'SF',\n",
        "    '서비스': '왓챠',\n",
        "    '비용': 15000,\n",
        "    '평점': 4.9\n",
        "}\n",
        "\n",
        "if movie['장르'] == 'SF':\n",
        "    if movie['서비스'] == '디즈니' or movie['서비스'] == '넷플릭스':\n",
        "        if movie['평점'] >= 4.5 and movie['비용'] <= 20000:\n",
        "            print('영화시청')\n",
        "    else:\n",
        "        print(movie['서비스'] + ' 구독하기!') # 출력: 왓챠 구독하기!"
      ],
      "metadata": {
        "colab": {
          "base_uri": "https://localhost:8080/"
        },
        "id": "RPyrPKl3Boyi",
        "outputId": "9a579025-d963-40d6-ca18-180fcaae01c4"
      },
      "execution_count": null,
      "outputs": [
        {
          "output_type": "stream",
          "name": "stdout",
          "text": [
            "왓챠 구독하기!\n"
          ]
        }
      ]
    },
    {
      "cell_type": "markdown",
      "source": [
        "# 3. match문\n",
        "- Python 3.10 버전부터 추가됨\n",
        "- python에 없는 switch 문을 switch처럼 사용하기 위해 등장.\n",
        "- 여러 경우의 수를 처리할 수 있습니다."
      ],
      "metadata": {
        "id": "iMmoSD_bC943"
      }
    },
    {
      "cell_type": "code",
      "source": [
        "# match문 기본예시\n",
        "text = 'Hello World'\n",
        "match text:\n",
        "    case 'Hello':\n",
        "        print('Hello')\n",
        "    case 'World':\n",
        "        print('World')\n",
        "    case _: # default\n",
        "        print('No Match') # 결과 'No Match'"
      ],
      "metadata": {
        "colab": {
          "base_uri": "https://localhost:8080/"
        },
        "id": "bVoRzVbXBuvD",
        "outputId": "b691a208-7cc6-4726-deae-18e756faa891"
      },
      "execution_count": null,
      "outputs": [
        {
          "output_type": "stream",
          "name": "stdout",
          "text": [
            "Hello\n"
          ]
        }
      ]
    },
    {
      "cell_type": "code",
      "source": [
        "# 이런 코드! js나 다른 언어에서는 허용하지만 파이썬에선 빠꾸임\n",
        "text = '1'\n",
        "match text:\n",
        "    case '1':\n",
        "    case '2':\n",
        "        print('1, 2')\n",
        "    case _:\n",
        "        print('No Match')"
      ],
      "metadata": {
        "id": "7m-zKmVRDQRP"
      },
      "execution_count": null,
      "outputs": []
    },
    {
      "cell_type": "code",
      "source": [
        "# case '1'과 '2'를 모두 만족하길 원한다면 일케 써야함\n",
        "text = '1'\n",
        "match text:\n",
        "    case '1' | '2': # 여기선 and나 or 연산자 안됨 (왜째서..?;;;)\n",
        "        print('1, 2')\n",
        "    case _:\n",
        "        print('No Match')"
      ],
      "metadata": {
        "colab": {
          "base_uri": "https://localhost:8080/"
        },
        "id": "yG8ivDcdDhN-",
        "outputId": "d1dc09e8-e92f-4f89-8ff7-94f0b5d14ad9"
      },
      "execution_count": null,
      "outputs": [
        {
          "output_type": "stream",
          "name": "stdout",
          "text": [
            "1, 2\n"
          ]
        }
      ]
    },
    {
      "cell_type": "code",
      "source": [
        "# match문 심화 예시\n",
        "def test(i):\n",
        "    match i:\n",
        "        case 1:\n",
        "            print('One')\n",
        "        case 2:\n",
        "            print('Two')\n",
        "        case 3 | 4:\n",
        "            print('Three or Four')\n",
        "        case _ if i > 10: # 오.. 디폴트에 조건 추가가 가능하네\n",
        "            print('Greater than ten')\n",
        "        case _:\n",
        "            print('Other')\n",
        "\n",
        "test(1) # 출력: One\n",
        "test(2) # 출력: Two\n",
        "test(3) # 출력: Three or Four\n",
        "test(4) # 출력: Three or Four\n",
        "test(5) # 출력: Other\n",
        "test(15) # 출력: Greater than ten"
      ],
      "metadata": {
        "colab": {
          "base_uri": "https://localhost:8080/"
        },
        "id": "gwpRPmxBD_J3",
        "outputId": "656deaaf-e8af-477c-8a06-d48262648027"
      },
      "execution_count": null,
      "outputs": [
        {
          "output_type": "stream",
          "name": "stdout",
          "text": [
            "One\n",
            "Two\n",
            "Three or Four\n",
            "Three or Four\n",
            "Other\n",
            "Greater than ten\n"
          ]
        }
      ]
    },
    {
      "cell_type": "code",
      "source": [
        "def test(status):\n",
        "    match status:\n",
        "        case (1 | 2 | 3) as code: # as키워드로 매개변수에 변수명 지정 가능\n",
        "            return f'value : {code}'\n",
        "        case _:\n",
        "            return 'hello'\n",
        "print(test(2))  # 출력: value : 2"
      ],
      "metadata": {
        "colab": {
          "base_uri": "https://localhost:8080/"
        },
        "id": "GlMyGHRYEXrI",
        "outputId": "781356b8-853b-4b97-dcbf-9357c4cccbef"
      },
      "execution_count": null,
      "outputs": [
        {
          "output_type": "stream",
          "name": "stdout",
          "text": [
            "value : 2\n"
          ]
        }
      ]
    },
    {
      "cell_type": "markdown",
      "source": [
        "# 4. for문\n",
        "- for문은 특정 범위나 순서열(ex 리스트, 문자열 등)을 순회하며 순서열의 끝에 도달하면 반복을 멈추게 됩니다.\n",
        "- 또한 객체를 처음부터 끝까지 하나씩 추출하며 순회하기 때문에 다양한 방식으로 활용될 수 있습니다.\n",
        "\n",
        "```\n",
        "# for문 기본구조\n",
        "for 변수명 in 순회_가능한_객체 :\n",
        "    pass # 수행할_문장\n",
        "```"
      ],
      "metadata": {
        "id": "UZXDhxUPEh5j"
      }
    },
    {
      "cell_type": "code",
      "source": [
        "# 문자열 for문 돌려~\n",
        "for x in 'hello': # 순회 가능한 객체가 들어갑니다.\n",
        "    print(f'현재 값은 {x} 입니다.')\n",
        "\n",
        "# 튜플도 for문 돌려~\n",
        "for x in (1, 2, 3, 4, 5):\n",
        "    print(f'현재 값은 {x} 입니다.')"
      ],
      "metadata": {
        "colab": {
          "base_uri": "https://localhost:8080/"
        },
        "id": "UlOhzQTUEjJU",
        "outputId": "9ca0202f-e63e-4638-d46d-e018d2b8bc02"
      },
      "execution_count": null,
      "outputs": [
        {
          "output_type": "stream",
          "name": "stdout",
          "text": [
            "현재 값은 h 입니다.\n",
            "현재 값은 e 입니다.\n",
            "현재 값은 l 입니다.\n",
            "현재 값은 l 입니다.\n",
            "현재 값은 o 입니다.\n",
            "현재 값은 1 입니다.\n",
            "현재 값은 2 입니다.\n",
            "현재 값은 3 입니다.\n",
            "현재 값은 4 입니다.\n",
            "현재 값은 5 입니다.\n"
          ]
        }
      ]
    },
    {
      "cell_type": "code",
      "source": [
        "# 4.1. 문자열 for문 예제 : 문자열에서 숫자를 모두 더하는 예제\n",
        "s = '123'\n",
        "result = 0\n",
        "for i in s:\n",
        "    result += int(i)"
      ],
      "metadata": {
        "id": "OptQZux5FeVX"
      },
      "execution_count": null,
      "outputs": []
    },
    {
      "cell_type": "code",
      "source": [
        "# 4.2. list for문 예제\n",
        "l = ['one', 'two', 'three']\n",
        "\n",
        "for i in l:\n",
        "    print(i)"
      ],
      "metadata": {
        "colab": {
          "base_uri": "https://localhost:8080/"
        },
        "id": "cQAebUIBFq0S",
        "outputId": "c2f8f54a-8cf0-4ec3-e849-aee8762f4fec"
      },
      "execution_count": null,
      "outputs": [
        {
          "output_type": "stream",
          "name": "stdout",
          "text": [
            "one\n",
            "two\n",
            "three\n"
          ]
        }
      ]
    },
    {
      "cell_type": "code",
      "source": [
        "# 4.3. dict for문 예제\n",
        "단어_사전 = {\n",
        "    '하나' : 'one',\n",
        "    '둘' : 'two',\n",
        "    '셋' : 'three',\n",
        "}\n",
        "\n",
        "for i in 단어_사전: # key:value로 가져오고 싶다면 .items() 붙여서 언패킹 해줘야 함\n",
        "    print(i)\n",
        "print(\"\\n\")\n",
        "\n",
        "for i in 단어_사전:\n",
        "    print(i, ':', 단어_사전[i]) # 언패킹 안하고 key:value 출력하는 법"
      ],
      "metadata": {
        "colab": {
          "base_uri": "https://localhost:8080/"
        },
        "id": "6ayjdm-qHCT4",
        "outputId": "9d3af0af-28c1-483d-f3b7-f7cbca52a7d7"
      },
      "execution_count": null,
      "outputs": [
        {
          "output_type": "stream",
          "name": "stdout",
          "text": [
            "하나\n",
            "둘\n",
            "셋\n",
            "\n",
            "\n",
            "하나 : one\n",
            "둘 : two\n",
            "셋 : three\n"
          ]
        }
      ]
    },
    {
      "cell_type": "code",
      "source": [
        "# 4.4. range for문 예제\n",
        "#range(시작_값, 종료_값, 연속하는_두_수의_차)\n",
        "\n",
        "# 일반적 예시\n",
        "for i in range(5):\n",
        "    print(i)\n",
        "print(\"\\n\")\n",
        "\n",
        "# 0이상, 10이하 짝수만 더하는 코드\n",
        "result = 0\n",
        "for i in range(0, 11, 2):\n",
        "    result += i\n",
        "result # 결과: 30"
      ],
      "metadata": {
        "colab": {
          "base_uri": "https://localhost:8080/"
        },
        "id": "lCOu5PqOHIQg",
        "outputId": "e1f24796-ef3e-4af1-cf79-276026e6f497"
      },
      "execution_count": null,
      "outputs": [
        {
          "output_type": "stream",
          "name": "stdout",
          "text": [
            "0\n",
            "1\n",
            "2\n",
            "3\n",
            "4\n",
            "\n",
            "\n"
          ]
        },
        {
          "output_type": "execute_result",
          "data": {
            "text/plain": [
              "30"
            ]
          },
          "metadata": {},
          "execution_count": 64
        }
      ]
    },
    {
      "cell_type": "code",
      "source": [
        "# 1부터 100까지 더하는 코드\n",
        "\n",
        "# 비효율적 예시! 100번 순회 돌아야 함\n",
        "result = 0\n",
        "for i in range(101):\n",
        "    result += i\n",
        "print(result)\n",
        "\n",
        "# 이쪽이 더 효율적~ 수학을 알아야 쓰겄다\n",
        "n = 100\n",
        "result2 = (n + 1) * n / 2\n",
        "print(result2)"
      ],
      "metadata": {
        "colab": {
          "base_uri": "https://localhost:8080/"
        },
        "id": "wI05vegUHMnW",
        "outputId": "b5ecdb56-dc39-4982-8531-2f28a97b618c"
      },
      "execution_count": null,
      "outputs": [
        {
          "output_type": "stream",
          "name": "stdout",
          "text": [
            "5050\n",
            "5050.0\n"
          ]
        }
      ]
    },
    {
      "cell_type": "code",
      "source": [
        "# 0부터 100까지 짝수를 더하는 코드\n",
        "\n",
        "# 비효율적 예시! 100번 순회를 돌고, if문도 확인해야 함.\n",
        "result = 0\n",
        "for i in range(101):\n",
        "    if i % 2 == 0:\n",
        "        result += i\n",
        "print(result)\n",
        "\n",
        "# 효율적 예시! 절반만 순회를 돌고, if문도 확인할 필요가 없음\n",
        "result2 = 0\n",
        "for i in range(0, 101, 2): # step이 요럴 때 쓰이는구나\n",
        "    result2 += i\n",
        "result2\n",
        "print(result2)"
      ],
      "metadata": {
        "colab": {
          "base_uri": "https://localhost:8080/"
        },
        "id": "WNm3Mi23HuTd",
        "outputId": "a53a88f3-564c-4ca4-ad6c-c8e486842f09"
      },
      "execution_count": null,
      "outputs": [
        {
          "output_type": "stream",
          "name": "stdout",
          "text": [
            "2550\n",
            "2550\n"
          ]
        }
      ]
    },
    {
      "cell_type": "markdown",
      "source": [
        "# 5. 중첩 for문"
      ],
      "metadata": {
        "id": "e1KSWFweN763"
      }
    },
    {
      "cell_type": "code",
      "source": [
        "# code1\n",
        "for i in [[1, 2], [10, 20], [100, 200]]:\n",
        "    print(f\"i : {i}\")\n",
        "\n",
        "    for j in i: # i로 받은 값이 list 형이니까 순회 가능하지~\n",
        "        print(f\"j : {j}\")"
      ],
      "metadata": {
        "colab": {
          "base_uri": "https://localhost:8080/"
        },
        "id": "dFWITtCxIF8W",
        "outputId": "0a05374b-bd5e-4ad9-cf35-2eccf3243150"
      },
      "execution_count": null,
      "outputs": [
        {
          "output_type": "stream",
          "name": "stdout",
          "text": [
            "i : [1, 2]\n",
            "j : 1\n",
            "j : 2\n",
            "i : [10, 20]\n",
            "j : 10\n",
            "j : 20\n",
            "i : [100, 200]\n",
            "j : 100\n",
            "j : 200\n"
          ]
        }
      ]
    },
    {
      "cell_type": "code",
      "source": [
        "# 중첩 for문으로 구구단 만들기~\n",
        "for i in range(2, 10):\n",
        "    print(f\"{i}단 시작~\")\n",
        "\n",
        "    for j in range(1, 10):\n",
        "        print(f\"{i} * {j} = {i * j}\")\n",
        "\n",
        "    print(\"----------------\")"
      ],
      "metadata": {
        "id": "rL2GEnsmN_K3"
      },
      "execution_count": null,
      "outputs": []
    },
    {
      "cell_type": "markdown",
      "source": [
        "# 3. 컴프리헨션(comprehension)\n",
        "## 3.1. 리스트 컴프리헨션(list comprehension)\n",
        "- 파이썬에서 간결하게 리스트를 생성하는 기능\n",
        "- 반복문과 조건문을 결합하여 리스트를 생성합니다.\n",
        "- 컴프리헨션 문법은 간결함을 증대시킬 뿐만 아니라 기존 for문으로 append하는 것보다 속도가 빠릅니다.\n",
        "\n",
        "```\n",
        "[추가할변수_또는_표현식 for 변수 in 특정범위]\n",
        "```"
      ],
      "metadata": {
        "id": "pQU1ShuBPFKS"
      }
    },
    {
      "cell_type": "code",
      "source": [
        "# 3.1.1. 컴프리헨션 기본 예시\n",
        "# 요거를\n",
        "x = []\n",
        "\n",
        "for i in range(1, 10):\n",
        "  x.append(i)\n",
        "\n",
        "print(f\"x : {x}\")\n",
        "\n",
        "# 이렇게 줄일거야\n",
        "# step1. list안에 for문을 가져옵니다.\n",
        "[for i in range(1, 10)]\n",
        "\n",
        "# step2. append 항목을 앞으로 가져옵니다.\n",
        "a = [i for i in range(1, 10)] # 출력: [1, 2, 3, 4, 5, 6, 7, 8, 9]\n",
        "b = [i*2 for i in range(1, 10)] # 출력: [2, 4, 6, 8, 10, 12, 14, 16, 18]\n",
        "\n",
        "\n",
        "print(f\"a : {a}\")\n",
        "print(f\"b : {b}\")"
      ],
      "metadata": {
        "colab": {
          "base_uri": "https://localhost:8080/"
        },
        "id": "5Y1ZgF9cO4ba",
        "outputId": "843190a0-7078-4eef-8943-f40cfc127467"
      },
      "execution_count": null,
      "outputs": [
        {
          "output_type": "stream",
          "name": "stdout",
          "text": [
            "x : [1, 2, 3, 4, 5, 6, 7, 8, 9]\n",
            "a : [1, 2, 3, 4, 5, 6, 7, 8, 9]\n",
            "b : [2, 4, 6, 8, 10, 12, 14, 16, 18]\n"
          ]
        }
      ]
    },
    {
      "cell_type": "code",
      "source": [
        "# 3.1.2. 컴프리헨션 내 조건문 사용 예시\n",
        "l = [i for i in range(1, 100) if i % 3 == 0 or i % 5 == 0] # 1~99 중 3과 5의 배수만 list에 추가\n",
        "print(l)\n",
        "\n",
        "# 이 함수랑 똑같은 내용임\n",
        "l = []\n",
        "for i in range(1, 100):\n",
        "    if i % 3 == 0 or i % 5 == 0:\n",
        "        l.append(i)\n",
        "print(l)\n",
        "\n",
        "''' 출력\n",
        "    [3,\n",
        "    5,\n",
        "    6,\n",
        "    9,\n",
        "    10,\n",
        "    .\n",
        "    .\n",
        "    .\n",
        "    중략]\n",
        "'''"
      ],
      "metadata": {
        "colab": {
          "base_uri": "https://localhost:8080/"
        },
        "id": "1EF64q5nPR-b",
        "outputId": "9a148dbf-0379-4d3c-9eec-dffa6728f4df"
      },
      "execution_count": null,
      "outputs": [
        {
          "output_type": "stream",
          "name": "stdout",
          "text": [
            "[3, 5, 6, 9, 10, 12, 15, 18, 20, 21, 24, 25, 27, 30, 33, 35, 36, 39, 40, 42, 45, 48, 50, 51, 54, 55, 57, 60, 63, 65, 66, 69, 70, 72, 75, 78, 80, 81, 84, 85, 87, 90, 93, 95, 96, 99]\n"
          ]
        }
      ]
    },
    {
      "cell_type": "code",
      "source": [
        "# 3.1.3. 컴프리헨션 내 조건문 사용 예시2 : else\n",
        "nums = [1, 2, 3, 4, 5]\n",
        "result = [f'{x}는 3보다 큰 짝수' if x % 2 == 0 else f'{x}는 3보다 큰 홀수' for x in nums if x > 3] # 가독성 개도라이..\n",
        "print(result) # 출력: ['4는 3보다 큰 짝수', '5는 3보다 큰 홀수']\n",
        "\n",
        "# 요렇게 쓰는걸 권장\n",
        "result = []\n",
        "nums = [1, 2, 3, 4, 5]\n",
        "for x in nums:\n",
        "    if x > 3:\n",
        "        if x % 2 == 0:\n",
        "            result.append(f'{x}는 3보다 큰 짝수')\n",
        "        else:\n",
        "            result.append(f'{x}는 3보다 큰 홀수')\n",
        "print(result)"
      ],
      "metadata": {
        "id": "7wRmSVncQKcV"
      },
      "execution_count": null,
      "outputs": []
    },
    {
      "cell_type": "code",
      "source": [
        "# 3.1.4. 중첩된 if문 예시\n",
        "nums = [1, 2, 3, 4, 5, 6]\n",
        "result = [x for x in nums if x % 2 == 0 if x % 3 == 0]\n",
        "result # 출력: [6]\n",
        "\n",
        "# 위 코드와 같은 의미\n",
        "nums = [1, 2, 3, 4, 5, 6]\n",
        "result = [x for x in nums if x % 2 == 0 and x % 3 == 0]\n",
        "result # 출력: [6]"
      ],
      "metadata": {
        "id": "lbMuFRr6RIXg"
      },
      "execution_count": null,
      "outputs": []
    },
    {
      "cell_type": "code",
      "source": [
        "# 3.1.5. 중첩된 반복문과 중첩된 컴프리헨션\n",
        "# 리스트 컴프리헨션: 중첩된 반복문\n",
        "c = [f'{i} × {j} = {i*j}' for i in range(2, 10) for j in range(1, 10)]\n",
        "\n",
        "# 리스트 컴프리헨션: 중첩된 컴프리헨션\n",
        "cc = [[f'{i} × {j} = {i*j}' for j in range(1, 10)] for i in range(2, 10)]\n",
        "\n",
        "# 전통적인 방법\n",
        "c_list = []\n",
        "for i in range(2, 10):\n",
        "    for j in range(1, 10):\n",
        "        c_list.append(f'{i} × {j} = {i*j}')\n",
        "\n",
        "''' 눈앞이 깜깜하군....\n",
        "    그치만 다행인점 : 다들 가독성 똥이라 생각하기 때문에\n",
        "    보통 회사 컨벤션(회사의 코딩 규칙)에서는 3개 이상의 컴프리헨션 중첩을 하지 않기를 권합니다.\n",
        "'''"
      ],
      "metadata": {
        "id": "xjIVlkwyRvcH"
      },
      "execution_count": null,
      "outputs": []
    },
    {
      "cell_type": "code",
      "source": [
        "# 3.1.6. 컴프리헨션 내 함수 사용하기\n",
        "def sumthingFunction(i):\n",
        "    if i % 100 ==0:\n",
        "        return i\n",
        "    else:\n",
        "        return 0\n",
        "\n",
        "l = [100, 200, 300, 101, 202, 303]\n",
        "l = [sumthingFunction(i) for i in l]\n",
        "l # 출력: [100, 200, 300, 0, 0, 0]\n",
        "\n",
        "''' (혼잣말)\n",
        "    리스트 안에 함수를 태워?\n",
        "    하 그만해라 이짜식들아\n",
        "    오 막상 써보니까 훨 간결함\n",
        "    람다로 만들 수 있나? 해보자!\n",
        "'''\n",
        "\n",
        "# 내가 친거. 의도대로 안나옴\n",
        "ll = [lambda x: x if x % 100 == 0 else 0 for i in l]\n",
        "ll\n",
        "\n",
        "# 질문해서 받은것. 람다가 돌아가기는 함. 권장은 안한대~\n",
        "l2 = [(lambda x: x*x)(x) for x in l]\n",
        "l2"
      ],
      "metadata": {
        "colab": {
          "base_uri": "https://localhost:8080/"
        },
        "id": "z52Oem_6Scsq",
        "outputId": "5b6eab22-b26c-403f-c75c-f56150bb8e48"
      },
      "execution_count": null,
      "outputs": [
        {
          "output_type": "execute_result",
          "data": {
            "text/plain": [
              "[10000, 40000, 90000, 0, 0, 0]"
            ]
          },
          "metadata": {},
          "execution_count": 101
        }
      ]
    },
    {
      "cell_type": "markdown",
      "source": [
        "## 3.2 딕셔너리 컴프리헨션\n",
        "- 컴프리헨션은 리스트 컴프리헨션, 딕셔너리 컴프리헨션, 세트 컴프리헨션, 그리고 제너레이터 컴프리헨션이 있습니다.\n",
        "- 여기서 딕셔너리 컴프리헨션은 그 형태가 조금 다르므로 여기서 다뤄보고 가도록 하겠습니다.\n",
        "- 딕셔너리 컴프리헨션의 기본 구조는 중괄호({}) 내부에 for문과 필요한 조건문을 넣어주며, 그 앞에는 딕셔너리의 키와 값이 콜론(:)으로 구분되어 위치합니다."
      ],
      "metadata": {
        "id": "BfaVYY0Kqy1O"
      }
    },
    {
      "cell_type": "code",
      "source": [
        "# 전통적인 방법\n",
        "d = {}\n",
        "for i in range(5):\n",
        "    d[i] = i**2\n",
        "\n",
        "# 딕셔너리 컴프리헨션 사용\n",
        "dd = {i: i**2 for i in range(5)}\n",
        "print(dd)\n",
        "\n",
        "# if 사용한 예시\n",
        "even_squares = {x: x**2 for x in range(10) if x % 2 == 0}\n",
        "print(even_squares)"
      ],
      "metadata": {
        "colab": {
          "base_uri": "https://localhost:8080/"
        },
        "id": "FfrB5VsVSoTZ",
        "outputId": "3dfd6ebf-f828-4ea8-e1a9-985e87c46829"
      },
      "execution_count": null,
      "outputs": [
        {
          "output_type": "stream",
          "name": "stdout",
          "text": [
            "{0: 0, 1: 1, 2: 4, 3: 9, 4: 16}\n",
            "{0: 0, 2: 4, 4: 16, 6: 36, 8: 64}\n"
          ]
        }
      ]
    },
    {
      "cell_type": "markdown",
      "source": [
        "# 4. 복합 자료형 순회\n",
        "- 앞에서 다뤘던 것처럼 반복되는 값이 같은 구조를 가지고 있다면 언패킹하여 한꺼번에 받아 순회할 수 있습니다.\n",
        "- 순회 할 수 있는 객체를 변수에 하나씩 할당하는 것을 언패킹이라 하였습니다.\n",
        "- 이번에는 리스트 안에 리스트가 아니라 리스트 안에 문자열, 리스트 안에 튜플 등 다양한 복합 자료형이 중첩되어 있을 때 어떻게 언패킹하여 순회를 하는지 다뤄보도록 하겠습니다."
      ],
      "metadata": {
        "id": "xIYjGXNZrYhj"
      }
    },
    {
      "cell_type": "code",
      "source": [
        "for i, j, k in ['abc', 'def', 'ghi']:\n",
        "    print(i, j, k)"
      ],
      "metadata": {
        "colab": {
          "base_uri": "https://localhost:8080/"
        },
        "id": "P48MKXpiq4jI",
        "outputId": "2f5c906f-1973-436e-f043-66c790c7beb1"
      },
      "execution_count": null,
      "outputs": [
        {
          "output_type": "stream",
          "name": "stdout",
          "text": [
            "a b c\n",
            "d e f\n",
            "g h i\n"
          ]
        }
      ]
    },
    {
      "cell_type": "code",
      "source": [
        "skill = [\n",
        "        ('고기잡이', 100),\n",
        "        ('고기팔기', 120),\n",
        "        ('낚시', 5),\n",
        "        ('통발', 5),\n",
        "        ('큰그물', 5)\n",
        "]\n",
        "\n",
        "for i, j in skill:\n",
        "    print(i, j)"
      ],
      "metadata": {
        "colab": {
          "base_uri": "https://localhost:8080/"
        },
        "id": "ZzNFL33_rjTS",
        "outputId": "2c6d6c0f-907d-4fee-ebb2-060254d4d377"
      },
      "execution_count": null,
      "outputs": [
        {
          "output_type": "stream",
          "name": "stdout",
          "text": [
            "고기잡이 100\n",
            "고기팔기 120\n",
            "낚시 5\n",
            "통발 5\n",
            "큰그물 5\n"
          ]
        }
      ]
    },
    {
      "cell_type": "code",
      "source": [
        "# 튜플 내의 요소가 3개인 경우에도 각각의 요소를 가져와서 출력 가능\n",
        "skill = [\n",
        "        ('고기잡이', 100, 'SS'),\n",
        "        ('고기팔기', 120, 'SSS'),\n",
        "        ('낚시', 5, 'C'),\n",
        "        ('통발', 5, 'C'),\n",
        "        ('큰그물', 5, 'C')\n",
        "]\n",
        "\n",
        "for skillName, skillLevel, skillGrade in skill:\n",
        "    print(skillName, skillLevel, skillGrade)"
      ],
      "metadata": {
        "colab": {
          "base_uri": "https://localhost:8080/"
        },
        "id": "p6LMvLkar2fi",
        "outputId": "1241cf4a-e511-4830-b6dd-7d719f607c79"
      },
      "execution_count": null,
      "outputs": [
        {
          "output_type": "stream",
          "name": "stdout",
          "text": [
            "고기잡이 100 SS\n",
            "고기팔기 120 SSS\n",
            "낚시 5 C\n",
            "통발 5 C\n",
            "큰그물 5 C\n"
          ]
        }
      ]
    },
    {
      "cell_type": "markdown",
      "source": [
        "# 5. enumerate를 사용한 순회\n",
        "- enumerate는 순서를 매길 때 사용합니다. enumerate는 별도의 변수를 선언하지 않고 이것이 가능하게 해줍니다.\n",
        "\n",
        "```python\n",
        "enumerate(순회 가능한 객체, 인덱스의 시작값)\n",
        "```"
      ],
      "metadata": {
        "id": "untQBmbrsJLI"
      }
    },
    {
      "cell_type": "code",
      "source": [
        "영화누적관객수 = ['레미제라블', '뷰티인사이트', '매트릭스', '인셉션', '어거스트 러쉬']\n",
        "for i in enumerate(영화누적관객수):\n",
        "    print(i)\n",
        "\n",
        "for i, j in enumerate(영화누적관객수, 1):\n",
        "    print(f'누적관객수 {i}위! {j}!')"
      ],
      "metadata": {
        "colab": {
          "base_uri": "https://localhost:8080/"
        },
        "id": "U8crMNvjr7KL",
        "outputId": "30591f38-0ee3-4ea7-9af4-fdbc5904f292"
      },
      "execution_count": null,
      "outputs": [
        {
          "output_type": "stream",
          "name": "stdout",
          "text": [
            "(0, '레미제라블')\n",
            "(1, '뷰티인사이트')\n",
            "(2, '매트릭스')\n",
            "(3, '인셉션')\n",
            "(4, '어거스트 러쉬')\n",
            "누적관객수 1위! 레미제라블!\n",
            "누적관객수 2위! 뷰티인사이트!\n",
            "누적관객수 3위! 매트릭스!\n",
            "누적관객수 4위! 인셉션!\n",
            "누적관객수 5위! 어거스트 러쉬!\n"
          ]
        }
      ]
    },
    {
      "cell_type": "markdown",
      "source": [
        "# 6. for 문으로 무한반복 만들기\n",
        "- 이런거 짜지 말라고 알려주는 것임"
      ],
      "metadata": {
        "id": "nQTCFT9fsfbN"
      }
    },
    {
      "cell_type": "code",
      "source": [
        "# 실행시키면 런타임 다시 시작해야 합니다.\n",
        "# l = [1, 2]\n",
        "# for i in l:\n",
        "#     l.append(3)\n",
        "#     print(i) # 1, 2, 3, 3, 3, 3, 3, 3 ...\n",
        "\n",
        "s = 'hello'\n",
        "for i in s: # 순회가 정상적으로 됩니다.\n",
        "    s += '!'\n",
        "    print(i)\n",
        "    print(s)\n",
        "\n",
        "d = {'one': '하나'}\n",
        "for i in d: # RuntimeError: dictionary changed size during iteration\n",
        "    d.update({i+d[i]:None})\n",
        "    print(d)"
      ],
      "metadata": {
        "id": "UfUiUMglsUYd"
      },
      "execution_count": null,
      "outputs": []
    },
    {
      "cell_type": "markdown",
      "source": [
        "# 7. while문\n",
        "- while문은 조건이 참인 동안에 명령을 반복해서 수행합니다.\n",
        "- 반복할 명령은 들여쓰기로 구분되며 조건이 거짓이면 들여쓰기로 구분되어 있는 반복 구문을 탈출합니다.\n",
        "```\n",
        "while 구문:\n",
        "    pass # 수행할 문장\n",
        "```"
      ],
      "metadata": {
        "id": "01HcDcs_vWF2"
      }
    },
    {
      "cell_type": "code",
      "source": [
        "a = 1\n",
        "\n",
        "while a < 10 :\n",
        "\tprint(a)\n",
        "\ta += 1"
      ],
      "metadata": {
        "colab": {
          "base_uri": "https://localhost:8080/"
        },
        "id": "OwMWOFtOvZxf",
        "outputId": "2baeff9c-0384-48c9-ee07-dd2b8443395f"
      },
      "execution_count": null,
      "outputs": [
        {
          "output_type": "stream",
          "name": "stdout",
          "text": [
            "1\n",
            "2\n",
            "3\n",
            "4\n",
            "5\n",
            "6\n",
            "7\n",
            "8\n",
            "9\n"
          ]
        }
      ]
    },
    {
      "cell_type": "code",
      "source": [
        "# 무한반복 while문\n",
        "while True :\n",
        "    print('무한 반복 중...')"
      ],
      "metadata": {
        "id": "ZLRc_v-pvj-G"
      },
      "execution_count": null,
      "outputs": []
    },
    {
      "cell_type": "code",
      "source": [
        "# 무한반복은 사용하기도 한다.\n",
        "\n",
        "# 무한반복 예시1 : 쉘\n",
        "# colab에서도 작동되지만 가능하면 .py파일로 작성해서 실행해보세요.\n",
        "import os\n",
        "\n",
        "while True:\n",
        "    userinput = input('>')\n",
        "    if userinput == 'pwd':\n",
        "        # print('현재 위치 출력')\n",
        "        # print('\\\\'.join(__file__.split('\\\\')[:-1]))\n",
        "        print(os.getcwd())\n",
        "    elif userinput == 'dir' or userinput == 'ls':\n",
        "        # print('현재 폴더에 폴더와 파일명 출력')\n",
        "        print(os.listdir(os.getcwd()))\n",
        "    elif userinput == 'exit':\n",
        "        print('안녕히가세요.')\n",
        "        break"
      ],
      "metadata": {
        "id": "OO9unlc4vo6P"
      },
      "execution_count": null,
      "outputs": []
    },
    {
      "cell_type": "code",
      "source": [
        "# 무한반복 예시2 : 무한반복을 이용한 업다운 게임\n",
        "import random\n",
        "\n",
        "answer = random.randint(1, 1000)\n",
        "while True:\n",
        "    userinput = int(input('숫자를 입력해주세요.'))\n",
        "    if userinput > answer:\n",
        "        print('Down')\n",
        "\n",
        "    elif userinput < answer:\n",
        "        print('Up')\n",
        "    else:\n",
        "        print('축하합니다! 맞추셨어요!')\n",
        "        break"
      ],
      "metadata": {
        "id": "DgqSNLxhv6FS"
      },
      "execution_count": null,
      "outputs": []
    },
    {
      "cell_type": "markdown",
      "source": [
        "## 7.2. 중첩 while문"
      ],
      "metadata": {
        "id": "7vY3K2YLwfy-"
      }
    },
    {
      "cell_type": "code",
      "source": [
        "#for문과 동일하게 중첩된 while문으로 구구단을 출력해보도록 하겠습니다.\n",
        "\n",
        "i = 2\n",
        "while i < 10 :\n",
        "    j = 1\n",
        "    while j < 10:\n",
        "        print(f'{i} X {j} = {i * j}')\n",
        "        j += 1\n",
        "    i += 1"
      ],
      "metadata": {
        "id": "fzHQFyydwJaM"
      },
      "execution_count": null,
      "outputs": []
    },
    {
      "cell_type": "markdown",
      "source": [
        "# 반복문과 조건문 코드실습"
      ],
      "metadata": {
        "id": "hdBOeSivDt5X"
      }
    },
    {
      "cell_type": "code",
      "source": [
        "# 반복문 실습게임 1 : 스무고개 숫자 맞추기\n",
        "import random\n",
        "\n",
        "secret_number = random.randrange(1, 101)\n",
        "count = 1\n",
        "\n",
        "while count < 21 :\n",
        "    print(f\"Round {count}\")\n",
        "    number = int(input(\"1~100사이 숫자를 입력하세요 : \"))\n",
        "\n",
        "    if number > secret_number :\n",
        "        print(\"DOWN\")\n",
        "    elif number < secret_number :\n",
        "        print(\"UP\")\n",
        "    else :\n",
        "        print(\"정답입니다!\")\n",
        "        break # 오 파이썬도 되네..\n",
        "\n",
        "    count += 1\n",
        "    print(\"------------------------\")\n",
        "\n",
        "print(f\"턴을 모두 사용하셨어요 :( 답은 {secret_number}였어요!\")"
      ],
      "metadata": {
        "id": "slxOYcS-0pRZ"
      },
      "execution_count": null,
      "outputs": []
    },
    {
      "cell_type": "code",
      "source": [
        "# 반복문 실습게임 2 : 가위바위보!\n",
        "# import random\n",
        "game = [\"가위\", \"바위\", \"보\"]\n",
        "user = input(\"가위 바위 보! : \")\n",
        "\n",
        "\n",
        "if user in game :\n",
        "    bot_index = random.randrange(0, len(game))\n",
        "    print(f\"bot : {bot_index}\")\n",
        "\n",
        "    if game[bot_index] == user :\n",
        "        print(f\"비겼다! / bot : {game[bot_index]}\")\n",
        "    elif game[bot_index - 1] == user :\n",
        "        print(f\"졌다! / bot : {game[bot_index]}\")\n",
        "    else :\n",
        "        print(f\"이겼다! / bot : {game[bot_index]}\")\n",
        "else :\n",
        "    print(\"가위 바위 보 중에 내셔야지~\")\n",
        "\n",
        "''' GPT가 \"가위\" 내고 bot_index 0인 경우 어쩔거냐고 하는디 머가 문제람..\n",
        "\n",
        "    GPT는 game[-1] 하면 보가 나오고 그럼 졌다! 가 아닌 이겼다! 를 출력해야 한다고 주장하는듯\n",
        "    하지만 bot_index가 0이면 이미 비겼다! 에서 끝나니까 elif문까지 갈 일이 없음\n",
        "'''"
      ],
      "metadata": {
        "colab": {
          "base_uri": "https://localhost:8080/"
        },
        "id": "u3o6pvMs2MYY",
        "outputId": "684b2f1e-81ca-463d-adb9-9506535a2651"
      },
      "execution_count": 174,
      "outputs": [
        {
          "output_type": "stream",
          "name": "stdout",
          "text": [
            "가위 바위 보! : 가위\n",
            "bot : 0\n",
            "비겼다! / bot : 가위\n"
          ]
        }
      ]
    },
    {
      "cell_type": "code",
      "source": [
        "# GPT가 뱉어준 정석 가위바위보 코드\n",
        "# import random\n",
        "\n",
        "game = [\"가위\", \"바위\", \"보\"]\n",
        "user = input(\"가위 바위 보! : \")\n",
        "\n",
        "if user not in game:\n",
        "    print(\"가위 바위 보 중에 내셔야지~\")\n",
        "else:\n",
        "    bot_choice = random.choice(game)\n",
        "\n",
        "    print(f\"User: {user}, Bot: {bot_choice}\")\n",
        "\n",
        "    if user == bot_choice:\n",
        "        print(\"비겼다!\")\n",
        "    elif (user == \"가위\" and bot_choice == \"보\") or (user == \"바위\" and bot_choice == \"가위\") or (user == \"보\" and bot_choice == \"바위\"):\n",
        "        print(\"이겼다!\")\n",
        "    else:\n",
        "        print(\"졌다!\")"
      ],
      "metadata": {
        "id": "sY4ApZSE8V5u",
        "colab": {
          "base_uri": "https://localhost:8080/"
        },
        "outputId": "048d23d9-1428-4338-8a5d-7411dcc1ba29"
      },
      "execution_count": 175,
      "outputs": [
        {
          "output_type": "stream",
          "name": "stdout",
          "text": [
            "가위 바위 보! : 가위\n",
            "User: 가위, Bot: 가위\n",
            "비겼다!\n"
          ]
        }
      ]
    },
    {
      "cell_type": "code",
      "source": [
        "# 멘토문제 1. 숫자를 하나 입력받아, 그 숫자가 5보다 큰지 확인하는 프로그램을 작성해보세요.\n",
        "num = int(input(\"숫자를 입력하세요 : \"))\n",
        "\n",
        "if num > 5 :\n",
        "    print(\"5보다 크군요\")\n",
        "elif num < 5 :\n",
        "    print(\"5보다 작군요\")\n",
        "else :\n",
        "    print(\"5군요.\")\n",
        "\n",
        "print(\"\\n\")\n",
        "\n",
        "# 멘토문제 2. \"안녕하세요!\"를 5번 출력하는 프로그램을 작성해보세요.\n",
        "for i in range(5) :\n",
        "    print(\"안녕하세요!\")\n",
        "\n",
        "print(\"\\n\")\n",
        "\n",
        "# 멘토문제 3. 1부터 10까지의 숫자 중에서, 짝수만 출력하는 프로그램을 작성해보세요.\n",
        "for i in range(0, 11, 2) :\n",
        "    if i != 0 : print(i)\n",
        "\n",
        "print(\"\\n\")\n",
        "\n",
        "# 멘토문제 4. 1부터 20까지의 숫자 중, 3의 배수만 출력하는 프로그램을 작성하세요.\n",
        "for i in range(3, 21, 3) :\n",
        "    print(i)\n",
        "\n",
        "print(\"\\n\")\n",
        "\n",
        "# 멘토문제 5. 구구단 2단부터 9단까지 출력하는 프로그램을 작성하세요.\n",
        "for i in range(2, 10) :\n",
        "    print(f\"구구단 {i}단 시작!\")\n",
        "\n",
        "    for j in range(1, 10) :\n",
        "        print(f\"{i} * {j} = {i * j}\")\n",
        "\n",
        "    print(\"-------------------------\")"
      ],
      "metadata": {
        "colab": {
          "base_uri": "https://localhost:8080/"
        },
        "id": "TZTsXadWGOpl",
        "outputId": "d0e79f1a-7e33-49c6-ee72-17be806607fe"
      },
      "execution_count": 182,
      "outputs": [
        {
          "output_type": "stream",
          "name": "stdout",
          "text": [
            "숫자를 입력하세요 : 80\n",
            "5보다 크군요\n",
            "\n",
            "\n",
            "안녕하세요!\n",
            "안녕하세요!\n",
            "안녕하세요!\n",
            "안녕하세요!\n",
            "안녕하세요!\n",
            "\n",
            "\n",
            "2\n",
            "4\n",
            "6\n",
            "8\n",
            "10\n",
            "\n",
            "\n",
            "3\n",
            "6\n",
            "9\n",
            "12\n",
            "15\n",
            "18\n",
            "\n",
            "\n",
            "구구단 2단 시작!\n",
            "2 * 1 = 2\n",
            "2 * 2 = 4\n",
            "2 * 3 = 6\n",
            "2 * 4 = 8\n",
            "2 * 5 = 10\n",
            "2 * 6 = 12\n",
            "2 * 7 = 14\n",
            "2 * 8 = 16\n",
            "2 * 9 = 18\n",
            "-------------------------\n",
            "구구단 3단 시작!\n",
            "3 * 1 = 3\n",
            "3 * 2 = 6\n",
            "3 * 3 = 9\n",
            "3 * 4 = 12\n",
            "3 * 5 = 15\n",
            "3 * 6 = 18\n",
            "3 * 7 = 21\n",
            "3 * 8 = 24\n",
            "3 * 9 = 27\n",
            "-------------------------\n",
            "구구단 4단 시작!\n",
            "4 * 1 = 4\n",
            "4 * 2 = 8\n",
            "4 * 3 = 12\n",
            "4 * 4 = 16\n",
            "4 * 5 = 20\n",
            "4 * 6 = 24\n",
            "4 * 7 = 28\n",
            "4 * 8 = 32\n",
            "4 * 9 = 36\n",
            "-------------------------\n",
            "구구단 5단 시작!\n",
            "5 * 1 = 5\n",
            "5 * 2 = 10\n",
            "5 * 3 = 15\n",
            "5 * 4 = 20\n",
            "5 * 5 = 25\n",
            "5 * 6 = 30\n",
            "5 * 7 = 35\n",
            "5 * 8 = 40\n",
            "5 * 9 = 45\n",
            "-------------------------\n",
            "구구단 6단 시작!\n",
            "6 * 1 = 6\n",
            "6 * 2 = 12\n",
            "6 * 3 = 18\n",
            "6 * 4 = 24\n",
            "6 * 5 = 30\n",
            "6 * 6 = 36\n",
            "6 * 7 = 42\n",
            "6 * 8 = 48\n",
            "6 * 9 = 54\n",
            "-------------------------\n",
            "구구단 7단 시작!\n",
            "7 * 1 = 7\n",
            "7 * 2 = 14\n",
            "7 * 3 = 21\n",
            "7 * 4 = 28\n",
            "7 * 5 = 35\n",
            "7 * 6 = 42\n",
            "7 * 7 = 49\n",
            "7 * 8 = 56\n",
            "7 * 9 = 63\n",
            "-------------------------\n",
            "구구단 8단 시작!\n",
            "8 * 1 = 8\n",
            "8 * 2 = 16\n",
            "8 * 3 = 24\n",
            "8 * 4 = 32\n",
            "8 * 5 = 40\n",
            "8 * 6 = 48\n",
            "8 * 7 = 56\n",
            "8 * 8 = 64\n",
            "8 * 9 = 72\n",
            "-------------------------\n",
            "구구단 9단 시작!\n",
            "9 * 1 = 9\n",
            "9 * 2 = 18\n",
            "9 * 3 = 27\n",
            "9 * 4 = 36\n",
            "9 * 5 = 45\n",
            "9 * 6 = 54\n",
            "9 * 7 = 63\n",
            "9 * 8 = 72\n",
            "9 * 9 = 81\n",
            "-------------------------\n"
          ]
        }
      ]
    },
    {
      "cell_type": "code",
      "source": [],
      "metadata": {
        "id": "RV4d6IlEH2jo"
      },
      "execution_count": null,
      "outputs": []
    }
  ]
}