{
  "nbformat": 4,
  "nbformat_minor": 0,
  "metadata": {
    "colab": {
      "provenance": [],
      "authorship_tag": "ABX9TyP/hLxfe9L8AL+O+rTgIwYF",
      "include_colab_link": true
    },
    "kernelspec": {
      "name": "python3",
      "display_name": "Python 3"
    },
    "language_info": {
      "name": "python"
    }
  },
  "cells": [
    {
      "cell_type": "markdown",
      "metadata": {
        "id": "view-in-github",
        "colab_type": "text"
      },
      "source": [
        "<a href=\"https://colab.research.google.com/github/escape1001/ormcamp/blob/main/python/ormcamp_240116_%EB%A9%94%EC%84%9C%EB%93%9C%EC%B2%B4%EC%9D%B4%EB%8B%9D_%EA%B3%A0%EC%B0%A8%ED%95%A8%EC%88%98.ipynb\" target=\"_parent\"><img src=\"https://colab.research.google.com/assets/colab-badge.svg\" alt=\"Open In Colab\"/></a>"
      ]
    },
    {
      "cell_type": "markdown",
      "source": [
        "# 메서드체이닝\n",
        "- 메서드체이닝 시 자료형 유의~"
      ],
      "metadata": {
        "id": "ylrF8ANLsuEf"
      }
    },
    {
      "cell_type": "code",
      "execution_count": null,
      "metadata": {
        "colab": {
          "base_uri": "https://localhost:8080/",
          "height": 35
        },
        "id": "GzriHctMscHg",
        "outputId": "bf398c2f-ee19-4d9a-9016-cbc0c85d06ac"
      },
      "outputs": [
        {
          "output_type": "execute_result",
          "data": {
            "text/plain": [
              "'hello'"
            ],
            "application/vnd.google.colaboratory.intrinsic+json": {
              "type": "string"
            }
          },
          "metadata": {},
          "execution_count": 1
        }
      ],
      "source": [
        "'Hello World'.replace('Hello', 'hi').lower()\n",
        "# 그 메서드에 리턴된 값이 순차적으로 해소가 되는 방식\n",
        "\n",
        "# 'Hello World'.split().lower() #error!!\n",
        "'Hello World'.split()[0].lower()"
      ]
    },
    {
      "cell_type": "code",
      "source": [
        "# 메서드 체이닝은 클래스의 인스턴스 메서드로도 구현 가능!\n",
        "class Calculator:\n",
        "    def __init__(self, value):\n",
        "        self.value = value\n",
        "\n",
        "    def add(self, other):\n",
        "        self.value += other\n",
        "        return self\n",
        "\n",
        "    def subtract(self, other):\n",
        "        self.value -= other\n",
        "        return self\n",
        "\n",
        "    def multiply(self, other):\n",
        "        self.value *= other\n",
        "        return self\n",
        "\n",
        "    def get_value(self):\n",
        "        return self.value\n",
        "\n",
        "calc = Calculator(1)\n",
        "result = calc.add(2).subtract(1).multiply(3).get_value()\n",
        "print(result)  # 결과: 6"
      ],
      "metadata": {
        "id": "qFplQQL8tDyV"
      },
      "execution_count": null,
      "outputs": []
    },
    {
      "cell_type": "code",
      "source": [
        "# 이렇게 길어지는 체이닝 권장하지 않음\n",
        "'Hello World'.replace('Hello', 'hi').replace('world', 'python').lower().replace(' ', '')\n",
        "\n",
        "# 이렇게 줄띄움도 권장하지 않음\n",
        "'Hello world'\\\n",
        "    .replace('Hello', 'hi')\\\n",
        "    .replace('world', 'python')\\\n",
        "    .lower()\\\n",
        "    .replace(' ', '')"
      ],
      "metadata": {
        "id": "cPQL6zT5vnoN"
      },
      "execution_count": null,
      "outputs": []
    },
    {
      "cell_type": "markdown",
      "source": [
        "# 일급함수와 고차함수"
      ],
      "metadata": {
        "id": "7SEHnNQywmAW"
      }
    },
    {
      "cell_type": "markdown",
      "source": [
        "## 1. 일급 함수 (First-Class Function)\n",
        "- 일급 함수 (First-Class Function)는 프로그래밍 언어가 함수 (또는 메서드)를 ‘일급 시민(값)'으로 취급하는 것을 의미합니다. 이는 함수를 다른 객체와 동일하게 취급하겠다는 것입니다.\n",
        "- 한줄요약 : 함수를 변수취급 하는 것을 '일급함수'라고 한다"
      ],
      "metadata": {
        "id": "U6YHfComwp-X"
      }
    },
    {
      "cell_type": "markdown",
      "source": [
        "### 1.1. 함수를 변수에 할당할 수 있습니다.\n",
        "Python에서 함수는 객체로써 존재하기 때문에, 함수를 변수에 할당할 수 있습니다. 이렇게 하면 해당 변수를 새로운 함수 이름처럼 사용할 수 있습니다."
      ],
      "metadata": {
        "id": "sIy7SFmCw9H6"
      }
    },
    {
      "cell_type": "code",
      "source": [
        "def greet(name):\n",
        "    return f'Hello, {name}'\n",
        "\n",
        "say_hello = greet\n",
        "print(say_hello(\"World\"))  # 출력: Hello, World"
      ],
      "metadata": {
        "id": "joVKMiVmwnMY"
      },
      "execution_count": null,
      "outputs": []
    },
    {
      "cell_type": "code",
      "source": [
        "# 내장함수도 이렇게 사용 가능함;\n",
        "licat = print\n",
        "licat('hello world') # 출력: hello world"
      ],
      "metadata": {
        "id": "KPDGF7z6xFjM"
      },
      "execution_count": null,
      "outputs": []
    },
    {
      "cell_type": "code",
      "source": [
        "# 당연히 클래스 메소드도 변수 할당해서 사용 가능함\n",
        "class Cat:\n",
        "    def sound(self):\n",
        "        print('냐옹')\n",
        "\n",
        "licat = Cat()\n",
        "licat_sound = licat.sound\n",
        "licat_sound() # 출력: 냐옹, licat.sound()"
      ],
      "metadata": {
        "id": "f5ClcQ8yxO6E"
      },
      "execution_count": null,
      "outputs": []
    },
    {
      "cell_type": "code",
      "source": [
        "# 난리난리..\n",
        "# 흔하게 쓰는 경우는 아니지만 변수가 너무 길거나 오타확률이 높을 때, 메서드명 길 때 사용하기도 함.\n",
        "\n",
        "l = [10, 20, 30]\n",
        "la = l.append\n",
        "la(40) # l.append\n",
        "l # 출력: [10, 20, 30, 40]"
      ],
      "metadata": {
        "id": "Xay2yBs5xW_B"
      },
      "execution_count": null,
      "outputs": []
    },
    {
      "cell_type": "markdown",
      "source": [
        "### 1.2. 함수를 데이터 구조에 저장할 수 있습니다.\n",
        "\n",
        "함수를 리스트, 세트, 딕셔너리 등의 데이터 구조에 저장할 수 있습니다. 이를 통해 함수를 데이터처럼 유연하게 관리하고 조작할 수 있습니다."
      ],
      "metadata": {
        "id": "QBOa9pUJxhGW"
      }
    },
    {
      "cell_type": "code",
      "source": [
        "def add(x, y):\n",
        "    return x + y\n",
        "\n",
        "def subtract(x, y):\n",
        "    return x - y\n",
        "\n",
        "funcs = [add, subtract]\n",
        "print(funcs[0](2, 3))  # 출력: 5"
      ],
      "metadata": {
        "colab": {
          "base_uri": "https://localhost:8080/"
        },
        "id": "0bsIXpqdxjUW",
        "outputId": "dce83542-8681-4a21-f4eb-f8c273cc9ba0"
      },
      "execution_count": null,
      "outputs": [
        {
          "output_type": "stream",
          "name": "stdout",
          "text": [
            "5\n"
          ]
        }
      ]
    },
    {
      "cell_type": "code",
      "source": [
        "class Operator:\n",
        "    def add(self, x, y):\n",
        "        return x + y\n",
        "\n",
        "    def sub(self, x, y):\n",
        "        return x - y\n",
        "\n",
        "    def mul(self, x, y):\n",
        "        return x * y\n",
        "\n",
        "    def div(self, x, y):\n",
        "        return x / y\n",
        "\n",
        "    def _and(self, x, y):\n",
        "        pass\n",
        "\n",
        "    def _or(self, x, y):\n",
        "        pass\n",
        "\n",
        "op = Operator()\n",
        "logical_op = {\n",
        "    'add': op.add,\n",
        "    'sub': op.sub,\n",
        "    'mul': op.mul,\n",
        "    'div': op.div,\n",
        "}\n",
        "arithmetic_op = {\n",
        "    '_and': op._and,\n",
        "    '_or': op._or,\n",
        "}\n",
        "\n",
        "print(logical_op['add'](2, 3)) # 출력: 5\n",
        "print(op.add(2, 3)) # 출력: 5\n",
        "\n",
        "for _, f in logical_op.items():\n",
        "    print(f(2, 3)) # 4칙연산 모두 계산"
      ],
      "metadata": {
        "colab": {
          "base_uri": "https://localhost:8080/"
        },
        "id": "Qo4xZjXRxme5",
        "outputId": "0013235c-6e71-4dbe-a789-6c157126c0bd"
      },
      "execution_count": null,
      "outputs": [
        {
          "output_type": "stream",
          "name": "stdout",
          "text": [
            "5\n",
            "5\n",
            "5\n",
            "-1\n",
            "6\n",
            "0.6666666666666666\n"
          ]
        }
      ]
    },
    {
      "cell_type": "markdown",
      "source": [
        "### 1.3. 함수를 인자로 다른 함수에 전달할 수 있습니다.\n",
        "함수를 다른 함수의 매개변수로 전달할 수 있습니다. 이를 통해 코드의 유연성을 높일 수 있으며, 콜백 패턴 등 다양한 프로그래밍 패턴을 구현할 수 있습니다."
      ],
      "metadata": {
        "id": "hNbzOU4Mypvg"
      }
    },
    {
      "cell_type": "code",
      "source": [
        "def say_hello(name):\n",
        "    return f'Hello, {name}'\n",
        "\n",
        "def greet(func, name):\n",
        "    return func(name)\n",
        "\n",
        "print(greet(say_hello, 'World'))  # 출력: Hello, World"
      ],
      "metadata": {
        "colab": {
          "base_uri": "https://localhost:8080/"
        },
        "id": "j1sJ65TmymAU",
        "outputId": "7c8d3aab-5041-46b9-df9b-031dd3187255"
      },
      "execution_count": null,
      "outputs": [
        {
          "output_type": "stream",
          "name": "stdout",
          "text": [
            "Hello, World\n"
          ]
        }
      ]
    },
    {
      "cell_type": "code",
      "source": [
        "# 원의 넓이를 구하는 예제.\n",
        "# 반지름의 제곱을 별도의 함수로 만들었으며, 함수를 아규먼트로 전달하여 사용.\n",
        "def square(x):\n",
        "    return x ** 2\n",
        "\n",
        "def width_circle(r, s):\n",
        "    return s(r) * 3.14\n",
        "\n",
        "width_circle(10, square)"
      ],
      "metadata": {
        "colab": {
          "base_uri": "https://localhost:8080/"
        },
        "id": "XrM3wah4yuFt",
        "outputId": "a0ef7d6a-bf88-4821-a377-dad5ee4ecb23"
      },
      "execution_count": null,
      "outputs": [
        {
          "output_type": "execute_result",
          "data": {
            "text/plain": [
              "314.0"
            ]
          },
          "metadata": {},
          "execution_count": 5
        }
      ]
    },
    {
      "cell_type": "markdown",
      "source": [
        "### 1.4. 함수를 결과로서 반환할 수 있습니다.\n",
        "함수 내부에서 새로운 함수를 정의하고 반환할 수 있습니다. 이를 통해 클로저(closures) 등의 고급 기능을 구현할 수 있습니다. 클로저는 함수 내 함수가 외부 변수를 참조하여 보존하는 것을 의미합니다. 여기서 **`adder`** 함수는 **`create_adder`** 함수의 지역 변수 **`x`**를 참조하여 보존하므로 클로저입니다."
      ],
      "metadata": {
        "id": "YwhBJSyezHYM"
      }
    },
    {
      "cell_type": "code",
      "source": [
        "# 함수리턴 <- 요게 데코레이터의 핵심!\n",
        "\n",
        "# 아래 코드에서 create_adder 함수는 adder라는 내부 함수를 정의하고 반환,\n",
        "# 반환된 adder 함수는 create_adder 함수의 매개변수(5)를 기억\n",
        "# 이러한 기능을 통해 더 유연하고 동적인 코드를 작성할 수 있습니다.\n",
        "\n",
        "def create_adder(x):\n",
        "    def adder(y):\n",
        "        return x + y\n",
        "    return adder\n",
        "\n",
        "add_5 = create_adder(5)\n",
        "print(add_5(10))  # 출력: 15"
      ],
      "metadata": {
        "colab": {
          "base_uri": "https://localhost:8080/"
        },
        "id": "m6xt8g-hyzh8",
        "outputId": "5e0964bf-93bf-4a86-fdfe-5686e28a1158"
      },
      "execution_count": null,
      "outputs": [
        {
          "output_type": "stream",
          "name": "stdout",
          "text": [
            "15\n"
          ]
        }
      ]
    },
    {
      "cell_type": "markdown",
      "source": [
        "## 2. 고차 함수란? (Higher-order functions)\n",
        "- 고차 함수는 하나 이상의 함수를 인자로 받아들이거나 함수를 결과로 반환하는 함수입니다. 파이썬에서 함수는 객체로 취급되므로, 함수를 변수에 할당하거나 데이터 구조에 저장할 수 있고, 다른 함수의 인자로 전달하거나 반환할 수 있습니다. 고차 함수는 코드의 재사용성을 높이고, 코드를 더 깔끔하고 유연하게 만드는 데 도움이 됩니다.\n",
        "- 한줄요약 : 함수를 인자로 받거나 함수를 리턴하는 함수"
      ],
      "metadata": {
        "id": "6ER4PmjTzp42"
      }
    },
    {
      "cell_type": "markdown",
      "source": [
        "### 2.1. 함수를 아규먼트로 전달하기\n",
        "\n",
        "다른 함수를 매개변수로 받아, 그 함수의 동작을 활용하는 방식입니다. 이렇게 하면 코드의 재사용성이 향상되고, 함수의 동작을 동적으로 변경할 수 있습니다."
      ],
      "metadata": {
        "id": "r9a_MFVMzwY9"
      }
    },
    {
      "cell_type": "code",
      "source": [
        "def apply_function(func, x):\n",
        "    return func(x)\n",
        "\n",
        "def square(x):\n",
        "    return x * x\n",
        "\n",
        "def cube(x):\n",
        "    return x * x * x\n",
        "\n",
        "# 사용 예:\n",
        "result = apply_function(square, 5)\n",
        "print(result)  # 출력: 25\n",
        "\n",
        "result = apply_function(cube, 5)\n",
        "print(result)  # 출력: 125"
      ],
      "metadata": {
        "colab": {
          "base_uri": "https://localhost:8080/"
        },
        "id": "IeAGmPghzNjs",
        "outputId": "7ecd670b-1983-4858-efd3-177e80c7ecdc"
      },
      "execution_count": null,
      "outputs": [
        {
          "output_type": "stream",
          "name": "stdout",
          "text": [
            "25\n",
            "125\n"
          ]
        }
      ]
    },
    {
      "cell_type": "markdown",
      "source": [
        "### 2.2. 함수를 반환값으로 사용하기\n",
        "\n",
        "함수 내부에서 또 다른 함수를 정의하고, 이를 반환하여 동적으로 다양한 동작을 하는 함수를 생성할 수 있습니다."
      ],
      "metadata": {
        "id": "2N8FsSGFz7tR"
      }
    },
    {
      "cell_type": "code",
      "source": [
        "# 해당 예제에서 get_math_function 함수는 add, sub, mul 함수 중 하나를 반환합니다.\n",
        "#반환된 함수는 그 이후 독립적으로 사용할 수 있습니다.\n",
        "#이렇게 고차 함수를 사용하면 코드를 더 유연하게 작성할 수 있습니다.\n",
        "\n",
        "def get_math_function(operation):\n",
        "    '''지정된 연산을 수행하는 함수를 반환합니다.'''\n",
        "\n",
        "    def add(x, y):\n",
        "        return x + y\n",
        "\n",
        "    def sub(x, y):\n",
        "        return x - y\n",
        "\n",
        "    def mul(x, y):\n",
        "        return x * y\n",
        "\n",
        "    if operation == 'add':\n",
        "        return add\n",
        "    elif operation == 'sub':\n",
        "        return sub\n",
        "    elif operation == 'mul':\n",
        "        return mul\n",
        "\n",
        "# 사용 예:\n",
        "# get_math_function 함수에 'add' 문자열을 전달하여 add 함수를 얻습니다.\n",
        "add_func = get_math_function('add')\n",
        "result = add_func(5, 3)  # add 함수에 5와 3을 전달하여 결과를 얻습니다.\n",
        "print(result)  # 출력: 8"
      ],
      "metadata": {
        "colab": {
          "base_uri": "https://localhost:8080/"
        },
        "id": "zkRjvfxvz0OZ",
        "outputId": "e2fdae25-087b-4632-864e-15e5b8001a40"
      },
      "execution_count": null,
      "outputs": [
        {
          "output_type": "stream",
          "name": "stdout",
          "text": [
            "8\n"
          ]
        }
      ]
    },
    {
      "cell_type": "markdown",
      "source": [
        "# 재귀함수\n",
        "- 내가 나를 호출하는 함수\n",
        "- 재귀는 내가 정말 재귀에 자신있다가 아니면 반복문을 사용하세요. (재귀함수 대부분 반복문으로 구현 가능함)\n",
        "- 재귀를 억지로 사용하려 하지 마세요. 잘못 사용하면 비효율의 끝판왕이 됩니다."
      ],
      "metadata": {
        "id": "XtC4PO138wN2"
      }
    },
    {
      "cell_type": "code",
      "source": [
        "# 재귀함수의 대표예제 : 팩토리얼\n",
        "# f(5) => 5 * 4 * 3 * 2 * 1 == 120 == 5! (수학 공식으로는 5!로 표현합니다.)\n",
        "\n",
        "def f(n):\n",
        "    if n <= 1:\n",
        "        return n\n",
        "    return n * f(n-1)\n",
        "\n",
        "f(5)"
      ],
      "metadata": {
        "colab": {
          "base_uri": "https://localhost:8080/"
        },
        "id": "jUEOxVXs81ZZ",
        "outputId": "f05e0206-aef7-4fd6-96fd-20823df8cd44"
      },
      "execution_count": null,
      "outputs": [
        {
          "output_type": "execute_result",
          "data": {
            "text/plain": [
              "120"
            ]
          },
          "metadata": {},
          "execution_count": 9
        }
      ]
    },
    {
      "cell_type": "code",
      "source": [
        "def 숫자출력(count):\n",
        "    if count > 100:\n",
        "        return # 요 종료조건 없으면 무한루프임\n",
        "    print(count)\n",
        "    return 숫자출력(count+1) #값을 1부터 반복횟수 까지의 값을 출력\n",
        "\n",
        "숫자출력(1)"
      ],
      "metadata": {
        "id": "qURagyLY9Ivw"
      },
      "execution_count": null,
      "outputs": []
    },
    {
      "cell_type": "code",
      "source": [
        "# 글자 뒤집기 예시 - for문\n",
        "s = ''\n",
        "for i in 'hello':\n",
        "    s = i + s\n",
        "\n",
        "s\n",
        "\n",
        "# s = 'h' + ''\n",
        "# s = 'e' + 'h'\n",
        "# s = 'l' + 'eh'\n",
        "# s = 'l' + 'leh'\n",
        "# s = 'o' + 'lleh'\n",
        "# => 'olleh'"
      ],
      "metadata": {
        "colab": {
          "base_uri": "https://localhost:8080/",
          "height": 35
        },
        "id": "ZyktpInj9JDJ",
        "outputId": "f11e5049-106a-4fd8-b2e4-5387e1af0997"
      },
      "execution_count": null,
      "outputs": [
        {
          "output_type": "execute_result",
          "data": {
            "text/plain": [
              "'olleh'"
            ],
            "application/vnd.google.colaboratory.intrinsic+json": {
              "type": "string"
            }
          },
          "metadata": {},
          "execution_count": 11
        }
      ]
    },
    {
      "cell_type": "code",
      "source": [
        "# 글자 뒤집기 예시 - 재귀함수\n",
        "def f(s):\n",
        "    if len(s) <= 1:\n",
        "        return s\n",
        "    return f(s[1:]) + s[0]\n",
        "\n",
        "f('hello')"
      ],
      "metadata": {
        "colab": {
          "base_uri": "https://localhost:8080/",
          "height": 35
        },
        "id": "T6exrQWPBJ2Z",
        "outputId": "e88deca8-1b9c-4411-ec8c-eaedf63aa943"
      },
      "execution_count": null,
      "outputs": [
        {
          "output_type": "execute_result",
          "data": {
            "text/plain": [
              "'olleh'"
            ],
            "application/vnd.google.colaboratory.intrinsic+json": {
              "type": "string"
            }
          },
          "metadata": {},
          "execution_count": 13
        }
      ]
    },
    {
      "cell_type": "markdown",
      "source": [
        "재귀함수는 병합정렬, 퀵정렬, 회문, 하노이의 탑 등 다양한 문제에 응용될 수 있습니다. 재귀함수는 반복하는 작업이 많아지고 복잡해질 수록 강력하지만, 종료 조건이 충족되지 않는 경우 무한히 실행될 위험이 있으며 피보나치 순열과 같은 같은 패턴이 지속해서 반복되는 문제의 경우 심각한 메모리 낭비를 초래하게 됩니다.\n",
        "\n",
        "이러한 이유로, 재귀함수를 작성할 때는 항상 종료 조건을 명확하게 정의하고, 꼭 필요한 경우가 아니면 반복문을 사용하여 재귀함수 대신 구현하는 것을 고려해보세요."
      ],
      "metadata": {
        "id": "hUjSE-C6CQQa"
      }
    },
    {
      "cell_type": "markdown",
      "source": [
        "# 오늘의 문제"
      ],
      "metadata": {
        "id": "oOX8ezGsI4Mt"
      }
    },
    {
      "cell_type": "markdown",
      "source": [
        "## 문제 1: 함수를 인자로 받는 고차함수\n",
        "주어진 리스트와 함수를 인자로 받아, 리스트의 각 요소에 해당 함수를 적용한 결과를 반환하는 고차함수 apply_function을 작성해주세요.\n",
        "\n",
        "```\n",
        "def apply_function(lst, func):\n",
        "    pass\n",
        "\n",
        "# 예제 사용\n",
        "result = apply_function([1, 2, 3, 4], lambda x: x * 2)\n",
        "print(result)  # [2, 4, 6, 8]이 출력되어야 함\n",
        "```"
      ],
      "metadata": {
        "id": "WAElW5RkI6bE"
      }
    },
    {
      "cell_type": "code",
      "source": [
        "def apply_function(lst, func):\n",
        "    return list(map(func, lst))\n",
        "\n",
        "# 예제 사용\n",
        "result = apply_function([1, 2, 3, 4], lambda x: x * 2)\n",
        "print(result)  # [2, 4, 6, 8]이 출력되어야 함"
      ],
      "metadata": {
        "colab": {
          "base_uri": "https://localhost:8080/"
        },
        "id": "gJZaXzUIJG6t",
        "outputId": "67f5de1a-605c-4c87-f88c-47b24278a2a9"
      },
      "execution_count": null,
      "outputs": [
        {
          "output_type": "stream",
          "name": "stdout",
          "text": [
            "[2, 4, 6, 8]\n"
          ]
        }
      ]
    },
    {
      "cell_type": "markdown",
      "source": [
        "## 문제 2: 함수를 반환하는 고차함수\n",
        "정수 n을 인자로 받아, 다른 정수 x에 n을 곱하는 함수를 반환하는 고차함수 multiply_by_n을 작성해주세요. 힌트를 드리자면 반환 값은 lambda여야 합니다.\n",
        "\n",
        "```\n",
        "def multiply_by_n(n):\n",
        "    pass\n",
        "\n",
        "# 예제 사용\n",
        "multiplier = multiply_by_n(5)\n",
        "print(multiplier(3))  # 15가 출력되어야 함\n",
        "```"
      ],
      "metadata": {
        "id": "nveyR7xBJB1e"
      }
    },
    {
      "cell_type": "code",
      "source": [
        "def multiply_by_n(n):\n",
        "    return lambda x : n * x\n",
        "\n",
        "# 예제 사용\n",
        "multiplier = multiply_by_n(5)\n",
        "print(multiplier(3))  # 15가 출력되어야 함"
      ],
      "metadata": {
        "colab": {
          "base_uri": "https://localhost:8080/"
        },
        "id": "TfjchJc4BL9O",
        "outputId": "53d030cd-65ea-4739-a6b7-a9281f626210"
      },
      "execution_count": null,
      "outputs": [
        {
          "output_type": "stream",
          "name": "stdout",
          "text": [
            "15\n"
          ]
        }
      ]
    },
    {
      "cell_type": "code",
      "source": [],
      "metadata": {
        "id": "GBfR71ErJ8nK"
      },
      "execution_count": null,
      "outputs": []
    }
  ]
}