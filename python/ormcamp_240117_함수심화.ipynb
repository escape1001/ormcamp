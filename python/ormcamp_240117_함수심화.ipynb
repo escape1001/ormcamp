{
  "nbformat": 4,
  "nbformat_minor": 0,
  "metadata": {
    "colab": {
      "provenance": [],
      "authorship_tag": "ABX9TyOd38UG5SGGgbaKWm/isANm",
      "include_colab_link": true
    },
    "kernelspec": {
      "name": "python3",
      "display_name": "Python 3"
    },
    "language_info": {
      "name": "python"
    }
  },
  "cells": [
    {
      "cell_type": "markdown",
      "metadata": {
        "id": "view-in-github",
        "colab_type": "text"
      },
      "source": [
        "<a href=\"https://colab.research.google.com/github/escape1001/ormcamp/blob/main/python/ormcamp_240117_%ED%95%A8%EC%88%98%EC%8B%AC%ED%99%94.ipynb\" target=\"_parent\"><img src=\"https://colab.research.google.com/assets/colab-badge.svg\" alt=\"Open In Colab\"/></a>"
      ]
    },
    {
      "cell_type": "markdown",
      "source": [
        "## 전일 문제 풀이 관련 실습"
      ],
      "metadata": {
        "id": "8tY_VGU9zduJ"
      }
    },
    {
      "cell_type": "code",
      "execution_count": 4,
      "metadata": {
        "colab": {
          "base_uri": "https://localhost:8080/"
        },
        "id": "v8o8BN-7v75E",
        "outputId": "faed2407-3c7f-4e35-8942-bebbc5cb7a93"
      },
      "outputs": [
        {
          "output_type": "execute_result",
          "data": {
            "text/plain": [
              "3"
            ]
          },
          "metadata": {},
          "execution_count": 4
        }
      ],
      "source": [
        "class Calc:\n",
        "    pass\n",
        "\n",
        "\n",
        "add = Calc()\n",
        "add\n",
        "\n",
        "add.oper = lambda x, y : x+y # 와 이렇게 일급함수에 람다 추가하면\n",
        "add.oper(10,20)\n",
        "\n",
        "add1 = Calc()\n",
        "add.oper(1,2) # 클래스에 메소드 추가됨"
      ]
    },
    {
      "cell_type": "markdown",
      "source": [
        "# 1. 클로저\n",
        "- 클로저는 파이썬에만 있는 개념이 아니라 다른 프로그래밍 언어에서도 중요한 프로그래밍 개념으로, 함수 내 함수가 외부 변수를 참조하여 보존하는 것을 얘기합니다.\n",
        "- 클로징되어야 하는 변수에 접근\n",
        "- 클로징? 함수 실행하고 나면 그곳의 지역변수는 사라짐(close) 클로저에서는 그 사라져야 하는 변수를 기억하는 것.\n",
        "- 데이터 은닉은 가능하나 보안이 되는것은 아님!"
      ],
      "metadata": {
        "id": "pyDXir-40jIB"
      }
    },
    {
      "cell_type": "code",
      "source": [
        "# 1번: 클로저가 아닌경우\n",
        "def outer_function():\n",
        "    def inner_function():\n",
        "        return 100 + 100\n",
        "    return inner_function\n",
        "\n",
        "# 2번: 클로저인 경우\n",
        "def outer_function(x):\n",
        "    def inner_function(y):\n",
        "        return x + y\n",
        "    return inner_function\n",
        "\n",
        "inner = outer_function(100)\n",
        "inner(200) # inner 입장에서 100을 변경할 수 있는 방법이 없습니다."
      ],
      "metadata": {
        "colab": {
          "base_uri": "https://localhost:8080/"
        },
        "id": "f-dUbqATzzC4",
        "outputId": "2638f227-a6dc-4f28-d965-582662004392"
      },
      "execution_count": 6,
      "outputs": [
        {
          "output_type": "execute_result",
          "data": {
            "text/plain": [
              "300"
            ]
          },
          "metadata": {},
          "execution_count": 6
        }
      ]
    },
    {
      "cell_type": "code",
      "source": [
        "# keyword : 캡슐화, 데이터 은닉\n",
        "\n",
        "def make_counter():\n",
        "    count = 0 # 얘를 은닉할것임\n",
        "\n",
        "    def counter():\n",
        "        nonlocal count # inner함수에서 outer 함수의 지역변수 접근할 때 붙임.\n",
        "        count += 1\n",
        "        return count\n",
        "\n",
        "    return counter\n",
        "\n",
        "counter_a = make_counter()\n",
        "print(counter_a())  # 1\n",
        "print(counter_a())  # 2\n",
        "\n",
        "counter_b = make_counter()\n",
        "print(counter_b())  # 1\n",
        "print(counter_b())  # 2"
      ],
      "metadata": {
        "colab": {
          "base_uri": "https://localhost:8080/"
        },
        "id": "Z2sd4t5w0iHt",
        "outputId": "8e4c4da2-042a-46fe-ede3-7865f6aeeb1e"
      },
      "execution_count": 7,
      "outputs": [
        {
          "output_type": "stream",
          "name": "stdout",
          "text": [
            "1\n",
            "2\n",
            "1\n",
            "2\n"
          ]
        }
      ]
    },
    {
      "cell_type": "code",
      "source": [
        "def calc(oper, original):\n",
        "    def add(x, y):\n",
        "        return original + x + y\n",
        "    def sub(x, y):\n",
        "        return original - x - y\n",
        "    if oper == 'add':\n",
        "        return add\n",
        "    if oper == 'sub':\n",
        "        return sub\n",
        "\n",
        "add = calc('add', 1000) # 1000은 클로져값!\n",
        "add(10, 20) # add의 입장에서 1000을 바꿀 수 없다!\n",
        "\n",
        "sub = calc('sub', 100) # 100은 클로져값!\n",
        "sub(10, 20) # sub에 입장에서 100을 바꿀 수 없다!"
      ],
      "metadata": {
        "colab": {
          "base_uri": "https://localhost:8080/"
        },
        "id": "45c6t0vT72l7",
        "outputId": "deb2a753-6412-4bd1-d113-b20cfb57abc8"
      },
      "execution_count": 14,
      "outputs": [
        {
          "output_type": "execute_result",
          "data": {
            "text/plain": [
              "70"
            ]
          },
          "metadata": {},
          "execution_count": 14
        }
      ]
    },
    {
      "cell_type": "markdown",
      "source": [
        "# 2. 데코레이터\n",
        "- 파이썬 데코레이터는 기본적으로 함수 또는 메서드를 꾸며주는 함수.\n",
        "- 이러한 코드는 파이썬의 프레임웤인 Django에서는 아래와 같이 활용될 수 있습니다.\n",
        "- 한줄요약 : 어떤 함수가 동작하기 전과 후에서 어떤 동작을 할 수 있게 하는 것\n",
        "- 데코레이터를 사용하면 코드의 재사용성을 높이고, 코드를 더 깔끔하고 모듈화된 형태로 유지할 수 있습니다.\n"
      ],
      "metadata": {
        "id": "DT2nrOjU3DXi"
      }
    },
    {
      "cell_type": "markdown",
      "source": [
        "## 2.1. 데코레이터 예시"
      ],
      "metadata": {
        "id": "miW82NV14GVA"
      }
    },
    {
      "cell_type": "code",
      "source": [
        "# [예시1] 조건 선행해야 할 때 사용\n",
        "# 아래 코드는 로그인한 사용자만 게시판을 읽을 수 있게 함\n",
        "\n",
        "def login(function):\n",
        "    pass\n",
        "\n",
        "@login\n",
        "def 게시판읽기():\n",
        "    pass"
      ],
      "metadata": {
        "id": "uOpkse8z2QRP"
      },
      "execution_count": 8,
      "outputs": []
    },
    {
      "cell_type": "code",
      "source": [
        "# [예시2] 실행 전후에 시간 체크\n",
        "# 아래 코드는 함수 f()의 실행 시간을 체크할 수 있습니다.\n",
        "# 그렇다면 실행 전에 한 번 시간을 체크하고, 실행이 끝난 후에도 시간을 체크해야 합니다.\n",
        "\n",
        "def 시간체크(function):\n",
        "    pass\n",
        "\n",
        "@시간체크\n",
        "def f():\n",
        "    pass"
      ],
      "metadata": {
        "id": "xaPC2Wl43Msy"
      },
      "execution_count": null,
      "outputs": []
    },
    {
      "cell_type": "code",
      "source": [
        "# [예시3] 로그 남기기\n",
        "# 이러한 로그는 파일로 관리하여 날짜별로도 관리할 수 있습니다.\n",
        "# 이렇게 데코레이터는 어떤 함수가 동작하기 전과 후에서 어떤 동작을 할 수 있게 합니다.\n",
        "\n",
        "def log(function):\n",
        "    pass\n",
        "\n",
        "@log\n",
        "def f():\n",
        "    pass"
      ],
      "metadata": {
        "id": "ldhtWqkZ3xTf"
      },
      "execution_count": null,
      "outputs": []
    },
    {
      "cell_type": "markdown",
      "source": [
        "## 2.2. 데코레이터의 작동원리\n",
        "데코레이터는 고차 함수입니다. 앞서 설명한것처럼 고차 함수는 하나 이상의 함수를 인자로 받고, 함수를 결과로 반환하는 함수입니다. 데코레이터도 마찬가지로 하나의 함수를 인자로 받아, 기능이 추가 또는 변경된 새로운 함수를 반환합니다. 기본적인 데코레이터의 작성과 사용에 대해서 단계별로 알아봅시다.\n"
      ],
      "metadata": {
        "id": "2AYwV6n74Jkv"
      }
    },
    {
      "cell_type": "code",
      "source": [
        "def simple_decorator(function):\n",
        "    def wrapper():\n",
        "        print(\"전\")\n",
        "        function()\n",
        "        print(\"후\")\n",
        "    return wrapper\n",
        "\n",
        "@simple_decorator\n",
        "def hello():\n",
        "    print(\"Hello, World!\")\n",
        "\n",
        "hello() # 데코레이터가 없는 상태에서는 simple_decorator(hello)() 와 같습니다."
      ],
      "metadata": {
        "colab": {
          "base_uri": "https://localhost:8080/"
        },
        "id": "hQWyoInf4LTd",
        "outputId": "ef782750-35e2-476f-82b2-9d0bf1ec51e2"
      },
      "execution_count": 12,
      "outputs": [
        {
          "output_type": "stream",
          "name": "stdout",
          "text": [
            "전\n",
            "Hello, World!\n",
            "후\n"
          ]
        }
      ]
    },
    {
      "cell_type": "markdown",
      "source": [
        "## 2.3. 데코레이터 적용 예시\n",
        "데코레이터를 적용하는 방법은 두 가지입니다. 첫 번째 방법은 @simple_decorator 문법을 사용하여 직접 함수 정의 위에 데코레이터를 선언하는 것이고, 두 번째 방법은 함수 객체를 데코레이터 함수의 인자로 전달하는 것입니다. 두 방법은 동일한 결과를 가져옵니다."
      ],
      "metadata": {
        "id": "0i_CfIX_4cop"
      }
    },
    {
      "cell_type": "code",
      "source": [
        "# 방법1: 데코레이터 사용\n",
        "@simple_decorator\n",
        "def hello():\n",
        "    print(\"Hello, World!\")\n",
        "hello()"
      ],
      "metadata": {
        "colab": {
          "base_uri": "https://localhost:8080/"
        },
        "id": "YyDzneAN4RZW",
        "outputId": "44b4b24a-8ae5-4236-8545-5191fc8813b5"
      },
      "execution_count": 15,
      "outputs": [
        {
          "output_type": "stream",
          "name": "stdout",
          "text": [
            "전\n",
            "Hello, World!\n",
            "후\n"
          ]
        }
      ]
    },
    {
      "cell_type": "code",
      "source": [
        "# 방법2 데코레이터 미사용\n",
        "def hello():\n",
        "    print(\"Hello, World!\")\n",
        "simple_decorator(hello)()"
      ],
      "metadata": {
        "colab": {
          "base_uri": "https://localhost:8080/"
        },
        "id": "TwVlacuhCfTv",
        "outputId": "504a7525-dd61-49a1-e05a-b75fb57753b2"
      },
      "execution_count": 16,
      "outputs": [
        {
          "output_type": "stream",
          "name": "stdout",
          "text": [
            "전\n",
            "Hello, World!\n",
            "후\n"
          ]
        }
      ]
    },
    {
      "cell_type": "markdown",
      "source": [
        "데코레이터를 적용한 후 hello() 함수를 호출하면, 사실은 wrapper 함수가 호출됩니다. 이 wrapper 함수 내에서 원래의 hello 함수가 function이라는 이름으로 호출되며, 추가로 정의된 문자열 출력 동작이 수행됩니다."
      ],
      "metadata": {
        "id": "lK-vgObDCqbj"
      }
    },
    {
      "cell_type": "code",
      "source": [
        "# 매개변수가 있는 경우\n",
        "def simple_decorator(function):\n",
        "    def wrapper(a, b): # point\n",
        "        print(f'전{a}')\n",
        "        result = function(a, b)\n",
        "        print(f'후{b}')\n",
        "        return result\n",
        "    return wrapper\n",
        "\n",
        "@simple_decorator\n",
        "def hello(a, b):\n",
        "    print(f'중{a + b}')\n",
        "    return a + b\n",
        "\n",
        "hello(10, 20)"
      ],
      "metadata": {
        "colab": {
          "base_uri": "https://localhost:8080/"
        },
        "id": "Ku5uAA4DCg0I",
        "outputId": "0e4a7c21-3506-4ec3-93b0-0870dd29aa6c"
      },
      "execution_count": 20,
      "outputs": [
        {
          "output_type": "stream",
          "name": "stdout",
          "text": [
            "전10\n",
            "중30\n",
            "후20\n"
          ]
        },
        {
          "output_type": "execute_result",
          "data": {
            "text/plain": [
              "30"
            ]
          },
          "metadata": {},
          "execution_count": 20
        }
      ]
    },
    {
      "cell_type": "markdown",
      "source": [
        "### 생략 진도\n",
        "- 이 밑부터는 교안 진도 생략. 난이도는 높으나 실무에서 볼까말까 한 케이스들임\n",
        "- 데코레이터 응용\n",
        "- 중첩 데코레이터\n",
        "- 동적 데코레이터"
      ],
      "metadata": {
        "id": "S79m8tCoDWjR"
      }
    },
    {
      "cell_type": "code",
      "source": [
        "# 데코레이터 만들기 연습 1\n",
        "# list에 숫자 아닌 값 숫자 추출해서 더하기\n",
        "def test_deco(function):\n",
        "    def wrapper(iter_obj):\n",
        "        return function(list(map(int, iter_obj)))\n",
        "    return wrapper\n",
        "\n",
        "@test_deco\n",
        "def mean(l): # 평균을 내겠다\n",
        "    return sum(l) / len(l)\n",
        "\n",
        "ll = [1, 2, \"3\", 4, '5', 6, '7']\n",
        "mean(ll)"
      ],
      "metadata": {
        "colab": {
          "base_uri": "https://localhost:8080/"
        },
        "id": "R2EEWeSDDdze",
        "outputId": "27dceb97-081d-46d1-ed78-557380139b4c"
      },
      "execution_count": 34,
      "outputs": [
        {
          "output_type": "execute_result",
          "data": {
            "text/plain": [
              "4.0"
            ]
          },
          "metadata": {},
          "execution_count": 34
        }
      ]
    },
    {
      "cell_type": "code",
      "source": [
        "# 복습 X\n",
        "# 좀 더 정교한 작업이 필요할 때\n",
        "# 정규표현식 배우면 엄청 간단해집니다.\n",
        "# re.sub(r'[a-zA-Z]+', '')\n",
        "\n",
        "def data_pre(function):\n",
        "    def wrapper(iter_obj):\n",
        "        l = []\n",
        "        for i in iter_obj:\n",
        "            if isinstance(i, str):\n",
        "                s = ''\n",
        "                for j in i:\n",
        "                    if j.isdigit():\n",
        "                        s += j\n",
        "                l.append(int(s))\n",
        "            else:\n",
        "                l.append(i)\n",
        "        print(l)\n",
        "        return function(list(map(int, l)))\n",
        "    return wrapper\n",
        "\n",
        "@data_pre\n",
        "def mean(l):\n",
        "    return sum(l) / len(l)\n",
        "\n",
        "mean([1, 2, 'l3l', 4, 5, 'abc6def'])"
      ],
      "metadata": {
        "colab": {
          "base_uri": "https://localhost:8080/"
        },
        "id": "xnw3KmTHKhxy",
        "outputId": "7876baa4-3112-4d5b-8cfe-7944f523e655"
      },
      "execution_count": 35,
      "outputs": [
        {
          "output_type": "stream",
          "name": "stdout",
          "text": [
            "[1, 2, 3, 4, 5, 6]\n"
          ]
        },
        {
          "output_type": "execute_result",
          "data": {
            "text/plain": [
              "3.5"
            ]
          },
          "metadata": {},
          "execution_count": 35
        }
      ]
    },
    {
      "cell_type": "code",
      "source": [
        "# 데코레이터 만들기 연습 2\n",
        "# list에 절대값 취해 더하기\n",
        "\n",
        "data = [-1, 30, 20, 31, -50]\n",
        "\n",
        "def all_abs(function):\n",
        "    def wrapper(iter_obj):\n",
        "        return function([abs(i) for i in iter_obj])\n",
        "    return wrapper\n",
        "\n",
        "@all_abs\n",
        "def _sum(l):\n",
        "    return sum(l)\n",
        "\n",
        "_sum(data)"
      ],
      "metadata": {
        "colab": {
          "base_uri": "https://localhost:8080/"
        },
        "id": "-NHb7pwrMphT",
        "outputId": "5748cc16-1067-4388-b1df-b0dfb89d7a64"
      },
      "execution_count": 40,
      "outputs": [
        {
          "output_type": "execute_result",
          "data": {
            "text/plain": [
              "132"
            ]
          },
          "metadata": {},
          "execution_count": 40
        }
      ]
    },
    {
      "cell_type": "markdown",
      "source": [
        "# 3. args, kwargs\n",
        "아규먼츠(args), 키워드 아규먼츠(kwargs)는 가변 아규먼트 또는 가변 매개변수, 키워드 가변 아규먼트 또는 키워드 가변 매개변수로 부릅니다. 여기서는 복수형 발음 그대로 아규먼츠와 키워드 아규먼츠로 부르도록 하겠습니다.\n",
        "\n",
        "애스터리스크(`*`) 1개는 튜플이나 리스트를 패킹, 언패킹하는데 사용하며 2개는 딕셔너리를 패킹, 언패킹 하는데 사용됩니다. 변수명은 꼭 args나 kwargs를 사용하지 않아도 작동됩니다."
      ],
      "metadata": {
        "id": "xw5ip7rgR0E0"
      }
    },
    {
      "cell_type": "markdown",
      "source": [
        "## 3.1. *args\n",
        "아규먼츠(`*args`)가 함수 내 파라미터로 사용되면 여러 아규먼트를 묶어 받을 수 있습니다. 아래 예제를 통해 좀 더 상세히 살펴보겠습니다."
      ],
      "metadata": {
        "id": "TxJw3yP4R_zP"
      }
    },
    {
      "cell_type": "code",
      "source": [
        "# 아규먼트로 전달된 값이 모두 하나에 변수에 묶인 것을 볼 수 있습니다.\n",
        "# 이걸 패킹되었다고 합니다. 이렇게 패킹 된 값은 튜플로 묶인 것을 확인할 수 있습니다.\n",
        "def print_args(*args):\n",
        "    print(args) # 출력: (100, True, 'Licat')\n",
        "\n",
        "print_args(100, True, 'Licat')"
      ],
      "metadata": {
        "colab": {
          "base_uri": "https://localhost:8080/"
        },
        "id": "lsWtUJ1cOF8e",
        "outputId": "b0a23b34-4a2b-4105-d447-93de2e333735"
      },
      "execution_count": 41,
      "outputs": [
        {
          "output_type": "stream",
          "name": "stdout",
          "text": [
            "(100, True, 'Licat')\n"
          ]
        }
      ]
    },
    {
      "cell_type": "code",
      "source": [
        "# 일반 파라미터와 함께 사용된 예시\n",
        "def print_args(a, b, *args):\n",
        "    print(args) # 출력: ('Licat', 'hello', 10)\n",
        "\n",
        "print_args(100, True, 'Licat', 'hello', 10)"
      ],
      "metadata": {
        "colab": {
          "base_uri": "https://localhost:8080/"
        },
        "id": "gmg4C7YtSEFO",
        "outputId": "064a3af8-8d45-4de7-ca9d-8042d47c9be0"
      },
      "execution_count": 42,
      "outputs": [
        {
          "output_type": "stream",
          "name": "stdout",
          "text": [
            "('Licat', 'hello', 10)\n"
          ]
        }
      ]
    },
    {
      "cell_type": "code",
      "source": [
        "# 뒤에 일반 파라미터 사용하면 에러남!!\n",
        "def print_args(a, b, *args, c): # *args뒤에 일반 변수를 선언하지 못합니다.\n",
        "    print(args)\n",
        "\n",
        "print_args(100, True, 'Licat', 'hello', 10)"
      ],
      "metadata": {
        "id": "1vdlr5rmSQAc"
      },
      "execution_count": null,
      "outputs": []
    },
    {
      "cell_type": "code",
      "source": [
        "# 패킹/언패킹 둘 다 사용 가능함\n",
        "# 패킹\n",
        "def func(*args):\n",
        "    print(args)\n",
        "\n",
        "func(10, 20, 30)\n",
        "# 10, 20, 30 => *args => (10, 20, 30)\n",
        "\n",
        "# 언패킹\n",
        "def func(a, b, c):\n",
        "    print(a, b, c)\n",
        "\n",
        "args = (10, 20, 30)\n",
        "func(*args)\n",
        "# (10, 20, 30) => *args => 10, 20, 30"
      ],
      "metadata": {
        "colab": {
          "base_uri": "https://localhost:8080/"
        },
        "id": "DQgDxRe5SZkF",
        "outputId": "5e66c981-7718-4eac-b99c-4bfc8fdec992"
      },
      "execution_count": 44,
      "outputs": [
        {
          "output_type": "stream",
          "name": "stdout",
          "text": [
            "(10, 20, 30)\n",
            "10 20 30\n"
          ]
        }
      ]
    },
    {
      "cell_type": "markdown",
      "source": [
        "## 3.2. **kwargs\n",
        "키워드 아규먼츠(**kwargs)는 딕셔너리로 가변 아규먼트를 받을 수 있는 방법입니다. 아규먼츠(args)는 튜플 형식으로 아규먼트를 받는 반면 키워드 아규먼츠(kwargs)는 딕셔너리 형태로 아규먼트를 받습니다.\n"
      ],
      "metadata": {
        "id": "G9DO2kBDSzT3"
      }
    },
    {
      "cell_type": "code",
      "source": [
        "def print_kwargs(a, **kwargs):\n",
        "    print(a)\n",
        "    print(kwargs)\n",
        "\n",
        "print_kwargs(100, name='Licat', age='10')"
      ],
      "metadata": {
        "colab": {
          "base_uri": "https://localhost:8080/"
        },
        "id": "J_UibAHAShvJ",
        "outputId": "a64e4320-3c96-4879-a504-e87146d37447"
      },
      "execution_count": 49,
      "outputs": [
        {
          "output_type": "stream",
          "name": "stdout",
          "text": [
            "100\n",
            "{'name': 'Licat', 'age': '10'}\n"
          ]
        }
      ]
    },
    {
      "cell_type": "code",
      "source": [
        "# 여기서 에스터리스크를 1개만 사용하면 key만 넘어갑니다. key와 value 모두를 넘기기 위해 2개를 사용합니다.\n",
        "def print_kwargs(*kwargs):\n",
        "    print(kwargs)\n",
        "\n",
        "value = {'one':10, 'two':20}\n",
        "print_kwargs(*value)"
      ],
      "metadata": {
        "colab": {
          "base_uri": "https://localhost:8080/"
        },
        "id": "7kj7feXCS5Ru",
        "outputId": "1dbd3736-f0b6-4406-de00-ce2c97e6f157"
      },
      "execution_count": 50,
      "outputs": [
        {
          "output_type": "stream",
          "name": "stdout",
          "text": [
            "('one', 'two')\n"
          ]
        }
      ]
    },
    {
      "cell_type": "code",
      "source": [
        "# **kwarg 예시1\n",
        "def func(a=100, **kargs):\n",
        "    print(a, kargs)\n",
        "\n",
        "func(1000, i=1, j=2, k=3)\n",
        "# a=1, b=2, c=3 => **kwargs => {'a': 1, 'b': 2, 'c': 3}"
      ],
      "metadata": {
        "colab": {
          "base_uri": "https://localhost:8080/"
        },
        "id": "HaKxycHoTHsc",
        "outputId": "9c2935fb-cb71-4ee9-b9e7-aac5dd3bff6a"
      },
      "execution_count": 51,
      "outputs": [
        {
          "output_type": "stream",
          "name": "stdout",
          "text": [
            "1000 {'i': 1, 'j': 2, 'k': 3}\n"
          ]
        }
      ]
    },
    {
      "cell_type": "code",
      "source": [
        "# **kwarg 예시2\n",
        "def func(d=100, c=200, b=300, a=400):\n",
        "    print(d, c, b, a)\n",
        "\n",
        "kwargs = {'a': 1, 'b': 2, 'c': 3}\n",
        "func(**kwargs)\n",
        "# {'a': 1, 'b': 2, 'c': 3} => **kwargs => a=1, b=2, c=3"
      ],
      "metadata": {
        "colab": {
          "base_uri": "https://localhost:8080/"
        },
        "id": "RBjnfuTsTM8A",
        "outputId": "219ce083-2632-4b6b-fb58-00f36629b220"
      },
      "execution_count": 53,
      "outputs": [
        {
          "output_type": "stream",
          "name": "stdout",
          "text": [
            "100 3 2 1\n"
          ]
        }
      ]
    },
    {
      "cell_type": "code",
      "source": [
        "def f(a, b, c, d, e):\n",
        "    print(a, b, c, d, e)\n",
        "\n",
        "f(1, 2, e=3, d=4, c=5) # 이렇게 순서 뒤죽박죽으로 넣어도 출력해보면 찰떡같이 키-값 묶여있다!\n",
        "# 아마 js였으면 키값이고 뭐고 걍 순서대로 받아와서 1, 2, 3, 4, 5 나왔을것임"
      ],
      "metadata": {
        "colab": {
          "base_uri": "https://localhost:8080/"
        },
        "id": "I8YuT3GETbKZ",
        "outputId": "15072387-9c1d-4a21-cae8-3a0a79de57b7"
      },
      "execution_count": 54,
      "outputs": [
        {
          "output_type": "stream",
          "name": "stdout",
          "text": [
            "1 2 5 4 3\n"
          ]
        }
      ]
    },
    {
      "cell_type": "markdown",
      "source": [
        "## 3.3. *args와 **kwargs 응용\n",
        "- 함수를 정의할 때 `*args`와 `**kwargs`를 함께 사용하면, 함수는 다양한 형태의 인자들을 유연하게 받을 수 있습니다. 이때, 일반적으로 `*args`를 먼저 위치시킨 후, 그 다음에 `kwargs`를 위치시킵니다.\n",
        "- 주의할 점은 인자를 전달할 때, 위치 인자들은 항상 키워드 인자들 앞에 와야 합니다. 그렇지 않으면 파이썬은 에러를 발생시킵니다. 그리고 키워드 인자들은 명시적으로 이름을 지정해서 전달해야 합니다.\n",
        "\n",
        "- 다음 예제는  `args`와 `kwargs` 를 둘다 사용하여 적용한 여러 예시입니다. 마지막 코드에서 중간에 ‘Licat’이라는 위치인자가 순서가 섞여있었기 때문에 에러가 발생합니다."
      ],
      "metadata": {
        "id": "64ReTWxNYw7t"
      }
    },
    {
      "cell_type": "code",
      "source": [
        "def print_args_kwargs(*args, **kwargs):\n",
        "    print('args:', args)\n",
        "    print('kwargs:', kwargs)\n",
        "\n",
        "inputlist = [100, True, 'leehojun']\n",
        "inputdic = {'score':100, 'name':'leehojun', 'age':'10'}\n",
        "\n",
        "print_args_kwargs(*inputlist)\n",
        "print('--------')\n",
        "\n",
        "print_args_kwargs(**inputdic)\n",
        "print('--------')\n",
        "\n",
        "print_args_kwargs(*inputlist, **inputdic)"
      ],
      "metadata": {
        "colab": {
          "base_uri": "https://localhost:8080/"
        },
        "id": "DqKIFhnHXye7",
        "outputId": "44e795f8-eb00-42d9-9445-9bff404a8bcd"
      },
      "execution_count": 55,
      "outputs": [
        {
          "output_type": "stream",
          "name": "stdout",
          "text": [
            "args: (100, True, 'leehojun')\n",
            "kwargs: {}\n",
            "--------\n",
            "args: ()\n",
            "kwargs: {'score': 100, 'name': 'leehojun', 'age': '10'}\n",
            "--------\n",
            "args: (100, True, 'leehojun')\n",
            "kwargs: {'score': 100, 'name': 'leehojun', 'age': '10'}\n"
          ]
        }
      ]
    },
    {
      "cell_type": "markdown",
      "source": [
        "# 4. 이터레이터와 제너레이터\n",
        "- 이터레이터란, 값을 차례대로 꺼낼 수 있는 객체를 의미합니다. 파이썬에서 이터레이터 객체를 생성하기 위해 __iter__와 __next__ 두 가지 매직 메서드를 구현해야 합니다.\n",
        "- 제너레이터는 이터레이터를 만드는 함수\n",
        "- !!!! dict의 경우 이터레이터는 맞지만(for문 사용 가능) 시퀀스형 자료형은 아님. (시퀀스형 자료형이란? index가 있고 인덱싱과 슬라이싱이 가능한 자료형)"
      ],
      "metadata": {
        "id": "qwyiV6USZcvu"
      }
    },
    {
      "cell_type": "markdown",
      "source": [
        "## 4.1. 이터레이터의 기본 구조\n",
        "\n",
        "이터레이터 클래스를 생성할 때는 반드시 **`__iter__`**와 **`__next__`** 매직 메서드를 정의해야 합니다.\n",
        "\n",
        "**`__iter__`**매직 메서드는 이터레이터 객체 자신을 반환합니다. 이는 **`for`** 루프 등이 이터레이터를 초기화할 수 있게 합니다.\n",
        "\n",
        "**`__next__`**매직 메서드는 순회를 할 때 값을 하나씩 반환합니다. 더 이상 반환할 값이 없을 때는 **`StopIteration`** 예외를 발생시켜 순회가 끝났음을 알립니다.\n",
        "\n",
        "아래는 간단한 이터레이터 예제입니다."
      ],
      "metadata": {
        "id": "visrxaSOaHyH"
      }
    },
    {
      "cell_type": "code",
      "source": [
        "class MyIterator:\n",
        "    def __init__(self, stop):\n",
        "        self.current_value = 0  # 현재 값\n",
        "        self.stop = stop  # 순회를 멈출 값\n",
        "\n",
        "    def __iter__(self):\n",
        "        return self\n",
        "\n",
        "    def __next__(self):\n",
        "        if self.current_value >= self.stop:\n",
        "            raise StopIteration\n",
        "        result = self.current_value\n",
        "        self.current_value += 1\n",
        "        return result\n",
        "\n",
        "my_iterator = MyIterator(5)\n",
        "\n",
        "for i in my_iterator:\n",
        "    print(i)"
      ],
      "metadata": {
        "colab": {
          "base_uri": "https://localhost:8080/"
        },
        "id": "oPyDCqDzYUlK",
        "outputId": "c6791371-132e-4df1-f3e4-7a2a19769fc4"
      },
      "execution_count": 56,
      "outputs": [
        {
          "output_type": "stream",
          "name": "stdout",
          "text": [
            "0\n",
            "1\n",
            "2\n",
            "3\n",
            "4\n"
          ]
        }
      ]
    },
    {
      "cell_type": "markdown",
      "source": [
        "## 4.2. 제너레이터(Generator)\n",
        "제너레이터는 이터레이터를 생성해주는 함수로, **`yield`** 키워드를 사용하여 만듭니다. 제너레이터는 함수 실행 중간에 값을 반환할 수 있고, 이후에 함수의 실행을 계속할 수 있는 특징을 가지고 있습니다. 이를 통해 메모리를 효율적으로 관리하며, 코드의 가독성을 향상시킬 수 있습니다."
      ],
      "metadata": {
        "id": "TxXJJ08Hb0BA"
      }
    },
    {
      "cell_type": "markdown",
      "source": [
        "### 4.2.1. 기본 제너레이터\n",
        "이 예제에서, **`my_generator`** 함수는 x에서 할당 받은 값을 `yield`로 `i` 값으로 넘겨주고 다시 호출될 때까지 대기하게 됩니다. 이를 통해 넘겨주는 값이 없을 때까지 순회하며 출력할 수 있습니다."
      ],
      "metadata": {
        "id": "D4NYfu98b8aN"
      }
    },
    {
      "cell_type": "code",
      "source": [
        "def my_generator():\n",
        "    x = 10\n",
        "    yield x\n",
        "    x = 20\n",
        "    yield x\n",
        "    x = 30\n",
        "    yield x\n",
        "    return # 리턴값이 있기 때문에 출력 멈춤\n",
        "    x = 40\n",
        "    yield x\n",
        "\n",
        "for i in my_generator():\n",
        "    print(i)\n",
        "\n",
        "list(zip('hello', my_generator())) # <- my_generator() 는 [10, 20, 30]이나 마찬가지"
      ],
      "metadata": {
        "colab": {
          "base_uri": "https://localhost:8080/"
        },
        "id": "TSXU4689aNx3",
        "outputId": "1df0d57e-3cd0-4504-f28c-b70da460ea0f"
      },
      "execution_count": 62,
      "outputs": [
        {
          "output_type": "stream",
          "name": "stdout",
          "text": [
            "10\n",
            "20\n",
            "30\n"
          ]
        },
        {
          "output_type": "execute_result",
          "data": {
            "text/plain": [
              "[('h', 10), ('e', 20), ('l', 30)]"
            ]
          },
          "metadata": {},
          "execution_count": 62
        }
      ]
    },
    {
      "cell_type": "code",
      "source": [
        "def my_generator(data):\n",
        "    for i in data:\n",
        "        yield i\n",
        "\n",
        "my_list = [10, 20, 30, 40]\n",
        "my_iterator = my_generator(my_list)\n",
        "\n",
        "for i in my_iterator:\n",
        "    print(i)"
      ],
      "metadata": {
        "colab": {
          "base_uri": "https://localhost:8080/"
        },
        "id": "2xyy8crKcAfH",
        "outputId": "9230913f-a89c-48de-b81e-3060e54d245e"
      },
      "execution_count": 58,
      "outputs": [
        {
          "output_type": "stream",
          "name": "stdout",
          "text": [
            "10\n",
            "20\n",
            "30\n",
            "40\n"
          ]
        }
      ]
    },
    {
      "cell_type": "markdown",
      "source": [
        "### 4.2.2. 무한 제너레이터\n",
        "\n",
        "이 예제에서, **`infinite_generator`** 함수는 무한 루프를 통해 무한한 시퀀스를 생성하는 제너레이터를 만듭니다. **`for`** 루프를 사용하여 이 제너레이터를 순회하면서 값을 출력할 수 있습니다. 무한 루프를 사용함에 따라, 조건을 만족하는 시점에서 **`break`**문을 사용하여 반복을 중단해야 합니다"
      ],
      "metadata": {
        "id": "WzxxZtQdcXXw"
      }
    },
    {
      "cell_type": "code",
      "source": [
        "def infinite_generator():\n",
        "    i = 0\n",
        "    while True:\n",
        "        yield i\n",
        "        i += 1\n",
        "\n",
        "my_iterator = infinite_generator()\n",
        "\n",
        "for i in my_iterator:\n",
        "    print(i)\n",
        "    if i >= 10: # 얘가 있어서 멈출 수 있어..\n",
        "        break"
      ],
      "metadata": {
        "colab": {
          "base_uri": "https://localhost:8080/"
        },
        "id": "gfFURDN2cGES",
        "outputId": "e4a52a71-6c71-4b86-8d41-9173d5c17d60"
      },
      "execution_count": 61,
      "outputs": [
        {
          "output_type": "stream",
          "name": "stdout",
          "text": [
            "0\n",
            "1\n",
            "2\n",
            "3\n",
            "4\n",
            "5\n",
            "6\n",
            "7\n",
            "8\n",
            "9\n",
            "10\n"
          ]
        }
      ]
    },
    {
      "cell_type": "markdown",
      "source": [
        "### 4.2.3. **제너레이터와 빌트인 함수의 조합**\n",
        "제너레이터는 **`zip`**, **`map`**, **`filter`**와 같은 파이썬의 빌트인 함수와 함께 사용하여 코드를 더 간결하고 효율적으로 만들 수 있습니다. 제너레이터를 활용하면, 빅 데이터를 처리하거나, 파일을 읽어올 때 메모리를 절약하면서도 풍부한 표현력을 유지할 수 있습니다.\n",
        "\n",
        "제너레이터와 이터레이터는 파이썬에서 유연한 코드를 작성할 수 있는 강력한 도구로, 여러분의 코드를 더욱 효율적이고 가독성 좋게 만들어 줍니다."
      ],
      "metadata": {
        "id": "CO1BZkILdJP-"
      }
    },
    {
      "cell_type": "code",
      "source": [
        "# 예시1\n",
        "def my_generator():\n",
        "    count = 1\n",
        "    while True:\n",
        "        yield count\n",
        "        count += 1\n",
        "list(zip(['A', 'B', 'C'], my_generator())) # 마치 enumerate처럼 사용"
      ],
      "metadata": {
        "colab": {
          "base_uri": "https://localhost:8080/"
        },
        "id": "fZFaJYZecb58",
        "outputId": "9ca077ad-da38-46a7-b0f8-8dab14833679"
      },
      "execution_count": 63,
      "outputs": [
        {
          "output_type": "execute_result",
          "data": {
            "text/plain": [
              "[('A', 1), ('B', 2), ('C', 3)]"
            ]
          },
          "metadata": {},
          "execution_count": 63
        }
      ]
    },
    {
      "cell_type": "code",
      "source": [
        "# 예시2 <- 얘는 좀 유용해보인다!\n",
        "def my_generator1():\n",
        "    l = ['짝', '홀']\n",
        "    while True:\n",
        "        yield l[t := False] # 3.8버전 문법. 바다코끼리(왈러스) 연산자\n",
        "        yield l[t := True]\n",
        "\n",
        "list(zip([0, 1, 2, 3, 4, 5, 6], my_generator1()))\n",
        "\n",
        "# 위랑 같은 코드 조건문 ver\n",
        "def my_generator2():\n",
        "    x = 0\n",
        "    while True:\n",
        "        if x == 0:\n",
        "            yield '짝'\n",
        "            x += 1\n",
        "        else:\n",
        "            yield '홀'\n",
        "            x == 0\n",
        "\n",
        "list(zip([0, 1, 2, 3, 4, 5, 6], my_generator2()))"
      ],
      "metadata": {
        "colab": {
          "base_uri": "https://localhost:8080/"
        },
        "id": "LQtROC5rdNNn",
        "outputId": "8dc24012-11e2-4f99-a4b4-2aee39c7d8c8"
      },
      "execution_count": 72,
      "outputs": [
        {
          "output_type": "execute_result",
          "data": {
            "text/plain": [
              "[(0, '짝'), (1, '홀'), (2, '홀'), (3, '홀'), (4, '홀'), (5, '홀'), (6, '홀')]"
            ]
          },
          "metadata": {},
          "execution_count": 72
        }
      ]
    },
    {
      "cell_type": "markdown",
      "source": [
        "# 5. nonlocal\n",
        "`nonlocal`은 파이썬의 키워드 중 하나로, 중첩 함수 내부에서 바깥 함수의 변수를 참조할 수 있게 합니다. `nonlocal`은 주로 클로저(closure)에서 변수의 값을 변경하고자 할 때 사용합니다."
      ],
      "metadata": {
        "id": "8RuB6DG4ffjy"
      }
    },
    {
      "cell_type": "code",
      "source": [
        "# 아래 코드는 함수가 3개 중첩되어 있습니다.\n",
        "# fff 함수에서 만약 전역 변수 a를 참조하고 싶다면 global a를,\n",
        "# 자신을 감싸고 있는 바로 위에 함수를 참조하고 싶다면 nonlocal a를 사용합니다.\n",
        "\n",
        "# nonlocal\n",
        "a = 10\n",
        "def f():\n",
        "    a = 100\n",
        "    print(f'f a: {a}')\n",
        "    def ff():\n",
        "        a = 1000\n",
        "        print(f'ff a: {a}')\n",
        "        def fff():\n",
        "            nonlocal a # global a로 변경해보세요.\n",
        "            a = 100\n",
        "            print(f'fff a: {a}')\n",
        "        fff()\n",
        "        print(f'ff a: {a}')\n",
        "    ff()\n",
        "f()\n",
        "print(f'global a: {a}')"
      ],
      "metadata": {
        "colab": {
          "base_uri": "https://localhost:8080/"
        },
        "id": "y_LG06gQdP4P",
        "outputId": "8422a610-ae4a-495e-cccf-035ae8869a0d"
      },
      "execution_count": 75,
      "outputs": [
        {
          "output_type": "stream",
          "name": "stdout",
          "text": [
            "f a: 100\n",
            "ff a: 1000\n",
            "fff a: 100\n",
            "ff a: 100\n",
            "global a: 10\n"
          ]
        }
      ]
    },
    {
      "cell_type": "code",
      "source": [
        "# 내 질문!\n",
        "# nonlocal은 한 단계 위의 변수만 가져올 수 있나요?\n",
        "# 만약에 fff에서 f의 a값을 가져오고 싶다면 ff에 a_ 같은 변수를 할당해서 가져오는 수 밖에 없겠네요\n",
        "# -> 답변 : 만약에 ff에 a가 없다면 그 위로 타고 올라감! 이것을 '스코프 체이닝' 이라고 한다.\n",
        "\n",
        "a = 10\n",
        "def f():\n",
        "    a = 100\n",
        "    print(f'f a: {a}')\n",
        "    def ff():\n",
        "        print(f'ff a: {a}')\n",
        "        def fff():\n",
        "            nonlocal a # global a로 변경해보세요.\n",
        "            a = 200\n",
        "        fff()\n",
        "    ff()\n",
        "    print(f'f a2: {a}')\n",
        "f()\n",
        "print(f'global a: {a}')"
      ],
      "metadata": {
        "colab": {
          "base_uri": "https://localhost:8080/"
        },
        "id": "D7zg52vFfn6k",
        "outputId": "cfbc0e85-2289-4c0c-8d60-f3516f1e5829"
      },
      "execution_count": 79,
      "outputs": [
        {
          "output_type": "stream",
          "name": "stdout",
          "text": [
            "f a: 100\n",
            "ff a: 100\n",
            "f a2: 200\n",
            "global a: 10\n"
          ]
        }
      ]
    },
    {
      "cell_type": "markdown",
      "source": [
        "# 6. 모듈 ****(중요도 높음)\n",
        "**모듈이란 클래스나 함수, 변수를 다른 파일(.py)에 작성**하여 다른 파이썬 코드에서 재사용할 수 있도록 한 것입니다.\n",
        "\n",
        "모듈은 한 번 작성한 코드를 여러 프로젝트나 여러 곳에서 사용할 수 있기 때문에 재사용성이 높고, 유지보수하기도 쉽습니다. 또한 모듈은 자체의 네임스페이스를 갖기 때문에, 모듈간에 같은 변수가 있다고 하더라도 충돌 없이 코드를 구조화 할 수 있습니다.\n",
        "\n",
        "파이썬은 import 를 활용하여 모듈을 불러올 수 있습니다."
      ],
      "metadata": {
        "id": "eLXIGgZUhY2e"
      }
    },
    {
      "cell_type": "code",
      "source": [
        "import info # info.py를 가져오겠다!\n",
        "\n",
        "info.name\n",
        "info.age\n",
        "info.hello()"
      ],
      "metadata": {
        "id": "ZAVLtzrVhAnh"
      },
      "execution_count": null,
      "outputs": []
    },
    {
      "cell_type": "code",
      "source": [
        "import infotest as q # info라는 이름 대신 q\n",
        "\n",
        "q.name\n",
        "q.age\n",
        "q.hello()"
      ],
      "metadata": {
        "id": "kB2JjuUfiakN"
      },
      "execution_count": null,
      "outputs": []
    },
    {
      "cell_type": "code",
      "source": [
        "# 정말 많이 사용하는 코드\n",
        "# 관습처럼 사용합니다.\n",
        "import pandas as pd\n",
        "import numpy as np"
      ],
      "metadata": {
        "id": "B5HOMjY7ipm2"
      },
      "execution_count": null,
      "outputs": []
    },
    {
      "cell_type": "code",
      "source": [
        "# 폴더 디렉토리 접근해 infotest.py import\n",
        "# 현재폴더는 .infotest 요런식으로 접근\n",
        "import a.b.c.infotest as q\n",
        "\n",
        "q.name"
      ],
      "metadata": {
        "colab": {
          "base_uri": "https://localhost:8080/",
          "height": 35
        },
        "id": "KityIXDZz9g5",
        "outputId": "28a07e30-4056-48c7-e806-91562c99bfb7"
      },
      "execution_count": 80,
      "outputs": [
        {
          "output_type": "execute_result",
          "data": {
            "text/plain": [
              "'yes'"
            ],
            "application/vnd.google.colaboratory.intrinsic+json": {
              "type": "string"
            }
          },
          "metadata": {},
          "execution_count": 80
        }
      ]
    },
    {
      "cell_type": "code",
      "source": [
        "# 이런식으로도 불러올 수 있음.\n",
        "# 여러 모듈을 사용하는 실무의 경우 선호되지 않음.\n",
        "from a.b.c.infotest import name\n",
        "\n",
        "print(name)"
      ],
      "metadata": {
        "colab": {
          "base_uri": "https://localhost:8080/"
        },
        "id": "HAohODjN2H1b",
        "outputId": "965b9b52-2dde-4569-efd0-3d7e7796432a"
      },
      "execution_count": 83,
      "outputs": [
        {
          "output_type": "stream",
          "name": "stdout",
          "text": [
            "yes\n"
          ]
        }
      ]
    },
    {
      "cell_type": "code",
      "source": [
        "import sys\n",
        "\n",
        "sys.path # 모듈을 읽어오는 경로\n",
        "sys.modules # 기본적으로 읽어온 모듈들"
      ],
      "metadata": {
        "id": "i1czenS_0FJx"
      },
      "execution_count": null,
      "outputs": []
    },
    {
      "cell_type": "markdown",
      "source": [
        "- 모듈(module) : 변수, 함수, 클래스를 담고 있는 파일\n",
        "- 패키지(package) : 여러 모듈을 묶은 집합\n",
        "- 라이브러리 : 내가 짠 코드가 메인! ex_ request, bs4\n",
        "- 프레임워크 : 설계 도면이 정해져있어서 내가 거기 맞춰야 함. ex_ 장고\n",
        "- 써드파티 : 프레임워크를 확장하는 코드. ex_ 장고 로그인, DRF, 장고-cors"
      ],
      "metadata": {
        "id": "WpcGTjPb4RcC"
      }
    },
    {
      "cell_type": "markdown",
      "source": [
        "## 자주 사용되는 모듈"
      ],
      "metadata": {
        "id": "zATfDNB_5Qiz"
      }
    },
    {
      "cell_type": "code",
      "source": [
        "import os\n",
        "\n",
        "# 장고 3.x대에서는 os모듈 빠짐\n",
        "# os모듈 대신 Path(from pathlib import Path)라는 모듈이 들어왔음\n",
        "# 왜냐면.. os모듈 너무 강력하고 리눅스에 최적화 되어있어서 윈도우에선 에러가 가끔 남.\n",
        "\n",
        "os.mkdir('licat') # licat이란 폴더 생성, 삭제는 os.rmdir()\n",
        "os.getcwd() # 현재 경로 반환\n",
        "os.open('a.txt', os.O_CREAT | os.O_WRONLY) # 파일 생성(os.O_CREAT: 필요한 경우 파일을 생성, os.O_WRONLY: 파일을 쓰기 전용 모드로 연다.)\n",
        "os.rename('a.txt', 'b.txt') # a.txt파일을 b.txt파일로 변경\n",
        "os.remove('b.txt')"
      ],
      "metadata": {
        "id": "FMHNKmlW2MuQ"
      },
      "execution_count": null,
      "outputs": []
    },
    {
      "cell_type": "code",
      "source": [
        "import math\n",
        "\n",
        "math.pi"
      ],
      "metadata": {
        "colab": {
          "base_uri": "https://localhost:8080/"
        },
        "id": "xnheiM0O6qKg",
        "outputId": "500da108-dd87-4c22-a47f-d0b63b53db2b"
      },
      "execution_count": 86,
      "outputs": [
        {
          "output_type": "execute_result",
          "data": {
            "text/plain": [
              "3.141592653589793"
            ]
          },
          "metadata": {},
          "execution_count": 86
        }
      ]
    },
    {
      "cell_type": "code",
      "source": [
        "import datetime\n",
        "\n",
        "s = datetime.datetime(2023, 9, 19, 14, 10)\n",
        "print(s)\n",
        "print(s.year, s.month, s.day, s.hour, s.minute)\n",
        "\n",
        "s = datetime.datetime(2023, 9, 18, 14, 10)\n",
        "print(s.weekday()) # 월요일0, 화요일1, 수요일2 ... 일요일6\n",
        "\n",
        "today = datetime.date.today()\n",
        "days = datetime.timedelta(days=100)\n",
        "today + days # 100일 후 시간\n",
        "\n",
        "graduation_date = datetime.date(2023, 12, 29)\n",
        "today = datetime.date.today()\n",
        "\n",
        "print(graduation_date - today) # 졸업까지 남은 일자"
      ],
      "metadata": {
        "colab": {
          "base_uri": "https://localhost:8080/"
        },
        "id": "JeBivLlt6tax",
        "outputId": "bc8beeb5-e15a-48f5-c3e0-40dfbaa09551"
      },
      "execution_count": 87,
      "outputs": [
        {
          "output_type": "stream",
          "name": "stdout",
          "text": [
            "2023-09-19 14:10:00\n",
            "2023 9 19 14 10\n",
            "0\n",
            "-19 days, 0:00:00\n"
          ]
        }
      ]
    },
    {
      "cell_type": "code",
      "source": [
        "import json\n",
        "\n",
        "d = {\n",
        "    'one': 1,\n",
        "    'two': 2,\n",
        "    'three': 3\n",
        "}\n",
        "\n",
        "s = json.dumps(d) # python 자료형을 string 자료형으로 변경(직렬화)\n",
        "print(s) # str\n",
        "print(type(s)) # str\n",
        "d = json.loads(s) # string 자료형을 python 자료형으로 변경(역직렬화)\n",
        "print(d) # dict\n",
        "print(type(d)) # dict"
      ],
      "metadata": {
        "colab": {
          "base_uri": "https://localhost:8080/"
        },
        "id": "CviJY17X6nMb",
        "outputId": "14db13bc-bc12-45f1-f5d4-e46d5f78e3c8"
      },
      "execution_count": 90,
      "outputs": [
        {
          "output_type": "stream",
          "name": "stdout",
          "text": [
            "{\"one\": 1, \"two\": 2, \"three\": 3}\n",
            "<class 'str'>\n",
            "{'one': 1, 'two': 2, 'three': 3}\n",
            "<class 'dict'>\n"
          ]
        }
      ]
    },
    {
      "cell_type": "code",
      "source": [
        "import collections\n",
        "# 회전초밥, 선입선출같은 알고리즘 문제에서 아주 개꿀임~\n",
        "\n",
        "d = collections.deque([1, 2, 3, 4])\n",
        "d.rotate(1) # 1번 오른쪽으로 쉬프트 합니다. 숫자를 2로 바꾸어 비교해보세요.\n",
        "d # 출력: deque([4, 1, 2, 3])\n",
        "\n",
        "c = collections.Counter('hello world')\n",
        "c # 출력: Counter({'h': 1, 'e': 1, 'l': 3, 'o': 2, ' ': 1, 'w': 1, 'r': 1, 'd': 1})\n",
        "c.most_common()\n",
        "# 출력:\n",
        "'''\n",
        "[('l', 3),\n",
        " ('o', 2),\n",
        " ('h', 1),\n",
        " ('e', 1),\n",
        " (' ', 1),\n",
        " ('w', 1),\n",
        " ('r', 1),\n",
        " ('d', 1)]\n",
        "'''"
      ],
      "metadata": {
        "colab": {
          "base_uri": "https://localhost:8080/",
          "height": 35
        },
        "id": "LmCtXcEM6nds",
        "outputId": "01edf06c-071f-432e-fff0-4e6d80382a6c"
      },
      "execution_count": 88,
      "outputs": [
        {
          "output_type": "execute_result",
          "data": {
            "text/plain": [
              "\"\\n[('l', 3),\\n ('o', 2),\\n ('h', 1),\\n ('e', 1),\\n (' ', 1),\\n ('w', 1),\\n ('r', 1),\\n ('d', 1)]\\n\""
            ],
            "application/vnd.google.colaboratory.intrinsic+json": {
              "type": "string"
            }
          },
          "metadata": {},
          "execution_count": 88
        }
      ]
    },
    {
      "cell_type": "code",
      "source": [
        "import requests\n",
        "from bs4 import BeautifulSoup\n",
        "\n",
        "paullab_url = 'https://paullab.co.kr/bookservice/'\n",
        "response = requests.get(paullab_url)\n",
        "response.encoding = 'utf-8'\n",
        "html = response.text\n",
        "\n",
        "soup = BeautifulSoup(html, 'html.parser')\n",
        "\n",
        "bookservices = soup.select('.col-lg-6 > h2') # col-lg-6 클래스 안의 h2 태그 탐색\n",
        "for no, book in enumerate(bookservices, 1):\n",
        "    print(no, book.text)"
      ],
      "metadata": {
        "colab": {
          "base_uri": "https://localhost:8080/"
        },
        "id": "XWpOU9w16wPD",
        "outputId": "0f6d7d6a-0c1d-4e72-89ab-531fdb455bfa"
      },
      "execution_count": 89,
      "outputs": [
        {
          "output_type": "stream",
          "name": "stdout",
          "text": [
            "1 메모혁신 Notion(노션) 활용 가이드\n",
            "2 이력서 작성 가이드\n",
            "3 제주코딩베이스캠프 Code Festival: Python 100제 1부\n",
            "4 튜토리얼로 배우는 HTML&CSS\n",
            "5 코딩도장 튜토리얼로 배우는 Python 1편 object\n",
            "6 코딩도장 튜토리얼로 배우는 python 2편 제어문\n",
            "7 코딩도장 튜토리얼로 배우는 Python 문제풀이\n",
            "8 타노스의 건틀릿 알고리즘 With Python\n",
            "9 xlsxwriter 튜토리얼로 배우는 Python 엑셀 프로그래밍\n",
            "10 러플 튜토리얼로 배우는 Python\n",
            "11 인공지능을 활용한 업무자동화 With Google Developers Group JEJU\n"
          ]
        }
      ]
    },
    {
      "cell_type": "code",
      "source": [
        "# html로 뽑기\n",
        "s = ''\n",
        "bookservices = soup.select('.col-lg-6 > h2') # col-lg-6 클래스 안의 h2 태그 탐색\n",
        "bookcover = soup.select('.book_cover')\n",
        "\n",
        "for no, book in enumerate(zip(bookservices, bookcover), 1):\n",
        "    s += f'<h2>{no}. {book[0].text}</h2><img width=\"100px\" src=\"https://paullab.co.kr/bookservice/{book[1][\"src\"]}\"/>'\n",
        "\n",
        "with open('test.html', 'w') as f:\n",
        "    f.write(s)"
      ],
      "metadata": {
        "id": "rS-D620F6-uD"
      },
      "execution_count": 91,
      "outputs": []
    },
    {
      "cell_type": "code",
      "source": [
        "# csv로 뽑기\n",
        "s = ''\n",
        "bookservices = soup.select('.col-lg-6 > h2') # col-lg-6 클래스 안의 h2 태그 탐색\n",
        "bookcover = soup.select('.book_cover')\n",
        "\n",
        "for no, book in enumerate(zip(bookservices, bookcover), 1):\n",
        "    s += f'{no}, {book[0].text}, \"https://paullab.co.kr/bookservice/{book[1][\"src\"]}\"\\n'\n",
        "\n",
        "with open('test.csv', 'w') as f:\n",
        "    f.write(s)"
      ],
      "metadata": {
        "id": "e2wHASt8GP5t"
      },
      "execution_count": 92,
      "outputs": []
    },
    {
      "cell_type": "code",
      "source": [
        "# json로 뽑기\n",
        "# 실제로 쓰려면 \\' \\\" 붙여줘야 함.\n",
        "s = '['\n",
        "bookservices = soup.select('.col-lg-6 > h2') # col-lg-6 클래스 안의 h2 태그 탐색\n",
        "bookcover = soup.select('.book_cover')\n",
        "\n",
        "for no, book in enumerate(zip(bookservices, bookcover), 1):\n",
        "    s += f'{{number: {no}, bookname: {book[0].text}}},'\n",
        "\n",
        "s = s[:-1] + ']'\n",
        "s\n",
        "\n",
        "with open('test.json', 'w') as f:\n",
        "    f.write(s)"
      ],
      "metadata": {
        "id": "BuN7-hvGGY6w"
      },
      "execution_count": null,
      "outputs": []
    },
    {
      "cell_type": "markdown",
      "source": [
        "# 오늘의 문제\n",
        "데코레이터 문제: 1부터 100까지 더하는 함수를 만들고 이 함수에 데코레이터를 실행시켜 몇 초가 걸리는지 확인해주세요. 아래 힌트 코드 입니다.\n",
        "```python\n",
        "import time\n",
        "\n",
        "def time_decorator(func):\n",
        "    def wrapper():\n",
        "        start_time = time.time()\n",
        "        result = func()\n",
        "        end_time = time.time()\n",
        "        print(f\"함수가 {end_time - start_time} 초가 걸렸습니다.\")\n",
        "        return result\n",
        "    return wrapper\n",
        "```"
      ],
      "metadata": {
        "id": "yajtTQ5bHeCZ"
      }
    },
    {
      "cell_type": "code",
      "source": [
        "import time\n",
        "\n",
        "def time_decorator(func):\n",
        "    def wrapper():\n",
        "        start_time = time.time()\n",
        "        result = func()\n",
        "        end_time = time.time()\n",
        "        print(f\"함수가 {end_time - start_time} 초가 걸렸습니다.\")\n",
        "        return result\n",
        "    return wrapper\n",
        "\n",
        "@time_decorator\n",
        "def total1to100():\n",
        "    return sum([i for i in range(1, 101)])\n",
        "\n",
        "total1to100()"
      ],
      "metadata": {
        "colab": {
          "base_uri": "https://localhost:8080/"
        },
        "id": "Zo0g-yckQQsA",
        "outputId": "cf5372f7-1ef9-414b-e31b-d867d7286a3f"
      },
      "execution_count": 101,
      "outputs": [
        {
          "output_type": "stream",
          "name": "stdout",
          "text": [
            "함수가 1.3113021850585938e-05 초가 걸렸습니다.\n"
          ]
        },
        {
          "output_type": "execute_result",
          "data": {
            "text/plain": [
              "5050"
            ]
          },
          "metadata": {},
          "execution_count": 101
        }
      ]
    },
    {
      "cell_type": "markdown",
      "source": [
        "제너레이터 문제: 0부터 시작하여, 매 호출 시마다 2씩 증가하는 값을 반환하는 제너레이터 함수를 작성하세요. 100이 되면 멈춰야 합니다.\n",
        "```python\n",
        "for i in gen():\n",
        "    print(i)\n",
        "```"
      ],
      "metadata": {
        "id": "wcPCXfosQKuN"
      }
    },
    {
      "cell_type": "code",
      "source": [
        "def gen():\n",
        "    for x in range(0, 101, 2):\n",
        "        yield x\n",
        "\n",
        "for i in gen():\n",
        "    print(i)"
      ],
      "metadata": {
        "id": "XKD4LPkbRFnc"
      },
      "execution_count": null,
      "outputs": []
    },
    {
      "cell_type": "markdown",
      "source": [
        "예외처리 문제: 사용자로부터 두 개의 숫자를 입력받아 나눗셈을 수행하는 함수를 작성하세요. 이 때 0으로 나눌 때에는 예외처리를 해주세요.\n",
        "```python\n",
        "def divide(x, y):\n",
        "    return x / y\n",
        "```"
      ],
      "metadata": {
        "id": "flb30F8HQNla"
      }
    },
    {
      "cell_type": "code",
      "source": [
        "def divide(x, y):\n",
        "    try:\n",
        "        return x / y\n",
        "    except ZeroDivisionError:\n",
        "        print(\"0으로 나눌 수 없습니다!\")\n",
        "\n",
        "divide(3, 0)"
      ],
      "metadata": {
        "colab": {
          "base_uri": "https://localhost:8080/"
        },
        "id": "VkMwOsO5Hf2V",
        "outputId": "a72fcc93-5847-42d5-d45f-2b70a47b6fe2"
      },
      "execution_count": 116,
      "outputs": [
        {
          "output_type": "stream",
          "name": "stdout",
          "text": [
            "0으로 나눌 수 없습니다!\n"
          ]
        }
      ]
    },
    {
      "cell_type": "code",
      "source": [],
      "metadata": {
        "id": "Ev5x36rgR_ot"
      },
      "execution_count": null,
      "outputs": []
    }
  ]
}