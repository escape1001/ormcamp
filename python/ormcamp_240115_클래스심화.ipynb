{
  "nbformat": 4,
  "nbformat_minor": 0,
  "metadata": {
    "colab": {
      "provenance": [],
      "authorship_tag": "ABX9TyNSN7aRBld8TtpCQrSSpcVv",
      "include_colab_link": true
    },
    "kernelspec": {
      "name": "python3",
      "display_name": "Python 3"
    },
    "language_info": {
      "name": "python"
    }
  },
  "cells": [
    {
      "cell_type": "markdown",
      "metadata": {
        "id": "view-in-github",
        "colab_type": "text"
      },
      "source": [
        "<a href=\"https://colab.research.google.com/github/escape1001/ormcamp/blob/main/python/ormcamp_240115_%ED%81%B4%EB%9E%98%EC%8A%A4%EC%8B%AC%ED%99%94.ipynb\" target=\"_parent\"><img src=\"https://colab.research.google.com/assets/colab-badge.svg\" alt=\"Open In Colab\"/></a>"
      ]
    },
    {
      "cell_type": "markdown",
      "source": [
        "# 클래스 정권지르기"
      ],
      "metadata": {
        "id": "VT5Grqd9gVB9"
      }
    },
    {
      "cell_type": "code",
      "execution_count": 13,
      "metadata": {
        "colab": {
          "base_uri": "https://localhost:8080/",
          "height": 35
        },
        "id": "nBtcyUkPgNy1",
        "outputId": "3d85f9ee-12b6-4456-95bd-37379dda584b"
      },
      "outputs": [
        {
          "output_type": "execute_result",
          "data": {
            "text/plain": [
              "'2024/10/01/15/24'"
            ],
            "application/vnd.google.colaboratory.intrinsic+json": {
              "type": "string"
            }
          },
          "metadata": {},
          "execution_count": 13
        }
      ],
      "source": [
        "from datetime import datetime\n",
        "\n",
        "datetime.now()\n",
        "datetime.now().date()\n",
        "datetime.now().year\n",
        "datetime.now().month\n",
        "datetime.now().day\n",
        "datetime.now().hour\n",
        "datetime.now().minute\n",
        "\n",
        "d = datetime.now()\n",
        "print(f'{d.year}/{d.month}/{d.day}') # 가볍게 사용하긴 좋지만, 날짜나 시간은 타입이 있습니다.\n",
        "\n",
        "d.strftime(\"올해 연도는 %Y!!\")\n",
        "d.strftime(\"%Y/%M/%D\")\n",
        "d.strftime(\"%y/%m/%d\") # 가장 많이 사용하는 date format"
      ]
    },
    {
      "cell_type": "code",
      "source": [
        "from datetime import datetime\n",
        "import re\n",
        "import hashlib\n",
        "\n",
        "class User:\n",
        "    user_count = 0\n",
        "    gender = (\"female\", \"male\") # 왜지.. 왜 선택지를 class로 주지..\n",
        "\n",
        "    def __init__(self, name, created_at, gender, age, email, password):\n",
        "        self.created_at = created_at\n",
        "        self.updated_at = created_at\n",
        "        self.name = name\n",
        "        self.gender = gender\n",
        "        self.age = age\n",
        "        self.email = email\n",
        "        # self.password = password # 실무에서 이렇게 쓰면 죽음뿐.\n",
        "        self.password = self._hash_password(password)\n",
        "\n",
        "        # 장고에서는 SHA256 알고리즘으로 암호화 함. 예전에 쓰던 MD5는 뚫려버렸어~\n",
        "        # SHA256의 경우 뭘 넣어도 글자수가 똑같이 나오고, 복호화(암호화 푸는거)가 안됨\n",
        "        # + salt 붙여서 더 추정을 어렵게 함.\n",
        "        # 로그인 할 때 친 비번 해시해서 DB에 저장된 해시랑 대조해서 확인하는 원리.\n",
        "\n",
        "    def _hash_password(self, password):\n",
        "        return hashlib.sha256(password.encode()).hexdigest()\n",
        "\n",
        "    def chage_password(self, password):\n",
        "        self.password = password\n",
        "        self.updated_at = datetime.now().strftime(\"%Y/%m/%d\")\n",
        "\n",
        "    def update_email(self, email):\n",
        "        self.email = email\n",
        "        self.updated_at = datetime.now().strftime(\"%Y/%m/%d\")\n",
        "\n",
        "    def display_profile(self):\n",
        "        print(f\"name: {self.name}\")\n",
        "        print(f\"created_at: {self.created_at}\")\n",
        "        print(f\"updated_at: {self.updated_at}\")\n",
        "\n",
        "    def __str__(self):\n",
        "        return self.name\n",
        "\n",
        "    def __repr__(self):\n",
        "        return self.name\n",
        "\n",
        "\n",
        "user1 = User('user1', datetime.now().strftime(\"%Y/%m/%d\"), \"female\", 30, \"test@test.com\", \"testtt\")\n",
        "user1.updated_at\n",
        "\n",
        "User.user_count = 1\n",
        "\n",
        "user2 = User('user2', datetime.now().strftime(\"%Y/%m/%d\"), \"male\", 32, \"test2@test.com\", \"testtt\")\n",
        "user2.user_count\n",
        "\n",
        "print(user2.password)\n",
        "print(user1.password)"
      ],
      "metadata": {
        "colab": {
          "base_uri": "https://localhost:8080/"
        },
        "id": "tQdzfO32gbpp",
        "outputId": "f2bc7364-1d9f-4323-fead-069e2083c195"
      },
      "execution_count": 25,
      "outputs": [
        {
          "output_type": "stream",
          "name": "stdout",
          "text": [
            "0991f50165ea9a626e86ae12845939415f154001ce4154f0b60aca47f5230c12\n",
            "0991f50165ea9a626e86ae12845939415f154001ce4154f0b60aca47f5230c12\n"
          ]
        }
      ]
    },
    {
      "cell_type": "code",
      "source": [
        "class Cart:\n",
        "    def __init__(self):\n",
        "        self.items = []\n",
        "\n",
        "    def add_item(self, item, count):\n",
        "        self.items.append({\n",
        "            '물품': item,\n",
        "            '갯수': count,\n",
        "        })\n",
        "\n",
        "    def total_price(self):\n",
        "        res = sum([i[\"물품\"].price * i[\"갯수\"] for i in self.items])\n",
        "        return format(res, ',')\n",
        "\n",
        "class Product:\n",
        "    def __init__(self, product_name, price):\n",
        "        self.product_name = product_name\n",
        "        self.price = price\n",
        "\n",
        "    def __str__(self):\n",
        "        return self.product_name\n",
        "\n",
        "    def __repr__(self):\n",
        "        return self.product_name\n",
        "\n",
        "키보드 = Product('키보드', 50000)\n",
        "모니터 = Product('모니터', 300000)\n",
        "그래픽카드 = Product('그래픽카드', 500000)\n",
        "\n",
        "내카트 = Cart()\n",
        "내카트.add_item(키보드, 10)\n",
        "내카트.add_item(모니터, 5)\n",
        "내카트.add_item(그래픽카드, 2)\n",
        "\n",
        "\n",
        "print(내카트.total_price())"
      ],
      "metadata": {
        "colab": {
          "base_uri": "https://localhost:8080/",
          "height": 35
        },
        "id": "XLLlmUhamQDs",
        "outputId": "0bfe4291-d20c-4bc3-b00d-23926d90674b"
      },
      "execution_count": 49,
      "outputs": [
        {
          "output_type": "execute_result",
          "data": {
            "text/plain": [
              "'3,000,000'"
            ],
            "application/vnd.google.colaboratory.intrinsic+json": {
              "type": "string"
            }
          },
          "metadata": {},
          "execution_count": 49
        }
      ]
    },
    {
      "cell_type": "markdown",
      "source": [
        "# 이론"
      ],
      "metadata": {
        "id": "DbaL184OzJVG"
      }
    },
    {
      "cell_type": "markdown",
      "source": [
        "## 1. 클래스 메서드와 정적(static) 메서드\n",
        "Python의 클래스에는 일반적인 인스턴스 메서드 외에도 클래스 메서드와 정적(static) 메서드라는 두 가지 특별한 유형의 메서드가 있습니다. 이들 메서드는 @classmethod 와 @staticmethod 데코레이터를 사용하여 정의됩니다."
      ],
      "metadata": {
        "id": "3MEF_V9_zauW"
      }
    },
    {
      "cell_type": "markdown",
      "source": [
        "### 1.1. 클래스 메서드 (@classmethod)"
      ],
      "metadata": {
        "id": "owf2pjQWzhVW"
      }
    },
    {
      "cell_type": "code",
      "source": [
        "class MyClass:\n",
        "    count = 0\n",
        "\n",
        "    @classmethod\n",
        "    def increment(cls): # cls는 고정임! self 같은 애.\n",
        "        cls.count += 1\n",
        "\n",
        "MyClass.increment()\n",
        "print(MyClass.count)  # 출력: 1"
      ],
      "metadata": {
        "colab": {
          "base_uri": "https://localhost:8080/"
        },
        "id": "N3QZpDOfw2s_",
        "outputId": "54b53e86-90ab-4b98-ec01-c406659a8070"
      },
      "execution_count": 45,
      "outputs": [
        {
          "output_type": "stream",
          "name": "stdout",
          "text": [
            "1\n"
          ]
        }
      ]
    },
    {
      "cell_type": "markdown",
      "source": [
        "### 1.2 정적(static) 메서드 (@staticmethod)"
      ],
      "metadata": {
        "id": "Ej9lU6qaz1ir"
      }
    },
    {
      "cell_type": "code",
      "source": [
        "# class 변수나 인스턴스 변수에 접근하지 않음.\n",
        "# self나 cls같은 특별한 첫번째 인자를 받지 않는다.\n",
        "class MyClass:\n",
        "    @staticmethod\n",
        "    def my_method(x, y):\n",
        "        return x + y\n",
        "\n",
        "print(MyClass.my_method(5, 3))  # 출력: 8"
      ],
      "metadata": {
        "colab": {
          "base_uri": "https://localhost:8080/"
        },
        "id": "W0qxahxVz2tf",
        "outputId": "a191c78a-e50a-4452-ac2e-fe64d49f868b"
      },
      "execution_count": 44,
      "outputs": [
        {
          "output_type": "stream",
          "name": "stdout",
          "text": [
            "8\n"
          ]
        }
      ]
    },
    {
      "cell_type": "markdown",
      "source": [
        "## 2. 속성 접근자와 덕 타이핑"
      ],
      "metadata": {
        "id": "mQBmYD9T0fXK"
      }
    },
    {
      "cell_type": "markdown",
      "source": [
        "### 2.1 속성 접근자 (Property)\n",
        "Python에서는 @property 데코레이터를 사용하여 클래스의 메서드를 속성처럼 접근할 수 있게 만들 수 있습니다. 이를 통해 객체의 내부 상태를 보호하고, 특정 속성에 대한 접근을 제어할 수 있습니다."
      ],
      "metadata": {
        "id": "88oLLTui0jA5"
      }
    },
    {
      "cell_type": "code",
      "source": [
        "# 요거 내가 위에서 내카트.total_price() 쓸 때 겪은거랑 같은 맥이다!\n",
        "class Person:\n",
        "    def __init__(self, first_name, last_name):\n",
        "        self._first_name = first_name\n",
        "        self._last_name = last_name\n",
        "\n",
        "    @property\n",
        "    def full_name(self):\n",
        "        return f'{self._first_name}{self._last_name}'\n",
        "\n",
        "licat = Person('li', 'cat')\n",
        "print(licat._first_name)\n",
        "print(licat._last_name)\n",
        "print(licat.full_name)\n",
        "# print(licat.full_name())"
      ],
      "metadata": {
        "colab": {
          "base_uri": "https://localhost:8080/"
        },
        "id": "mFKibgANz69N",
        "outputId": "5a1b5c2f-bc63-4772-f0b6-b8fb7639a3fa"
      },
      "execution_count": 46,
      "outputs": [
        {
          "output_type": "stream",
          "name": "stdout",
          "text": [
            "li\n",
            "cat\n",
            "licat\n"
          ]
        }
      ]
    },
    {
      "cell_type": "markdown",
      "source": [
        "### 2.2 덕 타이핑 (Duck typing)"
      ],
      "metadata": {
        "id": "i2NEFDZ42WOK"
      }
    },
    {
      "cell_type": "code",
      "source": [
        "'''\n",
        "    아래 코드에서 quack(obj) 함수는 obj가 실제로 Duck 타입이든 아니든\n",
        "    상관하지 않고 quack 메서드를 호출합니다.\n",
        "    이러한 접근법은 런타임에 메서드나 속성의 존재를 확인하기 때문에 코드가 더욱 유연해집니다.\n",
        "'''\n",
        "\n",
        "class Duck:\n",
        "    def quack(self):\n",
        "        print('꽥꽥!')\n",
        "\n",
        "class Person:\n",
        "    def quack(self):\n",
        "        print(\"안녕하세요!\")\n",
        "\n",
        "def quack(obj):\n",
        "    obj.quack()\n",
        "\n",
        "duck = Duck()\n",
        "person = Person()\n",
        "\n",
        "quack(duck)  # 출력: 꽥꽥!\n",
        "quack(person)  # 출력: 안녕하세요!\n",
        "\n",
        "''' [내가 이해한 것]\n",
        "    duck.quack이나 quack(duck)이나 같은 액션.\n",
        "    그치만 대상에 상관없이 \"꽥\"이라는 액션에 더 무게를 싣고싶은 경우\n",
        "    덕타이핑으로 더 직관적으로 만들 수 있다.\n",
        "    대상보다는 액션이 더 중요한 경우 사용! 추상화를 의도\n",
        "'''"
      ],
      "metadata": {
        "id": "HX_frt2m0oZt"
      },
      "execution_count": null,
      "outputs": []
    },
    {
      "cell_type": "markdown",
      "source": [
        "## 3. 메서드 오버라이딩\n",
        "메서드 오버라이딩(Method Overriding)은 서브 클래스(subclass, 자식 클래스)에서 슈퍼 클래스(superclass, 부모 클래스)의 메서드를 새롭게 정의하는 과정을 의미합니다. 서브 클래스는 슈퍼 클래스의 메서드를 그대로 사용할 수도 있지만, 필요에 따라 해당 메서드의 기능을 변경하고 싶을 때 메서드 오버라이딩을 활용합니다."
      ],
      "metadata": {
        "id": "7ZDMZpII4RHV"
      }
    },
    {
      "cell_type": "code",
      "source": [
        "# 오버라이딩\n",
        "\n",
        "class Animal:\n",
        "    def sound(self):\n",
        "        print(\"기본 동물 울음 소리, 악!\")\n",
        "\n",
        "class Dog(Animal):\n",
        "    def sound(self): # [1] sound를 덮어쓰는 오버라이딩\n",
        "        print(\"왈왈!\")\n",
        "\n",
        "class Cat(Animal):\n",
        "    def sound(self):\n",
        "        print(\"냐옹!\")\n",
        "\n",
        "class Bird(Animal):\n",
        "    def sound(self):\n",
        "        super().sound() # [2] 부모 class의 sound를 불러올 수 있음\n",
        "        print(\"짹짹!\")\n",
        "\n",
        "\n",
        "Animal().sound()\n",
        "Dog().sound()\n",
        "Cat().sound()\n",
        "Bird().sound()"
      ],
      "metadata": {
        "colab": {
          "base_uri": "https://localhost:8080/"
        },
        "id": "nQ-iQBIV4Tts",
        "outputId": "538cd5c8-6415-4382-9df4-5ef6161fcccf"
      },
      "execution_count": 57,
      "outputs": [
        {
          "output_type": "stream",
          "name": "stdout",
          "text": [
            "기본 동물 울음 소리, 악!\n",
            "왈왈!\n",
            "냐옹!\n",
            "기본 동물 울음 소리, 악!\n",
            "짹짹!\n"
          ]
        }
      ]
    },
    {
      "cell_type": "code",
      "source": [
        "class Person:\n",
        "    def __init__(self, name):\n",
        "        self.name = name\n",
        "\n",
        "class Student(Person):\n",
        "    def __init__(self, name, student_id):\n",
        "        super().__init__(name)  # 부모 클래스의 __init__ 메서드 호출\n",
        "        self.student_id = student_id\n",
        "\n",
        "s = Student(\"Alice\", \"S12345\")\n",
        "print(s.name)        # 출력: Alice\n",
        "print(s.student_id)  # 출력: S12345"
      ],
      "metadata": {
        "colab": {
          "base_uri": "https://localhost:8080/"
        },
        "id": "ZD5ZMvl57XN5",
        "outputId": "cfd4e608-08fb-400d-9052-8973d8d21b19"
      },
      "execution_count": 58,
      "outputs": [
        {
          "output_type": "stream",
          "name": "stdout",
          "text": [
            "Alice\n",
            "S12345\n"
          ]
        }
      ]
    },
    {
      "cell_type": "markdown",
      "source": [
        "위 예제에서 **`Student`** 클래스는 **`Person`** 클래스를 상속받습니다. **`Student`** 클래스의 **`__init__`** 메서드에서 **`super().__init__(name)`**을 호출함으로써, 부모 클래스인 **`Person`**의 **`__init__`** 메서드가 실행되어 **`self.name`**이 초기화됩니다.\n",
        "\n",
        "이렇게 사용하면 코드의 재사용성이 높아지고, 유지보수가 간편해집니다. Person의 다른 항목이 추가되더라도 Student는 수정하지 않아도 되기 때문입니다."
      ],
      "metadata": {
        "id": "bHbMi_fq8OHg"
      }
    },
    {
      "cell_type": "markdown",
      "source": [
        "- 오버라이딩은 있으나 오버로딩은 지원하지 않음\n",
        "- 오버로딩은 자바에서 쓰는거~ 지원안되니까 걍 생각도 하지말어~"
      ],
      "metadata": {
        "id": "XgysW4oA8ob7"
      }
    },
    {
      "cell_type": "markdown",
      "source": [
        "## 4. 추상클래스와 인터페이스"
      ],
      "metadata": {
        "id": "aDovns6o89to"
      }
    },
    {
      "cell_type": "markdown",
      "source": [
        "### 4.1. 추상 클래스 (Abstract Base Class, ABC)\n",
        "Python에서 추상 클래스는 기본적으로 구현하지 않아도 되는 메서드(추상 메서드)를 가진 클래스입니다. 이들은 서브클래스에서 **반드시 구현해야 하는 메서드를 정의**하는데 사용됩니다. Python에서는 `abc` 모듈의 `ABC` 클래스와 `abstractmethod` 데코레이터를 사용하여 추상 클래스와 추상 메서드를 정의합니다.\n",
        "\n",
        "아래와 같이 추상 클래스에는 do_something을 정의해놓고 이 클래스를 상속하는 클래스에 해당 메서드를 정의하지 않으면 error가 납니다."
      ],
      "metadata": {
        "id": "gc8gSawQ9DZm"
      }
    },
    {
      "cell_type": "code",
      "source": [
        "# 중요도는 높은데 빈도가 낮아 별 0.5개\n",
        "# 추상클래스 : 반드시 구현되어야만 하는 메서드를 명시하면\n",
        "# 그것을 상속한 클래스에서는 반드시 그 메서드를 구현해야만 함\n",
        "# 빠트리면 안되는 메서드가 있는 경우 사용. (ex_게시물 등록날짜, 조회수...)\n",
        "\n",
        "from abc import ABC, abstractmethod\n",
        "\n",
        "class AbstractClassExample(ABC):\n",
        "\n",
        "    @abstractmethod # [1] do_something이 꼭 있어야 한다고 명시!\n",
        "    def do_something(self):\n",
        "        pass\n",
        "\n",
        "class Person(AbstractClassExample):\n",
        "\n",
        "    def __init__(self, name):\n",
        "        self.name = name\n",
        "\n",
        "    def print_name(self):\n",
        "        print(f'제 이름은 {self.name}입니다.')\n",
        "\n",
        "    # def do_something(self): # [3] 요렇게 do_something 오버라이딩 하면 에러 안남\n",
        "    #     pass\n",
        "\n",
        "hojun = Person('hojun') # [2] 에러 : Can't instantiate abstract class Person with abstract method do_something\n",
        "hojun.print_name()"
      ],
      "metadata": {
        "id": "fkjODz9x7_55"
      },
      "execution_count": null,
      "outputs": []
    },
    {
      "cell_type": "markdown",
      "source": [
        "### 4.2. 인터페이스\n",
        "인터페이스는 객체가 어떤 메서드를 구현해야 하는지 정의한 것입니다. Python에서는 다른 언어들과 달리 인터페이스라는 내장 키워드나 구조가 없습니다. 그러나 추상 클래스를 이용하여 인터페이스처럼 동작하는 클래스를 만들 수 있습니다. 이렇게 추상 클래스로 이를 상속받은 클래스가 특정 메서드를 구현하게 강제함으로 구조적인 특징을 가질 수 있도록 합니다."
      ],
      "metadata": {
        "id": "b7XZ9Qx9-EA5"
      }
    },
    {
      "cell_type": "code",
      "source": [
        "from abc import ABC, abstractmethod\n",
        "\n",
        "class MyInterface(ABC):\n",
        "\n",
        "    @abstractmethod\n",
        "    def method1(self):\n",
        "        pass\n",
        "\n",
        "    @abstractmethod\n",
        "    def method2(self):\n",
        "        pass"
      ],
      "metadata": {
        "id": "e5KiIOeI9LS_"
      },
      "execution_count": null,
      "outputs": []
    },
    {
      "cell_type": "markdown",
      "source": [
        "## 5. 비공개 속성"
      ],
      "metadata": {
        "id": "wrHVddt9_vp9"
      }
    },
    {
      "cell_type": "markdown",
      "source": [
        "### 5.1. 비공개 속성 (Private Attributes)\n",
        "- 대부분의 객체 지향 프로그래밍 언어에는 클래스의 속성과 메서드의 접근 제어를 위한 다양한 수준의 접근 제한자(access modifiers)가 있습니다. 다만, 이 비공개 속성은 완전한 \"비공개\"는 아니며 \"비공개처럼\" 작동하게 하는 기술입니다.\n",
        "\n",
        "- 비공개 속성(Private Attributes)은 **클래스 내부에서만 접근이 가능하며 외부에서는 접근이 제한되는 속성을 의미**합니다. 파이썬에서는 속성 이름 앞에 두 개의 언더스코어(`__`)를 붙여 해당 속성을 비공개처럼 표현할 수 있습니다.\n",
        "\n",
        "- 비공개 속성의 목적 : 파이썬에서는 속성의 완전한 비공개는 지원하지 않으나, 두 개의 언더스코어를 사용하여 비공개처럼 속성을 정의할 수 있습니다. 이는 클래스의 안정성을 유지하고, 객체의 내부 로직을 숨기기 위한 목적으로 활용됩니다."
      ],
      "metadata": {
        "id": "bTlYdKZT-Tb3"
      }
    },
    {
      "cell_type": "code",
      "source": [
        "class MyClass:\n",
        "    __a = 10\n",
        "    _a = 100\n",
        "    b = 20\n",
        "\n",
        "    def __init__(self, c, d):\n",
        "        self.__c = c\n",
        "        self.d = d\n",
        "\n",
        "c = MyClass(30, 40)\n",
        "# c.__a #error\n",
        "c._a # 출력: 100\n",
        "c.b # 출력: 20\n",
        "# c.__c # error\n",
        "c.d # 출력: 40"
      ],
      "metadata": {
        "colab": {
          "base_uri": "https://localhost:8080/"
        },
        "id": "ZGwun-Bd-Vwq",
        "outputId": "15607d76-3313-4afd-96a4-354df8967636"
      },
      "execution_count": 61,
      "outputs": [
        {
          "output_type": "execute_result",
          "data": {
            "text/plain": [
              "40"
            ]
          },
          "metadata": {},
          "execution_count": 61
        }
      ]
    },
    {
      "cell_type": "markdown",
      "source": [
        "### 5.2. 네임 맹글링(Name Mangling)\n",
        "속성 이름 앞에 두 개의 언더스코어를 붙이면 파이썬은 네임 맹글링(name mangling)이라는 메커니즘을 사용하여 속성의 이름을 변경합니다. 이로 인해 외부에서 해당 속성에 직접 접근하는 것이 어려워집니다.\n",
        "\n",
        "그러나 완전히 접근을 제한하는 것은 아니기 때문에, 만약 아래와 같은 방법을 알고 있다면 `_클래스명__속성명` 형태로 여전히 접근과 수정이 가능합니다."
      ],
      "metadata": {
        "id": "JvHkcNYZ_oN5"
      }
    },
    {
      "cell_type": "code",
      "source": [
        "# 위에서 언더바 두개로 감췄다고 생각한 c.__c가 아래처럼 접근이 가능함!\n",
        "print(c._MyClass__c)  # 출력: 30\n",
        "print(c._MyClass__a)  # 출력: 10"
      ],
      "metadata": {
        "colab": {
          "base_uri": "https://localhost:8080/"
        },
        "id": "68m69aHF-rlD",
        "outputId": "df90722d-5a36-48df-b49e-99394bef35e0"
      },
      "execution_count": 64,
      "outputs": [
        {
          "output_type": "stream",
          "name": "stdout",
          "text": [
            "30\n",
            "10\n"
          ]
        }
      ]
    },
    {
      "cell_type": "code",
      "source": [],
      "metadata": {
        "id": "xqWDYLS__8Tc"
      },
      "execution_count": null,
      "outputs": []
    }
  ]
}