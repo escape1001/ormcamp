{
  "nbformat": 4,
  "nbformat_minor": 0,
  "metadata": {
    "colab": {
      "provenance": [],
      "authorship_tag": "ABX9TyOsi/CjE19EJoRS3LbvgIDN",
      "include_colab_link": true
    },
    "kernelspec": {
      "name": "python3",
      "display_name": "Python 3"
    },
    "language_info": {
      "name": "python"
    }
  },
  "cells": [
    {
      "cell_type": "markdown",
      "metadata": {
        "id": "view-in-github",
        "colab_type": "text"
      },
      "source": [
        "<a href=\"https://colab.research.google.com/github/escape1001/ormcamp/blob/main/python/ormcamp_240105_%ED%80%B4%EC%A6%88.ipynb\" target=\"_parent\"><img src=\"https://colab.research.google.com/assets/colab-badge.svg\" alt=\"Open In Colab\"/></a>"
      ]
    },
    {
      "cell_type": "code",
      "execution_count": 6,
      "metadata": {
        "colab": {
          "base_uri": "https://localhost:8080/"
        },
        "id": "JmOnUvVJdRPj",
        "outputId": "daa760f0-9495-4b0c-a6b4-f6a32efae7ba"
      },
      "outputs": [
        {
          "output_type": "stream",
          "name": "stdout",
          "text": [
            "1\n",
            "10\n"
          ]
        }
      ],
      "source": [
        "# 1. 다음 값은 어떤 값이 출력되는지 이유를 설명하세요.\n",
        "# 1.1 'hello' and 1<br/>\n",
        "# 1.2 10 or 'hello world'\n",
        "\n",
        "'hello' and 1 # 1\n",
        "10 or 'hello world' # 10\n",
        "\n",
        "''' 둘 다 단락평가 문제임.\n",
        "\n",
        "    1.1 'hello' and 1 의 경우 and 연산자는 False를 만나지 않는 이상\n",
        "    계속 실행되기 때문에 1까지 출력될 기회가 간 것이고\n",
        "\n",
        "    1.2 10 or 'hello world' 의 경우 or 연산자는 앞에서 True 판별이 나버리면\n",
        "    뒤는 보지 않고 종료하기 때문에 10이 출력됨\n",
        "'''"
      ]
    },
    {
      "cell_type": "code",
      "source": [
        "# 2. 아래 dict에 'three' key를 이용하여 '3'라는 값을 출력해주세요.\n",
        "# 없을 경우 애러가 나는 것이 아니라 '3'이라는 값을 출력해야 합니다.\n",
        "d = {'one': 1, 'two': 2}\n",
        "d.get('three', '3') # int 3이 아닌 string '3'을 출력하라는 것으로 이해함"
      ],
      "metadata": {
        "colab": {
          "base_uri": "https://localhost:8080/",
          "height": 35
        },
        "id": "xCTbV8-sd6Ye",
        "outputId": "1742af57-67bb-44a9-dcf1-3d4288d73055"
      },
      "execution_count": 18,
      "outputs": [
        {
          "output_type": "execute_result",
          "data": {
            "text/plain": [
              "'3'"
            ],
            "application/vnd.google.colaboratory.intrinsic+json": {
              "type": "string"
            }
          },
          "metadata": {},
          "execution_count": 18
        }
      ]
    },
    {
      "cell_type": "code",
      "source": [
        "# 3. 다음 리스트에서 100은 어떻게 꺼낼 수 있나요?\n",
        "l = [1, [10, 20], [3, [100, 200], 5]]\n",
        "\n",
        "# 인덱스로 호출하라는 것으로 이해함\n",
        "l[2][1][0]"
      ],
      "metadata": {
        "colab": {
          "base_uri": "https://localhost:8080/"
        },
        "id": "lZ_dlhRGgAqR",
        "outputId": "cfae2e36-bf7e-449e-9cb2-9b52da886b65"
      },
      "execution_count": 19,
      "outputs": [
        {
          "output_type": "execute_result",
          "data": {
            "text/plain": [
              "100"
            ]
          },
          "metadata": {},
          "execution_count": 19
        }
      ]
    },
    {
      "cell_type": "code",
      "source": [
        "#4. 아래 숫자를 모두 더해주세요.\n",
        "l = [[1, 2], [3, 4]]\n",
        "\n",
        "# 평탄화 한 뒤 더하자\n",
        "ll = sum(l, [])\n",
        "sum(ll)"
      ],
      "metadata": {
        "colab": {
          "base_uri": "https://localhost:8080/"
        },
        "id": "35vRefMUhT5Z",
        "outputId": "695fd920-89a0-4517-c39a-7da276a9249a"
      },
      "execution_count": 24,
      "outputs": [
        {
          "output_type": "execute_result",
          "data": {
            "text/plain": [
              "10"
            ]
          },
          "metadata": {},
          "execution_count": 24
        }
      ]
    },
    {
      "cell_type": "code",
      "source": [
        "#5. (난이도 있는 문제) filter를 사용하여 아래 리스트에서 짝수를 모두 더하는 코드를 작성해주세요.\n",
        "l = [1, 2, 3, 4, 5, 6, 7, 8, 9, 10] # 정답: 30\n",
        "\n",
        "def isEven(x):\n",
        "    return x % 2 == 0\n",
        "\n",
        "sum(filter(isEven, l))"
      ],
      "metadata": {
        "colab": {
          "base_uri": "https://localhost:8080/"
        },
        "id": "-a5wFsolhreC",
        "outputId": "df8edf0d-c830-4c74-ae78-08f189e2536b"
      },
      "execution_count": 27,
      "outputs": [
        {
          "output_type": "execute_result",
          "data": {
            "text/plain": [
              "30"
            ]
          },
          "metadata": {},
          "execution_count": 27
        }
      ]
    },
    {
      "cell_type": "code",
      "source": [],
      "metadata": {
        "id": "7bMgefA-i_zS"
      },
      "execution_count": null,
      "outputs": []
    }
  ]
}