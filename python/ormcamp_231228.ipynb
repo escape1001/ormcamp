{
  "nbformat": 4,
  "nbformat_minor": 0,
  "metadata": {
    "colab": {
      "provenance": [],
      "authorship_tag": "ABX9TyNDkG8D6NNNPBW8oaJzKAFf",
      "include_colab_link": true
    },
    "kernelspec": {
      "name": "python3",
      "display_name": "Python 3"
    },
    "language_info": {
      "name": "python"
    }
  },
  "cells": [
    {
      "cell_type": "markdown",
      "metadata": {
        "id": "view-in-github",
        "colab_type": "text"
      },
      "source": [
        "<a href=\"https://colab.research.google.com/github/escape1001/ormcamp/blob/main/python/ormcamp_231228.ipynb\" target=\"_parent\"><img src=\"https://colab.research.google.com/assets/colab-badge.svg\" alt=\"Open In Colab\"/></a>"
      ]
    },
    {
      "cell_type": "markdown",
      "source": [
        "# 1. 구글코랩\n",
        "\n",
        "마크다운 테스트\n",
        "- t\n",
        "- e\n",
        "- s\n",
        "- t"
      ],
      "metadata": {
        "id": "wrh4zV3dgS5S"
      }
    },
    {
      "source": [
        "#### COLAB AI test\n",
        "# Import the necessary libraries\n",
        "import random\n",
        "\n",
        "# Define the bingo board as a 5x5 array\n",
        "board = [[0 for _ in range(5)] for _ in range(5)]\n",
        "\n",
        "# Fill the board with numbers from 1 to 25\n",
        "for i in range(5):\n",
        "  for j in range(5):\n",
        "    board[i][j] = random.randint(1, 25)\n",
        "\n",
        "# Print the bingo board\n",
        "for row in board:\n",
        "  print(' '.join(map(str, row)))\n",
        "\n",
        "# Get the user's numbers\n",
        "user_numbers = [int(x) for x in input('Enter your numbers: ').split()]\n",
        "\n",
        "# Check if the user has won\n",
        "if all(x in user_numbers for x in board[0]):\n",
        "  print('You have won!')\n",
        "elif all(x in user_numbers for x in board[1]):\n",
        "  print('You have won!')\n",
        "elif all(x in user_numbers for x in board[2]):\n",
        "  print('You have won!')\n",
        "elif all(x in user_numbers for x in board[3]):\n",
        "  print('You have won!')\n",
        "elif all(x in user_numbers for x in board[4]):\n",
        "  print('You have won!')\n",
        "elif all(x in user_numbers for x in [board[i][j] for i in range(5) for j in range(5)]):\n",
        "  print('You have won!')\n",
        "elif all(x in user_numbers for x in [board[i][i] for i in range(5)]):\n",
        "  print('You have won!')\n",
        "elif all(x in user_numbers for x in [board[i][4-i] for i in range(5)]):\n",
        "  print('You have won!')\n",
        "else:\n",
        "  print('You have not won.')"
      ],
      "cell_type": "code",
      "metadata": {
        "colab": {
          "base_uri": "https://localhost:8080/"
        },
        "id": "pEfUCzOUg85T",
        "outputId": "b8c71f3c-d79a-4659-b6b6-dc59b5ca52f4"
      },
      "execution_count": 5,
      "outputs": [
        {
          "output_type": "stream",
          "name": "stdout",
          "text": [
            "7 14 24 21 10\n",
            "25 17 18 14 3\n",
            "13 5 11 5 7\n",
            "18 4 13 10 21\n",
            "10 12 2 4 18\n",
            "Enter your numbers: 13 5 11 5 7\n",
            "You have won!\n"
          ]
        }
      ]
    },
    {
      "cell_type": "code",
      "source": [
        "# prompt: data DataFrame 사용: 해당 데이터셋으로 막대그래프를 그리고 싶어\n",
        "\n",
        "import matplotlib.pyplot as plt\n",
        "data.plot(x='name', y='age', kind='bar')\n",
        "plt.show()\n"
      ],
      "metadata": {
        "colab": {
          "base_uri": "https://localhost:8080/",
          "height": 472
        },
        "id": "WKBjdapsiW1J",
        "outputId": "3efb08cd-a790-4b89-c454-0a014489c0b5"
      },
      "execution_count": 7,
      "outputs": [
        {
          "output_type": "display_data",
          "data": {
            "text/plain": [
              "<Figure size 640x480 with 1 Axes>"
            ],
            "image/png": "[encoded data removed]"
          },
          "metadata": {}
        }
      ]
    },
    {
      "cell_type": "markdown",
      "source": [
        "# 요약\n",
        "마크다운 텍스트 쓰고 colab ai 사용 테스트"
      ],
      "metadata": {
        "id": "hrUFXW_FoT2P"
      }
    }
  ]
}