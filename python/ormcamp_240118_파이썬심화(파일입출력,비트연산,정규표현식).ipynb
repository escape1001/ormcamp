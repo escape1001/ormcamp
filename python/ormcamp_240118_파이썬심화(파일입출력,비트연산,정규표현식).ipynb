{
  "nbformat": 4,
  "nbformat_minor": 0,
  "metadata": {
    "colab": {
      "provenance": [],
      "authorship_tag": "ABX9TyPpyW/j8qdBI5WfpIvlUMvt",
      "include_colab_link": true
    },
    "kernelspec": {
      "name": "python3",
      "display_name": "Python 3"
    },
    "language_info": {
      "name": "python"
    }
  },
  "cells": [
    {
      "cell_type": "markdown",
      "metadata": {
        "id": "view-in-github",
        "colab_type": "text"
      },
      "source": [
        "<a href=\"https://colab.research.google.com/github/escape1001/ormcamp/blob/main/python/ormcamp_240118_%ED%8C%8C%EC%9D%B4%EC%8D%AC%EC%8B%AC%ED%99%94(%ED%8C%8C%EC%9D%BC%EC%9E%85%EC%B6%9C%EB%A0%A5%2C%EB%B9%84%ED%8A%B8%EC%97%B0%EC%82%B0%2C%EC%A0%95%EA%B7%9C%ED%91%9C%ED%98%84%EC%8B%9D).ipynb\" target=\"_parent\"><img src=\"https://colab.research.google.com/assets/colab-badge.svg\" alt=\"Open In Colab\"/></a>"
      ]
    },
    {
      "cell_type": "markdown",
      "source": [
        "# 파이썬 버전별 변경 사항\n",
        "- 회사마다, 프로젝트마다 다른 버전을 쓰는 경우가 있음\n",
        "- 버전마다 비동기문법 유무, 딕셔너리 순서유무, fstring 유무, match문(switch) 유무, 타입힌트 유무 등 많은 요소가 차이남.\n",
        "- 이런 요소들을 고려하여 프로젝트 버전을 결정해야 함"
      ],
      "metadata": {
        "id": "E4Wr8aFU8vQ3"
      }
    },
    {
      "cell_type": "markdown",
      "source": [
        "ex. 파이썬 3.7의 dataclasses : 이 모듈은 @dataclass 데코레이터를 제공하여 클래스를 간결하게 정의할 수 있게 합니다. 이 데코레이터는 __init__, __repr__, __eq__ 등의 특별한 메서드를 자동으로 추가합니다."
      ],
      "metadata": {
        "id": "-W-krn_WASuo"
      }
    },
    {
      "cell_type": "code",
      "execution_count": 3,
      "metadata": {
        "colab": {
          "base_uri": "https://localhost:8080/"
        },
        "id": "sA5fd27S4h5H",
        "outputId": "4d657e5a-ff19-421e-c170-3360502daa4c"
      },
      "outputs": [
        {
          "output_type": "execute_result",
          "data": {
            "text/plain": [
              "<__main__.User at 0x78d987382170>"
            ]
          },
          "metadata": {},
          "execution_count": 3
        }
      ],
      "source": [
        "# id, name, email이 각각 3번씩 반복\n",
        "# -> 이러한 현상을  보일러 플레이트(boiler-plate)라 함\n",
        "# -> print를 해도 필드값이 보이지 않아 불편\n",
        "class User:\n",
        "    def __init__(self, id, name, email):\n",
        "        self.id = id\n",
        "        self.name = name\n",
        "        self.email = email\n",
        "\n",
        "\n",
        "user1 = User(\"id\", \"name\", \"email\")\n",
        "\n",
        "user1"
      ]
    },
    {
      "cell_type": "code",
      "source": [
        "# 이거 정말 괜찮은 기능인데 실무에서 쓰는사람 못봄\n",
        "# 복습 X\n",
        "from dataclasses import dataclass\n",
        "\n",
        "@dataclass\n",
        "class User:\n",
        "    id: int\n",
        "    name: str\n",
        "    email : str\n",
        "\n",
        "user = User(123, 'hojun', 'hojun@gmail')\n",
        "user"
      ],
      "metadata": {
        "colab": {
          "base_uri": "https://localhost:8080/"
        },
        "id": "cCo5JESW_6hJ",
        "outputId": "23d827f7-96a7-467d-dc1b-5188ae3e2ca9"
      },
      "execution_count": 4,
      "outputs": [
        {
          "output_type": "execute_result",
          "data": {
            "text/plain": [
              "User(id=123, name='hojun', email='hojun@gmail')"
            ]
          },
          "metadata": {},
          "execution_count": 4
        }
      ]
    },
    {
      "cell_type": "markdown",
      "source": [
        "# 파일 입출력\n",
        "- (웹개발 하면서 실제로 쓸 일은 많이 없으나) 파이썬에서는 파일과 폴더를 다룰 수 있음.\n",
        "- r+, w+, a+모드로 파일을 읽고, 쓰고, 추가할 수 있음.\n",
        "- 파일을 읽고 쓰고 추가하는 것 모두 close 필수!"
      ],
      "metadata": {
        "id": "H7hY-36BAi21"
      }
    },
    {
      "cell_type": "code",
      "source": [
        "# python.txt 파일 만들기\n",
        "f = open('python.txt', 'w') # 파일모드 : r, w, a, r+,\n",
        "f.write('hello world')\n",
        "f.close() # 필수! 안닫아주면 메모리 시퍼렇게 살아있음"
      ],
      "metadata": {
        "id": "mSm6ZH8KAIrc"
      },
      "execution_count": 5,
      "outputs": []
    },
    {
      "cell_type": "code",
      "source": [
        "# with문 사용하면 파일 열고닫는거 동시에 할 수 있음\n",
        "with open('test.txt', 'w') as f:\n",
        "    f.write('hello world!')"
      ],
      "metadata": {
        "id": "pxt_yEBjA4AR"
      },
      "execution_count": null,
      "outputs": []
    },
    {
      "cell_type": "code",
      "source": [
        "# 반복문 돌려서 파일 여러개 생성할수도 있음\n",
        "for i in range(10):\n",
        "    with open(f'test{i}.txt', 'w') as f:\n",
        "        f.write('hello world!')"
      ],
      "metadata": {
        "id": "EaqHb2tjBP6Y"
      },
      "execution_count": null,
      "outputs": []
    },
    {
      "cell_type": "code",
      "source": [
        "# 파일 입출력 익히기\n",
        "# 샘플데이터\n",
        "db_data = [\n",
        "  {\n",
        "    \"_id\": \"7f5440ab-7e2f-4a42-Be13-89987fa65b32\",\n",
        "    \"index\": \"1\",\n",
        "    \"name\": \"등윤상\",\n",
        "    \"email\": \"user-qe89s09@ut.io\",\n",
        "    \"phone\": \"010-3542-7711\",\n",
        "    \"country\": \"키리바시\",\n",
        "    \"address\": \"방학로 74-9\",\n",
        "    \"job\": \"일러스트레이터\"\n",
        "  },\n",
        "  {\n",
        "    \"_id\": \"b4f7ade0-38bb-4e6f-B94a-18af1426eb30\",\n",
        "    \"index\": \"2\",\n",
        "    \"name\": \"노동규\",\n",
        "    \"email\": \"user-nyr5mqw@ornare.com\",\n",
        "    \"phone\": \"010-9743-6320\",\n",
        "    \"country\": \"베냉\",\n",
        "    \"address\": \"남부순환로 54-6\",\n",
        "    \"job\": \"애완동물미용사\"\n",
        "  },\n",
        "  {\n",
        "    \"_id\": \"5d788255-8d5e-4f03-B446-dbac6a147e37\",\n",
        "    \"index\": \"3\",\n",
        "    \"name\": \"경진아\",\n",
        "    \"email\": \"user-n7pey4v@Etiam.biz\",\n",
        "    \"phone\": \"010-4049-8718\",\n",
        "    \"country\": \"아르메니아\",\n",
        "    \"address\": \"강남대로 87-5\",\n",
        "    \"job\": \"플로리스트\"\n",
        "  },\n",
        "  {\n",
        "    \"_id\": \"083efce4-17ed-4e9f-Ad7c-f9aa0ac6cb79\",\n",
        "    \"index\": \"4\",\n",
        "    \"name\": \"복소유\",\n",
        "    \"email\": \"user-ohaz2is@nibh.biz\",\n",
        "    \"phone\": \"010-3400-5945\",\n",
        "    \"country\": \"페루\",\n",
        "    \"address\": \"양산로 78-1\",\n",
        "    \"job\": \"응급구조사\"\n",
        "  },\n",
        "  {\n",
        "    \"_id\": \"d54ce0fa-c025-4af6-Cd9a-b9d10aa8be5a\",\n",
        "    \"index\": \"5\",\n",
        "    \"name\": \"화예빈\",\n",
        "    \"email\": \"user-mnkpdlp@vel.net\",\n",
        "    \"phone\": \"010-3120-8720\",\n",
        "    \"country\": \"허드 및 맥도널드 제도\",\n",
        "    \"address\": \"한남대로 6-2\",\n",
        "    \"job\": \"전문의사\"\n",
        "  }\n",
        "]"
      ],
      "metadata": {
        "id": "rfI-C95yBya8"
      },
      "execution_count": 7,
      "outputs": []
    },
    {
      "cell_type": "code",
      "source": [
        "# 미션1. 각 회원이름_info.txt로 개별파일생성해 정보 저장\n",
        "\n",
        "for user in db_data :\n",
        "    user_data = f'''\n",
        "        회원넘버 : {user[\"index\"]}\n",
        "        이름 : {user[\"name\"]}\n",
        "        이메일 : {user[\"email\"]}\n",
        "        전화번호 : {user[\"phone\"]}\n",
        "        국가 : {user[\"country\"]}\n",
        "        주소 : {user[\"address\"]}\n",
        "        직업 : {user[\"job\"]}\n",
        "    '''\n",
        "    with open(f'{user[\"name\"]}_info.txt', 'w') as f:\n",
        "        f.write(user_data)"
      ],
      "metadata": {
        "id": "6XLnWeNYB3mG"
      },
      "execution_count": 13,
      "outputs": []
    },
    {
      "cell_type": "code",
      "source": [
        "# 미션2. 엑셀로 각 정보 정리\n",
        "with open('user_data.csv', 'w') as f:\n",
        "    s = \"아이디, 인덱스, 이름, 메일, 휴대폰, 나라, 주소, 직업\\n\"\n",
        "\n",
        "    for user in db_data:\n",
        "        s+= f\"{user['_id']}, {user['index']}, {user['name']}, {user['email']}, {user['phone']}, {user['country']}, {user['address']}, {user['job']}\\n\"\n",
        "\n",
        "    f.write(s)"
      ],
      "metadata": {
        "id": "XP08jk0VCAD-"
      },
      "execution_count": 14,
      "outputs": []
    },
    {
      "cell_type": "code",
      "source": [
        "# csv 엑셀파일로 만들고 싶으면 xlsxwriter 모듈 설치\n",
        "!pip install xlsxwriter"
      ],
      "metadata": {
        "colab": {
          "base_uri": "https://localhost:8080/"
        },
        "id": "PBkxeWDzKbCa",
        "outputId": "202a7c19-1126-46cf-a075-db3d9ee132a9"
      },
      "execution_count": 15,
      "outputs": [
        {
          "output_type": "stream",
          "name": "stdout",
          "text": [
            "Collecting xlsxwriter\n",
            "  Downloading XlsxWriter-3.1.9-py3-none-any.whl (154 kB)\n",
            "\u001b[?25l     \u001b[90m━━━━━━━━━━━━━━━━━━━━━━━━━━━━━━━━━━━━━━━━\u001b[0m \u001b[32m0.0/154.8 kB\u001b[0m \u001b[31m?\u001b[0m eta \u001b[36m-:--:--\u001b[0m\r\u001b[2K     \u001b[90m━━━━━━━━━━━━━━━━━━━━━━━━━━━━━━━━━━━━━━━━\u001b[0m \u001b[32m154.8/154.8 kB\u001b[0m \u001b[31m5.6 MB/s\u001b[0m eta \u001b[36m0:00:00\u001b[0m\n",
            "\u001b[?25hInstalling collected packages: xlsxwriter\n",
            "Successfully installed xlsxwriter-3.1.9\n"
          ]
        }
      ]
    },
    {
      "cell_type": "code",
      "source": [
        "# 미션3. 엑셀파일로 추출\n",
        "# 워크북(엑셀파일 1개입니다.)\n",
        "# 워크시트(sheet이라고 아래 여러개의 sheet을 만들 수 있습니다.)\n",
        "# 셀(네모 칸 하나)\n",
        "import xlsxwriter\n",
        "\n",
        "workbook = xlsxwriter.Workbook('user_data.xlsx')\n",
        "worksheet = workbook.add_worksheet('test1')\n",
        "\n",
        "# worksheet.write('A1', 'A') # 셀키 - 입력값\n",
        "# worksheet.write(1, 1, 'A') # 이런식으로도 입력 가능. 엑셀함수로 입력하려면 가능.\n",
        "\n",
        "worksheet.write(0, 0, '아이디')\n",
        "worksheet.write(0, 1, '인덱스')\n",
        "worksheet.write(0, 2, '이름')\n",
        "worksheet.write(0, 3, '메일')\n",
        "worksheet.write(0, 4, '휴대폰')\n",
        "worksheet.write(0, 5, '나라')\n",
        "worksheet.write(0, 6, '주소')\n",
        "worksheet.write(0, 7, '직업')\n",
        "\n",
        "for iindex, user in enumerate(db_data, 1):\n",
        "    worksheet.write(iindex, 0, user['_id'])\n",
        "    worksheet.write(iindex, 1, user['index'])\n",
        "    worksheet.write(iindex, 2, user['name'])\n",
        "    worksheet.write(iindex, 3, user['email'])\n",
        "    worksheet.write(iindex, 4, user['phone'])\n",
        "    worksheet.write(iindex, 5, user['country'])\n",
        "    worksheet.write(iindex, 6, user['address'])\n",
        "    worksheet.write(iindex, 7, user['job'])\n",
        "\n",
        "workbook.close()"
      ],
      "metadata": {
        "id": "NE_nRkAnIxcG"
      },
      "execution_count": 23,
      "outputs": []
    },
    {
      "cell_type": "code",
      "source": [
        "# 미션4. html로 파일 추출\n",
        "s = '''\n",
        "<style>\n",
        "    table {\n",
        "        border-collapse: collapse;\n",
        "        width: 100%;\n",
        "        border: 1px solid black;\n",
        "    }\n",
        "    tr, td, th {\n",
        "        border: 1px solid black;\n",
        "    }\n",
        "</style>\n",
        "<table>\n",
        "    <tr>\n",
        "        <th>아이디</th>\n",
        "        <th>인덱스</th>\n",
        "        <th>이름</th>\n",
        "        <th>이메일</th>\n",
        "        <th>휴대폰</th>\n",
        "        <th>나라</th>\n",
        "        <th>주소</th>\n",
        "        <th>직업</th>\n",
        "    </tr>\n",
        "'''\n",
        "\n",
        "for item in db_data:\n",
        "    s += f'''\n",
        "        <tr>\n",
        "                <td>{item[\"_id\"]}</td>\n",
        "                <td>{item[\"index\"]}</td>\n",
        "                <td>{item[\"name\"]}</td>\n",
        "                <td>{item[\"email\"]}</td>\n",
        "                <td>{item[\"phone\"]}</td>\n",
        "                <td>{item[\"country\"]}</td>\n",
        "                <td>{item[\"address\"]}</td>\n",
        "                <td>{item[\"job\"]}</td>\n",
        "        </tr>\n",
        "        '''\n",
        "\n",
        "s += '</table>'\n",
        "\n",
        "with open('test.html', 'w') as f:\n",
        "    f.write(s)"
      ],
      "metadata": {
        "id": "f0quvYLJK02-"
      },
      "execution_count": 24,
      "outputs": []
    },
    {
      "cell_type": "code",
      "source": [
        "# html 파일 한줄씩 읽어와서 확인~\n",
        "f = open('test.html', 'r')\n",
        "while True:\n",
        "    line = f.readline() # 그냥 통으로 읽으려면 f.readline()도 괜춘\n",
        "    if not line:\n",
        "        break\n",
        "    print(line, end='')\n",
        "f.close()"
      ],
      "metadata": {
        "id": "XC2ZKXr3XNT9"
      },
      "execution_count": null,
      "outputs": []
    },
    {
      "cell_type": "markdown",
      "source": [
        "# 비트연산\n",
        "- 실무에선 거의 안쓰지만 알고리즘 테스트에 꼭 나옴ㅠ\n",
        "- 예를 들면 이런거 https://school.programmers.co.kr/learn/courses/30/lessons/17681\n",
        "- 문제 몇개 풀어보면 입출력 예시만 봐도 비트연산인걸 알 수 있음.\n",
        "- 코테 팁 : 문제 문장 위부터 읽으면 오히려 헷갈림. 입출력 먼저 봐서 어떤 연산 해야하는지 파악."
      ],
      "metadata": {
        "id": "4xCA-9hPXyIW"
      }
    },
    {
      "cell_type": "code",
      "source": [
        "# 1542라는 숫자를 10진법으로 생각해보자.\n",
        "# 1542 == 1*(10**3) + 5*(10**2) + 4*(10**1) + 2*(10**0)\n",
        "\n",
        "# 16진법 : 0123456789abcdef\n",
        "# 8진법 : 01234567\n",
        "# 2진법 : 01"
      ],
      "metadata": {
        "id": "TH-7nGdtXa3u"
      },
      "execution_count": 27,
      "outputs": []
    },
    {
      "cell_type": "code",
      "source": [
        "# 진법 변환 팁\n",
        "# 10진법 == 2진법\n",
        "# 1 == 1\n",
        "# 2 == 10\n",
        "# 4 == 100\n",
        "# 8 == 1000\n",
        "# 16 == 10000\n",
        "\n",
        "# 대충 위의 쉬운 숫자들 외워놓고 가까운 숫자 찾기~\n",
        "# ex) 9는? 8인 1000이랑 가까우니까 1 더해버려~ -> 1001\n",
        "# ex) 15는? 16인 10000이랑 가까우니까 1 빼버려~ -> 1111"
      ],
      "metadata": {
        "id": "w1XobFqaZf3w"
      },
      "execution_count": 28,
      "outputs": []
    },
    {
      "cell_type": "markdown",
      "source": [
        "## 1. 비트 and(&) 연산자\n",
        "비트 `and` 연산자 `&`는 두 비트열의 동일한 위치에 1이 있는 경우에만 1을 반환합니다."
      ],
      "metadata": {
        "id": "zwAx_bwYanBh"
      }
    },
    {
      "cell_type": "code",
      "source": [
        "# 예시 : 3 & 9\n",
        "\n",
        "# 0011\n",
        "# 1001\n",
        "# ----\n",
        "# 0001 => 1\n",
        "\n",
        "print(3 & 9)"
      ],
      "metadata": {
        "colab": {
          "base_uri": "https://localhost:8080/"
        },
        "id": "6T39IbM2aXXE",
        "outputId": "93f7ca6f-ccc3-40dc-c12c-f9e9c9d9a6a8"
      },
      "execution_count": 29,
      "outputs": [
        {
          "output_type": "stream",
          "name": "stdout",
          "text": [
            "1\n"
          ]
        }
      ]
    },
    {
      "cell_type": "markdown",
      "source": [
        "## 2. 비트 or(|) 연산자\n",
        "비트 `or` 연산자 `|`는 두 비트열의 동일한 위치에 하나라도 1이 있는 경우 1을 반환합니다."
      ],
      "metadata": {
        "id": "luMeOM8Cav6U"
      }
    },
    {
      "cell_type": "code",
      "source": [
        "# 예시 : 3 | 9\n",
        "\n",
        "# 0011\n",
        "# 1001\n",
        "# ----\n",
        "# 1011 => 11\n",
        "\n",
        "print(3 | 9)"
      ],
      "metadata": {
        "colab": {
          "base_uri": "https://localhost:8080/"
        },
        "id": "UlU_9Qt7axKC",
        "outputId": "dff04f4b-8cf3-44ae-9a2f-3debf36a7649"
      },
      "execution_count": 30,
      "outputs": [
        {
          "output_type": "stream",
          "name": "stdout",
          "text": [
            "11\n"
          ]
        }
      ]
    },
    {
      "cell_type": "markdown",
      "source": [
        "## 3. 비트 xor(^) 연산자\n",
        "\n",
        "비트 `xor` 연산자 `^`는 두 비트열의 동일한 위치의 값이 다른 경우에만 1을 반환합니다."
      ],
      "metadata": {
        "id": "ALeI7yZxbDn0"
      }
    },
    {
      "cell_type": "code",
      "source": [
        "# 예시 : 3 ^ 9\n",
        "\n",
        "# 0011\n",
        "# 1001\n",
        "# ----\n",
        "# 1010 => 10\n",
        "\n",
        "print(3 ^ 9)"
      ],
      "metadata": {
        "colab": {
          "base_uri": "https://localhost:8080/"
        },
        "id": "KEPZEWxYbAOZ",
        "outputId": "e1cf77c1-ff16-4b14-d440-24908b94676f"
      },
      "execution_count": 32,
      "outputs": [
        {
          "output_type": "stream",
          "name": "stdout",
          "text": [
            "10\n"
          ]
        }
      ]
    },
    {
      "cell_type": "markdown",
      "source": [
        "면접이나 코테 들어가기 전에 보수 취하는거 자료구조 복습하면 좋을듯~ (보수란 무엇인가, 부호비트같은 개념)"
      ],
      "metadata": {
        "id": "JtJsoeCRbsoS"
      }
    },
    {
      "cell_type": "code",
      "source": [
        "# 코테 함 풀어보자~\n",
        "# https://school.programmers.co.kr/learn/courses/30/lessons/17681?language=python3\n",
        "\n",
        "n = 5\n",
        "arr1 = [9, 20, 28, 18, 11]\n",
        "arr2 = [30, 1, 21, 17, 28]\n",
        "# 정답 = [\"#####\",\"# # #\", \"### #\", \"# ##\", \"#####\"]\n",
        "\n",
        "n_2 = 6\n",
        "arr1_2 = [46, 33, 33 ,22, 31, 50]\n",
        "arr2_2 = [27 ,56, 19, 14, 14, 10]\n",
        "# 정답_2 = [\"######\", \"### #\", \"## ##\", \" #### \", \" #####\", \"### # \"]\n",
        "\n",
        "def solution(n, arr1, arr2):\n",
        "    zip_list = zip(arr1, arr2)\n",
        "\n",
        "    answer = []\n",
        "    for item in zip_list:\n",
        "        bin_res = bin(item[0] | item[1]) # 2진법으로 표기하는 메서드 bin()\n",
        "        res = bin_res[2:].zfill(n).replace('1', '#').replace('0', ' ') # 2진법 변환하면 0b11111식으로 나오니까 슬라이싱 필요함\n",
        "        answer.append(res)\n",
        "\n",
        "    return answer\n",
        "\n",
        "solution(n, arr1, arr2)"
      ],
      "metadata": {
        "colab": {
          "base_uri": "https://localhost:8080/"
        },
        "id": "wh6An6_SbM_c",
        "outputId": "a5a7630f-b7b0-44d3-a2eb-a406f6058974"
      },
      "execution_count": 40,
      "outputs": [
        {
          "output_type": "execute_result",
          "data": {
            "text/plain": [
              "['#####', '# # #', '### #', '#  ##', '#####']"
            ]
          },
          "metadata": {},
          "execution_count": 40
        }
      ]
    },
    {
      "cell_type": "markdown",
      "source": [
        "# f-string 문법과 서식 지정자"
      ],
      "metadata": {
        "id": "G88O6iGxiQ_c"
      }
    },
    {
      "cell_type": "code",
      "source": [
        "# 태초에 f-string 없던 시절 코드\n",
        "'안녕 나는 %s! 나이는 %d살!'%('harry', 10)\n",
        "'안녕 나는 {}! 나이는 {}살!'.format('gary', 10)"
      ],
      "metadata": {
        "colab": {
          "base_uri": "https://localhost:8080/",
          "height": 35
        },
        "id": "SAA5SP9zikYu",
        "outputId": "e59376cc-e734-4a2d-a3fa-1b54f7e61520"
      },
      "execution_count": 47,
      "outputs": [
        {
          "output_type": "execute_result",
          "data": {
            "text/plain": [
              "'안녕 나는 gary! 나이는 10살!'"
            ],
            "application/vnd.google.colaboratory.intrinsic+json": {
              "type": "string"
            }
          },
          "metadata": {},
          "execution_count": 47
        }
      ]
    },
    {
      "cell_type": "code",
      "source": [
        "# 기본사용법\n",
        "name = \"Alice\"\n",
        "print(f\"Hello, {name}\")  # 출력: Hello, Alice"
      ],
      "metadata": {
        "colab": {
          "base_uri": "https://localhost:8080/"
        },
        "id": "Dk9lKsrmfAIe",
        "outputId": "ffe74e75-89ba-4a1a-cadb-3394aa36dcd0"
      },
      "execution_count": 41,
      "outputs": [
        {
          "output_type": "stream",
          "name": "stdout",
          "text": [
            "Hello, Alice\n"
          ]
        }
      ]
    },
    {
      "cell_type": "code",
      "source": [
        "# 표현식 사용\n",
        "# 중괄호 안에서 연산하는거 추천하지 않음~ 의도가 모호해져\n",
        "age = 20\n",
        "print(f\"Next year, you will be {age + 1}.\")  # 출력: Next year, you will be 21.\n",
        "\n",
        "def greet(name):\n",
        "    return f\"Hello, {name}\"\n",
        "\n",
        "print(greet(\"Alice\"))  # 출력: Hello, Alice"
      ],
      "metadata": {
        "colab": {
          "base_uri": "https://localhost:8080/"
        },
        "id": "AH5nFUlLic-X",
        "outputId": "f2b197ce-57fe-4da6-b574-c09d7d81574c"
      },
      "execution_count": 42,
      "outputs": [
        {
          "output_type": "stream",
          "name": "stdout",
          "text": [
            "Next year, you will be 21.\n",
            "Hello, Alice\n"
          ]
        }
      ]
    },
    {
      "cell_type": "code",
      "source": [
        "# 포매팅(formatting) 지정자 사용\n",
        "num = 3.14159\n",
        "print(f\"{num:.2f}\")  # 출력: 3.14\n",
        "\n",
        "name = \"Alice\"\n",
        "print(f\"{name:>10}\")  # 출력:      Alice"
      ],
      "metadata": {
        "colab": {
          "base_uri": "https://localhost:8080/"
        },
        "id": "AkoZPjFAifdk",
        "outputId": "1d635fd1-b70e-4aff-c2ce-0a0ff04adfe9"
      },
      "execution_count": 48,
      "outputs": [
        {
          "output_type": "stream",
          "name": "stdout",
          "text": [
            "3.14\n",
            "     Alice\n"
          ]
        }
      ]
    },
    {
      "cell_type": "code",
      "source": [
        "one_length = 5.343123123\n",
        "\n",
        "print(f'{one_length} 입니다.')\n",
        "print(f'{one_length:.1f} 입니다.')\n",
        "print('{0:.2f}'.format(one_length))\n",
        "print('{:.2f}'.format(one_length))"
      ],
      "metadata": {
        "colab": {
          "base_uri": "https://localhost:8080/"
        },
        "id": "NXTqXHmzknlk",
        "outputId": "fa3e6d63-b8dc-4a0d-eb00-a6003863d1da"
      },
      "execution_count": 50,
      "outputs": [
        {
          "output_type": "stream",
          "name": "stdout",
          "text": [
            "5.343123123 입니다.\n",
            "5.3 입니다.\n",
            "5.34\n",
            "5.34\n"
          ]
        }
      ]
    },
    {
      "cell_type": "markdown",
      "source": [
        "### format **길이와 정렬**\n",
        "\n",
        "- {:길이} : 출력할 데이터의 길이를 지정합니다. 문자열(왼쪽 정렬), 숫자(오른쪽 정렬)\n",
        "- {:<길이} : 왼쪽 정렬\n",
        "- {:>길이} : 오른쪽 정렬\n",
        "- {:^길이} : 가운데 정렬"
      ],
      "metadata": {
        "id": "nH0QJb2ajVXw"
      }
    },
    {
      "cell_type": "code",
      "source": [
        "# 이런거 로그 출력할 때 많이 사용. 가운데 정렬해서 이쁜 모양으로~\n",
        "char_a = '5'\n",
        "int_a = 5\n",
        "sample = 1234567890\n",
        "\n",
        "'''기본적으로 {} 포맷팅의 특성을 그대로 가짐'''\n",
        "print(1234567890)\n",
        "print(f'{sample:>5}') # 문자열이 넘어가도 잘리진 않습니다.\n",
        "print(f'{char_a:>5}') # >는 오른쪽정렬\n",
        "print(f'{char_a:<5}') # <는 왼쪽정렬\n",
        "print(f'{char_a:^5}') # ^는 가운데정렬\n",
        "print(f'{int_a:0<5}')# <는 왼쪽정렬, 빈자리를 0으로 채울수도 있음('5'.zfill(5))\n",
        "print(f'{char_a:=^5}') # ^는 가운데정렬 + 빈자리 =로 채우기\n",
        "print(f'{int_a:^10.2f}') # ^ 가운데 정렬하면서 float 타입지정"
      ],
      "metadata": {
        "colab": {
          "base_uri": "https://localhost:8080/"
        },
        "id": "YjtWCrrhjNpc",
        "outputId": "57df398d-0586-4715-d60d-952117256041"
      },
      "execution_count": 56,
      "outputs": [
        {
          "output_type": "stream",
          "name": "stdout",
          "text": [
            "1234567890\n",
            "1234567890\n",
            "    5\n",
            "5    \n",
            "  5  \n",
            "50000\n",
            "==5==\n",
            "   5.00   \n"
          ]
        }
      ]
    },
    {
      "cell_type": "markdown",
      "source": [
        "### f-sting 안에 중괄호 표기"
      ],
      "metadata": {
        "id": "mo5udWW-mCaD"
      }
    },
    {
      "cell_type": "code",
      "source": [
        "print(f\"My set is {{1, 2, 3}}.\")  # 출력: My set is {1, 2, 3}.\n",
        "\n",
        "x = 10\n",
        "print(f\"My set is {{{x}}}.\")  # 출력: My set is {10}."
      ],
      "metadata": {
        "colab": {
          "base_uri": "https://localhost:8080/"
        },
        "id": "6VJFO6bejqIn",
        "outputId": "2e8bd4dc-1347-4582-f817-dcbb935b136b"
      },
      "execution_count": 58,
      "outputs": [
        {
          "output_type": "stream",
          "name": "stdout",
          "text": [
            "My set is {1, 2, 3}.\n",
            "My set is {10}.\n"
          ]
        }
      ]
    },
    {
      "cell_type": "markdown",
      "source": [
        "# 컴프리헨션\n",
        "- 리스트 컴프리헨션만 있는거 아님!\n",
        "- set 컴프리헨션\n",
        "- 제너레이터 컴프리헨션\n",
        "- 딕셔너리 컴프리헨션도 있음!\n",
        "- 가독성 난리나므로 2중 추천안함\n",
        "- for문보다 컴프리헨션이 빠름"
      ],
      "metadata": {
        "id": "JvbxF2Q1mw7Q"
      }
    },
    {
      "cell_type": "markdown",
      "source": [
        "# 비동기와 코루틴"
      ],
      "metadata": {
        "id": "3EMjOOnOnOmX"
      }
    },
    {
      "cell_type": "markdown",
      "source": [
        "## 1. 동기 - 비동기 프로그래밍 개념"
      ],
      "metadata": {
        "id": "PAK4Sql3p0Cx"
      }
    },
    {
      "cell_type": "code",
      "source": [
        "# 구글 코랩은 이미 루프가 돌고 있는 환경이라서 비동기 실습하려면 별도 세팅이 필요함!\n",
        "!pip install nest_asyncio\n",
        "\n",
        "import nest_asyncio\n",
        "\n",
        "nest_asyncio.apply()"
      ],
      "metadata": {
        "colab": {
          "base_uri": "https://localhost:8080/"
        },
        "id": "d9aJPgmdl8nx",
        "outputId": "6378e72c-0005-4583-819f-52517f302d0a"
      },
      "execution_count": 59,
      "outputs": [
        {
          "output_type": "stream",
          "name": "stdout",
          "text": [
            "Requirement already satisfied: nest_asyncio in /usr/local/lib/python3.10/dist-packages (1.5.8)\n"
          ]
        }
      ]
    },
    {
      "cell_type": "code",
      "source": [
        "# 동기 코드 예시\n",
        "import time\n",
        "\n",
        "def job(number):\n",
        "    print(f\"Job {number} started\")\n",
        "    time.sleep(1)  # 매우 오래 걸리는 작업, 일반 sleep은 CPU를 쉬게 합니다.\n",
        "    print(f\"Job {number} completed\")\n",
        "\n",
        "job(1)\n",
        "job(2)\n",
        "job(3)"
      ],
      "metadata": {
        "colab": {
          "base_uri": "https://localhost:8080/"
        },
        "id": "Aex8RqFJo3DY",
        "outputId": "c76cc3ae-4a43-4a13-ec43-a4a86f4e5306"
      },
      "execution_count": 60,
      "outputs": [
        {
          "output_type": "stream",
          "name": "stdout",
          "text": [
            "Job 1 started\n",
            "Job 1 completed\n",
            "Job 2 started\n",
            "Job 2 completed\n",
            "Job 3 started\n",
            "Job 3 completed\n"
          ]
        }
      ]
    },
    {
      "cell_type": "code",
      "source": [
        "# 비동기 코드 예시\n",
        "import asyncio\n",
        "\n",
        "async def job(number):\n",
        "    print(f\"Job {number} started\")\n",
        "    await asyncio.sleep(1) # 매우 오래 걸리는 작업, asyncio.sleep은 비동기 처리를 할 수 있도록 합니다.(다른 작업이 가능합니다.)\n",
        "    print(f\"Job {number} completed\")\n",
        "\n",
        "async def main():\n",
        "    await asyncio.gather(job(1), job(2), job(3)) # await asyncio.wait([job(1), job(2), job(3)])\n",
        "\n",
        "asyncio.run(main())\n",
        "print('hello world')"
      ],
      "metadata": {
        "colab": {
          "base_uri": "https://localhost:8080/"
        },
        "id": "L-DbjJGIo61I",
        "outputId": "7b195639-bd68-406a-cc67-3cb1e5da101a"
      },
      "execution_count": 63,
      "outputs": [
        {
          "output_type": "stream",
          "name": "stdout",
          "text": [
            "Job 1 started\n",
            "Job 2 started\n",
            "Job 3 started\n",
            "Job 1 completed\n",
            "Job 2 completed\n",
            "Job 3 completed\n",
            "hello world\n"
          ]
        }
      ]
    },
    {
      "cell_type": "code",
      "source": [
        "# 비동기 코드 예시 2\n",
        "async def job(number):\n",
        "    print(f\"Job {number} started\")\n",
        "    await asyncio.sleep(1)  # 매우 오래 걸리는 작업\n",
        "    print(f\"Job {number} completed\")\n",
        "\n",
        "asyncio.run(job(1))\n",
        "asyncio.run(job(2))\n",
        "asyncio.run(job(3))"
      ],
      "metadata": {
        "colab": {
          "base_uri": "https://localhost:8080/"
        },
        "id": "Z1VgRW0Oo9_8",
        "outputId": "c5178d2c-0fd7-439c-c389-3ebcf731ee1b"
      },
      "execution_count": 65,
      "outputs": [
        {
          "output_type": "stream",
          "name": "stdout",
          "text": [
            "Job 1 started\n",
            "Job 1 completed\n",
            "Job 2 started\n",
            "Job 2 completed\n",
            "Job 3 started\n",
            "Job 3 completed\n"
          ]
        }
      ]
    },
    {
      "cell_type": "code",
      "source": [
        "# 코랩과 .py 환경은 다름!!\n",
        "# 파이썬에서는 await를 함수 밖에 허용하지 않는다.\n",
        "\n",
        "# 코랩 ver\n",
        "import asyncio\n",
        "\n",
        "async def job(number):\n",
        "    print(f\"Job {number} started\")\n",
        "    await asyncio.sleep(1)  # 매우 오래 걸리는 작업\n",
        "    print(f\"Job {number} completed\")\n",
        "\n",
        "await job(1)\n",
        "await job(2)\n",
        "await job(3)\n",
        "\n",
        "\n",
        "# .py ver\n",
        "import asyncio\n",
        "\n",
        "async def job(number):\n",
        "    print(f\"Job {number} started\")\n",
        "    await asyncio.sleep(1)  # 매우 오래 걸리는 작업\n",
        "    print(f\"Job {number} completed\")\n",
        "\n",
        "async def main():\n",
        "    await job(1)\n",
        "    await job(2)\n",
        "    await job(3)\n",
        "\n",
        "asyncio.run(main())"
      ],
      "metadata": {
        "id": "zdLesJlLpQ_R"
      },
      "execution_count": null,
      "outputs": []
    },
    {
      "cell_type": "markdown",
      "source": [
        "## 2. 코루틴\n",
        "- `async def`: 코루틴 함수를 선언하는 데 사용됩니다. 이 함수는 비동기적으로 실행될 수 있는 코루틴 객체를 반환합니다.\n",
        "- `await`: 코루틴의 작업이 완료될 때까지 기다린 후 결과를 반환합니다.\n",
        "- `asyncio.run()`: 코루틴을 실행하는 함수입니다. 이벤트 루프를 생성하고, 주어진 코루틴을 실행한 후 이벤트 루프를 닫습니다.\n",
        "- `asyncio.gather()`: 여러 코루틴을 동시에 실행하도록 스케줄링하는 함수입니다.\n",
        "\n",
        "참고로, 코루틴은 파이썬 3.5부터 `async` / `await` 구문을 통해 지원되기 시작했습니다."
      ],
      "metadata": {
        "id": "Z-EM50vVp4TJ"
      }
    },
    {
      "cell_type": "code",
      "source": [
        "# 아래 코드는 async를 붙인 함수, 코루틴 함수입니다.\n",
        "# await 키워드를 만나면 코루틴 실행을 잠시 중단하고, 코루틴의 작업이 완료될 때까지 기다린 후 결과를 반환합니다.\n",
        "async def job():\n",
        "    print('job')\n",
        "\n",
        "print(job) # <function job at 0x7fc8cb38ef80>\n",
        "job() # <coroutine object job at 0x7fc8cb32bc30>, print('job')이 실행되진 않습니다!\n",
        "\n",
        "async def main():\n",
        "    return await job()\n",
        "\n",
        "main() # <coroutine object main at 0x7fc8cb22bf40>\n",
        "print(await main()) # None"
      ],
      "metadata": {
        "id": "-wA5fHhiqCM6"
      },
      "execution_count": null,
      "outputs": []
    },
    {
      "cell_type": "code",
      "source": [
        "# 비동기 만들어보기~\n",
        "async def waitfor():\n",
        "    for i in range(1, 4):\n",
        "        print(f\"{i}초\")\n",
        "        time.sleep(1)\n",
        "\n",
        "async def start():\n",
        "    print(\"실행시작\")\n",
        "    await waitfor()\n",
        "    print(\"실행완\")\n",
        "\n",
        "asyncio.run(start()) # 파이썬은 코루틴 실행하는 함수가 따로 있음!"
      ],
      "metadata": {
        "colab": {
          "base_uri": "https://localhost:8080/"
        },
        "id": "-CdLV-C7qJlf",
        "outputId": "62923493-8743-40fc-90a7-10b432ad68af"
      },
      "execution_count": 74,
      "outputs": [
        {
          "output_type": "stream",
          "name": "stdout",
          "text": [
            "실행시작\n",
            "1초\n",
            "2초\n",
            "3초\n",
            "실행완\n"
          ]
        }
      ]
    },
    {
      "cell_type": "markdown",
      "source": [
        "# 정규표현식\n",
        "* Anchors (처음과 끝)\n",
        "    ```\n",
        "    /^hello/gm : 처음에 hello\n",
        "    /hello$/gm : 끝에 hello\n",
        "    ```\n",
        "\n",
        "* dot (모든 문자)\n",
        "    ```\n",
        "    /.ello/gm : hello, Hello, vello\n",
        "    /./gm : 모든 문자열(*과 같은 역할)\n",
        "    /....../gm : 모든 6개의 문자열\n",
        "    ```\n",
        "\n",
        "* 대괄호 (택1)\n",
        "    ```\n",
        "    /h[eay]llo/gm : 대괄호 안에 문자는 문자 1개에 해당!\n",
        "    /h[ea]l../gm : 총 5개의 문자\n",
        "    ```\n",
        "\n",
        "* 대쉬 (범위)\n",
        "    ```\n",
        "    /h[a-f]llo/gm\n",
        "    /[a-zA-Z0-9]/gm : 모든 알파뱃과 숫자를 찾음\n",
        "    /[^a-zA-Z0-9]/gm : 나머지 문자열을 찾음\n",
        "    ```\n",
        "\n",
        "* 캐럿(caret) (대괄호 안에 들어가면 부정)\n",
        "    * 아래 경우 a와 e가 모두 부정\n",
        "        ```\n",
        "        /h[^ae]llo/gm : 대괄호 안에 있다면 not에 의미\n",
        "        ```\n",
        "\n",
        "* 소괄호 (서브패턴, 그룹)\n",
        "    * 패턴으로 외우시는 것보다 다양한 예제로 습득하시기를 권해드립니다.\n",
        "    ```\n",
        "    /(on|ues|rida)/gm : 그룹 1로 3개 중 매칭되는 패턴 찾음\n",
        "    ```\n",
        "\n",
        "* 수량자\n",
        "    ```\n",
        "    _* : 앞에 있는 문자가 0개 ~ N개\n",
        "    _+ : 앞에 있는 문자가 1개 ~ N개\n",
        "    _? : 앞에 있는 문자가 0개 ~ 1개\n",
        "\n",
        "    {3} : 3개\n",
        "    {3,} : 3개 이상\n",
        "    {1,3} : 1개 ~ 3개\n",
        "\n",
        "    _* : 앞에 있는 문자가 0개 ~ N개 ({0,})\n",
        "    _+ : 앞에 있는 문자가 1개 ~ N개({1,})\n",
        "    _? : 앞에 있는 문자가 0개 ~ 1개 ({0,1})\n",
        "\n",
        "    /[0-9]{3}[-.* ][0-9]{4}[-.* ][0-9]{4}/gm\n",
        "    /[0-9a-zA-Z]{2,3}[-.* ][0-9]{3,4}[-.* ][0-9]{4}/gm\n",
        "    /[0-9a-zA-Z]+@[0-9a-zA-Z]+.[a-zA-Z]+/gm\n",
        "    ```\n",
        "\n",
        "* 캐릭터 클래스\n",
        "    ```\n",
        "    /\\w/gm : 워드\n",
        "    /\\w{5} /gm : 5개의 글자와 스페이스 하나\n",
        "    /\\W/gm : not 워드\n",
        "    /\\d/gm : 숫자\n",
        "    /\\D/gm : not 숫자\n",
        "    /\\s/gm : 스페이스\n",
        "    /\\S/gm : not 스페이스\n",
        "    ```\n",
        "\n",
        "* 이스케이프문자\n",
        "    ```\n",
        "    /\\[.*]/gm : 대괄호([]) 안에 감싸여진 문자열\n",
        "    /\\(.*\\)/gm : 소괄호 안에 감싸여진 문자열\n",
        "    /\\\\.*\\//gm : 이미 사용되고 있는 특수문자로 감싸여진 문자열\n",
        "    /-.*-/gm : 이스케이프 문자를 사용할 필요가 없는 경우\n",
        "    /\\^\\^/gm : 이스케이프 문자가 필요한 경우\n",
        "    /:\\)/gm : 이스케이프 문자가 필요한 경우\n",
        "    ```\n"
      ],
      "metadata": {
        "id": "tvodOjc-9Rji"
      }
    },
    {
      "cell_type": "code",
      "source": [
        "# hello라는 문자열을 대소문자 가려서 찾아주기\n",
        "/hello/gm #/gm을 '플래그'라고 함\n",
        "\n",
        "010[- .]?[0-9]{4}[- .]?[0-9]{4} # 전화번호 패턴\n",
        "^\\d{3}[- .]\\d{3,4}[- .]\\d{3,4}$ # 전화번호 패턴2\n",
        "[a-zA-Z0-9+-_.]+@[a-zA-Z0-9-]+\\.[a-zA-Z0-9-.]+ # 이메일 패턴"
      ],
      "metadata": {
        "id": "doYasyIYq9TI"
      },
      "execution_count": null,
      "outputs": []
    },
    {
      "cell_type": "markdown",
      "source": [
        "## 정규표현식에서 자주 사용되는 패턴\n",
        "- compile\n",
        "- findall\n",
        "    ```\n",
        "    # 1\n",
        "    p = re.compile(r'([0-9]|10)([SDT])([\\*\\#]?)')\n",
        "    p.findall('1S2D*3T')\n",
        "\n",
        "    # 2\n",
        "    re.findall(r'([0-9]|10)([SDT])([\\*\\#]?)', '1S2D*3T')\n",
        "    ```"
      ],
      "metadata": {
        "id": "rHY_6Fu2Kh7a"
      }
    },
    {
      "cell_type": "code",
      "source": [
        "# https://school.programmers.co.kr/learn/courses/30/lessons/17682\n",
        "# 입력 1S2D*3T\t출력 37\n",
        "# 1S = 1점 / 2D = 4점 / * = 앞점수 2배 = 10 / 3T = 27점\n",
        "\n",
        "dartResult = \"1S10D*3T\"\n",
        "\n",
        "# 보통 for문 풀이 (스타상, 아차상은 빼고 진행)\n",
        "# 이 경우 10을 못받아옴! 0-9 한자릿수만 가능!\n",
        "def solution(dartResult):\n",
        "    l = []\n",
        "    for i in dartResult:\n",
        "        if i.isdigit():\n",
        "            l.append(int(i))\n",
        "        elif i == 'S':\n",
        "            l[-1] = l[-1] ** 1\n",
        "        elif i == 'D':\n",
        "            l[-1] = l[-1] ** 2\n",
        "        elif i == 'T':\n",
        "            l[-1] = l[-1] ** 3\n",
        "\n",
        "    return sum(l)\n",
        "\n",
        "solution(dartResult)"
      ],
      "metadata": {
        "colab": {
          "base_uri": "https://localhost:8080/"
        },
        "id": "e1TRbKJdKqR7",
        "outputId": "061ed414-248c-4137-b9ab-3fa56bb23b05"
      },
      "execution_count": 83,
      "outputs": [
        {
          "output_type": "execute_result",
          "data": {
            "text/plain": [
              "29"
            ]
          },
          "metadata": {},
          "execution_count": 83
        }
      ]
    },
    {
      "cell_type": "code",
      "source": [
        "# 정규표현식 풀이 ( * # 무시한 풀이임)\n",
        "import re\n",
        "\n",
        "dartResult = \"1S10D*3T\"\n",
        "def solution2(dartResult):\n",
        "    reg_res = list(re.findall(r'([0-9]|10)([SDT])([\\*\\#])?', dartResult))\n",
        "    res = int(reg_res[0][0]) + (int(reg_res[1][0]) ** 2) + (int(reg_res[2][0]) ** 3)\n",
        "    return res\n",
        "\n",
        "solution2(dartResult)"
      ],
      "metadata": {
        "colab": {
          "base_uri": "https://localhost:8080/"
        },
        "id": "Fq0XBgOoMh1l",
        "outputId": "6d7cacdd-50bd-4ea1-bf74-3c98204059ce"
      },
      "execution_count": 87,
      "outputs": [
        {
          "output_type": "execute_result",
          "data": {
            "text/plain": [
              "128"
            ]
          },
          "metadata": {},
          "execution_count": 87
        }
      ]
    },
    {
      "cell_type": "code",
      "source": [
        "# 모음제거 문제\n",
        "# https://school.programmers.co.kr/learn/courses/30/lessons/120849\n",
        "my_string = \"nice to meet you\"\n",
        "# 출력 = \"nc t mt y\"\n",
        "\n",
        "# maketrans 풀이\n",
        "def solution(my_string):\n",
        "    table = my_string.maketrans(\"aeiou\", \"     \")\n",
        "    return my_string.translate(table)\n",
        "\n",
        "solution(my_string)\n",
        "\n",
        "# replace 풀이 1\n",
        "def solution(my_string):\n",
        "    return my_string.replace('a', '').replace('e', '').replace('i', '').replace('o', '').replace('u', '')\n",
        "\n",
        "# replace 풀이 2\n",
        "def solution(my_string):\n",
        "    string = 'aeiou'\n",
        "    for i in string:\n",
        "        my_string = my_string.replace(i, '')\n",
        "    return\n",
        "\n",
        "# 정규표현식 풀이\n",
        "import re\n",
        "\n",
        "def solution(my_string):\n",
        "    return re.sub(r\"[aeiou]\", \"\", my_string)"
      ],
      "metadata": {
        "colab": {
          "base_uri": "https://localhost:8080/",
          "height": 35
        },
        "id": "YRZERH1tNfSu",
        "outputId": "d11fb67f-db09-467d-ab0c-e7ce4a05c0f5"
      },
      "execution_count": 94,
      "outputs": [
        {
          "output_type": "execute_result",
          "data": {
            "text/plain": [
              "'n c  t  m  t y  '"
            ],
            "application/vnd.google.colaboratory.intrinsic+json": {
              "type": "string"
            }
          },
          "metadata": {},
          "execution_count": 94
        }
      ]
    },
    {
      "cell_type": "markdown",
      "source": [
        "## 정규표현식 메소드\n",
        "- `re.compile('패턴').match(문자열)`\t문자열 처음이 정규식 매칭 여부 판단(있을 경우 object 주소 반환, 없을 경우 None)\n",
        "- `re.compile('패턴').search(문자열)`\t문자열 전체에서 정규식 매칭 여부 판단(있을 경우 object 주소 반환, 없을 경우 None)\n",
        "- `re.compile('패턴').findall(문자열)`\t정규식과 매칭되면 리스트로 반환\n",
        "- `re.compile('패턴').finditer(문자열)`\t정규식과 매칭되면 순회가능 객체로 반환\n",
        "- `re.compile('패턴').split(문자열)`\t패턴대로 문자열 분할\n",
        "- `re.compile('패턴').sub(대체문구, 문자열)`\t패턴을 대체문구로 대체함(replace)\n",
        "- `re.compile('패턴').fullmatch(문자열)`\t문자열 전체가 정규식에 매칭되는지 여부 판단.\n",
        "\n",
        "매서드는 아래와 같이도 사용할 수 있습니다.\n",
        "\n",
        "```python\n",
        "re.search(패턴, 문자열, flags=0)\n",
        "```\n",
        "\n",
        "또한 위 매서드로 일치한 문자열 정보를 찾았을 때 아래와 같은 메서드를 사용하여 저장된 객체에 접근할 수 있습니다."
      ],
      "metadata": {
        "id": "-s-IPkzlUXB9"
      }
    },
    {
      "cell_type": "code",
      "source": [
        "# 복습 X\n",
        "# 이렇게도 쓴다~ 정도로만 보기\n",
        "import re\n",
        "\n",
        "print(re.sub(r'([0-9]{3})-([0-9]{4})-([0-9]{4})', r'\\1!\\2!\\3', '010-5000-3000'))\n",
        "print(re.sub(r'([0-9]{3})-([0-9]{4})-([0-9]{4})', r'\\1/\\2/\\3', '010-5000-3000'))\n",
        "print(re.sub(r'([0-9]{3})-([0-9]{4})-([0-9]{4})', r'[\\1][\\2][\\3]', '010-5000-3000'))\n",
        "print(re.sub(r'([0-9]{3})-([0-9]{4})-([0-9]{4})', r'[\\1]-[\\2]-[\\3]', '010-5000-3000'))\n",
        "print(re.sub(r'([0-9]{3})-([0-9]{4})-([0-9]{4})', r'지역번호: \\1 전화번호: \\2\\3', '010-5000-3000'))"
      ],
      "metadata": {
        "id": "q2WhFx-cQc4c"
      },
      "execution_count": null,
      "outputs": []
    },
    {
      "cell_type": "code",
      "source": [
        "# 복습 XXX\n",
        "# 정규표현식에 그룹네이밍 가능함\n",
        "# 한 시니어때.. 쓸 일 있으려나\n",
        "import re\n",
        "\n",
        "print(re.sub(r'(?P<one>[0-9]{3})-(?P<two>[0-9]{4})-(?P<three>[0-9]{4})', r'\\g<one>!!\\g<two>!!\\g<three>', '010-5000-3000'))"
      ],
      "metadata": {
        "colab": {
          "base_uri": "https://localhost:8080/"
        },
        "id": "vd6cYli1YWse",
        "outputId": "06fe29ec-0cac-4b05-c677-f449b5ae52c2"
      },
      "execution_count": 95,
      "outputs": [
        {
          "output_type": "stream",
          "name": "stdout",
          "text": [
            "010!!5000!!3000\n"
          ]
        }
      ]
    },
    {
      "cell_type": "code",
      "source": [
        "# 마크다운 파싱해서 html로 만드는 코드\n",
        "import re\n",
        "\n",
        "text = '''# This is a h1\n",
        "## This is a h2\n",
        "### This is a h3\n",
        "\n",
        "**This is bold text**\n",
        "'''\n",
        "\n",
        "def markdown_to_html(markdown):\n",
        "    html = re.sub(r'### (.*)', r'<h3>\\1<h3>', markdown)\n",
        "    html = re.sub(r'## (.*)', r'<h2>\\1<h2>', html)\n",
        "    html = re.sub(r'# (.*)', r'<h1>\\1</h1>', html)\n",
        "    html = re.sub(r'\\*\\*(.*)\\*\\*', r'<strong>\\1</strong>', html)\n",
        "    return html\n",
        "\n",
        "print(markdown_to_html(text))"
      ],
      "metadata": {
        "colab": {
          "base_uri": "https://localhost:8080/"
        },
        "id": "dJUE6pT9bbmX",
        "outputId": "8e33c549-a315-4ce7-cf4a-56cd67086240"
      },
      "execution_count": 96,
      "outputs": [
        {
          "output_type": "stream",
          "name": "stdout",
          "text": [
            "<h1>This is a h1</h1>\n",
            "<h2>This is a h2<h2>\n",
            "<h3>This is a h3<h3>\n",
            "\n",
            "<strong>This is bold text</strong>\n",
            "\n"
          ]
        }
      ]
    },
    {
      "cell_type": "markdown",
      "source": [
        "# 오늘의 문제\n",
        "- 문제 1: 이메일 주소 변경하기 (sub 사용)<br/>\n",
        "문제: 주어진 문자열에서 모든 이메일 주소를 user@weniv.co.kr으로 변경하시오.\n",
        "\n",
        "```\n",
        "예시 입력: \"저의 이메일 주소는 kim123@gmail.com입니다. 친구의 이메일 주소는 lee456@gmail.com입니다.\"\n",
        "예시 출력: \"저의 이메일 주소는 user@weniv.co.kr입니다. 친구의 이메일 주소는 user@weniv.co.kr입니다.\"\n",
        "```\n",
        "힌트: 이메일 주소를 찾기 위한 정규표현식은 \\b[A-Za-z0-9._%+-]+@[A-Za-z0-9.-]+\\.[A-Z|a-z]{2,}\\b를 사용할 수 있습니다.<br/>\n",
        "\n",
        "\n",
        "- 문제 2: HTML 태그 제거하기 (sub 사용)<br/>\n",
        "문제: 주어진 HTML 문자열에서 모든 HTML 태그를 제거하고 텍스트만 남기시오.<br/><br/>\n",
        "\n",
        "```\n",
        "예시 입력: \"<p>이것은 <b>예시</b> 문장입니다.</p>\"\n",
        "예시 출력: \"이것은 예시 문장입니다.\"\n",
        "```\n",
        "\n",
        "힌트: HTML 태그를 찾기 위한 정규표현식은 <[^>]+>를 사용할 수 있습니다."
      ],
      "metadata": {
        "id": "Jzoekl-uYWbJ"
      }
    },
    {
      "cell_type": "code",
      "source": [
        "# 문제1. 이메일 주소 변경\n",
        "import re\n",
        "\n",
        "test_string = \"저의 이메일 주소는 kim123@gmail.com입니다. 친구의 이메일 주소는 lee456@gmail.com입니다.\"\n",
        "\n",
        "def solution(datastring):\n",
        "    # 정규표현식 힌트 있으나 직접 작성해보기\n",
        "    return re.sub(r\"([a-zA-Z0-9._-]+@[a-zA-Z0-9_-]+\\.[a-zA-Z]+)\", \"user@weniv.co.kr\", datastring)\n",
        "\n",
        "solution(test_string)"
      ],
      "metadata": {
        "colab": {
          "base_uri": "https://localhost:8080/",
          "height": 35
        },
        "id": "T55McjqedN3E",
        "outputId": "700efad3-a595-456a-bac5-dbf993c478f0"
      },
      "execution_count": 104,
      "outputs": [
        {
          "output_type": "execute_result",
          "data": {
            "text/plain": [
              "'저의 이메일 주소는 user@weniv.co.kr입니다. 친구의 이메일 주소는 user@weniv.co.kr입니다.'"
            ],
            "application/vnd.google.colaboratory.intrinsic+json": {
              "type": "string"
            }
          },
          "metadata": {},
          "execution_count": 104
        }
      ]
    },
    {
      "cell_type": "code",
      "source": [
        "# 문제2. HTML 태그 제거\n",
        "import re\n",
        "\n",
        "test_string = \"<p>이것은 <b>예시</b> 문장입니다.</p>\"\n",
        "\n",
        "def solution(datastring):\n",
        "    return re.sub(r\"<\\/?[a-zA-Z]+>\", \"\", datastring)\n",
        "\n",
        "solution(test_string)"
      ],
      "metadata": {
        "colab": {
          "base_uri": "https://localhost:8080/",
          "height": 35
        },
        "id": "bNWiY2lRfkvU",
        "outputId": "fb2862c9-b24c-4c0b-b457-1611dd058422"
      },
      "execution_count": 107,
      "outputs": [
        {
          "output_type": "execute_result",
          "data": {
            "text/plain": [
              "'이것은 예시 문장입니다.'"
            ],
            "application/vnd.google.colaboratory.intrinsic+json": {
              "type": "string"
            }
          },
          "metadata": {},
          "execution_count": 107
        }
      ]
    },
    {
      "cell_type": "code",
      "source": [],
      "metadata": {
        "id": "TtCq3ZtEhUkZ"
      },
      "execution_count": null,
      "outputs": []
    }
  ]
}