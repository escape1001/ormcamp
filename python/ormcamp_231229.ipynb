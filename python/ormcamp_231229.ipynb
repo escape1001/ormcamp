{
  "nbformat": 4,
  "nbformat_minor": 0,
  "metadata": {
    "colab": {
      "provenance": [],
      "toc_visible": true,
      "authorship_tag": "ABX9TyOgNHo7lcbFLHCqJhKsH8+/",
      "include_colab_link": true
    },
    "kernelspec": {
      "name": "python3",
      "display_name": "Python 3"
    },
    "language_info": {
      "name": "python"
    }
  },
  "cells": [
    {
      "cell_type": "markdown",
      "metadata": {
        "id": "view-in-github",
        "colab_type": "text"
      },
      "source": [
        "<a href=\"https://colab.research.google.com/github/escape1001/ormcamp/blob/main/python/ormcamp_231229.ipynb\" target=\"_parent\"><img src=\"https://colab.research.google.com/assets/colab-badge.svg\" alt=\"Open In Colab\"/></a>"
      ]
    },
    {
      "cell_type": "code",
      "execution_count": 1,
      "metadata": {
        "colab": {
          "base_uri": "https://localhost:8080/"
        },
        "id": "XcxX3mVA748W",
        "outputId": "9b9f4c4b-d6ca-429d-c72d-02ee3e772fbf"
      },
      "outputs": [
        {
          "output_type": "stream",
          "name": "stdout",
          "text": [
            "Hello World\n"
          ]
        }
      ],
      "source": [
        "print(\"Hello World\")"
      ]
    },
    {
      "cell_type": "markdown",
      "source": [
        "# 1. 구글코랩 단축키\n",
        "`Ctrl(Cmd)` + `M` `H` : 키보드 환경설정. 단축키 모아볼 수 있음\n",
        "\n",
        "## 셀 실행 단축키\n",
        "- `Ctrl(Cmd)` + `Enter` : 해당 셀 바로 실행\n",
        "- `Alt(Option)` + `Enter` : 해당 셀 실행 후 코드블록 하단 추가\n",
        "- `Shift` + `Enter` : 해당 셀 실행 + 커서를 다음 셀로 이동\n",
        "\n",
        "\n",
        "## 셀 삽입/수정 단축키\n",
        "- `Ctrl(Cmd)` + `M` `A` (Cmd 눌러놓고 순서대로 입력) : 코드 셀 위에 삽입\n",
        "- `Ctrl(Cmd)` + `M` `B` : 코드 셀 아래에 삽입\n",
        "- `Ctrl(Cmd)` + `M` `D` : 코드 셀 위에 삽입\n",
        "- `Ctrl(Cmd)` + `M` `Y` : 코드 셀로 변경\n",
        "- `Ctrl(Cmd)` + `M` `M` : 마크다운 셀로 변경\n",
        "- `Ctrl(Cmd)` + `M` `Z` : 코드 실행 취소\n",
        "\n",
        "## 코드 수정 단축키\n",
        "- `Ctrl(Cmd)` + `Alt(Option)` + 화살표 위아래 : 같은 선상의 여러 줄 동시 수정\n",
        "- `Alt(Option)` + `Shift` + 화살표 위아래 : 해당 라인 위아래 복사해서 붙여넣기\n",
        "- `Alt(Option)` + `Shift` + 화살표 위아래 : 해당 라인 위아래 이동\n",
        "- `Ctrl(Cmd)` + `D` : 같은 내용 반복 선택\n",
        "- `Ctrl(Cmd)` + `Shift` + `L` : 같은 내용 전체 선택\n",
        "- `Ctrl(Cmd)` + `Z` : 작업 취소\n",
        "- `Ctrl(Cmd)` + `/` : 해당 줄 주석으로 전환\n",
        "- `Home`, `End` : 해당 라인의 양 끝으로 이동\n",
        "- `Tab`, `Ctrl` + `]` : 들여쓰기\n",
        "- `Shift` + `Tab`, `Ctrl` + `[` : 내어쓰기\n"
      ],
      "metadata": {
        "id": "Bais7oSF9qZw"
      }
    },
    {
      "cell_type": "markdown",
      "source": [
        "# 2. 마크다운\n",
        "## 2.1 헤더\n",
        "### 4.1.1 사용법\n",
        "`#`을 사용해 제목을 입력하는 기능 *(우와 이거 쓰니까 코랩 목차탭에 예쁘게 정리되네!)*\n",
        "\n",
        "## 2.2 강조\n",
        "- *강조* : 앞뒤에 `*` 붙여서 기울임 강조\n",
        "- **강조** : 앞뒤에 `**` 붙여서 굵기 강조\n",
        "\n",
        "## 2.3 목록(Lists)\n",
        "1. 순서가\n",
        "2. 있는\n",
        "3. 리스트\n",
        "\n",
        "* 순서가\n",
        "* 없는\n",
        "* 리스트\n",
        "\n",
        "## 2.4 링크 삽입\n",
        "- 사용법 : `[텍스트](URL)` 형식을 사용하여 하이퍼링크를 삽입한다.<br/>\n",
        "ex_ `[위니브 파이썬 알고리즘](https://pyalgo.co.kr/)`<br/>\n",
        "[위니브 파이썬 알고리즘](https://pyalgo.co.kr/)\n",
        "\n",
        "## 2.5 이미지 삽입\n",
        "- 사용법 : `![대체텍스트](URL)` 형식을 사용하여 하이퍼링크를 삽입한다.<br/>\n",
        "ex_ `![이미지테스트](https://pyalgo.co.kr/src/pages/img/1_2.webp)`<br/>\n",
        "![이미지테스트](https://pyalgo.co.kr/src/pages/img/1_2.webp)\n",
        "\n",
        "## 2.6 코드 삽입\n",
        "- 인라인 코드 : `을 사용하여 텍스트 내에 한줄짜리 코드를 삽입합니다.\n",
        "- 코드 블록 : ````을 사용하여 텍스트 내에 한줄짜리 코드를 삽입합니다.\n",
        "\n",
        "`print(\"Hello World\")`\n",
        "\n",
        "```\n",
        "print(\"Hello World\")\n",
        "print(\"Hello World\")\n",
        "print(\"Hello World\")\n",
        "```\n",
        "\n",
        "## 2.7 기타\n",
        "- ~~취소선~~ : `~~취소선~~`\n",
        "- 인용문 : `>` 사용\n",
        "> 인용문 1입니다.\n",
        ">> 인용문 2입니다.\n",
        "---\n",
        "- 구분선 : `---`\n",
        "---"
      ],
      "metadata": {
        "id": "-Juvyi8ZJuF2"
      }
    }
  ]
}