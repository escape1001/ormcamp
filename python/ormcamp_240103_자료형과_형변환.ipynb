{
  "nbformat": 4,
  "nbformat_minor": 0,
  "metadata": {
    "colab": {
      "provenance": [],
      "authorship_tag": "ABX9TyPAxrpQHuzu1drr2/iVQFjO",
      "include_colab_link": true
    },
    "kernelspec": {
      "name": "python3",
      "display_name": "Python 3"
    },
    "language_info": {
      "name": "python"
    }
  },
  "cells": [
    {
      "cell_type": "markdown",
      "metadata": {
        "id": "view-in-github",
        "colab_type": "text"
      },
      "source": [
        "<a href=\"https://colab.research.google.com/github/escape1001/ormcamp/blob/main/python/ormcamp_240103_%EC%9E%90%EB%A3%8C%ED%98%95%EA%B3%BC_%ED%98%95%EB%B3%80%ED%99%98.ipynb\" target=\"_parent\"><img src=\"https://colab.research.google.com/assets/colab-badge.svg\" alt=\"Open In Colab\"/></a>"
      ]
    },
    {
      "cell_type": "markdown",
      "source": [
        "# 문자열\n",
        "\n",
        "## 1. 문자열 자료형이란?\n",
        "- 파이썬 문자열 특 : 연산 가능함(ㅋㅋㅋ왜죠..)\n",
        "- 문자'열'이기 때문에 순회할 수 있는 객체임 (시퀀스 형 자료형)"
      ],
      "metadata": {
        "id": "Z8THazYPRkrF"
      }
    },
    {
      "cell_type": "code",
      "execution_count": 3,
      "metadata": {
        "colab": {
          "base_uri": "https://localhost:8080/",
          "height": 105
        },
        "id": "zo_LTW18OK_-",
        "outputId": "741f3914-4754-41b4-d4ab-015fb8e6d8da"
      },
      "outputs": [
        {
          "output_type": "stream",
          "name": "stdout",
          "text": [
            "\n",
            "여러줄 입력 가능함\n",
            "별일이다222\n",
            "\n"
          ]
        },
        {
          "output_type": "execute_result",
          "data": {
            "text/plain": [
              "'\\n여러줄 입력 가능함\\n별일이다\\n'"
            ],
            "application/vnd.google.colaboratory.intrinsic+json": {
              "type": "string"
            }
          },
          "metadata": {},
          "execution_count": 3
        }
      ],
      "source": [
        "# 1.1 문자열 생성 예제\n",
        "example_1 = '문자열'\n",
        "example_2 = \"이렇게\"\n",
        "\n",
        "example_3 = '''\n",
        "여러줄 입력 가능함\n",
        "별일이다\n",
        "'''\n",
        "\n",
        "example_4 = \"\"\"\n",
        "여러줄 입력 가능함\n",
        "별일이다222\n",
        "\"\"\"\n",
        "\n",
        "print(example_4);\n",
        "example_3 # 이 경우 escape문자 같이 나옴(\\n)"
      ]
    },
    {
      "cell_type": "code",
      "source": [
        "# 1.2 문자열 연산 예제\n",
        "x = \"hello\"\n",
        "y = \"world\"\n",
        "\n",
        "print(f\"덧셈 예제 : {x + y}\")\n",
        "print(f\"곱셈 예제 : {x * 3}\")"
      ],
      "metadata": {
        "colab": {
          "base_uri": "https://localhost:8080/"
        },
        "id": "Nm-Yb_17ZHru",
        "outputId": "4cb84a19-069d-480d-83d8-865a823f2720"
      },
      "execution_count": 5,
      "outputs": [
        {
          "output_type": "stream",
          "name": "stdout",
          "text": [
            "덧셈 예제 : helloworld\n",
            "곱셈 예제 : hellohellohello\n"
          ]
        }
      ]
    },
    {
      "cell_type": "code",
      "source": [
        "# 1.3 문자열 인덱싱 예제\n",
        "s = '위니브 월드!'\n",
        "print(s[0]) # '위'\n",
        "print(s[-1]) # '!' 음수는 역순임"
      ],
      "metadata": {
        "colab": {
          "base_uri": "https://localhost:8080/"
        },
        "id": "wN-NPLlMZnSA",
        "outputId": "de1bf25f-9417-4901-ce2f-939ede6caa76"
      },
      "execution_count": 6,
      "outputs": [
        {
          "output_type": "stream",
          "name": "stdout",
          "text": [
            "위\n",
            "!\n"
          ]
        }
      ]
    },
    {
      "cell_type": "code",
      "source": [
        "# 1.4.1 문자열 슬라이싱 예제\n",
        "# [start:stop:step] 형태로 사용\n",
        "\n",
        "s = 'weniv CEO licat'\n",
        "print(s[6:]) # 출력 : CEO licat / 6번째 문자~끝까지\n",
        "print(s[:]) # 출력 : weniv CEO licat / 전부\n",
        "print(s[::-1]) # 출력 : tacil OEC vinew / 역순으로 전부\n",
        "print(s[::2]) # 출력 : wnvCOlct / 두글자 단위로 건너뜀(공백도 포함!)"
      ],
      "metadata": {
        "colab": {
          "base_uri": "https://localhost:8080/"
        },
        "id": "ze7aLOZsZ06r",
        "outputId": "5663cb02-b48f-4cb7-d6b2-105bb5b1643d"
      },
      "execution_count": 8,
      "outputs": [
        {
          "output_type": "stream",
          "name": "stdout",
          "text": [
            "CEO licat\n",
            "weniv CEO licat\n",
            "tacil OEC vinew\n",
            "wnvCOlct\n"
          ]
        }
      ]
    },
    {
      "cell_type": "code",
      "source": [
        "# 1.4.2 문자열 슬라이싱 실무예제\n",
        "# 아래 파일명을 확장자 떼고 슬라이싱 / 확장자만 슬라이싱\n",
        "s = 'weniv_licat.png'\n",
        "\n",
        "print(f\"파일명 : {s[:-4]}\")\n",
        "print(f\"확장가 : {s[-3:]}\")"
      ],
      "metadata": {
        "colab": {
          "base_uri": "https://localhost:8080/"
        },
        "id": "6UbiG65CaJm-",
        "outputId": "2030bfbd-74c9-4ee9-a849-0107ac58c9be"
      },
      "execution_count": 11,
      "outputs": [
        {
          "output_type": "stream",
          "name": "stdout",
          "text": [
            "파일명 : weniv_licat\n",
            "확장가 : png\n"
          ]
        }
      ]
    },
    {
      "cell_type": "code",
      "source": [],
      "metadata": {
        "id": "PXa5UM97bBMP"
      },
      "execution_count": null,
      "outputs": []
    },
    {
      "cell_type": "markdown",
      "source": [
        "---\n",
        "\n",
        "# 형변환\n",
        "\n",
        "- int() : 정수로 변환\n",
        "- str() : 문자열로 변환\n",
        "- float() : 실수로 변환\n",
        "- list() : 리스트로 변환\n",
        "- tuple() : 튜플로 변환\n",
        "- dict() : 딕셔너리로 변환\n",
        "- set() : 셋으로 변환\n",
        "\n",
        "## 1. int()"
      ],
      "metadata": {
        "id": "GOvZOQsou6ch"
      }
    },
    {
      "cell_type": "code",
      "source": [
        "# 1.1. 형변환 기본예제 : str -> int\n",
        "# 잘못된 수행 예제\n",
        "월급1 = input(\"월급을 입력하세요 : \")\n",
        "연봉1 = 월급1 * 12\n",
        "print(연봉1)\n",
        "\n",
        "# 제대로 된 수행 예제 1\n",
        "월급2 = int(input(\"월급을 입력하세요 : \"))\n",
        "연봉2 = 월급2 * 12\n",
        "print(연봉2)\n",
        "\n",
        "# 제대로 된 수행 예제 2\n",
        "월급3 = input(\"월급을 입력하세요 : \")\n",
        "연봉3 = int(월급3) * 12\n",
        "print(연봉3)"
      ],
      "metadata": {
        "colab": {
          "base_uri": "https://localhost:8080/"
        },
        "id": "KSyMKdx2u_YR",
        "outputId": "8ebd5d42-b601-4f4d-dcb9-b59e61aa7239"
      },
      "execution_count": 14,
      "outputs": [
        {
          "output_type": "stream",
          "name": "stdout",
          "text": [
            "월급을 입력하세요 : 500\n",
            "500500500500500500500500500500500500\n",
            "월급을 입력하세요 : 500\n",
            "6000\n",
            "월급을 입력하세요 : 500\n",
            "6000\n"
          ]
        }
      ]
    },
    {
      "cell_type": "code",
      "source": [
        "# 1.2. 형변환 기본예제 : float -> int\n",
        "# 소수점 아래 버리고 정수 부분만 반환됨. 갯수같은 값 구할 때 사용\n",
        "f = 3.141592\n",
        "number = int(f)\n",
        "\n",
        "print(number)"
      ],
      "metadata": {
        "colab": {
          "base_uri": "https://localhost:8080/"
        },
        "id": "jW6LkM3FvI06",
        "outputId": "a4402a60-da31-4125-f861-4c19fff7c9d5"
      },
      "execution_count": 18,
      "outputs": [
        {
          "output_type": "stream",
          "name": "stdout",
          "text": [
            "3\n"
          ]
        }
      ]
    },
    {
      "cell_type": "code",
      "source": [
        "# 1.3. 형변환 기본예제 boolean -> int\n",
        "true_int = int(True)\n",
        "false_int = int(False)\n",
        "\n",
        "print(true_int) # 1\n",
        "print(false_int) # 0\n",
        "\n",
        "# None의 경우엔 int 형변환 불가능!"
      ],
      "metadata": {
        "colab": {
          "base_uri": "https://localhost:8080/"
        },
        "id": "5MvPpVFkwKhY",
        "outputId": "5e6b4b4a-e9cf-4850-f05b-4a7d4b0d7100"
      },
      "execution_count": 20,
      "outputs": [
        {
          "output_type": "stream",
          "name": "stdout",
          "text": [
            "1\n",
            "0\n"
          ]
        }
      ]
    },
    {
      "cell_type": "markdown",
      "source": [
        "## 2. string()"
      ],
      "metadata": {
        "id": "s3hh-q5Ow5th"
      }
    },
    {
      "cell_type": "code",
      "source": [
        "n = 123\n",
        "print(type(n))\n",
        "\n",
        "m = 123.4\n",
        "print(type(n))\n",
        "\n",
        "n = str(n)\n",
        "print(type(n))\n",
        "\n",
        "m = str(m)\n",
        "print(type(m))\n",
        "\n",
        "'''\n",
        "int는 str변환했다가 다시 int로 되돌릴 때 아무 영향 없으나\n",
        "float형은 str변환 후 int형으로 변환할 때 소수점(.) 때문에 에러 가능성 있음\n",
        "'''"
      ],
      "metadata": {
        "colab": {
          "base_uri": "https://localhost:8080/",
          "height": 105
        },
        "id": "QPn0Oz_bwpPZ",
        "outputId": "f3022af3-7f08-4dd3-ed40-691211d3983e"
      },
      "execution_count": 22,
      "outputs": [
        {
          "output_type": "stream",
          "name": "stdout",
          "text": [
            "<class 'int'>\n",
            "<class 'int'>\n",
            "<class 'str'>\n",
            "<class 'str'>\n"
          ]
        },
        {
          "output_type": "execute_result",
          "data": {
            "text/plain": [
              "'\\nint는 str변환했다가 다시 int로 되돌릴 때 아무 영향 없으나\\nfloat형은 str변환 후 int형으로 변환할 때 소수점(.) 때문에 에러 가능성 있음\\n'"
            ],
            "application/vnd.google.colaboratory.intrinsic+json": {
              "type": "string"
            }
          },
          "metadata": {},
          "execution_count": 22
        }
      ]
    },
    {
      "cell_type": "markdown",
      "source": [
        "## 3. bool()"
      ],
      "metadata": {
        "id": "wNaAq5Ssx05i"
      }
    },
    {
      "cell_type": "code",
      "source": [
        "print(\"bool('test'):\", bool('test'))\n",
        "print(\"bool(' '):\", bool(' ')) # 공백문자 True\n",
        "print(\"bool(''):\", bool('')) # 공백도 없다 False\n",
        "print(\"bool(100):\", bool(100))\n",
        "print(\"bool(1):\", bool(1))\n",
        "print(\"bool(0):\", bool(0)) # 0은 False\n",
        "print(\"bool(-1):\", bool(-1)) # 음수값 True\n",
        "print(\"bool(None):\", bool(None)) # None은 False\n",
        "print(\"bool([]):\", bool([])) # 빈 리스트 False\n",
        "print(\"bool(tuple()):\", bool(tuple())) # 빈 튜플 False\n",
        "print(\"bool({}):\", bool({})) # 빈 딕셔너리 False\n",
        "print(\"bool(set()):\", bool(set())) # 빈 세트 False"
      ],
      "metadata": {
        "colab": {
          "base_uri": "https://localhost:8080/"
        },
        "id": "9AJNW1kIxP07",
        "outputId": "1d763abc-c529-41da-a4b5-d9592f93f487"
      },
      "execution_count": 23,
      "outputs": [
        {
          "output_type": "stream",
          "name": "stdout",
          "text": [
            "bool('test'): True\n",
            "bool(' '): True\n",
            "bool(''): False\n",
            "bool(100): True\n",
            "bool(1): True\n",
            "bool(0): False\n",
            "bool(-1): True\n",
            "bool(None): False\n",
            "bool([]): False\n",
            "bool(tuple()): False\n",
            "bool({}): False\n",
            "bool(set()): False\n"
          ]
        }
      ]
    },
    {
      "cell_type": "markdown",
      "source": [
        "## 4. float()"
      ],
      "metadata": {
        "id": "JUEl8FCNydrQ"
      }
    },
    {
      "cell_type": "code",
      "source": [
        "# 4.1 기본 float 형변환\n",
        "s = 10\n",
        "print(float(s))\n",
        "\n",
        "s = '10'\n",
        "print(float(s))\n",
        "\n",
        "s = '3.14'\n",
        "print(float(s))\n",
        "\n",
        "# 4.2 특수 float 형변환\n",
        "infinity = float('inf')\n",
        "neg_infinity = float('-inf')\n",
        "not_a_number = float('nan')\n",
        "\n",
        "print(infinity)\n",
        "print(neg_infinity)\n",
        "print(not_a_number)\n",
        "print(type(not_a_number))\n",
        "\n",
        "# 4.3 묵시적 형변환\n",
        "print(10 / 3) # 약수 아닌 경우 당연히 소수점 밑으로 떨어짐\n",
        "print(10 / 1) # 약수 인 경우에도 뒤에 소수점 .0 붙음\n",
        "print(10 // 1) # int로 나누고 싶다면 이렇게\n",
        "print(type(10 / 1))\n",
        "print(type(10 // 1))"
      ],
      "metadata": {
        "colab": {
          "base_uri": "https://localhost:8080/"
        },
        "id": "Lnn0LLxvx93z",
        "outputId": "da9e9795-6020-49b0-e4b3-c0e9e57eea1c"
      },
      "execution_count": 31,
      "outputs": [
        {
          "output_type": "stream",
          "name": "stdout",
          "text": [
            "10.0\n",
            "10.0\n",
            "3.14\n",
            "inf\n",
            "-inf\n",
            "nan\n",
            "<class 'float'>\n",
            "3.3333333333333335\n",
            "10.0\n",
            "10\n",
            "<class 'float'>\n",
            "<class 'int'>\n"
          ]
        }
      ]
    },
    {
      "cell_type": "markdown",
      "source": [
        "## 4. list()"
      ],
      "metadata": {
        "id": "Cl67SJyuzh-9"
      }
    },
    {
      "cell_type": "code",
      "source": [
        "입력금액 = int(input(\"금액을 입력하세요\"))\n",
        "\n",
        "오천원권 = 입력금액//5000\n",
        "잔돈 = 입력금액 % 5000\n",
        "\n",
        "천원권 = 잔돈 // 1000\n",
        "잔돈 %= 1000\n",
        "\n",
        "오백원권 = 잔돈//500\n",
        "잔돈 %= 500\n",
        "\n",
        "백원권 = 잔돈 // 100\n",
        "잔돈 %= 100\n",
        "\n",
        "print(f\"오천원 {오천원권}장 / 천원 {천원권}장 / 오백원 {오백원권}개 / 백원 {백원권}개\")"
      ],
      "metadata": {
        "colab": {
          "base_uri": "https://localhost:8080/"
        },
        "id": "BcpyGRjJyh4c",
        "outputId": "c4e19c89-2f96-4c5b-9899-0a90d7d1c8aa"
      },
      "execution_count": 5,
      "outputs": [
        {
          "output_type": "stream",
          "name": "stdout",
          "text": [
            "금액을 입력하세요1650\n",
            "오천원 0장 / 천원 1장 / 오백원 1개 / 백원 1개\n"
          ]
        }
      ]
    },
    {
      "cell_type": "markdown",
      "source": [
        "0104 실습\n",
        "\n",
        "1. 사용자 입력 받기:\n",
        "- input() 함수를 사용하여 사용자의 이름과 나이를 입력받습니다.\n",
        "2. 문자열을 숫자로 변환:\n",
        "- 입력받은 나이(문자열)를 int() 함수를 사용하여 정수로 변환합니다.\n",
        "3. 산술 연산 수행:\n",
        "- 변환된 나이에 1을 더하여 다음 해의 나이를 계산합니다.\n",
        "4. 문자열 길이 계산:\n",
        "len() 함수를 사용하여 사용자 이름의 길이를 계산합니다.\n",
        "5. 성인 여부 판단:\n",
        "- 나이를 기준으로 성인 여부를 판단하여 불리언 값으로 표시합니다. (예: 18세 이상이면 True, 그렇지 않으면 False)\n",
        "6. 결과 출력:\n",
        "- 계산된 나이, 이름의 길이, 성인 여부를 print() 함수를 사용하여 출력합니다.\n"
      ],
      "metadata": {
        "id": "bF4oHGFPg8MW"
      }
    },
    {
      "cell_type": "code",
      "source": [
        "이름 = input(\"이름을 입력해주세요 : \")\n",
        "나이 = int(input(\"나이를 입력해주세요 : \"))\n",
        "내년나이 = 나이 + 1\n",
        "이름길이 = len(이름)\n",
        "성인여부 = 내년나이 >= 18\n",
        "\n",
        "print(f\"{이름}님의 이름길이는 {이름길이}자, 내년 성인 여부는 {성인여부}입니다.\")"
      ],
      "metadata": {
        "colab": {
          "base_uri": "https://localhost:8080/"
        },
        "id": "43_k2tJRYBu7",
        "outputId": "52b62d51-ffb9-4f2f-9535-b741eb53fc9f"
      },
      "execution_count": 11,
      "outputs": [
        {
          "output_type": "stream",
          "name": "stdout",
          "text": [
            "이름을 입력해주세요 : 김민지\n",
            "나이를 입력해주세요 : 15\n",
            "김민지님의 이름길이는 3자, 내년 성인 여부는 False입니다.\n"
          ]
        }
      ]
    }
  ]
}