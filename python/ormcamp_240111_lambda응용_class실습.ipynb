{
  "nbformat": 4,
  "nbformat_minor": 0,
  "metadata": {
    "colab": {
      "provenance": [],
      "authorship_tag": "ABX9TyPhRpUYUZdYN7vvKcdwjYGR",
      "include_colab_link": true
    },
    "kernelspec": {
      "name": "python3",
      "display_name": "Python 3"
    },
    "language_info": {
      "name": "python"
    }
  },
  "cells": [
    {
      "cell_type": "markdown",
      "metadata": {
        "id": "view-in-github",
        "colab_type": "text"
      },
      "source": [
        "<a href=\"https://colab.research.google.com/github/escape1001/ormcamp/blob/main/python/ormcamp_240111_lambda%EC%9D%91%EC%9A%A9_class%EC%8B%A4%EC%8A%B5.ipynb\" target=\"_parent\"><img src=\"https://colab.research.google.com/assets/colab-badge.svg\" alt=\"Open In Colab\"/></a>"
      ]
    },
    {
      "cell_type": "markdown",
      "source": [
        "lambda랑 3항연산자 실무에서 많이 쓰인단 얘기~~"
      ],
      "metadata": {
        "id": "dS7gy43eId7u"
      }
    },
    {
      "cell_type": "markdown",
      "source": [
        "# lambda 응용\n",
        "- filter\n",
        "- map\n",
        "- sorted (sort보다 많이 씀. 원본을 바꾸지 않기 때문이야~)"
      ],
      "metadata": {
        "id": "Czfc7rLxCtz2"
      }
    },
    {
      "cell_type": "code",
      "source": [
        "list(map(lambda x: True if x % 2 == 0 else False, [1, 2, 3, 4])) # 마스킹, 필터링"
      ],
      "metadata": {
        "colab": {
          "base_uri": "https://localhost:8080/"
        },
        "id": "d29lfHL7Fg_q",
        "outputId": "793f4127-67f8-4d2d-ba24-93c43a64f678"
      },
      "execution_count": 1,
      "outputs": [
        {
          "output_type": "execute_result",
          "data": {
            "text/plain": [
              "[False, True, False, True]"
            ]
          },
          "metadata": {},
          "execution_count": 1
        }
      ]
    },
    {
      "cell_type": "code",
      "execution_count": null,
      "metadata": {
        "id": "F2duFhXH4yy5"
      },
      "outputs": [],
      "source": [
        "# map에 lambda 넣어서 돌리며 마스킹 얘기 나옴\n",
        "# 마스킹이 유용한 예시\n",
        "# 에라토스테네스의 체 (빠르게 소수를 찾는 알고리즘)\n",
        "\n",
        "# for문을 쓴다면 이렇게 30번을 돌겠지. 비효율적임.\n",
        "for i in range(2, 31):\n",
        "    if 30 % i == 0\n",
        "        print('소수아님!')\n",
        "        break\n",
        "else:\n",
        "    print('소수임!')"
      ]
    },
    {
      "cell_type": "code",
      "source": [
        "# 아래와 같은 형식으로 반별 점수가 주어진다고 하겠습니다.\n",
        "# 이름, 국, 영, 수 순서임\n",
        "반별점수 = [\n",
        "    ['철수', 50, 50, 50],\n",
        "    ['영희', 45, 50, 55],\n",
        "    ['민수', 60, 35, 75],\n",
        "    ['재형', 92, 11, 95],\n",
        "]\n",
        "\n",
        "test = sorted(반별점수) # 0번째 값 기준으로 정렬됨. 여기선 이름 가나다순\n",
        "수학순서 = sorted(반별점수, key=lambda x:x[3], reverse=True)\n",
        "평균순서 = sorted(반별점수, key=lambda x: sum(x[1:]), reverse=True)\n",
        "print(평균순서)\n",
        "\n",
        "# 만약 평균이 같을 때 수학 점수에 가중치를 둬서 정렬하고 싶다면??\n",
        "# lambda 리턴값을 튜플로 반환! 튜플의 순서대로 정렬해줌\n",
        "가중치 = sorted(반별점수, key=lambda x: (sum(x[1:], x[3])), reverse=True)\n",
        "print(가중치)"
      ],
      "metadata": {
        "colab": {
          "base_uri": "https://localhost:8080/"
        },
        "id": "1SuE63wVJ-_K",
        "outputId": "f109b041-5889-4ff4-f8d5-f60a9fd1ccb0"
      },
      "execution_count": 11,
      "outputs": [
        {
          "output_type": "stream",
          "name": "stdout",
          "text": [
            "[['재형', 92, 11, 95], ['민수', 60, 35, 75], ['철수', 50, 50, 50], ['영희', 45, 50, 55]]\n",
            "[['재형', 92, 11, 95], ['민수', 60, 35, 75], ['영희', 45, 50, 55], ['철수', 50, 50, 50]]\n"
          ]
        }
      ]
    },
    {
      "cell_type": "code",
      "source": [
        "# 직선 좌표에서 가장 거리가 짧은 점 찾기\n",
        "''' 나 이거 파이알고에서 for문 돌려서 풀었었음!!\n",
        "    근데 이거 sort 문제래!!\n",
        "\n",
        "    def solution(data):\n",
        "    차이 = {}\n",
        "\n",
        "    for i in range(0, len(data) - 1) :\n",
        "        차이[i] = data[i] - data[i+1]\n",
        "        차이[i] = 차이[i] if 차이[i] >= 0 else 차이[i] * -1\n",
        "\n",
        "    최소차 = min(차이.items(), key=lambda x:x[1])\n",
        "\n",
        "    return [data[최소차[0]], data[최소차[0] + 1]]\n",
        "'''\n",
        "s = [1, 3, 4, 8, 13, 17, 20]\n",
        "\n",
        "# 1. 일단 좌표 튜플로 묶어줌\n",
        "좌표 = list(zip(s, s[1:])) # 결과 : [(1, 3), (3, 4), (4, 8), (8, 13), (13, 17), (17, 20)]\n",
        "\n",
        "# 2. 좌표 튜플값 차이를 계산하고\n",
        "좌표정렬 = sorted(좌표, key=lambda x: x[1] - x[0])\n",
        "\n",
        "# 3. 맨앞에 있는 값만 가져오자\n",
        "좌표정렬[0]"
      ],
      "metadata": {
        "colab": {
          "base_uri": "https://localhost:8080/"
        },
        "id": "TQxYXZUUMFoB",
        "outputId": "f08f2e86-dbfa-4df1-d336-3fddac20fb5e"
      },
      "execution_count": 21,
      "outputs": [
        {
          "output_type": "execute_result",
          "data": {
            "text/plain": [
              "(3, 4)"
            ]
          },
          "metadata": {},
          "execution_count": 21
        }
      ]
    },
    {
      "cell_type": "code",
      "source": [
        "# 심화코드 구경시켜줌\n",
        "# 보통은 enumerate 사용\n",
        "list(enumerate(zip('hello', 'world')))\n",
        "\n",
        "''' 결과\n",
        "    [(0, ('h', 'w')),\n",
        "    (1, ('e', 'o')),\n",
        "    (2, ('l', 'r')),\n",
        "    (3, ('l', 'l')),\n",
        "    (4, ('o', 'd'))]\n",
        "'''\n",
        "\n",
        "\n",
        "# 제너레이터\n",
        "def gen():\n",
        "    i = 1\n",
        "    while True:\n",
        "        yield i\n",
        "        i += 1\n",
        "\n",
        "list(zip(gen(), 'hello', 'world'))\n",
        "\n",
        "''' 결과\n",
        "    [(1, 'h', 'w'), (2, 'e', 'o'), (3, 'l', 'r'), (4, 'l', 'l'), (5, 'o', 'd')]\n",
        "'''"
      ],
      "metadata": {
        "colab": {
          "base_uri": "https://localhost:8080/"
        },
        "id": "ESrQclueWECg",
        "outputId": "55db664e-dbbc-4093-e790-d3183da99eff"
      },
      "execution_count": 19,
      "outputs": [
        {
          "output_type": "execute_result",
          "data": {
            "text/plain": [
              "[(1, 'h', 'w'), (2, 'e', 'o'), (3, 'l', 'r'), (4, 'l', 'l'), (5, 'o', 'd')]"
            ]
          },
          "metadata": {},
          "execution_count": 19
        }
      ]
    },
    {
      "cell_type": "markdown",
      "source": [
        "와 이거 궁금했던거!\n",
        "- 왜 reversed나 map 같은거는 리스트를 안받고 메모리 값을 뱉는가? sorted는 바로 list 뱉어주는데?\n",
        "- 편의성 때문! sorted는 워낙에 자주 쓰니까 효율 떨어지는거 감수하고 쓰는거임\n",
        "- map은 제너레이터 들어가면 복잡 난리난대"
      ],
      "metadata": {
        "id": "sV0xszKiARX4"
      }
    },
    {
      "cell_type": "markdown",
      "source": [
        "# Class"
      ],
      "metadata": {
        "id": "LNPCCZ_0A00j"
      }
    },
    {
      "cell_type": "code",
      "source": [
        "# 0번 : 기초상식\n",
        "# 0.0 __init__ 매직메서드는 없어도 되나요?\n",
        "class 우편번호 :\n",
        "    제주도 = 100\n",
        "    경기도 = 101\n",
        "    전라북도 = 102\n",
        "    전라남도 = 103\n",
        "\n",
        "print(우편번호.제주도) # 왜 이걸 딕셔너리로 안하고 class로 만들었대? -> 재사용성 & 확장성\n",
        "\n",
        "# 0.1 클래스 꼭 사용해야 하나요?\n",
        "# 일부 자료형에서는 꼭 클래스 사용해야 함\n",
        "\n",
        "''' 이렇게 생긴 애는 딕셔너리에 넣고싶자나\n",
        "\n",
        "    제목: python 기초\n",
        "    저자: 김철수\n",
        "\n",
        "    -> 이렇게 책정보가 여러개 쌓이면? 리스트에 넣고싶자나\n",
        "    [{'제목':'python 기초', '저자':'김철수'}, {'제목':'html 기초', '저자':'김영희'}]\n",
        "'''"
      ],
      "metadata": {
        "colab": {
          "base_uri": "https://localhost:8080/"
        },
        "id": "PBNriYeRXCpA",
        "outputId": "66a10fd3-07be-4212-fc97-f2ff54e7610c"
      },
      "execution_count": 2,
      "outputs": [
        {
          "output_type": "stream",
          "name": "stdout",
          "text": [
            "100\n"
          ]
        }
      ]
    },
    {
      "cell_type": "code",
      "source": [
        "# 1번\n",
        "# 클래스를 설계할 때\n",
        "# step1. 모든 인스턴스에서 공유해야 할 변수(클래스변수)나 메서드 설정\n",
        "# step2. 인스턴스 고유의 영역 생각해보기\n",
        "from datetime import datetime\n",
        "\n",
        "class Post:\n",
        "    def __init__(\n",
        "            self,\n",
        "            input_title = '',\n",
        "            input_contents = '',\n",
        "            input_count = 0,\n",
        "            input_created_at='',\n",
        "            input_updated_at='',\n",
        "            input_author=''\n",
        "        ):\n",
        "        self.title = input_title\n",
        "        self.contents = input_contents\n",
        "        self.count = input_count\n",
        "        self.created_at = input_created_at\n",
        "        self.updated_at = input_updated_at\n",
        "        self.author = input_author\n",
        "\n",
        "    def __add__(self, next): # 요거 따로 안해주면 에러남 Post.__add__() takes 1 positional argument but 2 were given\n",
        "        return self.count + next.count\n",
        "\n",
        "    def __eq__(self, next):\n",
        "        return self.created_at == next.created_at\n",
        "\n",
        "    def __str__(self):\n",
        "        return self.title\n",
        "\n",
        "    def update(self, input_contents):\n",
        "        self.contents = input_contents\n",
        "\n",
        "        return '게시물 수정에 성공했습니다! 200'\n",
        "\n",
        "\n",
        "게시물1 = Post(\n",
        "    '글제목',\n",
        "    '내용 어쩌구저쩌구',\n",
        "    2,\n",
        "    '2024-01-11',\n",
        "    '2024-01-11',\n",
        "    '작성자 A',\n",
        "    )\n",
        "\n",
        "게시물2 = Post(\n",
        "    '글제목2',\n",
        "    '내용 어쩌구저쩌구2',\n",
        "    1,\n",
        "    '2024-01-11',\n",
        "    '2024-01-11',\n",
        "    '작성자 B',\n",
        "    )\n",
        "\n",
        "print(게시물1)\n",
        "print(게시물1.author)\n",
        "\n",
        "print(게시물1+게시물2)\n",
        "\n",
        "# dir(게시물1)\n",
        "게시물2.update('수정내용222')\n",
        "print(게시물2.contents)\n",
        "\n",
        "# 게시물 비교\n",
        "print(f\"게시물1 == 게시물2 : {게시물1 == 게시물2}\")"
      ],
      "metadata": {
        "colab": {
          "base_uri": "https://localhost:8080/"
        },
        "id": "X9gr4XbWAoMw",
        "outputId": "e1e6b5c4-8bc1-4440-f896-946d145835e3"
      },
      "execution_count": 24,
      "outputs": [
        {
          "output_type": "stream",
          "name": "stdout",
          "text": [
            "글제목\n",
            "작성자 A\n",
            "3\n",
            "수정내용222\n",
            "게시물1 == 게시물2 : True\n"
          ]
        }
      ]
    },
    {
      "cell_type": "code",
      "source": [
        "class Dot:\n",
        "    def __init__(self, x, y):\n",
        "        self.x = x\n",
        "        self.y = y\n",
        "\n",
        "    def __add__(self, next):\n",
        "        return (self.x + next.x, self.y + next.y)\n",
        "\n",
        "    def __mul__(self, next):\n",
        "        return (self.x * next.x, self.y * next.y)\n",
        "\n",
        "    def distance(self, next):\n",
        "        dx = self.x - next.x\n",
        "        dy = self.y - next.y\n",
        "\n",
        "        return (dx ** 2 + dy ** 2) ** 0.5 # root값 구할 때 0.5제곱으로 많이들 사용함\n",
        "\n",
        "\n",
        "dot1 = Dot(20, 10)\n",
        "dot2 = Dot(30, 5)\n",
        "\n",
        "print(dot1 + dot2)\n",
        "print(dot1 * dot2)\n",
        "print(dot1.distance(dot2))"
      ],
      "metadata": {
        "colab": {
          "base_uri": "https://localhost:8080/"
        },
        "id": "15Qgz2AJD3yS",
        "outputId": "ca60c1d8-89e9-4f86-a3c0-c448cafe660a"
      },
      "execution_count": 26,
      "outputs": [
        {
          "output_type": "stream",
          "name": "stdout",
          "text": [
            "(50, 15)\n",
            "(600, 50)\n",
            "11.180339887498949\n"
          ]
        }
      ]
    },
    {
      "cell_type": "code",
      "source": [
        "class Character:\n",
        "    def __init__(\n",
        "            self,\n",
        "            name,\n",
        "            skill,\n",
        "            hp,\n",
        "            mp,\n",
        "            power,\n",
        "            defence,\n",
        "            x,\n",
        "            y,\n",
        "            speed\n",
        "        ):\n",
        "\n",
        "        self.name = name\n",
        "        self.skill = skill\n",
        "        self.hp = hp\n",
        "        self.mp = mp\n",
        "        self.power = power\n",
        "        self.defence = defence\n",
        "        self.x = x\n",
        "        self.y = y\n",
        "        self.speed = speed\n",
        "\n",
        "    def move(self):\n",
        "        self.x += 100\n",
        "\n",
        "    def attack(self, next):\n",
        "        next.hp -= self.power\n",
        "\n",
        "        print(f\"{self.name}가 {next.name}을 공격했다!\")\n",
        "        print(f\"{next.name}은 {self.power}의 데미지를 입었다.\")\n",
        "        print(f\"{next.name}의 체력은 {next.hp}hp 남았다.\")\n",
        "\n",
        "\n",
        "주인공 = Character(\"용사1\", \"\", 100, 100, 10, 20, 0, 0, 100)\n",
        "몬스터 = Character(\"몬스터\", \"\", 100, 100, 10, 20, 0, 0, 100)\n",
        "\n",
        "주인공.attack(몬스터)"
      ],
      "metadata": {
        "colab": {
          "base_uri": "https://localhost:8080/"
        },
        "id": "gViD9z1MQDYS",
        "outputId": "a9cc31db-9bef-4a51-c7a2-aadf515c080f"
      },
      "execution_count": 27,
      "outputs": [
        {
          "output_type": "stream",
          "name": "stdout",
          "text": [
            "용사1가 몬스터을 공격했다!\n",
            "몬스터은 10의 데미지를 입었다.\n",
            "몬스터의 체력은 90hp 남았다.\n"
          ]
        }
      ]
    },
    {
      "cell_type": "code",
      "source": [],
      "metadata": {
        "id": "RCZhEBiaSt_J"
      },
      "execution_count": null,
      "outputs": []
    }
  ]
}