{
  "nbformat": 4,
  "nbformat_minor": 0,
  "metadata": {
    "colab": {
      "provenance": [],
      "authorship_tag": "ABX9TyNl63thdkjO2cBGnGo57zJs",
      "include_colab_link": true
    },
    "kernelspec": {
      "name": "python3",
      "display_name": "Python 3"
    },
    "language_info": {
      "name": "python"
    }
  },
  "cells": [
    {
      "cell_type": "markdown",
      "metadata": {
        "id": "view-in-github",
        "colab_type": "text"
      },
      "source": [
        "<a href=\"https://colab.research.google.com/github/escape1001/ormcamp/blob/main/python/ormcamp_240111_lambda%EC%9D%91%EC%9A%A9_class%EC%8B%A4%EC%8A%B5.ipynb\" target=\"_parent\"><img src=\"https://colab.research.google.com/assets/colab-badge.svg\" alt=\"Open In Colab\"/></a>"
      ]
    },
    {
      "cell_type": "markdown",
      "source": [
        "lambda랑 3항연산자 실무에서 많이 쓰인단 얘기~~\n",
        "[강사노트](https://colab.research.google.com/drive/1yIvphTAXlpMStpVSEenAawvZ9z2LhrX4?usp=sharing#scrollTo=O0RCh5ZgWX7w)"
      ],
      "metadata": {
        "id": "dS7gy43eId7u"
      }
    },
    {
      "cell_type": "markdown",
      "source": [
        "# lambda 응용\n",
        "- filter\n",
        "- map\n",
        "- sorted (sort보다 많이 씀. 원본을 바꾸지 않기 때문이야~)"
      ],
      "metadata": {
        "id": "Czfc7rLxCtz2"
      }
    },
    {
      "cell_type": "code",
      "source": [
        "list(map(lambda x: True if x % 2 == 0 else False, [1, 2, 3, 4])) # 마스킹, 필터링"
      ],
      "metadata": {
        "colab": {
          "base_uri": "https://localhost:8080/"
        },
        "id": "d29lfHL7Fg_q",
        "outputId": "793f4127-67f8-4d2d-ba24-93c43a64f678"
      },
      "execution_count": 1,
      "outputs": [
        {
          "output_type": "execute_result",
          "data": {
            "text/plain": [
              "[False, True, False, True]"
            ]
          },
          "metadata": {},
          "execution_count": 1
        }
      ]
    },
    {
      "cell_type": "code",
      "execution_count": null,
      "metadata": {
        "id": "F2duFhXH4yy5"
      },
      "outputs": [],
      "source": [
        "# map에 lambda 넣어서 돌리며 마스킹 얘기 나옴\n",
        "# 마스킹이 유용한 예시\n",
        "# 에라토스테네스의 체 (빠르게 소수를 찾는 알고리즘)\n",
        "\n",
        "# for문을 쓴다면 이렇게 30번을 돌겠지. 비효율적임.\n",
        "for i in range(2, 31):\n",
        "    if 30 % i == 0\n",
        "        print('소수아님!')\n",
        "        break\n",
        "else:\n",
        "    print('소수임!')"
      ]
    },
    {
      "cell_type": "code",
      "source": [
        "# 아래와 같은 형식으로 반별 점수가 주어진다고 하겠습니다.\n",
        "# 이름, 국, 영, 수 순서임\n",
        "반별점수 = [\n",
        "    ['철수', 50, 50, 50],\n",
        "    ['영희', 45, 50, 55],\n",
        "    ['민수', 60, 35, 75],\n",
        "    ['재형', 92, 11, 95],\n",
        "]\n",
        "\n",
        "test = sorted(반별점수) # 0번째 값 기준으로 정렬됨. 여기선 이름 가나다순\n",
        "수학순서 = sorted(반별점수, key=lambda x:x[3], reverse=True)\n",
        "평균순서 = sorted(반별점수, key=lambda x: sum(x[1:]), reverse=True)\n",
        "print(평균순서)\n",
        "\n",
        "# 만약 평균이 같을 때 수학 점수에 가중치를 둬서 정렬하고 싶다면??\n",
        "# lambda 리턴값을 튜플로 반환! 튜플의 순서대로 정렬해줌\n",
        "가중치 = sorted(반별점수, key=lambda x: (sum(x[1:], x[3])), reverse=True)\n",
        "print(가중치)"
      ],
      "metadata": {
        "colab": {
          "base_uri": "https://localhost:8080/"
        },
        "id": "1SuE63wVJ-_K",
        "outputId": "f109b041-5889-4ff4-f8d5-f60a9fd1ccb0"
      },
      "execution_count": 11,
      "outputs": [
        {
          "output_type": "stream",
          "name": "stdout",
          "text": [
            "[['재형', 92, 11, 95], ['민수', 60, 35, 75], ['철수', 50, 50, 50], ['영희', 45, 50, 55]]\n",
            "[['재형', 92, 11, 95], ['민수', 60, 35, 75], ['영희', 45, 50, 55], ['철수', 50, 50, 50]]\n"
          ]
        }
      ]
    },
    {
      "cell_type": "code",
      "source": [
        "# 직선 좌표에서 가장 거리가 짧은 점 찾기\n",
        "''' 나 이거 파이알고에서 for문 돌려서 풀었었음!!\n",
        "    근데 이거 sort 문제래!!\n",
        "\n",
        "    def solution(data):\n",
        "    차이 = {}\n",
        "\n",
        "    for i in range(0, len(data) - 1) :\n",
        "        차이[i] = data[i] - data[i+1]\n",
        "        차이[i] = 차이[i] if 차이[i] >= 0 else 차이[i] * -1\n",
        "\n",
        "    최소차 = min(차이.items(), key=lambda x:x[1])\n",
        "\n",
        "    return [data[최소차[0]], data[최소차[0] + 1]]\n",
        "'''\n",
        "s = [1, 3, 4, 8, 13, 17, 20]\n",
        "\n",
        "# 1. 일단 좌표 튜플로 묶어줌\n",
        "좌표 = list(zip(s, s[1:])) # 결과 : [(1, 3), (3, 4), (4, 8), (8, 13), (13, 17), (17, 20)]\n",
        "\n",
        "# 2. 좌표 튜플값 차이를 계산하고\n",
        "좌표정렬 = sorted(좌표, key=lambda x: x[1] - x[0])\n",
        "\n",
        "# 3. 맨앞에 있는 값만 가져오자\n",
        "좌표정렬[0]"
      ],
      "metadata": {
        "colab": {
          "base_uri": "https://localhost:8080/"
        },
        "id": "TQxYXZUUMFoB",
        "outputId": "f08f2e86-dbfa-4df1-d336-3fddac20fb5e"
      },
      "execution_count": 21,
      "outputs": [
        {
          "output_type": "execute_result",
          "data": {
            "text/plain": [
              "(3, 4)"
            ]
          },
          "metadata": {},
          "execution_count": 21
        }
      ]
    },
    {
      "cell_type": "code",
      "source": [
        "# 심화코드 구경시켜줌\n",
        "# 보통은 enumerate 사용\n",
        "list(enumerate(zip('hello', 'world')))\n",
        "\n",
        "''' 결과\n",
        "    [(0, ('h', 'w')),\n",
        "    (1, ('e', 'o')),\n",
        "    (2, ('l', 'r')),\n",
        "    (3, ('l', 'l')),\n",
        "    (4, ('o', 'd'))]\n",
        "'''\n",
        "\n",
        "\n",
        "# 제너레이터\n",
        "def gen():\n",
        "    i = 1\n",
        "    while True:\n",
        "        yield i\n",
        "        i += 1\n",
        "\n",
        "list(zip(gen(), 'hello', 'world'))\n",
        "\n",
        "''' 결과\n",
        "    [(1, 'h', 'w'), (2, 'e', 'o'), (3, 'l', 'r'), (4, 'l', 'l'), (5, 'o', 'd')]\n",
        "'''"
      ],
      "metadata": {
        "colab": {
          "base_uri": "https://localhost:8080/"
        },
        "id": "ESrQclueWECg",
        "outputId": "55db664e-dbbc-4093-e790-d3183da99eff"
      },
      "execution_count": 19,
      "outputs": [
        {
          "output_type": "execute_result",
          "data": {
            "text/plain": [
              "[(1, 'h', 'w'), (2, 'e', 'o'), (3, 'l', 'r'), (4, 'l', 'l'), (5, 'o', 'd')]"
            ]
          },
          "metadata": {},
          "execution_count": 19
        }
      ]
    },
    {
      "cell_type": "markdown",
      "source": [
        "와 이거 궁금했던거!\n",
        "- 왜 reversed나 map 같은거는 리스트를 안받고 메모리 값을 뱉는가? sorted는 바로 list 뱉어주는데?\n",
        "- 편의성 때문! sorted는 워낙에 자주 쓰니까 효율 떨어지는거 감수하고 쓰는거임\n",
        "- map은 제너레이터 들어가면 복잡 난리난대"
      ],
      "metadata": {
        "id": "sV0xszKiARX4"
      }
    },
    {
      "cell_type": "markdown",
      "source": [
        "# Class"
      ],
      "metadata": {
        "id": "LNPCCZ_0A00j"
      }
    },
    {
      "cell_type": "code",
      "source": [
        "# 0번 : 기초상식\n",
        "# 0.0 __init__ 매직메서드는 없어도 되나요?\n",
        "class 우편번호 :\n",
        "    제주도 = 100\n",
        "    경기도 = 101\n",
        "    전라북도 = 102\n",
        "    전라남도 = 103\n",
        "\n",
        "print(우편번호.제주도) # 왜 이걸 딕셔너리로 안하고 class로 만들었대? -> 재사용성 & 확장성\n",
        "\n",
        "# 0.1 클래스 꼭 사용해야 하나요?\n",
        "# 일부 자료형에서는 꼭 클래스 사용해야 함\n",
        "\n",
        "''' 이렇게 생긴 애는 딕셔너리에 넣고싶자나\n",
        "\n",
        "    제목: python 기초\n",
        "    저자: 김철수\n",
        "\n",
        "    -> 이렇게 책정보가 여러개 쌓이면? 리스트에 넣고싶자나\n",
        "    [{'제목':'python 기초', '저자':'김철수'}, {'제목':'html 기초', '저자':'김영희'}]\n",
        "'''"
      ],
      "metadata": {
        "colab": {
          "base_uri": "https://localhost:8080/"
        },
        "id": "PBNriYeRXCpA",
        "outputId": "66a10fd3-07be-4212-fc97-f2ff54e7610c"
      },
      "execution_count": 2,
      "outputs": [
        {
          "output_type": "stream",
          "name": "stdout",
          "text": [
            "100\n"
          ]
        }
      ]
    },
    {
      "cell_type": "code",
      "source": [
        "# 1번\n",
        "# 클래스를 설계할 때\n",
        "# step1. 모든 인스턴스에서 공유해야 할 변수(클래스변수)나 메서드 설정\n",
        "# step2. 인스턴스 고유의 영역 생각해보기\n",
        "from datetime import datetime\n",
        "\n",
        "class Post:\n",
        "    def __init__(\n",
        "            self,\n",
        "            input_title = '',\n",
        "            input_contents = '',\n",
        "            input_count = 0,\n",
        "            input_created_at='',\n",
        "            input_updated_at='',\n",
        "            input_author=''\n",
        "        ):\n",
        "        self.title = input_title\n",
        "        self.contents = input_contents\n",
        "        self.count = input_count\n",
        "        self.created_at = input_created_at\n",
        "        self.updated_at = input_updated_at\n",
        "        self.author = input_author\n",
        "\n",
        "    def __add__(self, next): # 요거 따로 안해주면 에러남 Post.__add__() takes 1 positional argument but 2 were given\n",
        "        return self.count + next.count\n",
        "\n",
        "    def __eq__(self, next):\n",
        "        return self.created_at == next.created_at\n",
        "\n",
        "    def __str__(self):\n",
        "        return self.title\n",
        "\n",
        "    def update(self, input_contents):\n",
        "        self.contents = input_contents\n",
        "\n",
        "        return '게시물 수정에 성공했습니다! 200'\n",
        "\n",
        "\n",
        "게시물1 = Post(\n",
        "    '글제목',\n",
        "    '내용 어쩌구저쩌구',\n",
        "    2,\n",
        "    '2024-01-11',\n",
        "    '2024-01-11',\n",
        "    '작성자 A',\n",
        "    )\n",
        "\n",
        "게시물2 = Post(\n",
        "    '글제목2',\n",
        "    '내용 어쩌구저쩌구2',\n",
        "    1,\n",
        "    '2024-01-11',\n",
        "    '2024-01-11',\n",
        "    '작성자 B',\n",
        "    )\n",
        "\n",
        "print(게시물1)\n",
        "print(게시물1.author)\n",
        "\n",
        "print(게시물1+게시물2)\n",
        "\n",
        "# dir(게시물1)\n",
        "게시물2.update('수정내용222')\n",
        "print(게시물2.contents)\n",
        "\n",
        "# 게시물 비교\n",
        "print(f\"게시물1 == 게시물2 : {게시물1 == 게시물2}\")"
      ],
      "metadata": {
        "colab": {
          "base_uri": "https://localhost:8080/"
        },
        "id": "X9gr4XbWAoMw",
        "outputId": "e1e6b5c4-8bc1-4440-f896-946d145835e3"
      },
      "execution_count": 24,
      "outputs": [
        {
          "output_type": "stream",
          "name": "stdout",
          "text": [
            "글제목\n",
            "작성자 A\n",
            "3\n",
            "수정내용222\n",
            "게시물1 == 게시물2 : True\n"
          ]
        }
      ]
    },
    {
      "cell_type": "code",
      "source": [
        "class Dot:\n",
        "    def __init__(self, x, y):\n",
        "        self.x = x\n",
        "        self.y = y\n",
        "\n",
        "    def __add__(self, next):\n",
        "        return (self.x + next.x, self.y + next.y)\n",
        "\n",
        "    def __mul__(self, next):\n",
        "        return (self.x * next.x, self.y * next.y)\n",
        "\n",
        "    def distance(self, next):\n",
        "        dx = self.x - next.x\n",
        "        dy = self.y - next.y\n",
        "\n",
        "        return (dx ** 2 + dy ** 2) ** 0.5 # root값 구할 때 0.5제곱으로 많이들 사용함\n",
        "\n",
        "\n",
        "dot1 = Dot(20, 10)\n",
        "dot2 = Dot(30, 5)\n",
        "\n",
        "print(dot1 + dot2)\n",
        "print(dot1 * dot2)\n",
        "print(dot1.distance(dot2))"
      ],
      "metadata": {
        "colab": {
          "base_uri": "https://localhost:8080/"
        },
        "id": "15Qgz2AJD3yS",
        "outputId": "ca60c1d8-89e9-4f86-a3c0-c448cafe660a"
      },
      "execution_count": 26,
      "outputs": [
        {
          "output_type": "stream",
          "name": "stdout",
          "text": [
            "(50, 15)\n",
            "(600, 50)\n",
            "11.180339887498949\n"
          ]
        }
      ]
    },
    {
      "cell_type": "code",
      "source": [
        "class Character:\n",
        "    def __init__(\n",
        "            self,\n",
        "            name,\n",
        "            skill,\n",
        "            hp,\n",
        "            mp,\n",
        "            power,\n",
        "            defence,\n",
        "            x,\n",
        "            y,\n",
        "            speed\n",
        "        ):\n",
        "\n",
        "        self.name = name\n",
        "        self.skill = skill\n",
        "        self.hp = hp\n",
        "        self.mp = mp\n",
        "        self.power = power\n",
        "        self.defence = defence\n",
        "        self.x = x\n",
        "        self.y = y\n",
        "        self.speed = speed\n",
        "\n",
        "    def move(self):\n",
        "        self.x += 100\n",
        "\n",
        "    def attack(self, next):\n",
        "        next.hp -= self.power\n",
        "\n",
        "        print(f\"{self.name}가 {next.name}을 공격했다!\")\n",
        "        print(f\"{next.name}은 {self.power}의 데미지를 입었다.\")\n",
        "        print(f\"{next.name}의 체력은 {next.hp}hp 남았다.\")\n",
        "\n",
        "\n",
        "주인공 = Character(\"용사1\", \"\", 100, 100, 10, 20, 0, 0, 100)\n",
        "몬스터 = Character(\"몬스터\", \"\", 100, 100, 10, 20, 0, 0, 100)\n",
        "\n",
        "주인공.attack(몬스터)"
      ],
      "metadata": {
        "colab": {
          "base_uri": "https://localhost:8080/"
        },
        "id": "gViD9z1MQDYS",
        "outputId": "a9cc31db-9bef-4a51-c7a2-aadf515c080f"
      },
      "execution_count": 27,
      "outputs": [
        {
          "output_type": "stream",
          "name": "stdout",
          "text": [
            "용사1가 몬스터을 공격했다!\n",
            "몬스터은 10의 데미지를 입었다.\n",
            "몬스터의 체력은 90hp 남았다.\n"
          ]
        }
      ]
    },
    {
      "cell_type": "markdown",
      "source": [
        "# 오늘의 문제"
      ],
      "metadata": {
        "id": "tUDbnWWjXw6o"
      }
    },
    {
      "cell_type": "markdown",
      "source": [
        "### 1. 다음 숫자 중 5보다 크고, 20보다 작으면서 짝수인 수를 모두 더하는 코드를 완성 해주세요. 오늘 배운 filter 사용은 필수 입니다.\n",
        "\n",
        "```\n",
        "number = [1, 5, 7, 4, 3, 22, 23, 15, 26, 17, 3]\n",
        "def solution(data)\n",
        "    return\n",
        "    \n",
        "solution(number)\n",
        "\n",
        "```"
      ],
      "metadata": {
        "id": "w9XBpSGRX2xo"
      }
    },
    {
      "cell_type": "code",
      "source": [
        "number = [1, 5, 7, 4, 3, 22, 23, 15, 26, 17, 3]\n",
        "number2 = [1, 5, 7, 4, 18, 14, 22, 19, 8, 10, 6] # 기존 number에서는 출제조건을 충족하는 수가 없어서 코드 테스트용으로 추가\n",
        "\n",
        "def solution(data):\n",
        "    return sum(filter(lambda x: x > 5 and x < 20 and x % 2 == 0, data))\n",
        "\n",
        "solution(number) # 결과 : 0\n",
        "solution(number2) # 결과 : 56"
      ],
      "metadata": {
        "colab": {
          "base_uri": "https://localhost:8080/"
        },
        "id": "K4QCxb6MYcBu",
        "outputId": "8aeebd22-a2e5-40c7-aa1d-d16a577be097"
      },
      "execution_count": 38,
      "outputs": [
        {
          "output_type": "execute_result",
          "data": {
            "text/plain": [
              "56"
            ]
          },
          "metadata": {},
          "execution_count": 38
        }
      ]
    },
    {
      "cell_type": "markdown",
      "source": [
        "### 2. 다음에 정보가 담겨져 있는 것을 Class로 만들어주세요. 메서드로는 '할인' 메서드를 만들어주세요. 예를 들어 아래 책을 10% 할인한다고 하면 4500원이 됩니다. `책.할인(10) == 4500`의 형태로 만들어주시면 됩니다.\n",
        "```\n",
        "{\n",
        "    '책제목': 'hello world python',\n",
        "    '책 내용 요약': 'hello world...',\n",
        "    '저자': '이호준',\n",
        "    '발행일': '2024-01-11',\n",
        "    '가격': 5000\n",
        "}\n",
        "```"
      ],
      "metadata": {
        "id": "nz_6e1StYJ1V"
      }
    },
    {
      "cell_type": "code",
      "source": [
        "class Book:\n",
        "    def __init__(\n",
        "            self,\n",
        "            책제목,\n",
        "            책_내용_요약,\n",
        "            저자,\n",
        "            발행일,\n",
        "            가격\n",
        "        ):\n",
        "\n",
        "        self.책제목 = 책제목\n",
        "        self.책_내용_요약 = 책_내용_요약\n",
        "        self.저자 = 저자\n",
        "        self.발행일 = 발행일\n",
        "        self.가격 = 가격\n",
        "\n",
        "    def 할인(self, 할인율):\n",
        "        할인금액 = int(self.가격 * (할인율 / 100))\n",
        "        할인가격 = self.가격 - 할인금액\n",
        "\n",
        "        print(f\"{할인율}% 할인되어 {할인금액}원 할인되었습니다! 구매가는 {할인가격}원 입니다.\")\n",
        "\n",
        "        return 할인가격\n",
        "\n",
        "책1 = Book('hello world python', 'hello world...', '이호준', '2024-01-11', 5000)\n",
        "\n",
        "책1.할인(10) == 4500"
      ],
      "metadata": {
        "colab": {
          "base_uri": "https://localhost:8080/"
        },
        "id": "b68L-Zj0ZhPB",
        "outputId": "4d78e440-5e47-4cef-b147-fbf4df27c92c"
      },
      "execution_count": 50,
      "outputs": [
        {
          "output_type": "stream",
          "name": "stdout",
          "text": [
            "10% 할인되어 500원 할인되었습니다! 구매가는 4500원 입니다.\n"
          ]
        },
        {
          "output_type": "execute_result",
          "data": {
            "text/plain": [
              "True"
            ]
          },
          "metadata": {},
          "execution_count": 50
        }
      ]
    },
    {
      "cell_type": "markdown",
      "source": [
        "### 3. 다음 문제를 풀고 정답을 제출해주세요.\n",
        "1. https://100.pyalgo.co.kr/?page=10\n",
        "2. https://100.pyalgo.co.kr/?page=18"
      ],
      "metadata": {
        "id": "9A8w9ah5YNI3"
      }
    },
    {
      "cell_type": "code",
      "source": [
        "# 문제 1 : 게임 밸런스 조절\n",
        "data = [['Licat', 98, 92, 85, 97], ['Mura', 95, 32, 51, 30], ['Binky', 98, 98, 51, 32]]\n",
        "\n",
        "def solution(data):\n",
        "    과능력명단 = filter(lambda x: sum(x[1::]) >= 350, data)\n",
        "    과능력이름 = [user[0] for user in 과능력명단]\n",
        "\n",
        "    return sorted(과능력이름)\n",
        "\n",
        "solution(data)"
      ],
      "metadata": {
        "colab": {
          "base_uri": "https://localhost:8080/"
        },
        "id": "s-Tvlw1shWPT",
        "outputId": "84f5f9c8-16d7-4c08-d685-0fe25cf9f79a"
      },
      "execution_count": 87,
      "outputs": [
        {
          "output_type": "execute_result",
          "data": {
            "text/plain": [
              "['Licat']"
            ]
          },
          "metadata": {},
          "execution_count": 87
        }
      ]
    },
    {
      "cell_type": "code",
      "source": [
        "# 문제 2 : 주간 최고 온도 기록 분석\n",
        "data = {'2024-01-01': 15, '2024-01-02': 17, '2024-01-30': 21, '2024-01-04': 20, '2024-01-05': 19, '2024-01-06': 21, '2024-01-07': 18}\n",
        "\n",
        "def solution(data):\n",
        "    sort_by_날짜 = sorted(data.items())\n",
        "    sort_by_온도 = sorted(sort_by_날짜, key=lambda x: x[1], reverse=True)\n",
        "    top3_days_str = [f\"{data[0][2:]}: {data[1]}\" for data in sort_by_온도[:3]]\n",
        "\n",
        "    return top3_days_str\n",
        "\n",
        "print(solution(data))"
      ],
      "metadata": {
        "colab": {
          "base_uri": "https://localhost:8080/"
        },
        "id": "RCZhEBiaSt_J",
        "outputId": "fae3834a-17a1-4758-d36a-89566af02960"
      },
      "execution_count": 85,
      "outputs": [
        {
          "output_type": "stream",
          "name": "stdout",
          "text": [
            "['24-01-06: 21', '24-01-30: 21', '24-01-04: 20']\n"
          ]
        }
      ]
    },
    {
      "cell_type": "code",
      "source": [
        "# 파이알고 15\n",
        "data = ['01:00 PM', '11:30 AM', '12:45 PM', '09:00 AM', '12:00 AM']\n",
        "\n",
        "def solution(data):\n",
        "    # 1. 오전오후 판별해서 int화\n",
        "    # transed_data = [int(time[:1] + time[2:4]) + 1200 if time[-2].upper() == \"P\" else int(time[:1] + time[2:4]) for time in data]\n",
        "    transed_data = [int(time[:2].replace(\"12\", \"00\") + time[3:5]) + 1200 if time[-2].upper() == \"P\" else int(time[:2].replace(\"12\", \"00\") + time[3:5]) for time in data]\n",
        "    zipped_data = zip(transed_data, data)\n",
        "\n",
        "    return [data[1] for data in sorted(zipped_data)]\n",
        "\n",
        "solution(data)"
      ],
      "metadata": {
        "colab": {
          "base_uri": "https://localhost:8080/"
        },
        "id": "9wE6x3YTdqSM",
        "outputId": "bbd2be10-a9cc-4eb2-b7a0-d36299fe0346"
      },
      "execution_count": 111,
      "outputs": [
        {
          "output_type": "execute_result",
          "data": {
            "text/plain": [
              "[(0, '12:00 AM'),\n",
              " (900, '09:00 AM'),\n",
              " (1130, '11:30 AM'),\n",
              " (1245, '12:45 PM'),\n",
              " (1300, '01:00 PM')]"
            ]
          },
          "metadata": {},
          "execution_count": 111
        }
      ]
    },
    {
      "cell_type": "code",
      "source": [
        "# 파이알고 16\n",
        "# 하 이거 왤케 오래걸렸지.. 더 간단하게도 될것같은데\n",
        "data = ['20-01-2024', '12/15/2023', '2022.05.30']\n",
        "\n",
        "def solution(data):\n",
        "    new_data = []\n",
        "\n",
        "    for date in data :\n",
        "        if date.find(\"/\") > 0 :\n",
        "            new_data.append(f\"{date[-4:]}/{date[0:2]}/{date[3:5]}\")\n",
        "        elif date.find(\"-\") > 0 :\n",
        "            new_data.append(f\"{date[-4:]}/{date[3:5]}/{date[0:2]}\")\n",
        "        elif date.find(\".\") > 0 :\n",
        "            new_data.append(f\"{date[0:4]}/{date[5:7]}/{date[-2:]}\")\n",
        "\n",
        "    return sorted(new_data)\n",
        "\n",
        "solution(data)"
      ],
      "metadata": {
        "colab": {
          "base_uri": "https://localhost:8080/"
        },
        "id": "QCmrZhePmJF5",
        "outputId": "60879d32-daa6-4760-8054-2b34611a5759"
      },
      "execution_count": 132,
      "outputs": [
        {
          "output_type": "execute_result",
          "data": {
            "text/plain": [
              "['2022/05/30', '2023/12/15', '2024/01/20']"
            ]
          },
          "metadata": {},
          "execution_count": 132
        }
      ]
    },
    {
      "cell_type": "code",
      "source": [
        "# 파이알고 17\n",
        "data = {'월': ['2024-01-01', '2024-01-08', '2024-01-15', '2024-01-22'], '화': ['2024-01-02', '2024-01-09', '2024-01-16'], '수': ['2024-01-03', '2024-01-10'], '목': ['2024-01-04', '2024-01-11', '2024-01-18'], '금': ['2024-01-05', '2024-01-12', '2024-01-19', '2024-01-26']}\n",
        "\n",
        "def solution(data):\n",
        "    new_list = []\n",
        "    for item in data.items() :\n",
        "        for day in item[1]:\n",
        "            new_list.append(f\"{day[2:]} {item[0]}\")\n",
        "\n",
        "    return sorted(new_list, reverse=True)[:3]\n",
        "\n",
        "solution(data)"
      ],
      "metadata": {
        "colab": {
          "base_uri": "https://localhost:8080/"
        },
        "id": "1AxAFm-JrXkv",
        "outputId": "f522a3df-7e89-4ff1-f072-210fed209d86"
      },
      "execution_count": 166,
      "outputs": [
        {
          "output_type": "execute_result",
          "data": {
            "text/plain": [
              "['24-01-26 금', '24-01-22 월', '24-01-19 금']"
            ]
          },
          "metadata": {},
          "execution_count": 166
        }
      ]
    },
    {
      "cell_type": "code",
      "source": [
        "data = [123, 4.56, 'hello', [1, 2, 3], (4, 5), {'a': 1, 'b': 2}]\n",
        "\n",
        "def solution(data):\n",
        "    return list(map(lambda x: str(type(x))[8:-2], data))\n",
        "\n",
        "solution(data)"
      ],
      "metadata": {
        "colab": {
          "base_uri": "https://localhost:8080/"
        },
        "id": "4A1eCjhZxaz8",
        "outputId": "063b3a1a-9f52-45f6-8697-62d0ff9ed034"
      },
      "execution_count": 179,
      "outputs": [
        {
          "output_type": "execute_result",
          "data": {
            "text/plain": [
              "['int', 'float', 'str', 'list', 'tuple', 'dict']"
            ]
          },
          "metadata": {},
          "execution_count": 179
        }
      ]
    },
    {
      "cell_type": "code",
      "source": [
        "data = [('list', [1, 2, 3]), ('int', '4'), ('str', 'hello')]\n",
        "\n",
        "def solution(data):\n",
        "    type_list = list(map(lambda x: str(type(x[1]))[8:-2], data))\n",
        "    bool_list = [item[1][0] == type_list[item[0]] for item in list(enumerate(data))]\n",
        "\n",
        "    return all(bool_list)\n",
        "\n",
        "solution(data)"
      ],
      "metadata": {
        "colab": {
          "base_uri": "https://localhost:8080/"
        },
        "id": "g0t_AlsM544H",
        "outputId": "61cd3804-33fd-4627-f1df-63ccf3619387"
      },
      "execution_count": 188,
      "outputs": [
        {
          "output_type": "execute_result",
          "data": {
            "text/plain": [
              "[True, False, True]"
            ]
          },
          "metadata": {},
          "execution_count": 188
        }
      ]
    },
    {
      "cell_type": "markdown",
      "source": [
        "\n"
      ],
      "metadata": {
        "id": "a2yzBf5X54lE"
      }
    },
    {
      "cell_type": "code",
      "source": [],
      "metadata": {
        "id": "9bljR-qG3DhR"
      },
      "execution_count": null,
      "outputs": []
    }
  ]
}