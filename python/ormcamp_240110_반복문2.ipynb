{
  "nbformat": 4,
  "nbformat_minor": 0,
  "metadata": {
    "colab": {
      "provenance": [],
      "authorship_tag": "ABX9TyOnuwC2odgpDodNUvLJzu3H",
      "include_colab_link": true
    },
    "kernelspec": {
      "name": "python3",
      "display_name": "Python 3"
    },
    "language_info": {
      "name": "python"
    }
  },
  "cells": [
    {
      "cell_type": "markdown",
      "metadata": {
        "id": "view-in-github",
        "colab_type": "text"
      },
      "source": [
        "<a href=\"https://colab.research.google.com/github/escape1001/ormcamp/blob/main/python/ormcamp_240110_%EB%B0%98%EB%B3%B5%EB%AC%B82.ipynb\" target=\"_parent\"><img src=\"https://colab.research.google.com/assets/colab-badge.svg\" alt=\"Open In Colab\"/></a>"
      ]
    },
    {
      "cell_type": "markdown",
      "source": [
        "# 반복문 이어서"
      ],
      "metadata": {
        "id": "2Sf5WpFPCKdQ"
      }
    },
    {
      "cell_type": "markdown",
      "source": [
        "## for문과 while문의 차이점\n",
        "- while문은 조건, for문은 범위가 있다.\n",
        "- while의 경우 연산자를 계산할 수 있는 외부의 변수가 하나 있고\n",
        "- 무한루프에 빠질 수 있기 때문에 연산자를 계싼해서 조건문을 false로 만드는 구문이 있다."
      ],
      "metadata": {
        "id": "2Nz2JvSbuqhz"
      }
    },
    {
      "cell_type": "markdown",
      "source": [
        "## break와 continue\n",
        "- break 반복문 나머지 안하고 탈출~\n",
        "- continue : 반복문 나머지 부분을 건너뛰고, 반복문을 다음 반복으로 즉시 이동"
      ],
      "metadata": {
        "id": "3UgREx3O0N5g"
      }
    },
    {
      "cell_type": "code",
      "execution_count": 3,
      "metadata": {
        "colab": {
          "base_uri": "https://localhost:8080/"
        },
        "id": "lxpy-wkouj-i",
        "outputId": "4d722388-42b9-4acc-c48f-3169bd2fc124"
      },
      "outputs": [
        {
          "output_type": "stream",
          "name": "stdout",
          "text": [
            "0\n",
            "1\n",
            "2\n",
            "3\n",
            "4\n",
            "5\n"
          ]
        }
      ],
      "source": [
        "# break 예시 : 10까지 출력되는 반복문을 5에서 끊음\n",
        "x = 0\n",
        "while x < 10:\n",
        "    print(x)\n",
        "    if x == 5:\n",
        "        break\n",
        "    x += 1\n",
        ""
      ]
    },
    {
      "cell_type": "code",
      "source": [
        "# continue 예시 : 12345 출력되는 반복문에서 3을 건너뜀\n",
        "x = 0\n",
        "while x < 5:\n",
        "    x += 1\n",
        "    if x == 3:\n",
        "        continue\n",
        "    print(x) # x == 3인 경우 그 뒤의 코드블럭 지나침"
      ],
      "metadata": {
        "colab": {
          "base_uri": "https://localhost:8080/"
        },
        "id": "dd5V5HnUz7ak",
        "outputId": "53a2135c-25e8-48c6-98cf-a5e40d804aa0"
      },
      "execution_count": 4,
      "outputs": [
        {
          "output_type": "stream",
          "name": "stdout",
          "text": [
            "1\n",
            "2\n",
            "4\n",
            "5\n"
          ]
        }
      ]
    },
    {
      "cell_type": "code",
      "source": [
        "# pass 예시 : 아무일도 안일어남. 그냥 스칠 뿐..\n",
        "x = 0\n",
        "while x < 5:\n",
        "    x += 1\n",
        "    if x == 3:\n",
        "        pass\n",
        "    print(x)"
      ],
      "metadata": {
        "colab": {
          "base_uri": "https://localhost:8080/"
        },
        "id": "NBhNouCy0M8P",
        "outputId": "0a27a07c-3eaf-4ab7-c7c3-476110099682"
      },
      "execution_count": 5,
      "outputs": [
        {
          "output_type": "stream",
          "name": "stdout",
          "text": [
            "1\n",
            "2\n",
            "3\n",
            "4\n",
            "5\n"
          ]
        }
      ]
    },
    {
      "cell_type": "markdown",
      "source": [
        "## 모든 반복문 한 번에 탈출하기"
      ],
      "metadata": {
        "id": "EZvvmd2sAJW3"
      }
    },
    {
      "cell_type": "code",
      "source": [
        "# break로 중첩 반복문 탈출 예시\n",
        "\n",
        "switch = 0 # 얘가 트리거임\n",
        "for i in range(5):\n",
        "    if switch == 1:\n",
        "        break\n",
        "    for j in range(5):\n",
        "        if j == 3:\n",
        "            switch = 1\n",
        "            break\n",
        "        print(f'{i}, {j}')"
      ],
      "metadata": {
        "colab": {
          "base_uri": "https://localhost:8080/"
        },
        "id": "72gvB4qpAK6K",
        "outputId": "abfbb539-fb2c-4ba8-988a-4ac321f96e3b"
      },
      "execution_count": 6,
      "outputs": [
        {
          "output_type": "stream",
          "name": "stdout",
          "text": [
            "0, 0\n",
            "0, 1\n",
            "0, 2\n"
          ]
        }
      ]
    },
    {
      "cell_type": "code",
      "source": [
        "# try / except로 중첩 반복문 탈출 예시\n",
        "# https://peps.python.org/pep-3136/\n",
        "\n",
        "try:\n",
        "    for i in range(2, 10):\n",
        "        for j in range(1, 10):\n",
        "            if j == 3:\n",
        "                raise StopIteration # 얘가 트리거임\n",
        "            print(f'{i} X {j} = {i*j}')\n",
        "except StopIteration: # 트리거 걸리면 이거 해라~\n",
        "    print(\"Done\")"
      ],
      "metadata": {
        "colab": {
          "base_uri": "https://localhost:8080/"
        },
        "id": "FCuVAz3TANzO",
        "outputId": "cadd72d4-fa5e-4c02-99a9-8ec72dae7859"
      },
      "execution_count": 7,
      "outputs": [
        {
          "output_type": "stream",
          "name": "stdout",
          "text": [
            "2 X 1 = 2\n",
            "2 X 2 = 4\n",
            "Done\n"
          ]
        }
      ]
    },
    {
      "cell_type": "markdown",
      "source": [
        "## 반복문에서의 else\n",
        "- while문 다 끝내고 하는 동작\n",
        "- 이거 then이어야 되는거 아니냐? 는 논의가 있긴했음\n",
        "\n",
        "### for에서의 else\n",
        "- 루프가 정상 종료되었을 때나 처음부터 자료형이 비어있었을 때 실행됩니다.\n",
        "- 중간에 break문을 만나면 else 문은 실행하지 않습니다.\n",
        "\n",
        "```\n",
        "for 변수 in 범위:\n",
        "    pass # 반복 실행할 코드\n",
        "else:\n",
        "    pass # 반복문이 모두 실행되어 종료되고 실행할 코드\n",
        "```\n",
        "\n",
        "### while에서의 else\n",
        "- for와 마찬가지로 while문에서도 else는 정상 종료되었을 때 실행됩니다.\n",
        "- 단, 처음부터 while의 조건문이 False일 경우에도 실행한다는 점을 기억해주세요.\n",
        "\n",
        "```\n",
        "while 조건:\n",
        "    pass # 반복 실행할 코드\n",
        "else:\n",
        "    pass # while 반복문이 모두 실행되어 종료되고 실행할 코드\n",
        "```"
      ],
      "metadata": {
        "id": "OwoBCCqVCOl0"
      }
    },
    {
      "cell_type": "code",
      "source": [
        "# for else 사용 예시\n",
        "for i in range(100):\n",
        "    print(f'{i} 물고기를 잡았습니다.')\n",
        "    if i == 5:\n",
        "        print('만선입니다. 물고기를 다 잡았습니다.')\n",
        "        break\n",
        "else:\n",
        "    print('아직 여유가 좀 있지만, 물고기가 더 없는 것 같으니 이정도로 만족하고 돌아갑시다.')\n",
        "print('수고하셨습니다.')"
      ],
      "metadata": {
        "colab": {
          "base_uri": "https://localhost:8080/"
        },
        "id": "fPfOe8TZAR8t",
        "outputId": "9941a104-e31b-4826-9d8a-c31fbf680858"
      },
      "execution_count": 8,
      "outputs": [
        {
          "output_type": "stream",
          "name": "stdout",
          "text": [
            "0 물고기를 잡았습니다.\n",
            "1 물고기를 잡았습니다.\n",
            "2 물고기를 잡았습니다.\n",
            "3 물고기를 잡았습니다.\n",
            "4 물고기를 잡았습니다.\n",
            "5 물고기를 잡았습니다.\n",
            "만선입니다. 물고기를 다 잡았습니다.\n",
            "수고하셨습니다.\n"
          ]
        }
      ]
    },
    {
      "cell_type": "code",
      "source": [
        "# while else 사용 예시\n",
        "n = 0\n",
        "while n < 5:\n",
        "    print(f'현재 숫자는 {n}입니다.')\n",
        "    n += 1\n",
        "else:\n",
        "    print('반복문을 종료합니다.')"
      ],
      "metadata": {
        "colab": {
          "base_uri": "https://localhost:8080/"
        },
        "id": "vT41S77rCo98",
        "outputId": "5d30b2bc-d4ba-4e94-d5e7-f53fab3c30d4"
      },
      "execution_count": 9,
      "outputs": [
        {
          "output_type": "stream",
          "name": "stdout",
          "text": [
            "현재 숫자는 0입니다.\n",
            "현재 숫자는 1입니다.\n",
            "현재 숫자는 2입니다.\n",
            "현재 숫자는 3입니다.\n",
            "현재 숫자는 4입니다.\n",
            "반복문을 종료합니다.\n"
          ]
        }
      ]
    },
    {
      "cell_type": "code",
      "source": [
        "# while else 사용 예시 2 : break 사용하면 else 실행안됨\n",
        "n = 0\n",
        "while n < 5:\n",
        "    print(f'현재 숫자는 {n}입니다.')\n",
        "    n += 1\n",
        "    if n > 3:\n",
        "        break\n",
        "else:\n",
        "    print('반복문을 종료합니다.')"
      ],
      "metadata": {
        "colab": {
          "base_uri": "https://localhost:8080/"
        },
        "id": "BmwWrz0ZDF9N",
        "outputId": "70591b65-83fc-4277-b832-9cd445036f50"
      },
      "execution_count": 10,
      "outputs": [
        {
          "output_type": "stream",
          "name": "stdout",
          "text": [
            "현재 숫자는 0입니다.\n",
            "현재 숫자는 1입니다.\n",
            "현재 숫자는 2입니다.\n",
            "현재 숫자는 3입니다.\n"
          ]
        }
      ]
    },
    {
      "cell_type": "code",
      "source": [],
      "metadata": {
        "id": "9qZ8Sqq9DJuT"
      },
      "execution_count": null,
      "outputs": []
    }
  ]
}