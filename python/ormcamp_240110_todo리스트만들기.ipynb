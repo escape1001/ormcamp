{
  "nbformat": 4,
  "nbformat_minor": 0,
  "metadata": {
    "colab": {
      "provenance": [],
      "authorship_tag": "ABX9TyOeJQb21vOew80G7Uo3C+b9",
      "include_colab_link": true
    },
    "kernelspec": {
      "name": "python3",
      "display_name": "Python 3"
    },
    "language_info": {
      "name": "python"
    }
  },
  "cells": [
    {
      "cell_type": "markdown",
      "metadata": {
        "id": "view-in-github",
        "colab_type": "text"
      },
      "source": [
        "<a href=\"https://colab.research.google.com/github/escape1001/ormcamp/blob/main/python/ormcamp_240110_todo%EB%A6%AC%EC%8A%A4%ED%8A%B8%EB%A7%8C%EB%93%A4%EA%B8%B0.ipynb\" target=\"_parent\"><img src=\"https://colab.research.google.com/assets/colab-badge.svg\" alt=\"Open In Colab\"/></a>"
      ]
    },
    {
      "cell_type": "markdown",
      "source": [
        "# 할 일 목록 프로그램 만들기\n",
        "1. Step 1: 할 일 목록 초기화 및 표시 함수\n",
        "- 목표: 사용자의 할 일 목록을 관리합니다.\n",
        "- 내용: 할 일 목록을 저장할 리스트를 초기화합니다. / 할 일 목록을 표시하는 함수를 정의합니다.\n",
        "\n",
        "2. Step 2: 할 일 추가 및 삭제 기능\n",
        "- 목표: 할 일을 추가하고 삭제하는 기능을 구현합니다.\n",
        "- 내용: 할 일을 추가하는 함수를 정의합니다. / 할 일을 삭제하는 함수를 정의합니다.\n",
        "\n",
        "3. Step 3: 사용자 입력 처리\n",
        "- 목표: 사용자 입력에 따라 프로그램이 반응하도록 합니다.\n",
        "- 내용: 사용자로부터 입력을 받아 추가, 삭제, 표시 기능을 수행합니다."
      ],
      "metadata": {
        "id": "7-Yolda_HOA-"
      }
    },
    {
      "cell_type": "markdown",
      "source": [
        "## 메모\n",
        "1. to_do = [] <- 요거 todo_list가 더 직관적일 것 같음.\n",
        "2. 함수에서 task를 파라미터로 받아오는걸로 작성했었는데 remove 여러번 호출할 때 불편함.. 함수 내에서 task input 으로 받아오는것이..\n",
        "3. remove 할 땐 숫자로 호출하는게 편한거같음."
      ],
      "metadata": {
        "id": "KqwSAY26NBdy"
      }
    },
    {
      "cell_type": "code",
      "execution_count": null,
      "metadata": {
        "id": "TRFTvLjFHM4S"
      },
      "outputs": [],
      "source": [
        "todo_list = [] # 기존엔 to_do로 합의했으나 list라는 자료형이 직관적으로 와닿지 않았음\n",
        "\n",
        "# 기존엔 addm remove 함수에 파라미터로 task 받아오고자 했으나\n",
        "# 입력은 문자열, 삭제는 숫자로 입력받고 싶음 + 잘못 입력 시 재입력 받고 싶었기 때문에 input을 함수 안에 넣어줌\n",
        "def addList() :\n",
        "    task = input(\"> 추가할 할일을 입력해주세요 : \")\n",
        "    todo_list.append(task)\n",
        "    showList(\"추가\")\n",
        "\n",
        "def removeList() :\n",
        "    task_index = input(\"> 몇번째 할일을 삭제하시겠습니까? 숫자로 입력해주세요. : \")\n",
        "\n",
        "    if task_index.isdigit() == False :\n",
        "        print(\"> 숫자가 아닙니다. 다시 입력해주세요.\")\n",
        "        removeList()\n",
        "    else :\n",
        "        task_index = int(task_index)\n",
        "\n",
        "    if task_index == 0 or task_index > len(todo_list) :\n",
        "        print(\"> 해당 인덱스가 없습니다. 처음으로 돌아갑니다.\")\n",
        "    else :\n",
        "        todo_list.pop(task_index)\n",
        "        showList(\"삭제\")\n",
        "\n",
        "def showList(action) :\n",
        "    print(f\"\\n----- [{action} 후 나의 할 일 목록] -----\")\n",
        "\n",
        "    for task in enumerate(todo_list) :\n",
        "        print(f\"[{task[0]}] {task[1]}\")\n",
        "\n",
        "    print(\"--------------------------------\\n\")\n",
        "\n",
        "while True :\n",
        "    user_action = input(\"추가/삭제 중 원하는 액션을 입력해주세요 : \")\n",
        "\n",
        "    if user_action == \"추가\" :\n",
        "        addList()\n",
        "    elif user_action == \"삭제\" :\n",
        "        removeList()\n",
        "    else :\n",
        "        print(\"잘못된 입력값입니다. 추가/삭제 중 하나를 입력해주세요\")"
      ]
    },
    {
      "cell_type": "code",
      "source": [],
      "metadata": {
        "id": "1g5qzm4FK9Hb"
      },
      "execution_count": null,
      "outputs": []
    }
  ]
}