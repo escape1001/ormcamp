{
  "nbformat": 4,
  "nbformat_minor": 0,
  "metadata": {
    "colab": {
      "provenance": [],
      "authorship_tag": "ABX9TyM3LsimccOiaPM9SGedmS4k",
      "include_colab_link": true
    },
    "kernelspec": {
      "name": "python3",
      "display_name": "Python 3"
    },
    "language_info": {
      "name": "python"
    }
  },
  "cells": [
    {
      "cell_type": "markdown",
      "metadata": {
        "id": "view-in-github",
        "colab_type": "text"
      },
      "source": [
        "<a href=\"https://colab.research.google.com/github/escape1001/ormcamp/blob/main/python/ormcamp_240102_input%EC%8B%A4%EC%8A%B5.ipynb\" target=\"_parent\"><img src=\"https://colab.research.google.com/assets/colab-badge.svg\" alt=\"Open In Colab\"/></a>"
      ]
    },
    {
      "cell_type": "markdown",
      "source": [
        "# 2024년 새해 계획 프로그램\n",
        "\n",
        "2024년도 계획을 3~10가지 적고\n",
        "\n",
        "1. 나의 2024년도 계획을 적는다.\n",
        "2. 그 중에서 변수로 만들수 있는 것들(input으로 받을 수 있는 것을 비운다.)\n",
        "3. 10 문장에 대해서 똑같이 적용한다. (1개~3개정도 단어)\n",
        "4. 테스트 해본다.\n",
        "4. 테스트 해본다.\n",
        "5. 코드와 결과를 업로드한다.\n",
        "\n",
        "```\n",
        "[예시]\n",
        "sentence_1 = input(\"이번 해에는 매일 ___ 운동을 하기로 했다: \")\n",
        "print(f\"이번 해에는 매일 {sentence_1} 운동을 하기로 했다.\\n\")\n",
        "```"
      ],
      "metadata": {
        "id": "hhmNCHbilTLw"
      }
    },
    {
      "cell_type": "markdown",
      "source": [
        "## 1. 한 문장씩 받아 출력하기"
      ],
      "metadata": {
        "id": "FJyZ4qC3vTu7"
      }
    },
    {
      "cell_type": "code",
      "execution_count": 8,
      "metadata": {
        "colab": {
          "base_uri": "https://localhost:8080/"
        },
        "id": "tWu19g7OlNmT",
        "outputId": "1f45e363-45c5-4fb8-95a1-7b17f1f9d2ee"
      },
      "outputs": [
        {
          "output_type": "stream",
          "name": "stdout",
          "text": [
            "이번 해에 시도해보고 싶은 취미는? : 젤다\n",
            "이번 해에 꾸준히 하기로 한 운동은? : 헬스\n",
            "이번 해에는 열심히 하기로 한 공부는? : 파이썬\n",
            "\n",
            "------------------------\n",
            "\n",
            "이번 해에는 취미로 젤다을(를) 할 거야!\n",
            "이번 해에는 운동으로 꾸준히 헬스을(를) 할 거야!\n",
            "이번 해에는 열심히 헬스을(를) 공부 할 거야!\n",
            "2024년도 파이팅👏👏👏\n"
          ]
        }
      ],
      "source": [
        "\"\"\" 계획 질문 리스트\n",
        "1. 이번 해에 시도해보고 싶은 취미는?\n",
        "2. 이번 해에 꾸준히 하기로 한 운동은?\n",
        "3. 이번 해에는 열심히 하기로 한 공부는?\n",
        "\"\"\"\n",
        "\n",
        "todo_1 = input(\"이번 해에 시도해보고 싶은 취미는? : \")\n",
        "todo_2 = input(\"이번 해에 꾸준히 하기로 한 운동은? : \")\n",
        "todo_3 = input(\"이번 해에는 열심히 하기로 한 공부는? : \")\n",
        "\n",
        "print(f'\\n------------------------\\n')\n",
        "print(f'이번 해에는 취미로 {todo_1}을(를) 할 거야!')\n",
        "print(f'이번 해에는 운동으로 꾸준히 {todo_2}을(를) 할 거야!')\n",
        "print(f'이번 해에는 열심히 {todo_2}을(를) 공부 할 거야!')\n",
        "print(f'2024년도 파이팅👏👏👏')"
      ]
    },
    {
      "cell_type": "markdown",
      "source": [
        "## 2. 두가지 input 받아서 한 문장에 출력하기"
      ],
      "metadata": {
        "id": "l7CI2tr3vYaF"
      }
    },
    {
      "cell_type": "code",
      "source": [
        "word1 = input(\"올해는 __와 \")\n",
        "word2 = input(\"--에 집중하려고 한다. \")\n",
        "\n",
        "# 한 문장에 변수 두개 출력하기 (기본)\n",
        "print(f\"올해는 {word1}와 {word2}에 집중하려고 한다.\\n\")\n",
        "\n",
        "# end를 사용해서 두 문장 합치기\n",
        "print(f\"올해는 {word1}와\", end=\" \")\n",
        "print(f\"{word2}에 집중하려고 한다.\")"
      ],
      "metadata": {
        "colab": {
          "base_uri": "https://localhost:8080/"
        },
        "id": "tnaf2m0Yumjf",
        "outputId": "4c365d5b-c7db-4634-cdf8-855def5ec771"
      },
      "execution_count": 17,
      "outputs": [
        {
          "output_type": "stream",
          "name": "stdout",
          "text": [
            "올해는 __와 1\n",
            "--에 집중하려고 한다. 2\n",
            "올해는 1와 2에 집중하려고 한다.\n",
            "\n",
            "올해는 1와 2에 집중하려고 한다.\n"
          ]
        }
      ]
    },
    {
      "cell_type": "markdown",
      "source": [
        "## 3. 두가지 단어를 한꺼번에 받기"
      ],
      "metadata": {
        "id": "uHUJDoXcwtTo"
      }
    },
    {
      "cell_type": "code",
      "source": [
        "sentence_1 = input(\"올해는 __와 __에 집중하려고 한다 : \") # (필수) 공백을 기준으로 분리\n",
        "word3, word4 = sentence_1.split()\n",
        "\n",
        "print(sentence_1)\n",
        "print(f\"올해는 {word3}와 {word4}에 집중하려고 한다.\")"
      ],
      "metadata": {
        "colab": {
          "base_uri": "https://localhost:8080/"
        },
        "id": "x5oT_ZjAusgP",
        "outputId": "4f5e77de-19e4-4e02-c312-d0523af6168e"
      },
      "execution_count": 18,
      "outputs": [
        {
          "output_type": "stream",
          "name": "stdout",
          "text": [
            "올해는 1와 2에 집중하려고 한다.\n",
            "올해는 __와 __에 집중하려고 한다 : 3 4\n",
            "3 4\n",
            "올해는 3와 4에 집중하려고 한다.\n"
          ]
        }
      ]
    },
    {
      "cell_type": "code",
      "source": [],
      "metadata": {
        "id": "1IcpG3dzxNJL"
      },
      "execution_count": null,
      "outputs": []
    }
  ]
}