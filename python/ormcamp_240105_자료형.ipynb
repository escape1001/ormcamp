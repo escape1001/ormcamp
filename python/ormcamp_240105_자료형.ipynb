{
  "nbformat": 4,
  "nbformat_minor": 0,
  "metadata": {
    "colab": {
      "provenance": [],
      "authorship_tag": "ABX9TyN1bOEyVxqNYa8N4wCiNeAf",
      "include_colab_link": true
    },
    "kernelspec": {
      "name": "python3",
      "display_name": "Python 3"
    },
    "language_info": {
      "name": "python"
    }
  },
  "cells": [
    {
      "cell_type": "markdown",
      "metadata": {
        "id": "view-in-github",
        "colab_type": "text"
      },
      "source": [
        "<a href=\"https://colab.research.google.com/github/escape1001/ormcamp/blob/main/python/ormcamp_240105_%EC%9E%90%EB%A3%8C%ED%98%95.ipynb\" target=\"_parent\"><img src=\"https://colab.research.google.com/assets/colab-badge.svg\" alt=\"Open In Colab\"/></a>"
      ]
    },
    {
      "cell_type": "markdown",
      "source": [
        "# 1. 리스트\n",
        "- 변경이 가능한 자료형\n",
        "- 순서가 있는 자료형 (시퀀스형 자료형, 인덱싱, 슬라이싱)\n",
        "\n",
        "# 1.1 리스트의 특징"
      ],
      "metadata": {
        "id": "0NX4bl8QFVwQ"
      }
    },
    {
      "cell_type": "code",
      "source": [
        "l = [10, 20, 30]\n",
        "\n",
        "# 라인 수 길어질 때 엔터 권고사항\n",
        "\n",
        "# 권고 1\n",
        "l = [10,\n",
        "     20,\n",
        "     30]\n",
        "\n",
        "l = [\n",
        "    10,\n",
        "    20,\n",
        "    30\n",
        "]\n",
        "\n",
        "# 권고 2 (실무형)\n",
        "l = [\n",
        "    10,\n",
        "    20,\n",
        "    30, # 요 콤마가 json에선 에러내는 경우가 많음. 그치만 단축키 쓰다보면 이게 편한건 어쩔 수 X.. 포매터야 힘내\n",
        "]"
      ],
      "metadata": {
        "id": "v15pl19htuA0"
      },
      "execution_count": null,
      "outputs": []
    },
    {
      "cell_type": "code",
      "source": [
        "l = [10, 20, 30]\n",
        "l[2] # 기본적으로 요렇게 인덱스로 불러올 수 있음\n",
        "\n",
        "# 같은 순회 객체라 하더라도 str은 인덱싱 안됨!\n",
        "s = 'hello world'\n",
        "# s[0] = 'y' <- 에러남\n",
        "\n",
        "\n",
        "# str으로 첫글자 바꾸고 싶으면 아싸리 이렇게\n",
        "# 예시 1\n",
        "s = s.replace('h', 'y')\n",
        "\n",
        "# 예시 2\n",
        "s = 'y' + s[1:]"
      ],
      "metadata": {
        "id": "tQHHdWDxuMfJ"
      },
      "execution_count": 1,
      "outputs": []
    },
    {
      "cell_type": "code",
      "source": [
        "l = [10, 20, 30, 40, 50]\n",
        "l[-1]\n",
        "l[-2:] # 마이너스 인덱싱, 마이너스 슬라이싱은 최종적으로 양수로 치환됨\n",
        "l[3:]\n",
        "# 변수명[stop]\n",
        "# 변수명[start:stop]\n",
        "# 변수명[start:stop:step]"
      ],
      "metadata": {
        "id": "l7st0FS82Ohi"
      },
      "execution_count": null,
      "outputs": []
    },
    {
      "cell_type": "code",
      "source": [
        "# 더하기빼기 곱하기 되는가?\n",
        "\n",
        "l = [10, 20, 30]\n",
        "# l + 100 # 에러남! 정수 더하기는 불가능\n",
        "l + [100]\n",
        "l + [100, 200]\n",
        "l * 3 # 정수 곱하기는 가능!\n",
        "# l * [1, 2] # 리스트 곱하기 불가능"
      ],
      "metadata": {
        "colab": {
          "base_uri": "https://localhost:8080/"
        },
        "id": "Con4ZBNU2Uct",
        "outputId": "649edea7-a831-4f2a-d89a-d0c55265a575"
      },
      "execution_count": 5,
      "outputs": [
        {
          "output_type": "execute_result",
          "data": {
            "text/plain": [
              "[10, 20, 30, 10, 20, 30, 10, 20, 30]"
            ]
          },
          "metadata": {},
          "execution_count": 5
        }
      ]
    },
    {
      "cell_type": "code",
      "source": [
        "# 리스트 곱하기는 매우 주의필요!\n",
        "# 곱하기가 2중으로 있을 때에는 나중에 배울 리스트컴프리헨션 사용해주세요!\n",
        "l = [[1, 2, 3] * 3] * 2\n",
        "l[1][0] = 1000\n",
        "\n",
        "l\n",
        "''' 이랗게 나올 것 같지만\n",
        "    [[1, 2, 3, 1, 2, 3, 1, 2, 3], [1000, 2, 3, 1, 2, 3, 1, 2, 3]]\n",
        "    이렇게 나옴\n",
        "    [[1000, 2, 3, 1, 2, 3, 1, 2, 3], [1000, 2, 3, 1, 2, 3, 1, 2, 3]]\n",
        "'''"
      ],
      "metadata": {
        "colab": {
          "base_uri": "https://localhost:8080/"
        },
        "id": "4mEGM5vW2wyJ",
        "outputId": "360662dc-5601-4e21-9055-6cbe5eaba5a3"
      },
      "execution_count": 7,
      "outputs": [
        {
          "output_type": "execute_result",
          "data": {
            "text/plain": [
              "[[1000, 2, 3, 1, 2, 3, 1, 2, 3], [1000, 2, 3, 1, 2, 3, 1, 2, 3]]"
            ]
          },
          "metadata": {},
          "execution_count": 7
        }
      ]
    },
    {
      "cell_type": "code",
      "source": [
        "# 암기해달래.... 너흰 뭐니 텐서플로는 들어봤는데\n",
        "# 인공지능 = 행렬의 연산이래. 나중에 이해가 되겠지~\n",
        "x = 10 # 스칼라\n",
        "x = [10] # 벡터\n",
        "x = [10, 20] # 벡터\n",
        "x = [[10, 20], [10, 20]] # 메트릭스(행렬)\n",
        "x = [[[10, 20], [10, 20]], [[10, 20], [10, 20]]] #텐서(3차원 이상 행렬)"
      ],
      "metadata": {
        "id": "706c9uvX3VJM"
      },
      "execution_count": null,
      "outputs": []
    },
    {
      "cell_type": "markdown",
      "source": [
        "## 1.2 리스트 메소드"
      ],
      "metadata": {
        "id": "jez8jxnNveNt"
      }
    },
    {
      "cell_type": "code",
      "source": [
        "# append : 요소 추가하기\n",
        "l = [10, 20, 30]\n",
        "l.append(40) # 배열 맨 끝에 요소 추가하기\n",
        "\n",
        "# 앞에다 넣는 방법 1\n",
        "l = [1000] + l\n",
        "\n",
        "# 앞에다 넣는 방법 2\n",
        "x = 10000\n",
        "l = [x] + l[:]\n",
        "\n",
        "# 앞에다 넣는 방법 3\n",
        "l.insert(0, 999)\n",
        "l"
      ],
      "metadata": {
        "colab": {
          "base_uri": "https://localhost:8080/"
        },
        "id": "f54tgtggg5K1",
        "outputId": "17793feb-d82c-4d82-c0b4-cc10083fa63f"
      },
      "execution_count": 8,
      "outputs": [
        {
          "output_type": "execute_result",
          "data": {
            "text/plain": [
              "[999, 10000, 1000, 10, 20, 30, 40]"
            ]
          },
          "metadata": {},
          "execution_count": 8
        }
      ]
    },
    {
      "cell_type": "code",
      "source": [
        "# pop : 요소 꺼내기\n",
        "l = [10, 20, 30, 40]\n",
        "l.pop() # 뒤에서 값을 꺼내는 방법\n",
        "l\n",
        "\n",
        "l = [10, 20, 30, 40]\n",
        "l.pop(0) # 앞에서 값을 꺼내는 방법\n",
        "l\n",
        "\n",
        "l = [10, 20, 30, 40]\n",
        "l[:-1] # l = l[:-1]\n",
        "l[1:] # l = l[1:]"
      ],
      "metadata": {
        "colab": {
          "base_uri": "https://localhost:8080/"
        },
        "id": "oALvGBKi3vBZ",
        "outputId": "d9d5f21b-b12e-4757-f9a9-7da04af1ea42"
      },
      "execution_count": 11,
      "outputs": [
        {
          "output_type": "execute_result",
          "data": {
            "text/plain": [
              "[20, 30, 40]"
            ]
          },
          "metadata": {},
          "execution_count": 11
        }
      ]
    },
    {
      "cell_type": "code",
      "source": [
        "# index : 원하는 값의 위치 찾기\n",
        "l = [10, 20, 30, 40]\n",
        "l.index(20)\n",
        "\n",
        "# !!! index는 에러나니까 str에 find처럼 코드를 짜고 싶다면 슬라이싱 사용해~ !!!\n",
        "# 슬라이싱은 index 벗어나도 에러가 없어요\n",
        "l = [10, 20, 30, 40]\n",
        "l[100:101]"
      ],
      "metadata": {
        "colab": {
          "base_uri": "https://localhost:8080/"
        },
        "id": "0w9zRFvT4XGL",
        "outputId": "84dd6c13-c595-4a06-c598-8aeed299e86a"
      },
      "execution_count": 12,
      "outputs": [
        {
          "output_type": "execute_result",
          "data": {
            "text/plain": [
              "1"
            ]
          },
          "metadata": {},
          "execution_count": 12
        }
      ]
    },
    {
      "cell_type": "code",
      "source": [
        "# clear\n",
        "l = [10, 20, 30, 40]\n",
        "l.clear()"
      ],
      "metadata": {
        "id": "KPdmPMqRlmue"
      },
      "execution_count": 10,
      "outputs": []
    },
    {
      "cell_type": "code",
      "source": [
        "l = [10, 20, 30, 40]\n",
        "ll = l\n",
        "\n",
        "l[0] = 1000\n",
        "ll\n",
        "\n",
        "id(l), id(ll)\n",
        "l is ll"
      ],
      "metadata": {
        "colab": {
          "base_uri": "https://localhost:8080/"
        },
        "id": "M90805Yh4zn7",
        "outputId": "8f0a83ae-4578-42ab-c2ff-3d60314e5d38"
      },
      "execution_count": 13,
      "outputs": [
        {
          "output_type": "execute_result",
          "data": {
            "text/plain": [
              "True"
            ]
          },
          "metadata": {},
          "execution_count": 13
        }
      ]
    },
    {
      "cell_type": "code",
      "source": [
        "# copy\n",
        "l = [10, 20, 30, 40]\n",
        "ll = l.copy()\n",
        "\n",
        "ll[0] = 1000\n",
        "\n",
        "l"
      ],
      "metadata": {
        "colab": {
          "base_uri": "https://localhost:8080/"
        },
        "id": "e6RnjBmjl1po",
        "outputId": "a24c926c-8b09-417d-ad01-595807859917"
      },
      "execution_count": null,
      "outputs": [
        {
          "output_type": "execute_result",
          "data": {
            "text/plain": [
              "[10, 20, 30, 40]"
            ]
          },
          "metadata": {},
          "execution_count": 46
        }
      ]
    },
    {
      "cell_type": "code",
      "source": [
        "# count : 원하는 값 얼마나 있는지 세기\n",
        "l = [1, 1, 1, 2, 2, 2, 3, 3]\n",
        "l.count(1)"
      ],
      "metadata": {
        "colab": {
          "base_uri": "https://localhost:8080/"
        },
        "id": "0xQg8R075FU8",
        "outputId": "d344f3fd-dc4d-4795-fcc7-ab8b69c81338"
      },
      "execution_count": 14,
      "outputs": [
        {
          "output_type": "execute_result",
          "data": {
            "text/plain": [
              "3"
            ]
          },
          "metadata": {},
          "execution_count": 14
        }
      ]
    },
    {
      "cell_type": "code",
      "source": [
        "# count 이럴 때 쓸 수 있지롱~\n",
        "# https://codingdojang.com/scode/393?answer_mode=hide\n",
        "# 1에서 100까지 숫자 중 8이 몇개있니~\n",
        "숫자범위_리스트 = list(range(101))\n",
        "숫자범위_리스트\n",
        "str(숫자범위_리스트).count('8')"
      ],
      "metadata": {
        "colab": {
          "base_uri": "https://localhost:8080/"
        },
        "id": "VvdHYBV25TBS",
        "outputId": "62c02847-b9a7-41d2-f357-307e01915ed0"
      },
      "execution_count": 21,
      "outputs": [
        {
          "output_type": "execute_result",
          "data": {
            "text/plain": [
              "20"
            ]
          },
          "metadata": {},
          "execution_count": 21
        }
      ]
    },
    {
      "cell_type": "code",
      "source": [
        "# extend : list에 list 더하기\n",
        "l = [10, 20, 30, 40]\n",
        "l.extend([50, 60])\n",
        "l"
      ],
      "metadata": {
        "colab": {
          "base_uri": "https://localhost:8080/"
        },
        "id": "LDZYuZCM6IOE",
        "outputId": "a1ffa135-47a8-4246-efbd-d8ca010ad71e"
      },
      "execution_count": 22,
      "outputs": [
        {
          "output_type": "execute_result",
          "data": {
            "text/plain": [
              "[10, 20, 30, 40, 50, 60]"
            ]
          },
          "metadata": {},
          "execution_count": 22
        }
      ]
    },
    {
      "cell_type": "code",
      "source": [
        "l = [10, 20, 30, 40]\n",
        "l.extend('hello') # extend(보통리스트), extend(순회가능한객체)\n",
        "l"
      ],
      "metadata": {
        "colab": {
          "base_uri": "https://localhost:8080/"
        },
        "id": "beGPy8P26Yko",
        "outputId": "43df8ca0-2785-4047-a334-0e53570707ce"
      },
      "execution_count": 24,
      "outputs": [
        {
          "output_type": "execute_result",
          "data": {
            "text/plain": [
              "[10, 20, 30, 40, 'h', 'e', 'l', 'l', 'o']"
            ]
          },
          "metadata": {},
          "execution_count": 24
        }
      ]
    },
    {
      "cell_type": "code",
      "source": [
        "# remove : 한가지 요소를 지울 때 사용\n",
        "l = [1, 1, 1, 1, 2, 2, 3, 3, 3] # 맨 앞의 1 하나만 지워짐\n",
        "l.remove(1)\n",
        "l"
      ],
      "metadata": {
        "colab": {
          "base_uri": "https://localhost:8080/"
        },
        "id": "kLo_GI_p6aXp",
        "outputId": "74a8c4ed-abb5-4bd1-fedf-2019ddcb9c7c"
      },
      "execution_count": 25,
      "outputs": [
        {
          "output_type": "execute_result",
          "data": {
            "text/plain": [
              "[1, 1, 1, 2, 2, 3, 3, 3]"
            ]
          },
          "metadata": {},
          "execution_count": 25
        }
      ]
    },
    {
      "cell_type": "code",
      "source": [
        "# 1을 다 지우고 싶다면 remove가 아니라 filter 사용해~\n",
        "def f(x):\n",
        "    return x != 1\n",
        "\n",
        "l = [1, 1, 1, 1, 2, 2, 3, 3, 3]\n",
        "list(filter(f, l))"
      ],
      "metadata": {
        "colab": {
          "base_uri": "https://localhost:8080/"
        },
        "id": "L9r588Be6l-W",
        "outputId": "3ffb5b82-d8d2-49d2-e9d9-94d2b02fd4ca"
      },
      "execution_count": 26,
      "outputs": [
        {
          "output_type": "execute_result",
          "data": {
            "text/plain": [
              "[2, 2, 3, 3, 3]"
            ]
          },
          "metadata": {},
          "execution_count": 26
        }
      ]
    },
    {
      "cell_type": "code",
      "source": [
        "# reverse\n",
        "l = [10, 20, 60, 30, 50, 40]\n",
        "l.reverse()\n",
        "\n",
        "print(l) # 역정렬은 아님, 역순임. # 원본이 변한다~\n",
        "\n",
        "# 원본 바꾸기 싫으면 아래처럼 reversed 사용\n",
        "l = [10, 20, 60, 30, 50, 40]\n",
        "\n",
        "print(list(reversed(l)))"
      ],
      "metadata": {
        "colab": {
          "base_uri": "https://localhost:8080/"
        },
        "id": "rYuI0obSl-mJ",
        "outputId": "2344e869-4d9d-4615-d210-d9608dcecef0"
      },
      "execution_count": null,
      "outputs": [
        {
          "output_type": "stream",
          "name": "stdout",
          "text": [
            "[40, 50, 30, 60, 20, 10]\n",
            "[40, 50, 30, 60, 20, 10]\n"
          ]
        }
      ]
    },
    {
      "cell_type": "code",
      "source": [
        "# sort\n",
        "l = [10, 20, 60, 30, 50, 40]\n",
        "l.sort() # 원본을 바꾸는 정렬\n",
        "\n",
        "print(l) # 원본이 변한다~\n",
        "\n",
        "# 원본 바꾸기 싫으면 아래처럼 sorted 사용\n",
        "l = [10, 20, 60, 30, 50, 40]\n",
        "\n",
        "print(sorted(l)) # 얘는 형변환 안해도 되네.. 웃겨.."
      ],
      "metadata": {
        "colab": {
          "base_uri": "https://localhost:8080/"
        },
        "id": "4MJjWkSusycc",
        "outputId": "ad7bd449-8f14-4816-ab3f-9c6096cfa0c6"
      },
      "execution_count": null,
      "outputs": [
        {
          "output_type": "stream",
          "name": "stdout",
          "text": [
            "[10, 20, 30, 40, 50, 60]\n",
            "[10, 20, 30, 40, 50, 60]\n"
          ]
        }
      ]
    },
    {
      "cell_type": "code",
      "source": [
        "# sort, sorted, reverse, reversed 알고리즘 단골출제~ 예를들면 이런거\n",
        "# 국어 점수가 가장 높은 순으로 정렬해주세요.\n",
        "# 국, 영, 수, 이름\n",
        "s = [[100, 87, 91, '이호준'], [56, 38, 89, '이준호'], [33, 86, 100, '홍길동']]\n",
        "\n",
        "def f(x):\n",
        "    return x[0]\n",
        "\n",
        "sorted(s, key=f)\n",
        "sorted(s, key=f, reverse=True) # 와 이런것도 내장되어있네 .reverse 해야하는줄"
      ],
      "metadata": {
        "colab": {
          "base_uri": "https://localhost:8080/"
        },
        "id": "szWuN33l63Dr",
        "outputId": "7c902151-16f5-4e9d-c182-059ae4338f9a"
      },
      "execution_count": 30,
      "outputs": [
        {
          "output_type": "execute_result",
          "data": {
            "text/plain": [
              "[[100, 87, 91, '이호준'], [56, 38, 89, '이준호'], [33, 86, 100, '홍길동']]"
            ]
          },
          "metadata": {},
          "execution_count": 30
        }
      ]
    },
    {
      "cell_type": "markdown",
      "source": [
        "# 튜플\n",
        "- 순서가 없는 자료형입니다. (인덱싱, 슬라이싱)\n",
        "- 참조 변경 불가 (값이 변경 불가하다고 하면 틀린얘기임)\n",
        "\n",
        "list랑 비슷한데 소괄호 형태임.<br/>\n",
        "\n",
        "t = (10, 20, 30) # 소괄호"
      ],
      "metadata": {
        "id": "45NuO5k6Ae1U"
      }
    },
    {
      "cell_type": "code",
      "source": [
        "# 1번째 왜 이런 자료형이 필요할까요?\n",
        "# * 권한과 변경불가(시큐어 코딩), 형태 고정인 자료형(딕셔너리와 같은 것)\n",
        "\n",
        "# 2번째 변경이 불가능한데 왜 '값이 변경이 불가하다고 얘기하면 이것은 틀린 얘기입니다'라고 얘기하셨나요?\n",
        "a = [10, 20, 30]\n",
        "b = (a, 100, 200)\n",
        "b"
      ],
      "metadata": {
        "colab": {
          "base_uri": "https://localhost:8080/"
        },
        "id": "kGEFfD-7s52k",
        "outputId": "81032093-83f9-475a-c0bf-f36cc0e7b7cd"
      },
      "execution_count": 32,
      "outputs": [
        {
          "output_type": "execute_result",
          "data": {
            "text/plain": [
              "([10, 20, 30], 100, 200)"
            ]
          },
          "metadata": {},
          "execution_count": 32
        }
      ]
    },
    {
      "cell_type": "code",
      "source": [
        "a[0] = 1000 # 왜냐면 변수로 넣은 a에 값을 변결할 수 있으니까\n",
        "b"
      ],
      "metadata": {
        "colab": {
          "base_uri": "https://localhost:8080/"
        },
        "id": "71n4MgXx7t83",
        "outputId": "a8fb541e-d9da-4030-bc5f-342a34e99b5a"
      },
      "execution_count": 33,
      "outputs": [
        {
          "output_type": "execute_result",
          "data": {
            "text/plain": [
              "([1000, 20, 30], 100, 200)"
            ]
          },
          "metadata": {},
          "execution_count": 33
        }
      ]
    },
    {
      "cell_type": "code",
      "source": [
        "t = (10, 20, 30)\n",
        "dir(t)\n",
        "\n",
        "'count'\n",
        "'index'\n",
        "\n",
        "t.count(10) # 10의 갯수를 반환\n",
        "t.index(10) # 10의 위치를 반환"
      ],
      "metadata": {
        "id": "md5LB2Mj8E4_"
      },
      "execution_count": null,
      "outputs": []
    },
    {
      "cell_type": "code",
      "source": [
        "tuple([10, 20, 30])\n",
        "\n",
        "# tuple(순회가능한객체)\n",
        "# list(순회가능한객체)\n",
        "\n",
        "tuple('hello world')\n",
        "# list('hello world')"
      ],
      "metadata": {
        "colab": {
          "base_uri": "https://localhost:8080/"
        },
        "id": "UktaegNs8LQD",
        "outputId": "15882715-6e64-41e9-b9b0-4b998e6d24af"
      },
      "execution_count": 35,
      "outputs": [
        {
          "output_type": "execute_result",
          "data": {
            "text/plain": [
              "('h', 'e', 'l', 'l', 'o', ' ', 'w', 'o', 'r', 'l', 'd')"
            ]
          },
          "metadata": {},
          "execution_count": 35
        }
      ]
    },
    {
      "cell_type": "markdown",
      "source": [
        "# 3. 딕셔너리\n",
        "- Python 3.6버전 이상은 순서가 보장됨. but 실무에서 사용하는 버전은 생각보다 낮을 수 있음!<br/>\n",
        "안된다~ 생각하는게 속편할듯\n",
        "- key:value 쌍으로 이루어져 있음\n",
        "- 딕셔너리 데이터 검색은 매우 빠르다!\n",
        "- 딕셔너리 사용은 주의를 요합니다. key가 없는것을 호출할 경우 에러~"
      ],
      "metadata": {
        "id": "qMhL77oOHgsV"
      }
    },
    {
      "cell_type": "code",
      "source": [
        "d = {'one': '하나', 'two': '둘'}\n",
        "d['one']"
      ],
      "metadata": {
        "colab": {
          "base_uri": "https://localhost:8080/",
          "height": 35
        },
        "id": "TOvBBWtlHa5M",
        "outputId": "85e5f845-18ec-4693-addb-e209e7b80a69"
      },
      "execution_count": null,
      "outputs": [
        {
          "output_type": "execute_result",
          "data": {
            "text/plain": [
              "'하나'"
            ],
            "application/vnd.google.colaboratory.intrinsic+json": {
              "type": "string"
            }
          },
          "metadata": {},
          "execution_count": 64
        }
      ]
    },
    {
      "cell_type": "code",
      "source": [
        "# d['three'] <- 요러면 에러~ get 메서드 사용을 권함.\n",
        "\n",
        "d.get('three', '없는값입니다!') # <- 찾는 키 값이 있으면 반환, 없으면 두번째 파라미터의 내용 반환"
      ],
      "metadata": {
        "colab": {
          "base_uri": "https://localhost:8080/",
          "height": 35
        },
        "id": "yEvIodmKIaWo",
        "outputId": "e82742d6-4c05-4e2d-b3e2-acbb1e59054d"
      },
      "execution_count": null,
      "outputs": [
        {
          "output_type": "execute_result",
          "data": {
            "text/plain": [
              "'없는값입니다!'"
            ],
            "application/vnd.google.colaboratory.intrinsic+json": {
              "type": "string"
            }
          },
          "metadata": {},
          "execution_count": 71
        }
      ]
    },
    {
      "cell_type": "code",
      "source": [
        "# 실무에서 스위치문 대신 요렇게 많이 쓴대~\n",
        "def f(x):\n",
        "    return {\n",
        "            0: '일요일',\n",
        "            1: '월요일',\n",
        "            2: '화요일',\n",
        "            3: '수요일',\n",
        "            4: '목요일',\n",
        "            5: '금요일',\n",
        "            6: '토요일',\n",
        "        }.get(x, '요일없음')\n",
        "\n",
        "f(3)"
      ],
      "metadata": {
        "colab": {
          "base_uri": "https://localhost:8080/",
          "height": 35
        },
        "id": "XznxUjHRId_v",
        "outputId": "78362e8e-94c3-4ed5-86f4-42e07d6c4a03"
      },
      "execution_count": null,
      "outputs": [
        {
          "output_type": "execute_result",
          "data": {
            "text/plain": [
              "'수요일'"
            ],
            "application/vnd.google.colaboratory.intrinsic+json": {
              "type": "string"
            }
          },
          "metadata": {},
          "execution_count": 72
        }
      ]
    },
    {
      "cell_type": "code",
      "source": [
        "x = 5\n",
        "\n",
        "{\n",
        "    0: '일요일',\n",
        "    1: '월요일',\n",
        "    2: '화요일',\n",
        "    3: '수요일',\n",
        "    4: '목요일',\n",
        "    5: '금요일',\n",
        "    6: '토요일',\n",
        "}.get(x, '요일없음')"
      ],
      "metadata": {
        "colab": {
          "base_uri": "https://localhost:8080/",
          "height": 36
        },
        "id": "i4v4xAc38YD5",
        "outputId": "74268adb-c90b-475f-ae3a-f5a0dbd62ad3"
      },
      "execution_count": 37,
      "outputs": [
        {
          "output_type": "execute_result",
          "data": {
            "text/plain": [
              "'금요일'"
            ],
            "application/vnd.google.colaboratory.intrinsic+json": {
              "type": "string"
            }
          },
          "metadata": {},
          "execution_count": 37
        }
      ]
    },
    {
      "cell_type": "code",
      "source": [
        "type(d) # dict\n",
        "dir(d)\n",
        "\n",
        "'__class__'\n",
        "'__class_getitem__'\n",
        "'__contains__'\n",
        "'__delattr__'\n",
        "'__delitem__'\n",
        "'__dir__'\n",
        "'__doc__'\n",
        "'__eq__'\n",
        "'__format__'\n",
        "'__ge__'\n",
        "'__getattribute__'\n",
        "'__getitem__'\n",
        "'__gt__'\n",
        "'__hash__'\n",
        "'__init__'\n",
        "'__init_subclass__'\n",
        "'__ior__'\n",
        "'__iter__'\n",
        "'__le__'\n",
        "'__len__'\n",
        "'__lt__'\n",
        "'__ne__'\n",
        "'__new__'\n",
        "'__or__'\n",
        "'__reduce__'\n",
        "'__reduce_ex__'\n",
        "'__repr__'\n",
        "'__reversed__'\n",
        "'__ror__'\n",
        "'__setattr__'\n",
        "'__setitem__'\n",
        "'__sizeof__'\n",
        "'__str__'\n",
        "'__subclasshook__'\n",
        "'clear'\n",
        "'copy'\n",
        "'fromkeys'\n",
        "'get'\n",
        "'items'\n",
        "'keys'\n",
        "'pop'\n",
        "'popitem'\n",
        "'setdefault'\n",
        "'update'\n",
        "'values'"
      ],
      "metadata": {
        "colab": {
          "base_uri": "https://localhost:8080/",
          "height": 35
        },
        "id": "VH3v5ug6JSNi",
        "outputId": "3b5ea0db-af20-481d-d195-446a57c76783"
      },
      "execution_count": null,
      "outputs": [
        {
          "output_type": "execute_result",
          "data": {
            "text/plain": [
              "'values'"
            ],
            "application/vnd.google.colaboratory.intrinsic+json": {
              "type": "string"
            }
          },
          "metadata": {},
          "execution_count": 78
        }
      ]
    },
    {
      "cell_type": "code",
      "source": [
        "# 실제로 이와 같은 key: value 쌍을 게시물 저장하는 형태 등으로 사용합니다.\n",
        "\n",
        "게시물1 = {\n",
        "    'title': '파이썬교안',\n",
        "    'contents': '어쩌구저쩌구',\n",
        "    'author': 'user1',\n",
        "    'image': '/img/2024/jan/python.jpg',\n",
        "}\n",
        "\n",
        "게시물1['title']"
      ],
      "metadata": {
        "colab": {
          "base_uri": "https://localhost:8080/",
          "height": 35
        },
        "id": "qMIj4wTHJ_4A",
        "outputId": "6fc4d20b-4475-47e9-c76d-d756a16ef31a"
      },
      "execution_count": null,
      "outputs": [
        {
          "output_type": "execute_result",
          "data": {
            "text/plain": [
              "'파이썬교안'"
            ],
            "application/vnd.google.colaboratory.intrinsic+json": {
              "type": "string"
            }
          },
          "metadata": {},
          "execution_count": 83
        }
      ]
    },
    {
      "cell_type": "code",
      "source": [
        "d = {'one': '하나', 'two': '둘'}\n",
        "dd = d\n",
        "\n",
        "id(dd), id(d) # (132412221122496, 132412221122496)\n",
        "dd is d # True\n",
        "\n",
        "d['one'] = 'python'\n",
        "d['two'] = 'html'\n",
        "\n",
        "d, dd"
      ],
      "metadata": {
        "colab": {
          "base_uri": "https://localhost:8080/"
        },
        "id": "bMlozdQqNabb",
        "outputId": "7dde095d-b9cf-4c88-d312-63ba52b9798b"
      },
      "execution_count": null,
      "outputs": [
        {
          "output_type": "execute_result",
          "data": {
            "text/plain": [
              "({'one': 'python', 'two': 'html'}, {'one': 'python', 'two': 'html'})"
            ]
          },
          "metadata": {},
          "execution_count": 90
        }
      ]
    },
    {
      "cell_type": "code",
      "source": [
        "d = {'one': '하나', 'two': '둘'}\n",
        "dd = d.copy()\n",
        "\n",
        "id(dd), id(d) # (132412222429760, 132412222429824)\n",
        "dd is d # False\n",
        "\n",
        "d['one'] = 'python'\n",
        "d['two'] = 'html'\n",
        "\n",
        "d, dd"
      ],
      "metadata": {
        "colab": {
          "base_uri": "https://localhost:8080/"
        },
        "id": "IESaB7dbNpuV",
        "outputId": "18967635-c0f2-4734-c5c0-5f87aca534e5"
      },
      "execution_count": null,
      "outputs": [
        {
          "output_type": "execute_result",
          "data": {
            "text/plain": [
              "({'one': 'python', 'two': 'html'}, {'one': '하나', 'two': '둘'})"
            ]
          },
          "metadata": {},
          "execution_count": 93
        }
      ]
    },
    {
      "cell_type": "code",
      "source": [
        "# fromkeys 잘 안쓰긴하는데..\n",
        "# dict에서 key만 뽑아오기~\n",
        "d = {'one': '하나', 'two': '둘'}\n",
        "dict.fromkeys(d)\n",
        "dict.fromkeys(d, \"test value\")"
      ],
      "metadata": {
        "colab": {
          "base_uri": "https://localhost:8080/"
        },
        "id": "TTTFpbg3OB8L",
        "outputId": "5d372697-ab77-49d7-b180-74670c7953ee"
      },
      "execution_count": null,
      "outputs": [
        {
          "output_type": "execute_result",
          "data": {
            "text/plain": [
              "{'one': 'test value', 'two': 'test value'}"
            ]
          },
          "metadata": {},
          "execution_count": 95
        }
      ]
    },
    {
      "cell_type": "code",
      "source": [
        "# items\n",
        "d = {'one': '하나', 'two': '둘'}\n",
        "\n",
        "d.items() # dict_items이라는 타입을 가짐 / [('one', '하나'), ('two', '둘')]\n",
        "\n",
        "# d.items()[0] <- 요런식의 호출은 오류~ 인덱싱과 슬라이싱 안됨~\n",
        "\n",
        "a, b = d.items() # 요래 언패킹을 해줘야 호출 가능\n",
        "a\n",
        "\n",
        "for i, j in d.items() : # 순회는 가능~\n",
        "    print(f\"출력 : {i, j}\")"
      ],
      "metadata": {
        "colab": {
          "base_uri": "https://localhost:8080/"
        },
        "id": "YozEnRD9Ocsc",
        "outputId": "c17206b6-cb6e-4cd7-d795-fa6c7432c1af"
      },
      "execution_count": null,
      "outputs": [
        {
          "output_type": "stream",
          "name": "stdout",
          "text": [
            "출력 : ('one', '하나')\n",
            "출력 : ('two', '둘')\n"
          ]
        }
      ]
    },
    {
      "cell_type": "code",
      "source": [
        "d.keys() # dict_keys라는 타입을 가짐 / ['one', 'two']\n",
        "d.values() # dict_values이라는 타입을 가짐 / ['하나', '둘']"
      ],
      "metadata": {
        "colab": {
          "base_uri": "https://localhost:8080/"
        },
        "id": "0Bb3XzGBOy1d",
        "outputId": "8bd0744d-c1eb-4f05-87fc-08bfdc6c7643"
      },
      "execution_count": null,
      "outputs": [
        {
          "output_type": "execute_result",
          "data": {
            "text/plain": [
              "dict_keys(['one', 'two'])"
            ]
          },
          "metadata": {},
          "execution_count": 112
        }
      ]
    },
    {
      "cell_type": "code",
      "source": [
        "d = {'one': '하나', 'two': '둘'}\n",
        "d.setdefault('one')\n",
        "d.setdefault('three')\n",
        "d.setdefault('four', 4) # 키가 있으면 그 값을 출력하고, 없으면 해당 키를 삽입하고 4를 출력함."
      ],
      "metadata": {
        "colab": {
          "base_uri": "https://localhost:8080/"
        },
        "id": "vnziOYdwQsYi",
        "outputId": "8cd36620-5cd4-4ac3-9b4c-ef9596088eb8"
      },
      "execution_count": null,
      "outputs": [
        {
          "output_type": "execute_result",
          "data": {
            "text/plain": [
              "4"
            ]
          },
          "metadata": {},
          "execution_count": 118
        }
      ]
    },
    {
      "cell_type": "code",
      "source": [
        "# pop의 경우 논란의 여지가 많음. 비추천~\n",
        "# dict를 순서 있는 객체로 본건 최신버전에서부터.\n",
        "# 그럼 '마지막 순서'란 개념도 애매해진다.\n",
        "\n",
        "#pop\n",
        "d = {'one': '하나', 'two': '둘'}\n",
        "# d.pop() # 에러\n",
        "# d.pop('three') # 에러\n",
        "\n",
        "#popitem\n",
        "d = {'one': '하나', 'two': '둘'}\n",
        "d.popitem() # 없는 코드를 많이 보게 될 것."
      ],
      "metadata": {
        "colab": {
          "base_uri": "https://localhost:8080/"
        },
        "id": "VugE_IsKQEJP",
        "outputId": "b4b10b68-7697-4f40-bfe8-a2c85bf8f3fb"
      },
      "execution_count": null,
      "outputs": [
        {
          "output_type": "execute_result",
          "data": {
            "text/plain": [
              "('two', '둘')"
            ]
          },
          "metadata": {},
          "execution_count": 122
        }
      ]
    },
    {
      "cell_type": "code",
      "source": [
        "# update\n",
        "d = {'one': '하나', 'two': '둘'}\n",
        "d.update({'one': 'python', 'three': 'hello'})\n",
        "# 있는 key값인 one은 수정되고 없는 key값인 three는 추가된다.\n",
        "\n",
        "d"
      ],
      "metadata": {
        "colab": {
          "base_uri": "https://localhost:8080/"
        },
        "id": "fActyMcnRFgH",
        "outputId": "c64a381e-3212-4dc2-cdba-cabd81e0f9f1"
      },
      "execution_count": null,
      "outputs": [
        {
          "output_type": "execute_result",
          "data": {
            "text/plain": [
              "{'one': 'python', 'two': '둘', 'three': 'hello'}"
            ]
          },
          "metadata": {},
          "execution_count": 123
        }
      ]
    },
    {
      "cell_type": "code",
      "source": [
        "# 신규문법! (3.9) 세상 최신문법이라 책에 잘 안나온대\n",
        "d = {'one': '하나', 'two': '둘'}\n",
        "dd = {'three': '셋'}\n",
        "\n",
        "# d + dd <- 이거 왜 안되는데~ list는 +로 추가해주잖아~\n",
        "print(d | dd) # <- 이렇게 연결하래ㅋㅋㅋㅋ 골때리게 생겼네\n",
        "\n",
        "# update랑 같은 기능이라서 있는 키 수정도 됨\n",
        "d = {'one': '하나', 'two': '둘'}\n",
        "dd = {'one': 'pythonnnn', 'three': '셋'}\n",
        "\n",
        "print(d | dd)"
      ],
      "metadata": {
        "colab": {
          "base_uri": "https://localhost:8080/"
        },
        "id": "hAsA6uPERoE0",
        "outputId": "c1478a8c-95a7-4853-bc11-449c588f2a37"
      },
      "execution_count": null,
      "outputs": [
        {
          "output_type": "stream",
          "name": "stdout",
          "text": [
            "{'one': '하나', 'two': '둘', 'three': '셋'}\n",
            "{'one': 'pythonnnn', 'two': '둘', 'three': '셋'}\n"
          ]
        }
      ]
    },
    {
      "cell_type": "markdown",
      "source": [
        "# 3. Set\n",
        "- 중복을 허락하지 않는 자료형\n",
        "- 순서가 없는 자료형\n",
        "- 집합 : 합집합, 차집합, 교집합"
      ],
      "metadata": {
        "id": "Gl-GrmikSpFE"
      }
    },
    {
      "cell_type": "code",
      "source": [
        "s = {1, 2, 3, 4, 5}\n",
        "ss = {3, 4, 5, 6, 7}\n",
        "\n",
        "# s+ss # 에러난다~\n",
        "s | ss # 합집합\n",
        "s - ss # 차집합\n",
        "s & ss # 교집합"
      ],
      "metadata": {
        "colab": {
          "base_uri": "https://localhost:8080/"
        },
        "id": "jTNZVQX_R76s",
        "outputId": "30c9ffca-7ac8-4161-af21-7ed95b0b8973"
      },
      "execution_count": null,
      "outputs": [
        {
          "output_type": "execute_result",
          "data": {
            "text/plain": [
              "{3, 4, 5}"
            ]
          },
          "metadata": {},
          "execution_count": 132
        }
      ]
    },
    {
      "cell_type": "code",
      "source": [
        "dir(s) # 요거 쳐서  '__iter__' 나오면 순회할 수 있는 객체임\n",
        "\n",
        "''' 여러 메소드들이 있겠으나 실제로 자주 쓰는건 아래 3개정도.\n",
        "    그나마도 위의 예제처럼 기호로 축약할 수 있어\n",
        "\n",
        "    'difference',\n",
        "    'intersection',\n",
        "    'union'\n",
        "'''"
      ],
      "metadata": {
        "id": "KxVED6JUTemg"
      },
      "execution_count": null,
      "outputs": []
    },
    {
      "cell_type": "code",
      "source": [
        "s.difference(ss) # 차집합\n",
        "s.intersection(ss) # 교집합\n",
        "s.union(ss) # 합집합"
      ],
      "metadata": {
        "colab": {
          "base_uri": "https://localhost:8080/"
        },
        "id": "8dQ94d5ATyDL",
        "outputId": "15cf247c-237e-402b-c6f9-9044865e1074"
      },
      "execution_count": null,
      "outputs": [
        {
          "output_type": "execute_result",
          "data": {
            "text/plain": [
              "{1, 2, 3, 4, 5, 6, 7}"
            ]
          },
          "metadata": {},
          "execution_count": 139
        }
      ]
    },
    {
      "cell_type": "code",
      "source": [
        "# 요 set를 언제 쓰느냐~\n",
        "set('1231231231231123') # 중복값 제거할때\n",
        "set(map(int, set('1231231231231123'))) # 이러면 int형으로 변환해서 얻을 수 있지롱\n",
        "sum(map(int, set('1231231231231123'))) # 이러면 중첩안된 숫자들만 더할수도 있음"
      ],
      "metadata": {
        "colab": {
          "base_uri": "https://localhost:8080/"
        },
        "id": "8tfsFwyjUZmP",
        "outputId": "02fdec65-b291-4d1e-d09b-ae325b375de5"
      },
      "execution_count": null,
      "outputs": [
        {
          "output_type": "execute_result",
          "data": {
            "text/plain": [
              "6"
            ]
          },
          "metadata": {},
          "execution_count": 147
        }
      ]
    },
    {
      "cell_type": "code",
      "source": [
        "# 막간 sum얘기\n",
        "sum([10, 20, 30]) # 됨. 60\n",
        "# sum(10, 20, 30) # 안됨. 순회가 가능하지않음\n",
        "\n",
        "sum([10, 20, 30], 100) # 순회가능한 객체 + 초깃값 = 160\n",
        "sum([10, 20, 30], 100) # 순회가능한 객체 + 초깃값\n",
        "\n",
        "# sum([[10, 20], [30, 40], [50, 60]]) # 안됨.\n",
        "sum([[10, 20], [30, 40], [50, 60]], []) # 평탄화가 됨! [10, 20, 30, 40, 50, 60]\n",
        "# [] + [10 + 20] == [10, 20]\n",
        "# [10 + 20] + [30, 40] ==  [10, 20, 30, 40]"
      ],
      "metadata": {
        "colab": {
          "base_uri": "https://localhost:8080/"
        },
        "id": "2YuUD12DVN9L",
        "outputId": "94f8435e-cb82-4f3f-966a-51ed25a51ac5"
      },
      "execution_count": null,
      "outputs": [
        {
          "output_type": "execute_result",
          "data": {
            "text/plain": [
              "[10, 20, 30, 40, 50, 60]"
            ]
          },
          "metadata": {},
          "execution_count": 154
        }
      ]
    },
    {
      "cell_type": "markdown",
      "source": [
        "# 자료형은 아니지만.. in\n",
        "순회 객체에 이거 있는지 확인해죠~"
      ],
      "metadata": {
        "id": "-9E176akXViS"
      }
    },
    {
      "cell_type": "code",
      "source": [
        "'h' in 'hello' # True\n",
        "\n",
        "x = 10\n",
        "x in [10, 20, 30, 40, 50] # True\n",
        "\n",
        "# 부정형 not in\n",
        "x = [10, 20, 30]\n",
        "x not in [[10, 20], [20, 30], [30, 40, 50]] # 없으니까 True"
      ],
      "metadata": {
        "colab": {
          "base_uri": "https://localhost:8080/"
        },
        "id": "ijfyUlPEWJ8l",
        "outputId": "74daf6b1-c776-462b-bdd4-c48e2da2139d"
      },
      "execution_count": null,
      "outputs": [
        {
          "output_type": "execute_result",
          "data": {
            "text/plain": [
              "True"
            ]
          },
          "metadata": {},
          "execution_count": 160
        }
      ]
    },
    {
      "cell_type": "code",
      "source": [],
      "metadata": {
        "id": "GwsDa3iOXaWS"
      },
      "execution_count": null,
      "outputs": []
    }
  ]
}