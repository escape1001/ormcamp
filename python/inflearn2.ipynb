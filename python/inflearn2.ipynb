{
  "cells": [
    {
      "cell_type": "markdown",
      "metadata": {
        "id": "view-in-github",
        "colab_type": "text"
      },
      "source": [
        "<a href=\"https://colab.research.google.com/github/escape1001/ormcamp/blob/main/python/inflearn2.ipynb\" target=\"_parent\"><img src=\"https://colab.research.google.com/assets/colab-badge.svg\" alt=\"Open In Colab\"/></a>"
      ]
    },
    {
      "cell_type": "code",
      "execution_count": null,
      "metadata": {
        "colab": {
          "background_save": true,
          "base_uri": "https://localhost:8080/"
        },
        "id": "sZx1U7aOcUoh",
        "outputId": "85b0e98d-267e-4337-ebe5-c3c2e74c8000"
      },
      "outputs": [
        {
          "name": "stdout",
          "output_type": "stream",
          "text": [
            "적립금을 사용할 수 있습니다. 현재 적립금액은 15000노드입니다.\n"
          ]
        }
      ],
      "source": [
        "회원명 = input('회원명을 입력하세요 : ')\n",
        "구매가격 = int(input('가격을 입력하세요 : '))\n",
        "\n",
        "회원 = {'씨-캣':5000, '자바캣':3500, '파이캣':15000, '썬캣':7000}\n",
        "\n",
        "def 회원조회(_회원명) :\n",
        "  if _회원명 in 회원 :\n",
        "    return True\n",
        "  else :\n",
        "    return False\n",
        "\n",
        "def 적립조회(_회원명, _구매가격):\n",
        "  현재적립금 = 회원[_회원명]\n",
        "\n",
        "  # 구매가격이 적립금보다 많으면 사용 못한다.\n",
        "  if _구매가격 > 현재적립금 :\n",
        "    print(f'현재 적립금이 {현재적립금}노드이므로 아직 적립금을 사용할 수 없습니다.\\\n",
        "    결제 금액은 {_구매가격}노드이고, 적립 포인트는 {_구매가격//10}노드, 합산 포인트는 {현재적립금 + _구매가격//10}입니다.')\n",
        "  else :\n",
        "    print(f'적립금을 사용할 수 있습니다. 현재 적립금액은 {현재적립금}노드입니다.')\n",
        "    사용적립금 = int(input('사용할 적립금 노드를 입력하세요 : '))\n",
        "    현재적립금 -= 사용적립금\n",
        "    회원[_회원명] = 현재적립금\n",
        "    print(f'{사용적립금}노드를 사용하였습니다. 남은 적립금은 {현재적립금}노드입니다. 결제 금액은 {사용적립금}입니다.')\n",
        "\n",
        "\n",
        "if 회원조회(회원명) :\n",
        "  적립조회(회원명, 구매가격)\n",
        "  print(f'회원현황 : {회원}')\n",
        "else :\n",
        "    print(\"회원이 아닙니다.\")"
      ]
    },
    {
      "cell_type": "code",
      "execution_count": 40,
      "metadata": {
        "id": "0L7CGpMqcbqZ",
        "colab": {
          "base_uri": "https://localhost:8080/"
        },
        "outputId": "987a0173-3fd8-456d-867a-eb852bb9cf77"
      },
      "outputs": [
        {
          "output_type": "stream",
          "name": "stdout",
          "text": [
            "하이에나 1121명 더했다!\n",
            "코뿔소 122명 더했다!\n",
            "코끼리 88명 더했다!\n",
            "기린 119명 더했다!\n",
            "독수리 62명 더했다!\n",
            "고양이 31명 더했다!\n",
            "총 신하는 1543명 입니다.\n",
            "-----------------\n",
            "하이에나 출전합니다!\n",
            "코뿔소 출전합니다!\n",
            "코끼리 수호합니다!\n",
            "기린 출전합니다!\n",
            "독수리 수호합니다!\n",
            "고양이 수호합니다!\n",
            "출전동물 : 1362명 / 수호동물 : 181명\n",
            "-----------------\n",
            "출전 귀환 : 271명\n",
            "사상자 : 1091명\n",
            "총원 : 452명\n"
          ]
        }
      ],
      "source": [
        "# 1. 왕의 충성스런 신하는 아래와 같다. 왕의 신하가 총 몇 명인지 구하라.\n",
        "신하 = {\n",
        "\t'하이에나' : 1121,\n",
        "  '코뿔소' : 122,\n",
        "  '코끼리' : 88,\n",
        "  '기린' : 119,\n",
        "  '독수리' : 62,\n",
        "  '고양이' : 31,\n",
        "}\n",
        "\n",
        "신하인원 = 0\n",
        "\n",
        "for i, j in 신하.items() :\n",
        "  신하인원 += j\n",
        "  print(f'{i} {j}명 더했다!')\n",
        "\n",
        "print(f'총 신하는 {신하인원}명 입니다.')\n",
        "print('-----------------')\n",
        "\n",
        "\n",
        "#2. 이웃 왕국의 침략이 있어 출전 준비해야 한다. 100명 이상인 종은 출전을! 100명 이하인 종은 왕국을 수호한다. 출전 신하는 몇 명이고, 왕국을 수호하는 신하는 몇 명인가?\n",
        "\n",
        "출전리스트 = {}\n",
        "수호리스트 = {}\n",
        "귀환리스트 = {}\n",
        "\n",
        "for i in 신하 :\n",
        "  if 신하[i] >= 100 :\n",
        "    출전리스트[i] = 신하[i]\n",
        "    print(f'{i} 출전합니다!')\n",
        "  else :\n",
        "    수호리스트[i] = 신하[i]\n",
        "    print(f'{i} 수호합니다!')\n",
        "\n",
        "print(f'출전동물 : {sum(출전리스트.values())}명 / 수호동물 : {sum(수호리스트.values())}명')\n",
        "print('-----------------')\n",
        "\n",
        "#3. 침략을 방어하고, 출전 했던 신하들은 각각 80%라는 큰 손실을 입었습니다. 왕국을 수호하는 신하까지 총 얼마의 신하가 남아 있나요?\n",
        "\n",
        "for i in 출전리스트 :\n",
        "  귀환리스트[i] = int(출전리스트[i]*0.2)\n",
        "\n",
        "print(f'출전 귀환 : {sum(귀환리스트.values())}명')\n",
        "print(f'사상자 : {sum(출전리스트.values()) - sum(귀환리스트.values())}명')\n",
        "print(f'총원 : {sum(귀환리스트.values()) + sum(수호리스트.values())}명')"
      ]
    },
    {
      "cell_type": "code",
      "source": [
        "# 1. 대리인 10명 생성\n",
        "class 대리인(object):\n",
        "    경비 = 0\n",
        "    물품 = []\n",
        "\n",
        "    def __init__(self, name):\n",
        "      self.이름 = f'대리인 {name}'\n",
        "\n",
        "    def __str__(self):\n",
        "      return self.이름\n",
        "\n",
        "    def 경비구하기(self, 시간) :\n",
        "      time = int(시간[: 시간.find('시간')])\n",
        "      self.경비 += 1000000 * time\n",
        "      test = format((self.경비), ',')\n",
        "      print(f'총 경비는 {test}원입니다.')\n",
        "\n",
        "    def 물품구하기(self, 시간) :\n",
        "      time = int(시간[: 시간.find('시간')])\n",
        "\n",
        "      res = []\n",
        "      for i in range(time) :\n",
        "        res.append(f'{self.이름}이 구해온 물품 {i}')\n",
        "      # print(f'{self.이름}이 구해온 물품목록 : {res}')\n",
        "      self.물품.extend(res)\n",
        "      print(f'총 물품목록 : {self.물품}')\n",
        "\n",
        "대리인_그룹 = []\n",
        "for name in range(10):\n",
        "    대리인_그룹.append(대리인(str(name)))\n",
        "\n",
        "대리인_그룹[1].경비구하기('3시간')\n",
        "대리인_그룹[0].물품구하기('1시간')\n",
        "대리인_그룹[1].물품구하기('2시간')\n",
        "대리인_그룹[0].경비구하기('1시간')\n"
      ],
      "metadata": {
        "colab": {
          "base_uri": "https://localhost:8080/"
        },
        "id": "9a1ZoTtM5ni2",
        "outputId": "6295fd22-59a6-4fa8-808e-0e39f06f770e"
      },
      "execution_count": 83,
      "outputs": [
        {
          "output_type": "stream",
          "name": "stdout",
          "text": [
            "총 경비는 3,000,000원입니다.\n",
            "대리인 0이 구해온 물품목록 : ['대리인 0이 구해온 물품 0']\n",
            "총 물품목록 : ['대리인 0이 구해온 물품 0']\n",
            "대리인 1이 구해온 물품목록 : ['대리인 1이 구해온 물품 0', '대리인 1이 구해온 물품 1']\n",
            "총 물품목록 : ['대리인 0이 구해온 물품 0', '대리인 1이 구해온 물품 0', '대리인 1이 구해온 물품 1']\n",
            "총 경비는 1,000,000원입니다.\n"
          ]
        }
      ]
    }
  ],
  "metadata": {
    "colab": {
      "provenance": [],
      "authorship_tag": "ABX9TyPu+OIpWslaO1OikbJhsUoh",
      "include_colab_link": true
    },
    "kernelspec": {
      "display_name": "Python 3",
      "name": "python3"
    },
    "language_info": {
      "name": "python"
    }
  },
  "nbformat": 4,
  "nbformat_minor": 0
}