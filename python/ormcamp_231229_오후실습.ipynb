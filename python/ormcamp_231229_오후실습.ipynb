{
  "nbformat": 4,
  "nbformat_minor": 0,
  "metadata": {
    "colab": {
      "provenance": [],
      "authorship_tag": "ABX9TyO5YBYrv1g0soRu8BjF8Vol",
      "include_colab_link": true
    },
    "kernelspec": {
      "name": "python3",
      "display_name": "Python 3"
    },
    "language_info": {
      "name": "python"
    }
  },
  "cells": [
    {
      "cell_type": "markdown",
      "metadata": {
        "id": "view-in-github",
        "colab_type": "text"
      },
      "source": [
        "<a href=\"https://colab.research.google.com/github/escape1001/ormcamp/blob/main/python/ormcamp_231229_%EC%98%A4%ED%9B%84%EC%8B%A4%EC%8A%B5.ipynb\" target=\"_parent\"><img src=\"https://colab.research.google.com/assets/colab-badge.svg\" alt=\"Open In Colab\"/></a>"
      ]
    },
    {
      "cell_type": "markdown",
      "source": [
        "# 1. 주석"
      ],
      "metadata": {
        "id": "ffgfrBZnDlUA"
      }
    },
    {
      "cell_type": "code",
      "execution_count": 1,
      "metadata": {
        "colab": {
          "base_uri": "https://localhost:8080/"
        },
        "id": "EJS1RoU5CzNX",
        "outputId": "90f84106-83ce-4ccb-ba21-284af5d69789"
      },
      "outputs": [
        {
          "output_type": "stream",
          "name": "stdout",
          "text": [
            "Hello World 1!\n",
            "Hello World 2!\n"
          ]
        }
      ],
      "source": [
        "# 이것은 주석입니다. (특이사항, 전체적인 것들, 업데이트 내용)\n",
        "print(\"Hello World 1!\") # 이것도 주석입니다. (해당 코드의 설명)\n",
        "print(\"Hello World 2!\") # 코드의 에러 / 향후 수정 / 임시 주석"
      ]
    },
    {
      "cell_type": "code",
      "source": [
        "'''\n",
        "여러 줄 주석\n",
        "print(\"Hello World 2!\")\n",
        "print(\"Hello World 2!\")\n",
        "print(\"Hello World 2!\")\n",
        "'''\n",
        "\n",
        "\"\"\"\n",
        "여러 줄 주석\n",
        "print(\"Hello World 2!\")\n",
        "print(\"Hello World 2!\")\n",
        "print(\"Hello World 2!\")\n",
        "\"\"\""
      ],
      "metadata": {
        "id": "UdkkbtmDDyQY"
      },
      "execution_count": null,
      "outputs": []
    },
    {
      "cell_type": "markdown",
      "source": [
        "** 참조하면 좋을 링크 : [구글 파이썬 스타일 가이드 - 주석](https://yosseulsin-job.github.io/Google-Python-Style-Guide-kor/#s3.8)\n",
        "<br/>\n",
        "<br/>\n",
        "\n",
        "---\n",
        "\n",
        "# 2. input"
      ],
      "metadata": {
        "id": "Ls4XvxVXHCEb"
      }
    },
    {
      "cell_type": "code",
      "source": [
        "input('입력해주세요')"
      ],
      "metadata": {
        "colab": {
          "base_uri": "https://localhost:8080/",
          "height": 53
        },
        "id": "z5EsSgwCLv22",
        "outputId": "126f5e59-340d-4d54-a130-b5e936e7a076"
      },
      "execution_count": 3,
      "outputs": [
        {
          "name": "stdout",
          "output_type": "stream",
          "text": [
            "입력해주세요hello\n"
          ]
        },
        {
          "output_type": "execute_result",
          "data": {
            "text/plain": [
              "'hello'"
            ],
            "application/vnd.google.colaboratory.intrinsic+json": {
              "type": "string"
            }
          },
          "metadata": {},
          "execution_count": 3
        }
      ]
    },
    {
      "cell_type": "code",
      "source": [
        "input('입력해주세요')"
      ],
      "metadata": {
        "colab": {
          "base_uri": "https://localhost:8080/",
          "height": 53
        },
        "id": "SRK7hfuCMAuj",
        "outputId": "8e2a9a49-38fc-46c3-982f-7ef1f5c6ef31"
      },
      "execution_count": 4,
      "outputs": [
        {
          "name": "stdout",
          "output_type": "stream",
          "text": [
            "입력해주세요10\n"
          ]
        },
        {
          "output_type": "execute_result",
          "data": {
            "text/plain": [
              "'10'"
            ],
            "application/vnd.google.colaboratory.intrinsic+json": {
              "type": "string"
            }
          },
          "metadata": {},
          "execution_count": 4
        }
      ]
    },
    {
      "cell_type": "code",
      "source": [
        "int(input('입력해주세요'))"
      ],
      "metadata": {
        "colab": {
          "base_uri": "https://localhost:8080/"
        },
        "id": "JJsL2lZuMGXY",
        "outputId": "4ed056ed-031a-4cb8-f6fc-89d4fa5d9787"
      },
      "execution_count": 5,
      "outputs": [
        {
          "name": "stdout",
          "output_type": "stream",
          "text": [
            "입력해주세요10\n"
          ]
        },
        {
          "output_type": "execute_result",
          "data": {
            "text/plain": [
              "10"
            ]
          },
          "metadata": {},
          "execution_count": 5
        }
      ]
    },
    {
      "cell_type": "markdown",
      "source": [
        "## 2.1 input 할당"
      ],
      "metadata": {
        "id": "j5YfRqPnMzpZ"
      }
    },
    {
      "cell_type": "code",
      "source": [
        "name = input(\"이름을 입력하세요 : \")\n",
        "print(f\"Hello, {name}!\")"
      ],
      "metadata": {
        "colab": {
          "base_uri": "https://localhost:8080/"
        },
        "id": "RxFSEkm_MJY6",
        "outputId": "90a1dfa9-c69b-4db3-a36b-09e97a052704"
      },
      "execution_count": 6,
      "outputs": [
        {
          "output_type": "stream",
          "name": "stdout",
          "text": [
            "이름을 입력하세요 : world\n",
            "Hello, world!\n"
          ]
        }
      ]
    },
    {
      "cell_type": "code",
      "source": [
        "# input을 활용한 덧셈 - 문자열인 경우\n",
        "a=input(\"첫번째 숫자를 입력해주세요\")\n",
        "b=input(\"두번째 숫자를 입력해주세요\")\n",
        "\n",
        "print(f\"a + b = {a+b} 입니다.\")"
      ],
      "metadata": {
        "colab": {
          "base_uri": "https://localhost:8080/"
        },
        "id": "-LuUWsbtNATA",
        "outputId": "d0064d0c-0071-4d76-9534-39357d4f135b"
      },
      "execution_count": 7,
      "outputs": [
        {
          "output_type": "stream",
          "name": "stdout",
          "text": [
            "첫번째 숫자를 입력해주세요10\n",
            "두번째 숫자를 입력해주세요20\n",
            "a + b = 1020 입니다.\n"
          ]
        }
      ]
    },
    {
      "cell_type": "code",
      "source": [
        "# input을 활용한 덧셈 - 숫자인 경우\n",
        "a=int(input(\"첫번째 숫자를 입력해주세요\"))\n",
        "b=int(input(\"두번째 숫자를 입력해주세요\"))\n",
        "\n",
        "print(f\"a + b = {a+b} 입니다.\")"
      ],
      "metadata": {
        "colab": {
          "base_uri": "https://localhost:8080/"
        },
        "id": "ytCXlku7NT0g",
        "outputId": "61b1e1d4-8bfa-4f37-924f-90418b84e3a4"
      },
      "execution_count": 8,
      "outputs": [
        {
          "output_type": "stream",
          "name": "stdout",
          "text": [
            "첫번째 숫자를 입력해주세요10\n",
            "두번째 숫자를 입력해주세요20\n",
            "a + b = 30 입니다.\n"
          ]
        }
      ]
    },
    {
      "cell_type": "markdown",
      "source": [
        "# 3. 출력함수 Print"
      ],
      "metadata": {
        "id": "3IGr7n6vNs2l"
      }
    },
    {
      "cell_type": "code",
      "source": [
        "print(\"출력합니다 1\")\n",
        "'출력합니다 2'\n",
        "'출력합니다 3' #Colab의 경우 마지막 라인을 자동으로 출력함."
      ],
      "metadata": {
        "colab": {
          "base_uri": "https://localhost:8080/",
          "height": 53
        },
        "id": "3rSabw0SNavB",
        "outputId": "089edc71-ae2b-49c4-f897-c2579d287281"
      },
      "execution_count": 14,
      "outputs": [
        {
          "output_type": "stream",
          "name": "stdout",
          "text": [
            "출력합니다 1\n"
          ]
        },
        {
          "output_type": "execute_result",
          "data": {
            "text/plain": [
              "'출력합니다 3'"
            ],
            "application/vnd.google.colaboratory.intrinsic+json": {
              "type": "string"
            }
          },
          "metadata": {},
          "execution_count": 14
        }
      ]
    },
    {
      "cell_type": "markdown",
      "source": [
        "## 3.1 print 함수 옵션"
      ],
      "metadata": {
        "id": "W_h7L1e9R1Fn"
      }
    },
    {
      "cell_type": "code",
      "source": [
        "print(\"Hello\",\"World\",\"!\",) # 여러 요소를 쉼표로 이어서 출력\n",
        "print(\"010\",\"1234\",\"5678\", end=\"???\\n\") # end=\"\" 으로 맨 마지막 요소 추가 / 디폴트값 \\n(개행)임\n",
        "print(\"010\",\"1234\",\"5678\", sep=\"-\") # sep=\"\" 으로 요소 간 구분자 추가"
      ],
      "metadata": {
        "colab": {
          "base_uri": "https://localhost:8080/"
        },
        "id": "wXEPj4QWOedb",
        "outputId": "1b583147-4012-4a5c-986b-322a0e6d8411"
      },
      "execution_count": 18,
      "outputs": [
        {
          "output_type": "stream",
          "name": "stdout",
          "text": [
            "Hello World !\n",
            "010 1234 5678???\n",
            "010-1234-5678\n"
          ]
        }
      ]
    },
    {
      "cell_type": "markdown",
      "source": [
        "## 3.2 f-string 용법"
      ],
      "metadata": {
        "id": "VrZcBU6iRhRa"
      }
    },
    {
      "cell_type": "code",
      "source": [
        "name = \"효진\"\n",
        "age = 10\n",
        "\n",
        "print(f\"제 이름은 {name}이고 나이는 {age}살입니다.\")\n",
        "print(\"제 이름은 {name}이고 나이는 {age}살입니다.\") # 잘못된 예시"
      ],
      "metadata": {
        "colab": {
          "base_uri": "https://localhost:8080/"
        },
        "id": "Bn9e3t7MPEDS",
        "outputId": "59e51084-6e86-4659-a85c-547e25c3ba00"
      },
      "execution_count": 20,
      "outputs": [
        {
          "output_type": "stream",
          "name": "stdout",
          "text": [
            "제 이름은 효진이고 나이는 10살입니다.\n",
            "제 이름은 {name}이고 나이는 {age}살입니다.\n"
          ]
        }
      ]
    },
    {
      "cell_type": "markdown",
      "source": [
        "# 4. 그 외\n",
        "\n",
        "## 4.1 colab에서 print와 마지막 줄 출력은 다르다."
      ],
      "metadata": {
        "id": "9lrw4KCASCO5"
      }
    },
    {
      "cell_type": "code",
      "source": [
        "class Character:\n",
        "    def __str__(self):\n",
        "        return 'a'\n",
        "\n",
        "    def __repr__(self):\n",
        "        return 'b'\n",
        "\n",
        "hero = Character() # __str__이 나옴\n",
        "print(hero) # __repr__이 나옴\n",
        "hero"
      ],
      "metadata": {
        "colab": {
          "base_uri": "https://localhost:8080/"
        },
        "id": "28Q84OtuSEDU",
        "outputId": "9f73ab00-bad2-4923-efa4-1ef1ced142e8"
      },
      "execution_count": 22,
      "outputs": [
        {
          "output_type": "stream",
          "name": "stdout",
          "text": [
            "a\n"
          ]
        },
        {
          "output_type": "execute_result",
          "data": {
            "text/plain": [
              "b"
            ]
          },
          "metadata": {},
          "execution_count": 22
        }
      ]
    },
    {
      "cell_type": "markdown",
      "source": [
        "## 4.2 None은 마지막줄이라도 출력되지 않는다."
      ],
      "metadata": {
        "id": "V6hP34jBSgC7"
      }
    },
    {
      "cell_type": "code",
      "source": [
        "a = None\n",
        "a"
      ],
      "metadata": {
        "id": "-rAiEBH1SRzs"
      },
      "execution_count": 26,
      "outputs": []
    },
    {
      "cell_type": "code",
      "source": [
        "def f():\n",
        "    return None\n",
        "\n",
        "f()"
      ],
      "metadata": {
        "id": "gmj2SUVLSxGS"
      },
      "execution_count": 24,
      "outputs": []
    }
  ]
}