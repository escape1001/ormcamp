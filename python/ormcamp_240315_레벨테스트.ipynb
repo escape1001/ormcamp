{
  "nbformat": 4,
  "nbformat_minor": 0,
  "metadata": {
    "colab": {
      "provenance": [],
      "authorship_tag": "ABX9TyPH0ZNdiuU16NI/S/bqXc7h",
      "include_colab_link": true
    },
    "kernelspec": {
      "name": "python3",
      "display_name": "Python 3"
    },
    "language_info": {
      "name": "python"
    }
  },
  "cells": [
    {
      "cell_type": "markdown",
      "metadata": {
        "id": "view-in-github",
        "colab_type": "text"
      },
      "source": [
        "<a href=\"https://colab.research.google.com/github/escape1001/ormcamp/blob/main/python/ormcamp_240315_%EB%A0%88%EB%B2%A8%ED%85%8C%EC%8A%A4%ED%8A%B8.ipynb\" target=\"_parent\"><img src=\"https://colab.research.google.com/assets/colab-badge.svg\" alt=\"Open In Colab\"/></a>"
      ]
    },
    {
      "cell_type": "markdown",
      "source": [
        "주관식 1.\n",
        "\n",
        "물고기 수조 안에 있는 물고기들의 평균 무게를 구하려고 합니다. 이 수조 안에는 5마리의 물고기가 있으며, 각 물고기의 무게는 다음과 같습니다: 2.5, 3.1, 1.7, 2.8, 2.4 (단위: kg)\n",
        "\n",
        "이 5마리 물고기의 평균 무게를 계산하는 클래스 메서드를 작성하고 결과값을 출력해보세요.\n",
        "\n",
        "- 물고기 클래스를 생성 및 활용해야 합니다.\n",
        "- 결과 값은 소수점 둘째 자리까지 출력해야 합니다.\n",
        "\n",
        "- 결과 출력(아래의 내용이 출력되어야 합니다.)\n",
        "물고기 평균 무게: 2.50 kg"
      ],
      "metadata": {
        "id": "2swOWSsK2a16"
      }
    },
    {
      "cell_type": "code",
      "execution_count": 8,
      "metadata": {
        "colab": {
          "base_uri": "https://localhost:8080/"
        },
        "id": "axFxJr0E1zGe",
        "outputId": "a7dcd893-5add-4bf3-d50f-73feb5375997"
      },
      "outputs": [
        {
          "output_type": "stream",
          "name": "stdout",
          "text": [
            "물고기 평균 무게: 2.50kg\n"
          ]
        },
        {
          "output_type": "execute_result",
          "data": {
            "text/plain": [
              "[2.5, 3.1, 1.7, 2.8, 2.4]"
            ]
          },
          "metadata": {},
          "execution_count": 8
        }
      ],
      "source": [
        "class Fish:\n",
        "    weight_list = []\n",
        "\n",
        "    def __init__(self, weight):\n",
        "        self.weight = weight\n",
        "\n",
        "        Fish.add_weight_list(self)\n",
        "\n",
        "    @classmethod\n",
        "    def add_weight_list(cls, self):\n",
        "        cls.weight_list.append(self.weight)\n",
        "\n",
        "    @classmethod\n",
        "    def weight_average(cls):\n",
        "        average = sum(cls.weight_list) / len(cls.weight_list)\n",
        "        print(f\"물고기 평균 무게: {format(average, '.2f')}kg\")\n",
        "\n",
        "\n",
        "\n",
        "fish1 = Fish(2.5)\n",
        "fish2 = Fish(3.1)\n",
        "fish3 = Fish(1.7)\n",
        "fish4 = Fish(2.8)\n",
        "fish5 = Fish(2.4)\n",
        "\n",
        "fish2.weight_average()\n",
        "fish1.weight_list"
      ]
    },
    {
      "cell_type": "markdown",
      "source": [
        "주관식 2.\n",
        "\n",
        "문자열이 주어졌을 때 단어들의 첫 글자를 모아서 반환하는 함수를 작성해주세요."
      ],
      "metadata": {
        "id": "n9SuhP0o2fRM"
      }
    },
    {
      "cell_type": "code",
      "source": [
        "def get_first_letters(string):\n",
        "    str_list = string.split()\n",
        "    first_letters = [word[0] for word in str_list]\n",
        "\n",
        "    return ''.join(first_letters)\n",
        "\n",
        "print(get_first_letters(\"Hello World! I Love Pythom\"))\n",
        "print(get_first_letters(\"복잡한 세상 편하게 살자\"))\n",
        "print(get_first_letters(\"라이캣은 고양이 입니다.\"))"
      ],
      "metadata": {
        "colab": {
          "base_uri": "https://localhost:8080/"
        },
        "id": "wiLCooxl14qd",
        "outputId": "69a28703-e905-47d5-fc81-07b78e491142"
      },
      "execution_count": 2,
      "outputs": [
        {
          "output_type": "stream",
          "name": "stdout",
          "text": [
            "HWILP\n",
            "복세편살\n",
            "라고입\n"
          ]
        }
      ]
    },
    {
      "cell_type": "markdown",
      "source": [
        "주관식 3.\n",
        "\n",
        "두개의 리스트가 주어졌을 때 두 리스트의 공통된 요소들을 찾아서 반환하는 프로그램을 작성해주세요.\n",
        "\n",
        "- 반환되는 리스트에는 중복된 요소가 포함되지 않습니다.\n",
        "- 아래는 테스트 코드입니다. (테스트 코드를 통과해야 합니다.)"
      ],
      "metadata": {
        "id": "RHw77mOe2iIc"
      }
    },
    {
      "cell_type": "code",
      "source": [
        "# def common_elements(list1, list2): # 풀이1 : 순서 상관 없는 경우\n",
        "#     set1 = set(list1)\n",
        "#     set2 = set(list2)\n",
        "#     common_set = set1 & set2\n",
        "#     return list(common_set)\n",
        "\n",
        "def common_elements(list1, list2): # 풀이2 : 순서 상관 있는 경우\n",
        "    common_list = []\n",
        "\n",
        "    for i in list1 :\n",
        "        if i in list2:\n",
        "            common_list.append(i)\n",
        "\n",
        "    return common_list\n",
        "\n",
        "print(common_elements([1,2,3,4,5], [4,5,6,7,8]))\n",
        "print(common_elements(['python', 'django', 'orm'], ['orm', 'python']))\n",
        "print(common_elements([1,2,3], [4,5,6]))"
      ],
      "metadata": {
        "colab": {
          "base_uri": "https://localhost:8080/"
        },
        "id": "chdHGNY_15gk",
        "outputId": "9395beda-0407-4fb4-c9f3-e89e6dadea25"
      },
      "execution_count": 3,
      "outputs": [
        {
          "output_type": "stream",
          "name": "stdout",
          "text": [
            "[4, 5]\n",
            "['python', 'orm']\n",
            "[]\n"
          ]
        }
      ]
    },
    {
      "cell_type": "markdown",
      "source": [
        "주관식 4.\n",
        "\n",
        "문자열 배열이 입력되면 가장 긴 공통 문자열을 찾는 프로그램을 작성해주세요.\n",
        "- 같은 문자열이 없을 경우에는 빈 문자를 반환합니다.\n",
        "- 앞글자부터 검사합니다.\n",
        "\n",
        "- 아래는 테스트 코드입니다. (테스트 코드를 통과해야 합니다.)"
      ],
      "metadata": {
        "id": "g5cq1fK12mo9"
      }
    },
    {
      "cell_type": "code",
      "source": [
        "def find_longest_word(list1):\n",
        "    sorted_lists = sorted(list1, key=len) # 문자열 짧은순대로 정렬\n",
        "    res = ''\n",
        "\n",
        "    def find_common_word(list_1, list_2): # 두 문자열 비교해서 공통문자열 반환. 항상 list_1이 짧을 것\n",
        "        common_str = ''\n",
        "\n",
        "        for i, letter in enumerate(list_1):\n",
        "            if list_2[i] == letter :\n",
        "                common_str += letter\n",
        "            else:\n",
        "                break\n",
        "\n",
        "        return common_str\n",
        "\n",
        "\n",
        "    for i in range(len(sorted_lists)-1) :\n",
        "        target = sorted_lists[0] if i == 0 else res # 비교할 대상은 항상 더 짧게\n",
        "        res = find_common_word(target, sorted_lists[i+1])\n",
        "\n",
        "    return res\n",
        "\n",
        "print(find_longest_word(['모두의연구소', '모두의', '모두의연']) )\n",
        "print(find_longest_word(['behind', 'hind']) )\n",
        "print(find_longest_word(['오름', '오르다', '오름차순']))\n",
        "print(find_longest_word(['tree', 'three', 'throne']))  # t\n"
      ],
      "metadata": {
        "colab": {
          "base_uri": "https://localhost:8080/"
        },
        "id": "ik3Oj4ZH168D",
        "outputId": "61df94e9-12d6-4fae-8626-649a761e4a90"
      },
      "execution_count": 4,
      "outputs": [
        {
          "output_type": "stream",
          "name": "stdout",
          "text": [
            "모두의\n",
            "\n",
            "오\n",
            "t\n"
          ]
        }
      ]
    },
    {
      "cell_type": "markdown",
      "source": [
        "주관식 5.\n",
        "\n",
        "정수 배열이 주어졌을 때 주어진 배열에서 최장 증가 부분 수열(LIS)의 길이를 구하는 프로그램을 작성해주세요."
      ],
      "metadata": {
        "id": "XIrZhzrI2q6V"
      }
    },
    {
      "cell_type": "code",
      "source": [
        "def length_of_lis(nums): # !! 아마 이거 오답일것임. LIS 개념 이해부터 필요 !!\n",
        "    res = []\n",
        "    res2 = []\n",
        "\n",
        "    for i,j in zip(nums, nums[1:]):\n",
        "        if i<j :\n",
        "            res.append([i,j])\n",
        "\n",
        "    for arr1, arr2 in zip(res, res[1:]) :\n",
        "        if arr1[1] == arr2[0]:\n",
        "            res2.append(arr1+arr2[1:])\n",
        "\n",
        "    res3 = len(set(sum(res2, []))) or 2\n",
        "\n",
        "    if res == [] :\n",
        "        return 1\n",
        "    else :\n",
        "        return res3\n",
        "\n",
        "nums1 = [1, 2, 3, 4, 5]\n",
        "print(length_of_lis(nums1)) # [1,2,3,4,5] 결과 5\n",
        "\n",
        "nums2 = [5, 4, 3, 2, 1]\n",
        "print(length_of_lis(nums2)) # [5], [4], [3], [2], [1] 결과 1\n",
        "\n",
        "nums3 = [10, 9, 2, 5, 3, 7, 101, 18]\n",
        "print(length_of_lis(nums3)) # [2,3,7,101] 결과 4 <- 요부분 이해 안됨\n",
        "\n",
        "nums4 = [4, 5, 2, 3, 1, 2]\n",
        "print(length_of_lis(nums4)) # [2,3] [1,2] 결과 2"
      ],
      "metadata": {
        "colab": {
          "base_uri": "https://localhost:8080/"
        },
        "id": "NxiVbg0318ur",
        "outputId": "8ea04108-afe3-4922-bd6e-4a68a68952f4"
      },
      "execution_count": 9,
      "outputs": [
        {
          "output_type": "stream",
          "name": "stdout",
          "text": [
            "5\n",
            "1\n",
            "3\n",
            "2\n"
          ]
        }
      ]
    },
    {
      "cell_type": "code",
      "source": [],
      "metadata": {
        "id": "tG5xvNB_3dt0"
      },
      "execution_count": null,
      "outputs": []
    }
  ]
}