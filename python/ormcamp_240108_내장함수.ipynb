{
  "nbformat": 4,
  "nbformat_minor": 0,
  "metadata": {
    "colab": {
      "provenance": [],
      "authorship_tag": "ABX9TyPBVsGsC4wNNpqSY6H7y41g",
      "include_colab_link": true
    },
    "kernelspec": {
      "name": "python3",
      "display_name": "Python 3"
    },
    "language_info": {
      "name": "python"
    }
  },
  "cells": [
    {
      "cell_type": "markdown",
      "metadata": {
        "id": "view-in-github",
        "colab_type": "text"
      },
      "source": [
        "<a href=\"https://colab.research.google.com/github/escape1001/ormcamp/blob/main/python/ormcamp_240108_%EB%82%B4%EC%9E%A5%ED%95%A8%EC%88%98.ipynb\" target=\"_parent\"><img src=\"https://colab.research.google.com/assets/colab-badge.svg\" alt=\"Open In Colab\"/></a>"
      ]
    },
    {
      "cell_type": "markdown",
      "source": [
        "# 내장함수 (built-in function)\n",
        "[공식문서](https://docs.python.org/3/library/functions.html)에 있는 빌트인 함수 중 코딩할 때 자주 등장하며 실무에서도 비중있게 다뤄야 하는 빌트인 함수를 선별해 보았습니다. 다만 실무자라면 모든 빌트인 함수를 한번씩은 작동해보는 것을 권합니다.\n",
        "\n",
        "```\n",
        "# 요소 전체의 True, False 판별\n",
        "all\n",
        "any\n",
        "\n",
        "# 숫자를 문자로 바꾸거나 문자를 숫자로 바꾸는 함수\n",
        "chr\n",
        "ord\n",
        "\n",
        "# 함수와 순회할 수 있는 객체의 연산\n",
        "map\n",
        "filter\n",
        "\n",
        "# 순회할 수 있는 객체의 묶음\n",
        "zip\n",
        "\n",
        "# 형식 변환\n",
        "format\n",
        "\n",
        "# 길이 반환\n",
        "len\n",
        "\n",
        "# 큰 값, 작은 값, 다 더한 값\n",
        "max\n",
        "min\n",
        "sum\n",
        "\n",
        "# 문자열, 대표 문자열, 문자열 출력\n",
        "str\n",
        "repr\n",
        "print\n",
        "\n",
        "# 순회할 수 있는 객체\n",
        "enumerate\n",
        "range\n",
        "\n",
        "# 역순과 정렬\n",
        "reversed\n",
        "sorted\n",
        "```"
      ],
      "metadata": {
        "id": "MwR8LKuOrYjb"
      }
    },
    {
      "cell_type": "code",
      "execution_count": null,
      "metadata": {
        "id": "zjURvB1RrLZ1"
      },
      "outputs": [],
      "source": [
        "# 1. all : 모두 다 True여야 True 반환\n",
        "all([True, True, True]) # 출력: Ture\n",
        "all([True, True, False]) # 출력: False\n",
        "all([1, 1, 1, 0]) # 출력: False\n",
        "all([1, 0, 1, 1]) # 출력: False\n",
        "all([1, 100, 10, -1]) # 출력: True"
      ]
    },
    {
      "cell_type": "code",
      "source": [
        "# 2. any : 하나라도 True이면 True이다.\n",
        "any([True, False, False]) # 출력: True\n",
        "any([False, False, False]) # 출력: False"
      ],
      "metadata": {
        "id": "dEk6ZEtxr1iV"
      },
      "execution_count": null,
      "outputs": []
    },
    {
      "cell_type": "code",
      "source": [
        "# 3. chr : 10진수로 유니코드표에서 찾아 대응되는 값을 줍니다.\n",
        "chr(65) # 출력: 'A'\n",
        "chr(97) # 출력: 'a'\n",
        "chr(54616) # 출력: '하'"
      ],
      "metadata": {
        "colab": {
          "base_uri": "https://localhost:8080/",
          "height": 35
        },
        "id": "e5ou9Yj7sAtC",
        "outputId": "a2f9fbc8-75d8-4e56-9fdc-f882eb8bcdb7"
      },
      "execution_count": 2,
      "outputs": [
        {
          "output_type": "execute_result",
          "data": {
            "text/plain": [
              "'하'"
            ],
            "application/vnd.google.colaboratory.intrinsic+json": {
              "type": "string"
            }
          },
          "metadata": {},
          "execution_count": 2
        }
      ]
    },
    {
      "cell_type": "code",
      "source": [
        "# 4. ord : 문자를 입력하면 유니코드에서 숫자로 출력합니다.\n",
        "ord('a') # 출력: 97\n",
        "ord('하') # 출력: 54616\n",
        "\n",
        "\n",
        "''' 사실 int도 ord와 같은 기능을 함\n",
        "    다음과 같이 활용하면 '하' 문자의 유니코드 값을 나타냅니다.\n",
        "    int 함수를 사용하여 이 값을 10진수로 변환하면 54616이 됩니다.\n",
        "'''\n",
        "int('D558', 16) # 출력: 54616"
      ],
      "metadata": {
        "colab": {
          "base_uri": "https://localhost:8080/"
        },
        "id": "KxZdaFmlsDAi",
        "outputId": "f0b53cd7-2675-4174-f63b-dafee7340b43"
      },
      "execution_count": 4,
      "outputs": [
        {
          "output_type": "execute_result",
          "data": {
            "text/plain": [
              "54616"
            ]
          },
          "metadata": {},
          "execution_count": 4
        }
      ]
    },
    {
      "cell_type": "code",
      "source": [
        "# 5. map : 자바스크립트랑 똑같음. 순회하면서 함수 적용함.\n",
        "# map(함수, 리스트 혹은 튜플)\n",
        "# 차이가 있다면 map객체는 list로 감싸줘야 함\n",
        "def 제곱(x):\n",
        "    return x ** 2\n",
        "list(map(제곱, [1, 2, 3, 4])) # 출력: [1, 4, 9, 16]\n",
        "\n",
        "# lambda 사용한 예시\n",
        "list(map(lambda x : x ** 2, [2, 3, 4, 5])) # 출력: [4, 9, 16, 25]"
      ],
      "metadata": {
        "colab": {
          "base_uri": "https://localhost:8080/"
        },
        "id": "nZlfhty1sJPN",
        "outputId": "cf12373b-b8f9-4a0f-da41-59758c446f41"
      },
      "execution_count": 9,
      "outputs": [
        {
          "output_type": "execute_result",
          "data": {
            "text/plain": [
              "[4, 9, 16, 25]"
            ]
          },
          "metadata": {},
          "execution_count": 9
        }
      ]
    },
    {
      "cell_type": "code",
      "source": [
        "# 6. filter() : 자바스크립트랑 똑같음. 순회하면서 조건에 맞는 애만 뱉어냄\n",
        "# filter(조건 함수, 리스트 또는 튜플)\n",
        "# 조건 함수는 각 요소를 입력으로 받아 True 또는 False 값을 반환합니다.\n",
        "# filter() 함수는 True를 반환하는 요소만 선택하여 결과로 반환합니다.\n",
        "\n",
        "list(filter(lambda x : x > 50, range(100))) # 0~99까지 숫자 중 50보다 큰 값만 뱉어라"
      ],
      "metadata": {
        "id": "XhidMKWksqH0"
      },
      "execution_count": null,
      "outputs": []
    },
    {
      "cell_type": "code",
      "source": [
        "# 7. zip() : 여러 순회객체의 값을 순서대로 묶어서 반환\n",
        "# zip(순회할 수 있는 객체1, 순회할 수 있는 객체2...)\n",
        "# 다만 메모리의 효율을 위해 형변환이나 직접 순회를 하기 전까지는 메모리 주소로만 반환합니다.\n",
        "\n",
        "zip('ab', '12') # 출력: <zip at 0x7b9d83c6e440>\n",
        "list(zip('ab', '12')) # 출력: [('a', '1'), ('b', '2')]\n",
        "list(zip('ab', '12', [10, 20])) # 출력: [('a', '1', 10), ('b', '2', 20)]\n",
        "\n",
        "# 각 요소의 길이가 다를 경우엔 가장 짧은것을 기준으로 뱉어줌.\n",
        "list(zip('abc', '1234567', [10, 20, 30])) # 출력 : [('a', '1', 10), ('b', '2', 20), ('c', '3', 30)]\n",
        "\n",
        "# 사용예시 1 : 이름-점수 엮기\n",
        "학생이름 = [\"철수\", \"영희\", \"민수\"]\n",
        "국어점수 = [50, 74, 99]\n",
        "list(zip(학생이름, 국어점수)) # 출력: [('철수', 50), ('영희', 74), ('민수', 99)]\n",
        "\n",
        "# 사용예시 2 : 인접한 수 뱉어내기\n",
        "x = [2, 4, 8, 16, 32, 64, 128]\n",
        "list(zip(x, x[1:], x[2:]))"
      ],
      "metadata": {
        "colab": {
          "base_uri": "https://localhost:8080/"
        },
        "id": "n6-AaqvUtg2B",
        "outputId": "a85f161a-9365-4ca5-9986-540bdc80bb80"
      },
      "execution_count": 19,
      "outputs": [
        {
          "output_type": "execute_result",
          "data": {
            "text/plain": [
              "[(2, 4, 8), (4, 8, 16), (8, 16, 32), (16, 32, 64), (32, 64, 128)]"
            ]
          },
          "metadata": {},
          "execution_count": 19
        }
      ]
    },
    {
      "cell_type": "code",
      "source": [
        "# 8. format() : 값을 특정 양식에 맞춰서 출력. 주로 숫자 콤마찍는 데 사용~\n",
        "# format(값, '서식 지정자(format_spec)')\n",
        "format(10000, ',') # 10,000\n",
        "print(format(123.4567, '.2f')) # 출력: 123.46\n",
        "print(format('Hello', '^9')) # 출력: '  Hello  '"
      ],
      "metadata": {
        "colab": {
          "base_uri": "https://localhost:8080/"
        },
        "id": "Qoj2f8xrt-hY",
        "outputId": "d603a060-e069-492b-9ba4-e39dfd701ec4"
      },
      "execution_count": 21,
      "outputs": [
        {
          "output_type": "stream",
          "name": "stdout",
          "text": [
            "123.46\n",
            "  Hello  \n"
          ]
        }
      ]
    },
    {
      "cell_type": "code",
      "source": [
        "# 9. len() : 객체의 길이를 반환\n",
        "# len(길이를 계산하려는 객체)\n",
        "len('hello world') # 공백까지 11글자\n",
        "\n",
        "# 모든 객체의 길이 반환하지 않음. 아래 경우 에러남\n",
        "# len(zip('ab', '12')) # error"
      ],
      "metadata": {
        "colab": {
          "base_uri": "https://localhost:8080/"
        },
        "id": "wChoo_9jvRN8",
        "outputId": "2a3e6afb-3ca4-44db-a573-4752ef5b1f32"
      },
      "execution_count": 24,
      "outputs": [
        {
          "output_type": "execute_result",
          "data": {
            "text/plain": [
              "11"
            ]
          },
          "metadata": {},
          "execution_count": 24
        }
      ]
    },
    {
      "cell_type": "code",
      "source": [
        "# 10. max, min : 최댓값, 최솟값 하나 리턴\n",
        "\n",
        "# 10.1. max(순회할 수 있는 객체, 함수(key), 초기값(default))\n",
        "max([1, 2, 3, 4, 5]) # 출력 : 5\n",
        "max([(1, 2), (3, 101), (1, 20), (3, 100)]) # 출력 : (3,101)\n",
        "max(['hello', 'world', 'world1']) # 출력 : world1\n",
        "# ‘world’는 ‘world1’과 ‘world’까지의 문자열이 같으며 길이가 world1이 더 깁니다. 이럴 경우 world1을 출력합니다.\n",
        "\n",
        "# default로 기본값 반환 가능\n",
        "numbers = []\n",
        "\n",
        "max(numbers, default=0) # 출력: 0\n",
        "# max(numbers) # 이러면 에러\n",
        "\n",
        "# key값을 기준으로 정렬할 수도 있음\n",
        "students = [\n",
        "    {'이름': '가', '국어': 90, '영어': 72, '수학': 95},\n",
        "    {'이름': '나', \"국어\": 80, '영어': 90, '수학': 91},\n",
        "    {'이름': '다', \"국어\": 95, '영어': 73, '수학': 92}\n",
        "]\n",
        "\n",
        "max(students, key=lambda student: student['수학']) # 출력: {'이름': '가', '국어': 90, '영어': 72, '수학': 95}\n",
        "\n",
        "''' 위와 같은 내용 lambda 쓰지 않고 함수형으로 구현하면 아래와 같음\n",
        "    def select(student):\n",
        "        return student['수학']\n",
        "\n",
        "    students = [\n",
        "        {'이름': '가', '국어': 90, '영어': 72, '수학': 95},\n",
        "        {'이름': '나', \"국어\": 80, '영어': 90, '수학': 91},\n",
        "        {'이름': '다', \"국어\": 95, '영어': 73, '수학': 92}\n",
        "    ]\n",
        "\n",
        "\n",
        "    max(students, key=select) # 출력: {'이름': '가', '국어': 90, '영어': 72, '수학': 95}\n",
        "'''\n",
        "\n",
        "# 10.2. min(순회할 수 있는 객체, 함수(key), 초기값(default))\n",
        "min(students, key=lambda student: student['수학']) # 출력: {'이름': '나', '국어': 80, '영어': 90, '수학': 91}"
      ],
      "metadata": {
        "colab": {
          "base_uri": "https://localhost:8080/"
        },
        "id": "Lqo1-7WsvuPJ",
        "outputId": "af339424-1fa7-464d-da71-1b323250860b"
      },
      "execution_count": 45,
      "outputs": [
        {
          "output_type": "execute_result",
          "data": {
            "text/plain": [
              "{'이름': '나', '국어': 80, '영어': 90, '수학': 91}"
            ]
          },
          "metadata": {},
          "execution_count": 45
        }
      ]
    },
    {
      "cell_type": "code",
      "source": [
        "# 11. sum() : 순회 객체의 모든 값을 더해서 리턴\n",
        "# sum(iterable, start=0)\n",
        "sum([1, 2, 3, 4, 5]) # 출력: 15\n",
        "sum([1, 2, 3], 10) # 출력: 16 / 다 더해버려~\n",
        "\n",
        "sum([[1, 2], [10, 20], [100, 200]], []) # 출력: [1, 2, 10, 20, 100, 200]\n",
        "\n",
        "''' 초기값이 []이기 때문에 아래와 같이 더해짐\n",
        "    [] + [1, 2]\n",
        "    [1, 2] + [10, 20]\n",
        "    [1, 2, 10, 20] + [100, 200]\n",
        "    [1, 2, 10, 20, 100, 200]\n",
        "'''\n",
        "\n",
        "# 만약 여러 배열 합치고 총합 값을 구하고 싶다면?\n",
        "# 11.1. sum으로 한번 더 감싸줘~\n",
        "sum(sum([[1, 2], [10, 20], [100, 200]], [])) # 출력: 333\n",
        "\n",
        "# 11.2. 아니면 numpy를 가져오던가\n",
        "import numpy as np\n",
        "\n",
        "np.sum([[1, 2], [10, 20], [100, 200]]) # 출력 : 333"
      ],
      "metadata": {
        "colab": {
          "base_uri": "https://localhost:8080/"
        },
        "id": "QzZi6cai88yu",
        "outputId": "6ce8a06e-13db-4065-a10e-fde2968f9b84"
      },
      "execution_count": 51,
      "outputs": [
        {
          "output_type": "execute_result",
          "data": {
            "text/plain": [
              "333"
            ]
          },
          "metadata": {},
          "execution_count": 51
        }
      ]
    },
    {
      "cell_type": "code",
      "source": [
        "# 12. print, repr\n",
        "# print 함수는 Python의 내장 함수로, 객체를 문자열 형태로 출력하는 기능을 합니다.\n",
        "# repr 함수는 Python의 내장 함수로, 객체의 \"공식\" 문자열 표현을 가져옵니다.\n",
        "class Charactor:\n",
        "    def __repr__(self):\n",
        "        return 'hello'\n",
        "    def __str__(self):\n",
        "        return 'world'\n",
        "\n",
        "hero = Charactor()\n",
        "print(hero) # __str__ 출력 : 'world'\n",
        "repr(hero) # (__repr__ 메서드 호출로 인해) 출력 : hello"
      ],
      "metadata": {
        "colab": {
          "base_uri": "https://localhost:8080/",
          "height": 53
        },
        "id": "uu6YWz00BxuZ",
        "outputId": "226deb92-cf44-44f4-ead1-fe631a3489cc"
      },
      "execution_count": 53,
      "outputs": [
        {
          "output_type": "stream",
          "name": "stdout",
          "text": [
            "world\n"
          ]
        },
        {
          "output_type": "execute_result",
          "data": {
            "text/plain": [
              "'hello'"
            ],
            "application/vnd.google.colaboratory.intrinsic+json": {
              "type": "string"
            }
          },
          "metadata": {},
          "execution_count": 53
        }
      ]
    },
    {
      "cell_type": "code",
      "source": [
        "# 13. range() : 순회할 수 있는 숫자 객체 만들어줌\n",
        "# 파이썬 2버전까지만 해도 list 반환했지만 이젠 range라는 객체 반환함\n",
        "# range(start, stop, step)\n",
        "\n",
        "# 13.1 range 사용 예시\n",
        "range(1, 10, 2) # 출력: range(1, 10, 2)\n",
        "list(range(1, 10, 2)) # 출력: [1, 3, 5, 7, 9]\n",
        "print(list(range(100))) # 출력: [0, 1, 2, 3, 4, ... ,95, 96, 97, 98, 99]\n",
        "print(list(range(5, 10))) # 출력: [5, 6, 7, 8, 9]\n",
        "\n",
        "# 자주 사용하진 않지만.. step에 음수값도 사용할 수 있음.\n",
        "print(list(range(100, 1, -2))) # 출력: [100, 98, 96, ... , 8, 6, 4, 2]\n",
        "\n",
        "\n",
        "# 13.2 range 자료형 특징\n",
        "# 순회 가능! 슬라이싱, 인덱싱 가능! len으로 길이 반환 가능! in으로 멤버십 테스트 가능! 반복 가능!\n",
        "range(10)[3] # 인덱싱 예시, 숫자 3 반환\n",
        "range(10)[3:7] # 슬라이싱 예시, range(3, 7) 반환\n",
        "len(range(10)) # 인덱싱 예시, 0~9까지 있으므로 10 반환\n",
        "5 in range(10) # 멤버십 테스트 예시, True 반환\n",
        "for i in range(3): print(i) # 반복문 예시, 순서대로 0, 1, 2 출력함"
      ],
      "metadata": {
        "id": "9F4NH76MCI_W"
      },
      "execution_count": null,
      "outputs": []
    },
    {
      "cell_type": "code",
      "source": [
        "# 14. enumerate() : 반복할 수 있는 객체의 인덱스와 값을 함께 반환\n",
        "# 함수의 두 번째 인자를 통해 시작 인덱스를 지정할 수 있습니다.\n",
        "# 이를 활용하여 반복문 내에서 인덱스와 값에 동시에 접근하는 것이 가능합니다.\n",
        "# 자바스크립트에서 배열 map 돌릴 때 index 얻어오는거랑 비슷하다!\n",
        "# 얘도 list로 감싸줘야 함\n",
        "\n",
        "values = ['A', 'B', 'C', 'D']\n",
        "print(list(enumerate(values))) # [(0, 'A'), (1, 'B'), (2, 'C'), (3, 'D')]\n",
        "print(list(enumerate(values, 1))) # [(1, 'A'), (2, 'B'), (3, 'C'), (4, 'D')]\n",
        "print(list(enumerate(values, 100))) # [(100, 'A'), (101, 'B'), (102, 'C'), (103, 'D')]"
      ],
      "metadata": {
        "colab": {
          "base_uri": "https://localhost:8080/"
        },
        "id": "9ajy28SuwCnC",
        "outputId": "5e31ee09-3d42-4a33-c426-c7b0c9ae0cef"
      },
      "execution_count": 26,
      "outputs": [
        {
          "output_type": "stream",
          "name": "stdout",
          "text": [
            "[(0, 'A'), (1, 'B'), (2, 'C'), (3, 'D')]\n",
            "[(1, 'A'), (2, 'B'), (3, 'C'), (4, 'D')]\n",
            "[(100, 'A'), (101, 'B'), (102, 'C'), (103, 'D')]\n"
          ]
        }
      ]
    },
    {
      "cell_type": "code",
      "source": [
        "# 15. sorted() : 순회객체 내 요소를 정렬\n",
        "# 원본을 수정하지 않고 새로운 값을 리턴함\n",
        "\n",
        "# 15.1. sorted 예시\n",
        "l = [1, 2, 100, 200, 3, 4, 10, 20]\n",
        "\n",
        "sorted(l) # [1, 2, 3, 4, 10, 20, 100, 200]\n",
        "sorted(l, reverse=True) # [200, 100, 20, 10, 4, 3, 2, 1]\n",
        "\n",
        "l # [1, 2, 100, 200, 3, 4, 10, 20]\n",
        "\n",
        "# 15.2. key값 예시\n",
        "sorted(['hello', 'l', 'hllo', 'hel', 'heo', 'a'], key=len)\n",
        "# 출력 : ['l', 'a', 'hel', 'heo', 'hllo', 'hello']\n",
        "\n",
        "시험결과 = [\n",
        "    {\n",
        "        \"이름\" : \"철수\",\n",
        "        \"국어\" : 80,\n",
        "        \"영어\" : 74,\n",
        "        \"수학\" : 94,\n",
        "    },\n",
        "    {\n",
        "        \"이름\" : \"영희\",\n",
        "        \"국어\" : 99,\n",
        "        \"영어\" : 64,\n",
        "        \"수학\" : 84,\n",
        "    },\n",
        "    {\n",
        "        \"이름\" : \"민수\",\n",
        "        \"국어\" : 44,\n",
        "        \"영어\" : 74,\n",
        "        \"수학\" : 68,\n",
        "    },\n",
        "]\n",
        "\n",
        "sorted(시험결과, key=lambda x:x[\"국어\"], reverse=True)\n",
        "''' 국어 점수 높은 순으로 출력됨\n",
        "    [{'이름': '영희', '국어': 99, '영어': 64, '수학': 84},\n",
        "    {'이름': '철수', '국어': 80, '영어': 74, '수학': 94},\n",
        "    {'이름': '민수', '국어': 44, '영어': 74, '수학': 68}]\n",
        "'''"
      ],
      "metadata": {
        "colab": {
          "base_uri": "https://localhost:8080/"
        },
        "id": "vD_QaUMrxjq3",
        "outputId": "756e08f2-eb1e-4942-e08d-3bbce0901a68"
      },
      "execution_count": 62,
      "outputs": [
        {
          "output_type": "execute_result",
          "data": {
            "text/plain": [
              "[{'이름': '영희', '국어': 99, '영어': 64, '수학': 84},\n",
              " {'이름': '철수', '국어': 80, '영어': 74, '수학': 94},\n",
              " {'이름': '민수', '국어': 44, '영어': 74, '수학': 68}]"
            ]
          },
          "metadata": {},
          "execution_count": 62
        }
      ]
    },
    {
      "cell_type": "code",
      "source": [
        "# 16.reversed : 순회객체 내 요소를 거꾸로 뒤짐음\n",
        "# 원본을 수정하지 않고 새로운 값을 리턴함\n",
        "list(reversed('hello world')) # ['d', 'l', 'r', 'o', 'w', ' ', 'o', 'l', 'l', 'e', 'h']\n",
        "list(reversed([1, 2, 3, 10, 5, 4])) # [4, 5, 10, 3, 2, 1] / 역정렬 아닙니다! 역순입니다.\n",
        "list(reversed(sorted([1, 2, 3, 10, 5, 4]))) # 역정렬을 원한다면 이런느낌.. 이지만 걍 sorted에서 reverse=True 쓰는게.."
      ],
      "metadata": {
        "colab": {
          "base_uri": "https://localhost:8080/"
        },
        "id": "fR-no6bY0DtC",
        "outputId": "8f11e79d-8f9b-4298-8fc1-6b1c9810b6c3"
      },
      "execution_count": 65,
      "outputs": [
        {
          "output_type": "execute_result",
          "data": {
            "text/plain": [
              "[10, 5, 4, 3, 2, 1]"
            ]
          },
          "metadata": {},
          "execution_count": 65
        }
      ]
    },
    {
      "cell_type": "code",
      "source": [],
      "metadata": {
        "id": "QadPhUFPFLYJ"
      },
      "execution_count": null,
      "outputs": []
    }
  ]
}