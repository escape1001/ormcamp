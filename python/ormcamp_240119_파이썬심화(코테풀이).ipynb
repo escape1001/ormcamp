{
  "nbformat": 4,
  "nbformat_minor": 0,
  "metadata": {
    "colab": {
      "provenance": [],
      "authorship_tag": "ABX9TyM+tH81C9fo3lpbG+EQsJqJ",
      "include_colab_link": true
    },
    "kernelspec": {
      "name": "python3",
      "display_name": "Python 3"
    },
    "language_info": {
      "name": "python"
    }
  },
  "cells": [
    {
      "cell_type": "markdown",
      "metadata": {
        "id": "view-in-github",
        "colab_type": "text"
      },
      "source": [
        "<a href=\"https://colab.research.google.com/github/escape1001/ormcamp/blob/main/python/ormcamp_240119_%ED%8C%8C%EC%9D%B4%EC%8D%AC%EC%8B%AC%ED%99%94(%EC%BD%94%ED%85%8C%ED%92%80%EC%9D%B4).ipynb\" target=\"_parent\"><img src=\"https://colab.research.google.com/assets/colab-badge.svg\" alt=\"Open In Colab\"/></a>"
      ]
    },
    {
      "cell_type": "markdown",
      "source": [
        "# 코테 문제풀이"
      ],
      "metadata": {
        "id": "-oHDAURuLW57"
      }
    },
    {
      "cell_type": "code",
      "execution_count": 12,
      "metadata": {
        "colab": {
          "base_uri": "https://localhost:8080/"
        },
        "id": "VYjSlIq5DuRS",
        "outputId": "ef3ae2c4-c47c-45e6-b710-14b9b5df3aff"
      },
      "outputs": [
        {
          "output_type": "execute_result",
          "data": {
            "text/plain": [
              "[2, 3]"
            ]
          },
          "metadata": {},
          "execution_count": 12
        }
      ],
      "source": [
        "# 1. 짝수홀수 갯수\n",
        "# https://school.programmers.co.kr/learn/courses/30/lessons/120824\n",
        "num_list = [1, 2, 3, 4, 5] # 결과[2, 3]\n",
        "\n",
        "# 내 풀이\n",
        "def solution(num_list):\n",
        "    even_list = list(filter(lambda x: x%2 == 0, num_list))\n",
        "    answer = [len(even_list) , len(num_list) - len(even_list)]\n",
        "    return answer\n",
        "\n",
        "solution(num_list)\n",
        "\n",
        "# 마스킹 풀이\n",
        "# 마스킹 : map 돌린 나머지가 0이면 false, 1이면 true 로 취급하는 컨셉\n",
        "# 여기선 굳이 bool값으로 취급하진 않음.\n",
        "def solution2(num_list):\n",
        "    masking_list = list(map(lambda x: x%2, num_list))\n",
        "    answer = [masking_list.count(0), masking_list.count(1)]\n",
        "    return answer\n",
        "\n",
        "solution2(num_list)"
      ]
    },
    {
      "cell_type": "code",
      "source": [
        "# 2. 머쓱이보다 키 큰 사람\n",
        "# https://school.programmers.co.kr/learn/courses/30/lessons/120585\n",
        "array = [149, 180, 192, 170]\n",
        "height = 167\n",
        "# 결과 3\n",
        "\n",
        "# 내 풀이\n",
        "def solution(array, height):\n",
        "    return len(list(filter(lambda x: x > height, array)))\n",
        "\n",
        "solution(array, height)\n",
        "\n",
        "# 왜 filter는 len가 없지?\n",
        "# -> filter는 순회 돌기 전까지 실행되지 않은 object나 마찬가지임.\n",
        "# 주문만 찍히고 아직 제조되지 않은 커피같은거군요..\n",
        "\n",
        "# map 풀이\n",
        "def solution(array, height):\n",
        "    return sum(map(lambda x: x > height, array))\n",
        "\n",
        "solution([149, 180, 192, 170], 167)"
      ],
      "metadata": {
        "colab": {
          "base_uri": "https://localhost:8080/"
        },
        "id": "HkUvuX00MLjn",
        "outputId": "1518cddb-28c3-4604-e1e1-2e19a788b337"
      },
      "execution_count": 17,
      "outputs": [
        {
          "output_type": "execute_result",
          "data": {
            "text/plain": [
              "3"
            ]
          },
          "metadata": {},
          "execution_count": 17
        }
      ]
    },
    {
      "cell_type": "code",
      "source": [
        "# 3. 숨어있는 숫자의 덧셈 (1)\n",
        "# https://school.programmers.co.kr/learn/courses/30/lessons/120851\n",
        "import re\n",
        "\n",
        "my_string = \"aAb1B2cC34oOp\" # 10\n",
        "\n",
        "# 내 풀이\n",
        "def solution(my_string):\n",
        "    reg_str = re.sub(r\"[^\\d]\", \"0\", my_string)\n",
        "    answer = sum(map(lambda x: int(x), reg_str))\n",
        "    return answer\n",
        "\n",
        "solution(my_string)\n",
        "\n",
        "# 정규표현식에서 r\"\" 식으로 입력하는 이유\n",
        "# r = raw / print(r'hello\\nworld') <- 요거 찍어보면 이해됨\n",
        "\n",
        "# 강사 풀이\n",
        "def solution2(my_string):\n",
        "    reg_str = re.findall(r\"[\\d]\", my_string)\n",
        "    answer = sum(map(int, reg_str))\n",
        "    return answer\n",
        "\n",
        "solution2(my_string)"
      ],
      "metadata": {
        "colab": {
          "base_uri": "https://localhost:8080/"
        },
        "id": "-HEue1wSTEen",
        "outputId": "d768f111-7531-4001-b90b-8f7cbf4d3952"
      },
      "execution_count": 30,
      "outputs": [
        {
          "output_type": "execute_result",
          "data": {
            "text/plain": [
              "10"
            ]
          },
          "metadata": {},
          "execution_count": 30
        }
      ]
    },
    {
      "cell_type": "code",
      "source": [
        "# 4. 암호해독\n",
        "# https://school.programmers.co.kr/learn/courses/30/lessons/120892\n",
        "\n",
        "cipher = \"dfjardstddetckdaccccdegk\"\n",
        "code = 4 # 결과 \"attack\"\n",
        "\n",
        "# 내 풀이 = 강사풀이\n",
        "def solution(cipher, code):\n",
        "    return cipher[code-1::code]\n",
        "\n",
        "solution(cipher, code)"
      ],
      "metadata": {
        "colab": {
          "base_uri": "https://localhost:8080/",
          "height": 35
        },
        "id": "LmaxkGO8WeBA",
        "outputId": "3a6de0f0-8b24-4925-e99b-92dd9aca21df"
      },
      "execution_count": 34,
      "outputs": [
        {
          "output_type": "execute_result",
          "data": {
            "text/plain": [
              "'attack'"
            ],
            "application/vnd.google.colaboratory.intrinsic+json": {
              "type": "string"
            }
          },
          "metadata": {},
          "execution_count": 34
        }
      ]
    },
    {
      "cell_type": "code",
      "source": [
        "# 5. 369게임\n",
        "# https://school.programmers.co.kr/learn/courses/30/lessons/120891\n",
        "order = 29423 # 결과 2\n",
        "\n",
        "# 내 풀이 - 코테 통과 못함 왜지!\n",
        "def solution(order):\n",
        "    return list(map(lambda x: int(x)%3, str(order))).count(0)\n",
        "\n",
        "solution(order)\n",
        "\n",
        "# 강사풀이 1\n",
        "def solution(order):\n",
        "    order = str(order)\n",
        "    return order.count('3') + order.count('6') + order.count('9')\n",
        "\n",
        "# 강사풀이 2\n",
        "import re\n",
        "\n",
        "def solution(order):\n",
        "    order = str(order)\n",
        "    return len(list(re.findall(r'[369]', '1231231234839291')))"
      ],
      "metadata": {
        "colab": {
          "base_uri": "https://localhost:8080/"
        },
        "id": "uvBtJNkafGcN",
        "outputId": "aecba3c7-f3ba-4052-fa6e-ccf79e284712"
      },
      "execution_count": 50,
      "outputs": [
        {
          "output_type": "execute_result",
          "data": {
            "text/plain": [
              "2"
            ]
          },
          "metadata": {},
          "execution_count": 50
        }
      ]
    },
    {
      "cell_type": "code",
      "source": [
        "# 6. 중복문자 제거\n",
        "# https://school.programmers.co.kr/learn/courses/30/lessons/120888\n",
        "\n",
        "my_string = \"people\" # result : peol\n",
        "\n",
        "# 내 풀이\n",
        "# set을 쓰고 싶었으나 순서 보장하지 않음 이슈로 더 복잡해짐\n",
        "def solution(my_string):\n",
        "    my_set = set(my_string) # {'e', 'l', 'o', 'p'}\n",
        "\n",
        "    res = []\n",
        "    for i in my_set :\n",
        "        re = my_string.index(i)\n",
        "        res.append((re, i))\n",
        "\n",
        "    return \"\".join([i[1] for i in sorted(res)])\n",
        "\n",
        "solution(my_string)\n",
        "\n",
        "# 강사풀이 1\n",
        "def solution(s):\n",
        "    answer = ''\n",
        "    for i in s:\n",
        "        if i not in answer:\n",
        "            answer += i\n",
        "    return answer\n",
        "\n",
        "# 강사풀이 2\n",
        "# dict 자료형이 중복된 키를 허용하지 않는단 걸 이용한 풀이\n",
        "# 주니어치고 너무 우아한 풀이라는 코멘트\n",
        "def solution(my_string):\n",
        "    return ''.join(dict.fromkeys(my_string))\n",
        "\n",
        "solution('people')"
      ],
      "metadata": {
        "colab": {
          "base_uri": "https://localhost:8080/",
          "height": 35
        },
        "id": "gH66PGrijrCZ",
        "outputId": "1128ce2a-c6fa-42ad-a014-731f28d49175"
      },
      "execution_count": 67,
      "outputs": [
        {
          "output_type": "execute_result",
          "data": {
            "text/plain": [
              "'peol'"
            ],
            "application/vnd.google.colaboratory.intrinsic+json": {
              "type": "string"
            }
          },
          "metadata": {},
          "execution_count": 67
        }
      ]
    },
    {
      "cell_type": "code",
      "source": [
        "# 7. A로 B 만들기\n",
        "# https://school.programmers.co.kr/learn/courses/30/lessons/120886\n",
        "before = \"olleh\"\n",
        "after = \"hello\"\t#1\n",
        "before1 = \"asllpe\"\n",
        "after1 = \"appdle\" #0\n",
        "\n",
        "# 내 풀이1 : 통과 못함 -> 회문 테스트인줄 알았는데 애너그램 가능 여부 확인하는거였음!!\n",
        "def solution(before, after):\n",
        "    for index, word in enumerate(before):\n",
        "        if word != after[(index+1) * -1]:\n",
        "            return 0\n",
        "    return 1\n",
        "\n",
        "solution(before1, after1)\n",
        "\n",
        "# 내 풀이2\n",
        "def solution2(before, after):\n",
        "    # 첨에 set 한 뒤에 sorted 하려고 했는데 생각해보니 굳이 set 할 필요가 없었음\n",
        "    return int(sorted(before) == sorted(after))\n",
        "\n",
        "solution2(before1, after1)\n",
        "\n",
        "\n",
        "# 강사풀이 1 : collections 사용\n",
        "import collections\n",
        "\n",
        "# collections.Counter(\"olleh\") == collections.Counter(\"hello\")\n",
        "# collections.Counter(\"olleh\") == collections.Counter(\"hhhhhhhhhello\")\n",
        "collections.Counter(\"olleh\")\n",
        "\n",
        "# 강사풀이 2\n",
        "def solution(before, after):\n",
        "    a = list(after)\n",
        "    for i in before:\n",
        "        if i in a:\n",
        "            a.remove(i)\n",
        "        else:\n",
        "            return 0\n",
        "    if a: # 요기 생략해도 통과하드라\n",
        "        return 0\n",
        "    return 1\n",
        "\n",
        "solution(\"olleh\", \"hello\")"
      ],
      "metadata": {
        "colab": {
          "base_uri": "https://localhost:8080/"
        },
        "id": "Yk4JKPT-lrdt",
        "outputId": "a52edd77-8331-433b-9292-c5ec643904f1"
      },
      "execution_count": 96,
      "outputs": [
        {
          "output_type": "execute_result",
          "data": {
            "text/plain": [
              "Counter({'o': 1, 'l': 2, 'e': 1, 'h': 1})"
            ]
          },
          "metadata": {},
          "execution_count": 96
        }
      ]
    },
    {
      "cell_type": "code",
      "source": [
        "# 만약 위 문제가 회문 문제였다면?\n",
        "# (나는 팔린드롬 얘기한거였는데 한글자씩 밀어서 확인하는 컨셉으로 풀이중..)\n",
        "\n",
        "# 'hello' => 'elloh' => 'llohe'\n",
        "# 'hello' => 'ohell' => 'lohel'\n",
        "# collections.deque를 사용해서 풀면 쉽게 풀립니다.\n",
        "\n",
        "# 문제1 'hello'를 앞뒤로 이동시켜 'llohe'를 만들 수 있나요?\n",
        "# -> 더해봐~ 'hellohello' 나오는지\n",
        "\n",
        "# 문제2 몇칸 이동했나요?\n",
        "# 'hellohello'.index('llohe')"
      ],
      "metadata": {
        "id": "qolBEXYuqvru"
      },
      "execution_count": null,
      "outputs": []
    },
    {
      "cell_type": "code",
      "source": [
        "# 8. 저주의 숫자 3\n",
        "# https://school.programmers.co.kr/learn/courses/30/lessons/120871\n",
        "n = 15\t# 25\n",
        "n1 = 40\t# 76\n",
        "\n",
        "# 내 풀이\n",
        "def solution(n):\n",
        "    normal = [i for i in range(1, n*2)]\n",
        "    no3 = list(filter(lambda x: x%3 > 0 and '3' not in str(x), normal))\n",
        "    return no3[n-1]\n",
        "\n",
        "solution(40)\n",
        "\n",
        "\n",
        "# 강사풀이\n",
        "def solution(num):\n",
        "    l = []\n",
        "    for i in range(1000):\n",
        "        if i % 3 != 0:\n",
        "            l.append(i)\n",
        "        elif '3' not in str(i):\n",
        "            l.append(i)\n",
        "    print(l)\n",
        "\n",
        "solution(15)"
      ],
      "metadata": {
        "colab": {
          "base_uri": "https://localhost:8080/"
        },
        "id": "Q6_PWPrzy1Vp",
        "outputId": "0ca517a7-7b8a-4d6e-e9a3-98d67269219f"
      },
      "execution_count": 105,
      "outputs": [
        {
          "output_type": "stream",
          "name": "stdout",
          "text": [
            "[1, 2, 4, 5, 7, 8, 10, 11, 14, 16, 17, 19, 20, 22, 25, 26, 28, 29, 40, 41, 44, 46, 47, 49, 50, 52, 55, 56, 58, 59, 61, 62, 64, 65, 67, 68, 70, 71, 74, 76, 77, 79]\n"
          ]
        },
        {
          "output_type": "execute_result",
          "data": {
            "text/plain": [
              "76"
            ]
          },
          "metadata": {},
          "execution_count": 105
        }
      ]
    },
    {
      "cell_type": "code",
      "source": [
        "# 9. 진료 순서 정하기\n",
        "# https://school.programmers.co.kr/learn/courses/30/lessons/120835\n",
        "emergency = [3, 76, 24]\t# result[3, 1, 2]\n",
        "\n",
        "# 내 풀이\n",
        "def solution(emergency):\n",
        "    sorted_list = sorted(emergency, reverse=True)\n",
        "\n",
        "    return [sorted_list.index(i) +1 for i in emergency]\n",
        "\n",
        "solution(emergency)"
      ],
      "metadata": {
        "colab": {
          "base_uri": "https://localhost:8080/"
        },
        "id": "bjtRaKtQ1ogJ",
        "outputId": "7d140b83-b214-4cbb-c3aa-3b3e61793643"
      },
      "execution_count": 110,
      "outputs": [
        {
          "output_type": "execute_result",
          "data": {
            "text/plain": [
              "[3, 1, 2]"
            ]
          },
          "metadata": {},
          "execution_count": 110
        }
      ]
    },
    {
      "cell_type": "code",
      "source": [
        "# 10. 가까운 수\n",
        "# https://school.programmers.co.kr/learn/courses/30/lessons/120890\n",
        "array = [3, 10, 28]\n",
        "n = 20\t# 결과 : 28\n",
        "array2 = [3, 10, 28, 21, 19]\n",
        "\n",
        "# 내 풀이\n",
        "# 솔직히 왜 이걸로 통과가 됐는지 모르겠음!ㅠㅠ\n",
        "def solution(array, n):\n",
        "    array.sort() # 가까운 수가 두개일 경우 작은 수부터 리턴하기 위해 array 한번 정렬\n",
        "    sorted_array = sorted(array, key=lambda x: abs(x - n))\n",
        "\n",
        "    return sorted_array[0]\n",
        "\n",
        "solution(array2, n)\n",
        "\n",
        "# 강사 풀이\n",
        "# 이 쪽이 더 말이된다.. sorted에 가중치 더하기!\n",
        "def solution2(array, n):\n",
        "    array.sort() # 가까운 수가 두개일 경우 작은 수부터 리턴하기 위해 array 한번 정렬\n",
        "    sorted_array = sorted(array, key=lambda x: (abs(x - n), x))\n",
        "\n",
        "    # 만약에 큰 쪽을 리턴하고 싶다면 요렇게\n",
        "    #sorted(array, key=lambda x:(abs(x-n), n-x))[0] # 팁, n-x이거나 x-n 2개 중에 하나입니다.\n",
        "\n",
        "    return sorted_array[0]\n",
        "\n",
        "solution2(array2, n)"
      ],
      "metadata": {
        "colab": {
          "base_uri": "https://localhost:8080/"
        },
        "id": "uqauvozPInIk",
        "outputId": "b4bc5f92-6adf-4f35-e998-21c7f19fb2ca"
      },
      "execution_count": 122,
      "outputs": [
        {
          "output_type": "execute_result",
          "data": {
            "text/plain": [
              "19"
            ]
          },
          "metadata": {},
          "execution_count": 122
        }
      ]
    },
    {
      "cell_type": "code",
      "source": [
        "# 11. k의 개수\n",
        "# https://school.programmers.co.kr/learn/courses/30/lessons/120887\n",
        "i = 10\n",
        "j = 50\n",
        "k = 5\n",
        "# res 5\n",
        "\n",
        "# 내 풀이\n",
        "def solution(i, j, k):\n",
        "    answer = ''.join([str(n) for n in range(i, j+1)])\n",
        "    return answer.count(str(k))\n",
        "\n",
        "solution(i, j, k)"
      ],
      "metadata": {
        "colab": {
          "base_uri": "https://localhost:8080/"
        },
        "id": "inL3Bc2eMoJf",
        "outputId": "5577c4db-cf90-498e-adf6-7149d774f1ac"
      },
      "execution_count": 125,
      "outputs": [
        {
          "output_type": "execute_result",
          "data": {
            "text/plain": [
              "5"
            ]
          },
          "metadata": {},
          "execution_count": 125
        }
      ]
    },
    {
      "cell_type": "code",
      "source": [
        "# 12. 직접 출제하는 문제\n",
        "# 선분 길이의 총합을 구하라 / 겹치는 구간 생략해야 함!\n",
        "array = [[0, 5], [3, 5], [7, 10]]\n",
        "\n",
        "def solution(array):\n",
        "    # 전체 선분 [False, False, False, False, False, False, False, False, False, False]\n",
        "    total = sum(array, [])\n",
        "    total_line = [False for _ in range(total[0], total[-1])]\n",
        "\n",
        "    for i, j in array :\n",
        "        for k in range(i, j) :\n",
        "            total_line[k] = True\n",
        "\n",
        "    return total_line.count(True)\n",
        "\n",
        "solution(array)"
      ],
      "metadata": {
        "colab": {
          "base_uri": "https://localhost:8080/"
        },
        "id": "DX2l4iudRCWY",
        "outputId": "0480546b-2858-456d-e5aa-0e5085fdf2b2"
      },
      "execution_count": 144,
      "outputs": [
        {
          "output_type": "execute_result",
          "data": {
            "text/plain": [
              "8"
            ]
          },
          "metadata": {},
          "execution_count": 144
        }
      ]
    },
    {
      "cell_type": "code",
      "source": [
        "# 으아아 설명 놓쳤다 에라토스테스트의 체\n",
        "# 에라토스테스트의 체 => 소수판별 => 이것을 알고리즘 문제로 내는 것은 저는 반대\n",
        "소수 = [True] * 120\n",
        "소수[0] = 소수[1] = False\n",
        "\n",
        "for i in range(4, 120, 2):\n",
        "    소수[i] = False\n",
        "\n",
        "for i in range(6, 120, 3):\n",
        "    소수[i] = False\n",
        "\n",
        "# for i in range(4, 120, 4): # 2의 배수에 속하기 때문에 4의 배수는 할 필요가 없습니다.\n",
        "#     소수[i] = False\n",
        "\n",
        "...\n",
        "\n",
        "# https://nahwasa.com/entry/%EC%97%90%EB%9D%BC%ED%86%A0%EC%8A%A4%ED%85%8C%EB%84%A4%EC%8A%A4%EC%9D%98-%EC%B2%B4-%ED%98%B9%EC%9D%80-%EC%86%8C%EC%88%98%ED%8C%90%EC%A0%95-%EC%8B%9C-%EC%A0%9C%EA%B3%B1%EA%B7%BC-%EA%B9%8C%EC%A7%80%EB%A7%8C-%ED%99%95%EC%9D%B8%ED%95%98%EB%A9%B4-%EB%90%98%EB%8A%94-%EC%9D%B4%EC%9C%A0"
      ],
      "metadata": {
        "id": "ngyFPdjgXOhX"
      },
      "execution_count": null,
      "outputs": []
    },
    {
      "cell_type": "code",
      "source": [
        "# 파이알고 2차원 배열 탐색 : https://100.pyalgo.co.kr/?page=23\n",
        "# 만약 배열의 depth가 미정일 경우는??\n",
        "# 행렬의 연산과 같은 것은 np를 사용하시면 쉽고 빠르게 풀 수 있습니다.\n",
        "import numpy as np\n",
        "\n",
        "x = np.array([1, 2, 3])\n",
        "x * 2\n",
        "\n",
        "s = [[1, 3, 5], [7, 9, 11], [13, 15, 17]]\n",
        "s = np.array(s)\n",
        "np.where(s == 7)"
      ],
      "metadata": {
        "colab": {
          "base_uri": "https://localhost:8080/"
        },
        "id": "VLBlypltcdHN",
        "outputId": "05e6fc23-c279-4b12-e1ab-1fe354afb6b9"
      },
      "execution_count": 145,
      "outputs": [
        {
          "output_type": "execute_result",
          "data": {
            "text/plain": [
              "(array([1]), array([0]))"
            ]
          },
          "metadata": {},
          "execution_count": 145
        }
      ]
    },
    {
      "cell_type": "code",
      "source": [
        "# 지뢰찾기\n",
        "x = [[0, 1, 0, 0],\n",
        "     [0, 1, 0, 0],\n",
        "     [0, 0, 0, 1]]\n",
        "\n",
        "x = np.array(x)\n",
        "np.where(x == 1)"
      ],
      "metadata": {
        "colab": {
          "base_uri": "https://localhost:8080/"
        },
        "id": "DbQbZwMBcs3J",
        "outputId": "7860a270-fe99-4e73-9c0d-471efed6229c"
      },
      "execution_count": 146,
      "outputs": [
        {
          "output_type": "execute_result",
          "data": {
            "text/plain": [
              "(array([0, 1, 2]), array([1, 1, 3]))"
            ]
          },
          "metadata": {},
          "execution_count": 146
        }
      ]
    },
    {
      "cell_type": "code",
      "source": [
        "x = [[0, 1, 0, 0],\n",
        "     [0, 1, 0, 0],\n",
        "     [0, 0, 0, 1]]\n",
        "\n",
        "s = 0\n",
        "for i in x:\n",
        "    s += i.count(1)\n",
        "\n",
        "s"
      ],
      "metadata": {
        "colab": {
          "base_uri": "https://localhost:8080/"
        },
        "id": "3MSTMLSydldN",
        "outputId": "df5df5c2-a56b-470d-ae83-aa45bf00f077"
      },
      "execution_count": 147,
      "outputs": [
        {
          "output_type": "execute_result",
          "data": {
            "text/plain": [
              "3"
            ]
          },
          "metadata": {},
          "execution_count": 147
        }
      ]
    },
    {
      "cell_type": "code",
      "source": [],
      "metadata": {
        "id": "bLZztFh5doSt"
      },
      "execution_count": null,
      "outputs": []
    }
  ]
}