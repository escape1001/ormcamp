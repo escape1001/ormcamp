{
  "nbformat": 4,
  "nbformat_minor": 0,
  "metadata": {
    "colab": {
      "provenance": [],
      "authorship_tag": "ABX9TyMMQv/YQdyaJ2jPKteFc0pp",
      "include_colab_link": true
    },
    "kernelspec": {
      "name": "python3",
      "display_name": "Python 3"
    },
    "language_info": {
      "name": "python"
    }
  },
  "cells": [
    {
      "cell_type": "markdown",
      "metadata": {
        "id": "view-in-github",
        "colab_type": "text"
      },
      "source": [
        "<a href=\"https://colab.research.google.com/github/escape1001/ormcamp/blob/main/python/ormcamp_240107_%EC%A3%BC%EB%A7%90%EC%97%B0%EC%8A%B5.ipynb\" target=\"_parent\"><img src=\"https://colab.research.google.com/assets/colab-badge.svg\" alt=\"Open In Colab\"/></a>"
      ]
    },
    {
      "cell_type": "code",
      "execution_count": 1,
      "metadata": {
        "colab": {
          "base_uri": "https://localhost:8080/"
        },
        "id": "w3Jc1wMbTPpH",
        "outputId": "14d9f02d-49be-463c-faa0-5fc359b98a9e"
      },
      "outputs": [
        {
          "output_type": "stream",
          "name": "stdout",
          "text": [
            "문자열을 입력해주세요.test\n",
            "testtest\n"
          ]
        }
      ],
      "source": [
        "# 1. 문자를 사용자에게 입력받고, 그 문자를 2번 출력하는 프로그램을 만들어주세요.\n",
        "# 예를 들어 ‘abc’를 입력받는다면 ‘abcabc’를 출력해야 합니다.\n",
        "\n",
        "입력 = input(\"문자열을 입력해주세요.\")\n",
        "print(입력 * 2)"
      ]
    },
    {
      "cell_type": "code",
      "source": [
        "# 2. 아래 변수에서 중복을 제거한 유일한 숫자를 알아내는 코드를 작성해주세요. 형변환을 통해 풀어주세요.\n",
        "# 이거 답이 len(set(str(n))) 라고 나와있는데 문제 이상한거같음..\n",
        "# 알아서 중복 없는 숫자만 추출해볼까?\n",
        "\n",
        "n = 1234567890123123123\n",
        "n_set = set(str(n))\n",
        "\n",
        "n_count_dict = {}\n",
        "\n",
        "for num in n_set :\n",
        "    # n을 string 으로 바꿔서 각 숫자 카운트할것임\n",
        "    n_count_dict[num] = str(n).count(num)\n",
        "\n",
        "def getOnce(x) :\n",
        "    res = []\n",
        "    for key in x :\n",
        "        x[key] == 1 and res.append(key)\n",
        "    return sorted(res)\n",
        "\n",
        "print(f\"중복 없이 한번만 나온 숫자는 {getOnce(n_count_dict)}입니다.\")"
      ],
      "metadata": {
        "colab": {
          "base_uri": "https://localhost:8080/"
        },
        "id": "Yzrn9la3SVjR",
        "outputId": "7ee67a13-f289-46f0-c0fc-b94a1ee21644"
      },
      "execution_count": 29,
      "outputs": [
        {
          "output_type": "stream",
          "name": "stdout",
          "text": [
            "중복 없이 한번만 나온 숫자는 ['0', '4', '5', '6', '7', '8', '9']입니다.\n"
          ]
        }
      ]
    },
    {
      "cell_type": "code",
      "source": [
        "# 3. 문자열 s에 마지막에 있는 문자열을 2번 더 붙이는 코드를 작성해주세요.\n",
        "s = 'jun'\n",
        "# 출력값: 'junnn'\n",
        "\n",
        "print(f\"{s}{s[-1] * 2}\")"
      ],
      "metadata": {
        "colab": {
          "base_uri": "https://localhost:8080/"
        },
        "id": "5pHdveaTShH7",
        "outputId": "bbe924e4-0052-4173-9ecd-bab4b4a76458"
      },
      "execution_count": 30,
      "outputs": [
        {
          "output_type": "stream",
          "name": "stdout",
          "text": [
            "junnn\n"
          ]
        }
      ]
    },
    {
      "cell_type": "code",
      "source": [
        "# 4. 'abcde', 숫자, 대쉬(-), 언더스코어(_)를 모두 제거해주세요. 문자열에 translate를 사용해주세요.\n",
        "s = 'hello_world123'\n",
        "# 출력값: 'hlloworl'\n",
        "\n",
        "# 변환 테이블 생성하고, translate 적용 차근차근\n",
        "table = str.maketrans(\"\", \"\", \"abcde1234567890-_\") # 치환일 때에는 인자 2개, 제거할 때에는 3번째 인자\n",
        "res = s.translate(table)\n",
        "res"
      ],
      "metadata": {
        "colab": {
          "base_uri": "https://localhost:8080/",
          "height": 35
        },
        "id": "ONX3EVHRX0E5",
        "outputId": "b348f456-5d8a-4fd6-aa72-c04e64c42a2d"
      },
      "execution_count": 32,
      "outputs": [
        {
          "output_type": "execute_result",
          "data": {
            "text/plain": [
              "'hlloworl'"
            ],
            "application/vnd.google.colaboratory.intrinsic+json": {
              "type": "string"
            }
          },
          "metadata": {},
          "execution_count": 32
        }
      ]
    },
    {
      "cell_type": "code",
      "source": [
        "# 5. 확장자를 출력해주는 코드를 작성해주세요. 확장자는 png, jpeg, mp4 등입니다.\n",
        "s1 = 'licat.jpeg'\n",
        "# 출력값: 'jpeg'\n",
        "\n",
        "s2 = 'li.cat.png'\n",
        "# 출력값: 'png'\n",
        "\n",
        "# 값이 없을 때 index는 오류, find는 -1 반환. find 써 버릇 하자\n",
        "# s를 뒤집은 값에서 .을 찾고 그 뒤 문자열을 반환하자.\n",
        "\n",
        "def getExt1(x) :\n",
        "    dot_index = x[::-1].find(\".\")\n",
        "    # print(x[::-1])\n",
        "    # print(dot_index)\n",
        "    return x[-dot_index:]\n",
        "\n",
        "print(f\"1번 파일 확장자는 {getExt1(s1)} / 2번 파일 확장자는 {getExt1(s2)}\")\n",
        "\n",
        "# 내 풀이.. 자바스크립트스럽다... 파이썬적 사고 좀더 필요"
      ],
      "metadata": {
        "colab": {
          "base_uri": "https://localhost:8080/"
        },
        "id": "14iV6oUfYUZ_",
        "outputId": "be08792b-f64b-461d-e07e-470490e1450c"
      },
      "execution_count": 42,
      "outputs": [
        {
          "output_type": "stream",
          "name": "stdout",
          "text": [
            "1번 파일 확장자는 jpeg / 2번 파일 확장자는 png\n",
            "1번 파일 확장자는 ['', ''] / 2번 파일 확장자는 ['', '']\n"
          ]
        }
      ]
    },
    {
      "cell_type": "code",
      "source": [
        "# 다른 풀이 1 : split 사용\n",
        "def getExt2(x) :\n",
        "    return x.split(\".\")[-1]\n",
        "\n",
        "print(f\"1번 파일 확장자는 {getExt2(s1)} / 2번 파일 확장자는 {getExt2(s2)}\")"
      ],
      "metadata": {
        "colab": {
          "base_uri": "https://localhost:8080/"
        },
        "id": "gXVKoSDsY680",
        "outputId": "ecda0a44-d042-4397-b5d4-638079c3fe49"
      },
      "execution_count": 44,
      "outputs": [
        {
          "output_type": "stream",
          "name": "stdout",
          "text": [
            "1번 파일 확장자는 jpeg / 2번 파일 확장자는 png\n"
          ]
        }
      ]
    },
    {
      "cell_type": "code",
      "source": [
        "# 다른 풀이 2 : rindex 사용 <- 요게 좀더 파이썬적 사고같음\n",
        "def getExt3(x) :\n",
        "    dot_index = x.rindex(\".\")\n",
        "    return x[dot_index+1 :]\n",
        "\n",
        "print(f\"1번 파일 확장자는 {getExt3(s1)} / 2번 파일 확장자는 {getExt3(s2)}\")"
      ],
      "metadata": {
        "colab": {
          "base_uri": "https://localhost:8080/"
        },
        "id": "ZAnCAdJRabqZ",
        "outputId": "4c9c9c88-acd3-4aeb-a625-7ca903e9f375"
      },
      "execution_count": 47,
      "outputs": [
        {
          "output_type": "stream",
          "name": "stdout",
          "text": [
            "1번 파일 확장자는 jpeg / 2번 파일 확장자는 png\n"
          ]
        }
      ]
    },
    {
      "cell_type": "code",
      "source": [],
      "metadata": {
        "id": "3lyh0Oqzayd8"
      },
      "execution_count": null,
      "outputs": []
    }
  ]
}