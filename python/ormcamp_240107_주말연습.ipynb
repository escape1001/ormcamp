{
  "nbformat": 4,
  "nbformat_minor": 0,
  "metadata": {
    "colab": {
      "provenance": [],
      "authorship_tag": "ABX9TyPIKMXUSaa+av//l+n9owod",
      "include_colab_link": true
    },
    "kernelspec": {
      "name": "python3",
      "display_name": "Python 3"
    },
    "language_info": {
      "name": "python"
    }
  },
  "cells": [
    {
      "cell_type": "markdown",
      "metadata": {
        "id": "view-in-github",
        "colab_type": "text"
      },
      "source": [
        "<a href=\"https://colab.research.google.com/github/escape1001/ormcamp/blob/main/python/ormcamp_240107_%EC%A3%BC%EB%A7%90%EC%97%B0%EC%8A%B5.ipynb\" target=\"_parent\"><img src=\"https://colab.research.google.com/assets/colab-badge.svg\" alt=\"Open In Colab\"/></a>"
      ]
    },
    {
      "cell_type": "code",
      "execution_count": 1,
      "metadata": {
        "colab": {
          "base_uri": "https://localhost:8080/"
        },
        "id": "w3Jc1wMbTPpH",
        "outputId": "14d9f02d-49be-463c-faa0-5fc359b98a9e"
      },
      "outputs": [
        {
          "output_type": "stream",
          "name": "stdout",
          "text": [
            "문자열을 입력해주세요.test\n",
            "testtest\n"
          ]
        }
      ],
      "source": [
        "# 1. 문자를 사용자에게 입력받고, 그 문자를 2번 출력하는 프로그램을 만들어주세요.\n",
        "# 예를 들어 ‘abc’를 입력받는다면 ‘abcabc’를 출력해야 합니다.\n",
        "\n",
        "입력 = input(\"문자열을 입력해주세요.\")\n",
        "print(입력 * 2)"
      ]
    },
    {
      "cell_type": "code",
      "source": [
        "# 2. 아래 변수에서 중복을 제거한 유일한 숫자를 알아내는 코드를 작성해주세요. 형변환을 통해 풀어주세요.\n",
        "# 이거 답이 len(set(str(n))) 라고 나와있는데 문제 이상한거같음..\n",
        "# 알아서 중복 없는 숫자만 추출해볼까?\n",
        "\n",
        "n = 1234567890123123123\n",
        "n_set = set(str(n))\n",
        "\n",
        "n_count_dict = {}\n",
        "\n",
        "for num in n_set :\n",
        "    # n을 string 으로 바꿔서 각 숫자 카운트할것임\n",
        "    n_count_dict[num] = str(n).count(num)\n",
        "\n",
        "def getOnce(x) :\n",
        "    res = []\n",
        "    for key in x :\n",
        "        x[key] == 1 and res.append(key)\n",
        "    return sorted(res)\n",
        "\n",
        "print(f\"중복 없이 한번만 나온 숫자는 {getOnce(n_count_dict)}입니다.\")"
      ],
      "metadata": {
        "colab": {
          "base_uri": "https://localhost:8080/"
        },
        "id": "Yzrn9la3SVjR",
        "outputId": "7ee67a13-f289-46f0-c0fc-b94a1ee21644"
      },
      "execution_count": 29,
      "outputs": [
        {
          "output_type": "stream",
          "name": "stdout",
          "text": [
            "중복 없이 한번만 나온 숫자는 ['0', '4', '5', '6', '7', '8', '9']입니다.\n"
          ]
        }
      ]
    },
    {
      "cell_type": "code",
      "source": [
        "# 3. 문자열 s에 마지막에 있는 문자열을 2번 더 붙이는 코드를 작성해주세요.\n",
        "s = 'jun'\n",
        "# 출력값: 'junnn'\n",
        "\n",
        "print(f\"{s}{s[-1] * 2}\")"
      ],
      "metadata": {
        "colab": {
          "base_uri": "https://localhost:8080/"
        },
        "id": "5pHdveaTShH7",
        "outputId": "bbe924e4-0052-4173-9ecd-bab4b4a76458"
      },
      "execution_count": 30,
      "outputs": [
        {
          "output_type": "stream",
          "name": "stdout",
          "text": [
            "junnn\n"
          ]
        }
      ]
    },
    {
      "cell_type": "code",
      "source": [
        "# 4. 'abcde', 숫자, 대쉬(-), 언더스코어(_)를 모두 제거해주세요. 문자열에 translate를 사용해주세요.\n",
        "s = 'hello_world123'\n",
        "# 출력값: 'hlloworl'\n",
        "\n",
        "# 변환 테이블 생성하고, translate 적용 차근차근\n",
        "table = str.maketrans(\"\", \"\", \"abcde1234567890-_\") # 치환일 때에는 인자 2개, 제거할 때에는 3번째 인자\n",
        "res = s.translate(table)\n",
        "res"
      ],
      "metadata": {
        "colab": {
          "base_uri": "https://localhost:8080/",
          "height": 35
        },
        "id": "ONX3EVHRX0E5",
        "outputId": "b348f456-5d8a-4fd6-aa72-c04e64c42a2d"
      },
      "execution_count": 32,
      "outputs": [
        {
          "output_type": "execute_result",
          "data": {
            "text/plain": [
              "'hlloworl'"
            ],
            "application/vnd.google.colaboratory.intrinsic+json": {
              "type": "string"
            }
          },
          "metadata": {},
          "execution_count": 32
        }
      ]
    },
    {
      "cell_type": "code",
      "source": [
        "# 5. 확장자를 출력해주는 코드를 작성해주세요. 확장자는 png, jpeg, mp4 등입니다.\n",
        "s1 = 'licat.jpeg'\n",
        "# 출력값: 'jpeg'\n",
        "\n",
        "s2 = 'li.cat.png'\n",
        "# 출력값: 'png'\n",
        "\n",
        "# 값이 없을 때 index는 오류, find는 -1 반환. find 써 버릇 하자\n",
        "# s를 뒤집은 값에서 .을 찾고 그 뒤 문자열을 반환하자.\n",
        "\n",
        "def getExt1(x) :\n",
        "    dot_index = x[::-1].find(\".\")\n",
        "    # print(x[::-1])\n",
        "    # print(dot_index)\n",
        "    return x[-dot_index:]\n",
        "\n",
        "print(f\"1번 파일 확장자는 {getExt1(s1)} / 2번 파일 확장자는 {getExt1(s2)}\")\n",
        "\n",
        "# 내 풀이.. 자바스크립트스럽다... 파이썬적 사고 좀더 필요"
      ],
      "metadata": {
        "colab": {
          "base_uri": "https://localhost:8080/"
        },
        "id": "14iV6oUfYUZ_",
        "outputId": "be08792b-f64b-461d-e07e-470490e1450c"
      },
      "execution_count": 42,
      "outputs": [
        {
          "output_type": "stream",
          "name": "stdout",
          "text": [
            "1번 파일 확장자는 jpeg / 2번 파일 확장자는 png\n",
            "1번 파일 확장자는 ['', ''] / 2번 파일 확장자는 ['', '']\n"
          ]
        }
      ]
    },
    {
      "cell_type": "code",
      "source": [
        "# 다른 풀이 1 : split 사용\n",
        "def getExt2(x) :\n",
        "    return x.split(\".\")[-1]\n",
        "\n",
        "print(f\"1번 파일 확장자는 {getExt2(s1)} / 2번 파일 확장자는 {getExt2(s2)}\")"
      ],
      "metadata": {
        "colab": {
          "base_uri": "https://localhost:8080/"
        },
        "id": "gXVKoSDsY680",
        "outputId": "ecda0a44-d042-4397-b5d4-638079c3fe49"
      },
      "execution_count": 44,
      "outputs": [
        {
          "output_type": "stream",
          "name": "stdout",
          "text": [
            "1번 파일 확장자는 jpeg / 2번 파일 확장자는 png\n"
          ]
        }
      ]
    },
    {
      "cell_type": "code",
      "source": [
        "# 다른 풀이 2 : rindex 사용 <- 요게 좀더 파이썬적 사고같음\n",
        "def getExt3(x) :\n",
        "    dot_index = x.rindex(\".\")\n",
        "    return x[dot_index+1 :]\n",
        "\n",
        "print(f\"1번 파일 확장자는 {getExt3(s1)} / 2번 파일 확장자는 {getExt3(s2)}\")"
      ],
      "metadata": {
        "colab": {
          "base_uri": "https://localhost:8080/"
        },
        "id": "ZAnCAdJRabqZ",
        "outputId": "4c9c9c88-acd3-4aeb-a625-7ca903e9f375"
      },
      "execution_count": 47,
      "outputs": [
        {
          "output_type": "stream",
          "name": "stdout",
          "text": [
            "1번 파일 확장자는 jpeg / 2번 파일 확장자는 png\n"
          ]
        }
      ]
    },
    {
      "cell_type": "code",
      "source": [
        "''' 6. 다음은 python 강좌 학생들의 시험 점수를 딕셔너리로 나타낸 것입니다.\n",
        "    - 학생들의 **총점**을 구하는 코드를 작성하세요.\n",
        "    - 학생들의 **평균 점수**를 구하는 코드를 작성하세요.\n",
        "    - 점수가 가장 **높은** 학생의 이름과 그 점수를 구하는 코드를 작성하세요.\n",
        "    - 점수가 가장 **낮은** 학생의 이름과 그 점수를 구하는 코드를 작성하세요.\n",
        "'''\n",
        "\n",
        "student_score = {\n",
        "\t\t'홍의': 97,\n",
        "\t\t'원희': 60,\n",
        "\t\t'동해': 77,\n",
        "\t\t'변수': 79,\n",
        "\t\t'창현': 89,\n",
        "}\n",
        "\n",
        "def score(x) :\n",
        "    return x[1]\n",
        "\n",
        "총점 = sum(student_score.values())\n",
        "평균 = 총점 / len(student_score)\n",
        "student_score_list = student_score.items()\n",
        "최고점순 = sorted(student_score_list, key=score, reverse=True)\n",
        "\n",
        "print(f\"총점 : {총점} / 평균 : {평균} / 최고점 : {최고점순[0]} / 최저점 : {최고점순[-1]}\")\n",
        "\n",
        "''' [풀이 추가] : 오.. 이런 메소드가 있었네\n",
        "    max_name = max(student_score, key=student_score.get)\n",
        "    max_score = student_score[max_name]\n",
        "    print(f'점수가 가장 높은 학생은 {max_name}이며, 그 점수는 {max_score}점입니다.')\n",
        "\n",
        "    min_name = min(student_score, key=student_score.get)\n",
        "    min_score = student_score[min_name]\n",
        "    print(f'점수가 가장 낮은 학생은 {min_name}이며, 그 점수는 {min_score}점입니다.')\n",
        "'''\n"
      ],
      "metadata": {
        "colab": {
          "base_uri": "https://localhost:8080/"
        },
        "id": "3lyh0Oqzayd8",
        "outputId": "2e0be325-0a0e-44f7-f6c1-3355cda6a099"
      },
      "execution_count": 55,
      "outputs": [
        {
          "output_type": "stream",
          "name": "stdout",
          "text": [
            "총점 : 402 / 평균 : 80.4 / 최고점 : ('홍의', 97) / 최저점 : ('원희', 60)\n"
          ]
        }
      ]
    },
    {
      "cell_type": "code",
      "source": [
        "''' 7. 학생 7명이 같이 먹을 점심 메뉴를 고르려고 합니다.\n",
        "    학생들의 각자 좋아하는 메뉴와 싫어하는 메뉴를 like 와 dislike 리스트에 담았습니다.\n",
        "    학생들은 점심 메뉴를 고를 때, 한 명이라도 싫어하는 메뉴라면 고르지 않기로 했습니다.\n",
        "    최종 후보 메뉴들의 리스트를 구하는 코드를 작성해주세요.\n",
        "'''\n",
        "like = ['볶음밥', '라면', '국수', '파스타', '치킨', '짜장면', '국밥']\n",
        "dislike = ['국밥', '짬뽕', '찜닭', '파스타', '국수', '카레', '덮밥']\n",
        "\n",
        "# 리스트를 세트로 바꿔서 차집합을 구하자\n",
        "like_set = set(like)\n",
        "dislike_set = set(dislike)\n",
        "\n",
        "print(like_set - dislike_set) # == like_set.difference(dislike_set)\n",
        "\n",
        "\n",
        "''' [풀이 추가] : 오.. 이건 내 풀이가 더 깔끔한거같음\n",
        "    final_menu = []\n",
        "\n",
        "    for menu in like:\n",
        "        if menu not in dislike:\n",
        "            final_menu.append(menu)\n",
        "\n",
        "    print(final_menu)\n",
        "'''"
      ],
      "metadata": {
        "colab": {
          "base_uri": "https://localhost:8080/"
        },
        "id": "VQoY5NH9eTN1",
        "outputId": "c155720e-da2c-4a61-eba2-c77c2438aea4"
      },
      "execution_count": 87,
      "outputs": [
        {
          "output_type": "stream",
          "name": "stdout",
          "text": [
            "{'짜장면', '볶음밥', '치킨', '라면'}\n"
          ]
        }
      ]
    },
    {
      "cell_type": "code",
      "source": [
        "# 8.1. 주어진 리스트에서 평균점수가 가장 높은 학생의 이름을 출력하세요.\n",
        "data = [\n",
        "        {\"이름\": \"길동\", \"수학\": 3, \"과학\": 93},\n",
        "        {\"이름\": \"춘향\", \"수학\": 33, \"과학\": 11},\n",
        "        {\"이름\": \"철수\", \"수학\": 94, \"과학\": 67}\n",
        "       ]\n",
        "\n",
        "def average(x) :\n",
        "    return (x[\"수학\"] + x[\"과학\"]) / 2 # 솔직히 나누기 안해줘도 되는디..\n",
        "\n",
        "최고점자 = sorted(data, key=average, reverse=True)[0][\"이름\"]\n",
        "\n",
        "print(f\"평균점수가 가장 높은 학생은 {최고점자}입니다.\")\n",
        "\n",
        "''' [풀이 추가]\n",
        "    max_entry = max(data, key=lambda x: x[\"수학\"]+x[\"과학\"])\n",
        "    print(max_entry)\n",
        "    print(max_entry[\"이름\"])\n",
        "'''\n",
        "\n",
        "\n",
        "# 8.2. 주어진 사전의 모든 값을 5점씩 증가시키고 결과를 출력하세요.\n",
        "grades = {\"Tom\": 87, \"Jerry\": 95, \"Mickey\": 70}\n",
        "grades2 = {}\n",
        "\n",
        "for name in grades :\n",
        "    grades2[name] = grades[name] + 5\n",
        "\n",
        "print(grades2)\n",
        "\n",
        "''' [풀이 추가] : 진도 안나간 풀이를 연습문제에 넣다니.. 개치사한거같음...\n",
        "    # grades.update({'Tom': grades.get('Tom', 0) + 5})\n",
        "    # grades.update({'Jerry': grades.get('Jerry', 0) + 5})\n",
        "    # grades.update({'Mickey': grades.get('Mickey', 0) + 5})\n",
        "    updated_grades = {name: score + 5 for name, score in grades.items()}\n",
        "    print(updated_grades)\n",
        "'''\n",
        "\n",
        "\n",
        "# 8.3. 주어진 문자열에서 가장 자주 등장하는 단어를 출력하세요.\n",
        "s = \"apple banana apple cherry banana cherry apple\"\n",
        "문자열셋 = set(s.replace(' ', ''))\n",
        "문자열딕 = {}\n",
        "\n",
        "for 문자열 in 문자열셋 :\n",
        "    문자열딕[문자열] = s.count(문자열)\n",
        "\n",
        "def count(x) :\n",
        "    return x[1]\n",
        "\n",
        "문자열딕 = sorted(문자열딕.items(), key=count)\n",
        "\n",
        "print(f\"가장 많이 사용된 알파벳은 {문자열딕[-1]}\")\n",
        "\n",
        "''' [풀이 추가] : max의 범람... 이건 빌트인펑션까지 진도를 나갔어야 함\n",
        "    words = s.split()\n",
        "    most_frequent_word = max(set(words), key=words.count)\n",
        "    print(most_frequent_word)\n",
        "\n",
        "    #######\n",
        "\n",
        "    from collections import Counter\n",
        "\n",
        "    s = \"apple banana apple cherry banana cherry apple\"\n",
        "    result = Counter(s.split())\n",
        "    result.most_common()\n",
        "    result.most_common(1)\n",
        "'''"
      ],
      "metadata": {
        "colab": {
          "base_uri": "https://localhost:8080/"
        },
        "id": "aQ7ABosKfl-m",
        "outputId": "c7e90b1f-1291-4651-db2e-9a7aeef6643c"
      },
      "execution_count": 83,
      "outputs": [
        {
          "output_type": "stream",
          "name": "stdout",
          "text": [
            "평균점수가 가장 높은 학생은 철수입니다.\n",
            "{'Tom': 92, 'Jerry': 100, 'Mickey': 75}\n",
            "가장 많이 사용된 알파벳은 ('a', 9)\n"
          ]
        }
      ]
    },
    {
      "cell_type": "code",
      "source": [],
      "metadata": {
        "id": "GJSCMm1mhJka"
      },
      "execution_count": null,
      "outputs": []
    }
  ]
}