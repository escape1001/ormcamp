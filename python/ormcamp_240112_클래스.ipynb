{
  "nbformat": 4,
  "nbformat_minor": 0,
  "metadata": {
    "colab": {
      "provenance": [],
      "authorship_tag": "ABX9TyNWlbKiwioBD5uprS23NNC7",
      "include_colab_link": true
    },
    "kernelspec": {
      "name": "python3",
      "display_name": "Python 3"
    },
    "language_info": {
      "name": "python"
    }
  },
  "cells": [
    {
      "cell_type": "markdown",
      "metadata": {
        "id": "view-in-github",
        "colab_type": "text"
      },
      "source": [
        "<a href=\"https://colab.research.google.com/github/escape1001/ormcamp/blob/main/python/ormcamp_240112_%ED%81%B4%EB%9E%98%EC%8A%A4.ipynb\" target=\"_parent\"><img src=\"https://colab.research.google.com/assets/colab-badge.svg\" alt=\"Open In Colab\"/></a>"
      ]
    },
    {
      "cell_type": "markdown",
      "source": [
        "# 0. 지난 시간 복습\n",
        "[강사노트](https://colab.research.google.com/drive/1RcTwRYJ6mIz2sb6h8kYvKJbOeIw1TShi?usp=sharing#scrollTo=3A8rTLKzX1EX)"
      ],
      "metadata": {
        "id": "xxnx_v5jcMyc"
      }
    },
    {
      "cell_type": "code",
      "execution_count": 1,
      "metadata": {
        "colab": {
          "base_uri": "https://localhost:8080/"
        },
        "id": "0U9ucYFqaBm6",
        "outputId": "7b6be398-7081-4a67-b655-c2660e23f4bd"
      },
      "outputs": [
        {
          "output_type": "execute_result",
          "data": {
            "text/plain": [
              "30"
            ]
          },
          "metadata": {},
          "execution_count": 1
        }
      ],
      "source": [
        "l = [lambda x, y: x + y, lambda x, y: x - y, lambda x, y: x / y, lambda x, y: x * y]\n",
        "l[0](10, 20) # 파이썬은 일케도 쓸 수 있는게 귀여운거같어.."
      ]
    },
    {
      "cell_type": "markdown",
      "source": [
        "[정렬 알고리즘 얘기]\n",
        "- 파이썬 알고리즘은 팀소트 쓰고 있고 대부분 언어들이 팀소트 따라가는데 자바스크립트는 엔진에 맡김ㅋㅋ 역시 우리자스!\n",
        "- 그래서 경우에 따라 정렬값 달라질 수도 있대\n",
        "\n",
        "[그 외 주저리]<br/>\n",
        "- list 형변환, 무한걸린 반복문, 순환참조 : 메모리 잡아먹는 귀신이니까 사용시 주의 필요."
      ],
      "metadata": {
        "id": "L1n5QKwEeiIq"
      }
    },
    {
      "cell_type": "code",
      "source": [
        "# 자주 사용하는 코드들 구경~\n",
        "list(map(int, ['1', '11', 100, '77']))"
      ],
      "metadata": {
        "colab": {
          "base_uri": "https://localhost:8080/"
        },
        "id": "uAEbJOCqcScr",
        "outputId": "32863bed-48be-469a-d969-d856c009b51e"
      },
      "execution_count": 6,
      "outputs": [
        {
          "output_type": "execute_result",
          "data": {
            "text/plain": [
              "[1, 11, 100, 77]"
            ]
          },
          "metadata": {},
          "execution_count": 6
        }
      ]
    },
    {
      "cell_type": "code",
      "source": [
        "list(map(str.isdigit, 'he1llo w2orl3d'))"
      ],
      "metadata": {
        "colab": {
          "base_uri": "https://localhost:8080/"
        },
        "id": "you7RG4vepmM",
        "outputId": "f77e1502-376b-4faa-8300-569818053bd0"
      },
      "execution_count": 4,
      "outputs": [
        {
          "output_type": "execute_result",
          "data": {
            "text/plain": [
              "[False,\n",
              " False,\n",
              " True,\n",
              " False,\n",
              " False,\n",
              " False,\n",
              " False,\n",
              " False,\n",
              " True,\n",
              " False,\n",
              " False,\n",
              " False,\n",
              " True,\n",
              " False]"
            ]
          },
          "metadata": {},
          "execution_count": 4
        }
      ]
    },
    {
      "cell_type": "code",
      "source": [
        "list(filter(str.isdigit, 'he1llo w2orl3d'))"
      ],
      "metadata": {
        "colab": {
          "base_uri": "https://localhost:8080/"
        },
        "id": "RUWpybyZer9s",
        "outputId": "3dcad0f4-546a-4968-c979-836d11393d06"
      },
      "execution_count": 5,
      "outputs": [
        {
          "output_type": "execute_result",
          "data": {
            "text/plain": [
              "['1', '2', '3']"
            ]
          },
          "metadata": {},
          "execution_count": 5
        }
      ]
    },
    {
      "cell_type": "code",
      "source": [
        "# 난이도 있는 예시\n",
        "요일 = {\n",
        "    0: '일요일',\n",
        "    1: '월요일',\n",
        "    2: '화요일',\n",
        "    3: '수요일',\n",
        "    4: '목요일',\n",
        "    5: '금요일',\n",
        "    6: '토요일',\n",
        "}\n",
        "\n",
        "def 함수(x):\n",
        "    return 요일.get(x, \"해당 요일이 없습니다\")\n",
        "\n",
        "list(map(함수, [1, 5, 6, 3, 4, 22]))"
      ],
      "metadata": {
        "colab": {
          "base_uri": "https://localhost:8080/"
        },
        "id": "G-Wrs_8retjB",
        "outputId": "e5c10166-9169-4581-bb6d-78a5887fc08c"
      },
      "execution_count": 8,
      "outputs": [
        {
          "output_type": "execute_result",
          "data": {
            "text/plain": [
              "['월요일', '금요일', '토요일', '수요일', '목요일', '해당 요일이 없습니다']"
            ]
          },
          "metadata": {},
          "execution_count": 8
        }
      ]
    },
    {
      "cell_type": "markdown",
      "source": [
        "## 클래스 연습"
      ],
      "metadata": {
        "id": "8wkYNpO6ikFM"
      }
    },
    {
      "cell_type": "code",
      "source": [
        "class Character:\n",
        "    character_count = 0\n",
        "\n",
        "    def __init__(self, name, skill, hp, mp, power, x):\n",
        "        self.name = name\n",
        "        self.skill = skill\n",
        "        self.hp = hp\n",
        "        self.mp = mp\n",
        "        self.power = power\n",
        "        self.x = x\n",
        "        Character.character_count_increase() # 인스턴스 생성할 때 마다 증가 가능!\n",
        "\n",
        "    @classmethod\n",
        "    def character_count_increase(cls):\n",
        "        '''\n",
        "        예를 들어 한 화면에 몹이 100개 이상 나오지 못하게 하고싶다면\n",
        "        캐릭터가 100개 이상 생성되면 경고 메시지 출력\n",
        "        '''\n",
        "        cls.character_count += 1\n",
        "\n",
        "    def move(self):\n",
        "        self.x += 100\n",
        "\n",
        "    def attact(self, next):\n",
        "        next.hp -= self.power\n",
        "\n",
        "\n",
        "주인공1 = Character('licat', '질풍검', 100, 100, 10, 10)\n",
        "몹1 = Character('licat', '질풍검', 100, 100, 10, 10)\n",
        "몹2 = Character('licat', '질풍검', 100, 100, 10, 10)\n",
        "몹3 = Character('licat', '질풍검', 100, 100, 10, 10)\n",
        "\n",
        "주인공1.attact(몹1)\n",
        "몹1.hp\n",
        "\n",
        "주인공1.character_count\n",
        "몹1.character_count\n",
        "주인공1.character_count"
      ],
      "metadata": {
        "colab": {
          "base_uri": "https://localhost:8080/"
        },
        "id": "oHVw8a2xfsPd",
        "outputId": "7f25e72a-5b66-41e5-880a-506bf35c4914"
      },
      "execution_count": 19,
      "outputs": [
        {
          "output_type": "execute_result",
          "data": {
            "text/plain": [
              "4"
            ]
          },
          "metadata": {},
          "execution_count": 19
        }
      ]
    },
    {
      "cell_type": "code",
      "source": [
        "# 행렬 연산하기\n",
        "''' 애니팡이 이런 원리야~\n",
        "    [[1, 2, 3],     + [[1, 2, 3],\n",
        "     [1, 2, 3],        [1, 2, 3],\n",
        "     [1, 2, 3]]        [1, 2, 3]]\n",
        "\n",
        "    원래 파이썬에서 [1, 2, 3] + [1, 2, 3]하면\n",
        "    [1, 2, 3, 1, 2, 3]이 나오겠지만\n",
        "\n",
        "    행렬 연산으로 얻고 싶은건 요거!\n",
        "    [1, 2, 3] + [1, 2, 3] == [2, 4, 6]\n",
        "'''\n",
        "\n",
        "# 헷갈리니까 예제에선 1차원으로 할것임\n",
        "class Matrix:\n",
        "    def __init__(self, value):\n",
        "        self.value = value\n",
        "\n",
        "    def __add__(self, next):\n",
        "        result = []\n",
        "\n",
        "        # for i in range(len(self.value)): # 요거 파이썬스럽지 않음! 전형적인 자스하던 인간의 코드~\n",
        "        for i, _ in enumerate(self.value): # 내장 메서드 써줘야 파이썬스럽지. _는 안쓸변수 이름 일케들 많이 함\n",
        "            result.append(self.value[i] + next.value[i])\n",
        "\n",
        "        return result\n",
        "\n",
        "    def __mul__(self, next):\n",
        "        result = []\n",
        "\n",
        "        for i, _ in enumerate(self.value):\n",
        "            result.append(self.value[i] * next.value[i])\n",
        "\n",
        "        return result\n",
        "\n",
        "    def __str__(self):\n",
        "        return self.value\n",
        "\n",
        "    def __repr__(self):\n",
        "        return str(self.value)\n",
        "\n",
        "\n",
        "a = Matrix([1, 2, 3])\n",
        "b = Matrix([1, 2, 3])\n",
        "\n",
        "a+b\n",
        "a*b"
      ],
      "metadata": {
        "colab": {
          "base_uri": "https://localhost:8080/"
        },
        "id": "cEXDVQXrgspi",
        "outputId": "f5a2d011-b095-4b39-e2fb-f49b06e14566"
      },
      "execution_count": 25,
      "outputs": [
        {
          "output_type": "execute_result",
          "data": {
            "text/plain": [
              "[1, 4, 9]"
            ]
          },
          "metadata": {},
          "execution_count": 25
        }
      ]
    },
    {
      "cell_type": "code",
      "source": [
        "# class를 순회 객체로 만들기\n",
        "for i in a : # a는 순회객체가 아니므로 에러남. 순회로 만들고 싶으면 __iter__랑 __next__ 추가해줘야함\n",
        "    print(i)"
      ],
      "metadata": {
        "id": "s3WLlwHAj98q"
      },
      "execution_count": null,
      "outputs": []
    },
    {
      "cell_type": "markdown",
      "source": [
        "# 1. iterater"
      ],
      "metadata": {
        "id": "ZSB2TxZXqAr8"
      }
    },
    {
      "cell_type": "code",
      "source": [
        "# range도 이런식으로 구현된 클래스라고 보시오~\n",
        "class MyIterator:\n",
        "    def __init__(self, stop):\n",
        "        self.currentValue = 0\n",
        "        self.stop = stop\n",
        "\n",
        "    def __iter__(self):\n",
        "        self.currentValue = 0 # 요거 안넣어주면 for문 한번밖에 못쓴다아~\n",
        "        return self\n",
        "\n",
        "    def __next__(self):\n",
        "        if self.currentValue >= self.stop:\n",
        "            raise StopIteration # 얘는 정해진 이름이다.\n",
        "\n",
        "        result = self.currentValue\n",
        "        self.currentValue += 1\n",
        "\n",
        "        return result\n",
        "\n",
        "my_iterator = MyIterator(5)\n",
        "\n",
        "for i in my_iterator:\n",
        "    print(i)\n",
        "\n",
        "for i in my_iterator: # __iter__ 에서 초기화 안해주면 요거 출력 안됨\n",
        "    print(f\"2{i}\")"
      ],
      "metadata": {
        "colab": {
          "base_uri": "https://localhost:8080/"
        },
        "id": "zg-1zjzwqDQn",
        "outputId": "01c0c2b4-7768-45e2-9276-4410d39e87dd"
      },
      "execution_count": 35,
      "outputs": [
        {
          "output_type": "stream",
          "name": "stdout",
          "text": [
            "0\n",
            "1\n",
            "2\n",
            "3\n",
            "4\n",
            "20\n",
            "21\n",
            "22\n",
            "23\n",
            "24\n"
          ]
        }
      ]
    },
    {
      "cell_type": "code",
      "source": [
        "# 위 Matrix를 순회가능한 객체로 만드려면 요렇게\n",
        "class Matrix:\n",
        "    def __init__(self, value):\n",
        "        self.index = 0\n",
        "        self.value = value\n",
        "\n",
        "    def __add__(self, next):\n",
        "        result = []\n",
        "\n",
        "        for i, _ in enumerate(self.value):\n",
        "            result.append(self.value[i] + next.value[i])\n",
        "\n",
        "        return result\n",
        "\n",
        "    def __mul__(self, next):\n",
        "        result = []\n",
        "\n",
        "        for i, _ in enumerate(self.value):\n",
        "            result.append(self.value[i] * next.value[i])\n",
        "\n",
        "        return result\n",
        "\n",
        "    def __str__(self):\n",
        "        return self.value\n",
        "\n",
        "    def __repr__(self):\n",
        "        return str(self.value)\n",
        "\n",
        "    def __iter__(self):\n",
        "        return self\n",
        "\n",
        "    def __next__(self):\n",
        "        if self.index >= len(self.value) :\n",
        "            raise StopIteration\n",
        "        idx = self.index\n",
        "        self.index += 1\n",
        "        return self.value[idx]\n",
        "\n",
        "\n",
        "a = Matrix([1, 2, 3])\n",
        "\n",
        "for i in a :\n",
        "    print(i)"
      ],
      "metadata": {
        "colab": {
          "base_uri": "https://localhost:8080/"
        },
        "id": "lLqhRgyoq9Kz",
        "outputId": "583f7a18-fbf0-4bf1-e245-4bd352b11162"
      },
      "execution_count": 39,
      "outputs": [
        {
          "output_type": "stream",
          "name": "stdout",
          "text": [
            "1\n",
            "2\n",
            "3\n"
          ]
        }
      ]
    },
    {
      "cell_type": "markdown",
      "source": [
        "## 1.1. 순회 메서드와 iterator\n",
        "- zip 같은 메서드의 경우 iterator를 반환하는것임.\n",
        "- zip으로 받아온 값의 경우 한번 list 사용하면 그 다음엔 빈 리스트가 출력됨.\n",
        "- __iter__에서 초기화를 하지 않았기 때문임\n",
        "- sorted만 재순회 가능!"
      ],
      "metadata": {
        "id": "qMtR6JH1v1Hp"
      }
    },
    {
      "cell_type": "code",
      "source": [
        "a = [1, 2, 3]\n",
        "b = ['a', 'b', 'c']\n",
        "\n",
        "z = zip(a, b)\n",
        "print(list(z)) # [(1, 'a'), (2, 'b'), (3, 'c')]\n",
        "\n",
        "# zip 객체는 한 번 사용되었으므로 빈 리스트가 반환됩니다.\n",
        "print(list(z)) # []"
      ],
      "metadata": {
        "colab": {
          "base_uri": "https://localhost:8080/"
        },
        "id": "NdeCWEVOv_vR",
        "outputId": "411b63cd-b7c7-488d-c134-aa3259b9e7d7"
      },
      "execution_count": 40,
      "outputs": [
        {
          "output_type": "stream",
          "name": "stdout",
          "text": [
            "[(1, 'a'), (2, 'b'), (3, 'c')]\n",
            "[]\n"
          ]
        }
      ]
    },
    {
      "cell_type": "markdown",
      "source": [
        "# 클래스 상속"
      ],
      "metadata": {
        "id": "SnaD91KRxWpJ"
      }
    },
    {
      "cell_type": "code",
      "source": [
        "class Character2:\n",
        "    def __init__(self, name, skill, hp, mp, power, defence):\n",
        "        self.name = name\n",
        "        self.skill = skill\n",
        "        self.hp = hp\n",
        "        self.mp = mp\n",
        "        self.power = power\n",
        "        self.defence = defence\n",
        "\n",
        "    def attact(self, next):\n",
        "        next.hp -= self.power\n",
        "\n",
        "\n",
        "class Item:\n",
        "    엑스칼리버 = {'name': '엑스칼리버', 'power': 1000}\n",
        "    가죽갑옷 = {'name': '가죽갑옷', 'defence': 10}\n",
        "    철갑옷 = {'name': '철갑옷', 'defence': 100}\n",
        "    hp물약 = {'name': 'hp물약', 'hp': 10}\n",
        "    mp물약 = {'name': 'mp물약', 'mp': 10}\n",
        "\n",
        "    def repair(self):\n",
        "        print(\"수리합니다!\")\n",
        "\n",
        "\n",
        "class Hero(Character2, Item):\n",
        "    def __init__(self, name, skill, hp, mp, power, defence, level=1):\n",
        "        # self.name = name # 이렇게 일일이 하지 않고, 아래와 같이 하면 됩니다.\n",
        "        super().__init__(name, skill, hp, mp, power, defence)\n",
        "        self.level = level\n",
        "        self.item = []\n",
        "\n",
        "    def add_item(self, item):\n",
        "        self.item.append(item)\n",
        "        self.power += item.get('power', 0)\n",
        "        self.defence += item.get('defence', 0)\n",
        "        self.hp += item.get('hp', 0)\n",
        "        self.mp += item.get('mp', 0)\n",
        "\n",
        "# class Mob(Character2, Dropitem):\n",
        "#     pass\n",
        "\n",
        "# 주인공은 아이템이 있고 몹은 없다\n",
        "# 주인공은 레벨이 있는데 몹은 레벨이 없다\n",
        "# 몹은 드롭하는 아이템이 있는데 주인공은 없다\n",
        "\n",
        "주인공1 = Hero('licat', '질풍검', 100, 100, 10, 0)\n",
        "# 몹1 = Mob('licat', '질풍검', 100, 100, 10, 0)\n",
        "\n",
        "\n",
        "주인공1.add_item(Item.엑스칼리버)\n",
        "주인공1.repair()\n",
        "주인공1.add_item(Item.엑스칼리버)\n",
        "주인공1.item"
      ],
      "metadata": {
        "colab": {
          "base_uri": "https://localhost:8080/"
        },
        "id": "F-jFHM-ougRB",
        "outputId": "98bf44b4-9464-4011-efb4-1e5324faf301"
      },
      "execution_count": 58,
      "outputs": [
        {
          "output_type": "stream",
          "name": "stdout",
          "text": [
            "수리합니다!\n"
          ]
        },
        {
          "output_type": "execute_result",
          "data": {
            "text/plain": [
              "[{'name': '엑스칼리버', 'power': 1000}, {'name': '엑스칼리버', 'power': 1000}]"
            ]
          },
          "metadata": {},
          "execution_count": 58
        }
      ]
    },
    {
      "cell_type": "markdown",
      "source": [
        "## 잠깐 이론타임~ 오버로딩, 클로져"
      ],
      "metadata": {
        "id": "5P1AjhEaKxzG"
      }
    },
    {
      "cell_type": "code",
      "source": [
        "# 파이썬은 오버로딩이 없습니다!! 그럼에도 오버로딩이 무엇인지 설명은 해드리겠습니다.\n",
        "# 자주나오는 용어이니 설명해드리는 것이지 이해하실 필요는 없습니다.\n",
        "\n",
        "class A:\n",
        "    def hello(self, a):\n",
        "        return a ** 2\n",
        "\n",
        "    def hello(self, a, b):\n",
        "        return a + b\n",
        "\n",
        "\n",
        "a = A()\n",
        "# print(a.hello(10)) # error!, JAVA는 이렇게 아규먼트의 갯수에 따라 호출되는 함수를 다르게 할 수 있습니다.\n",
        "print(a.hello(10, 20))"
      ],
      "metadata": {
        "colab": {
          "base_uri": "https://localhost:8080/"
        },
        "id": "FhjxkS7GIJKn",
        "outputId": "61629116-344a-4ed1-9625-e2d69166e6db"
      },
      "execution_count": 60,
      "outputs": [
        {
          "output_type": "stream",
          "name": "stdout",
          "text": [
            "30\n"
          ]
        }
      ]
    },
    {
      "cell_type": "code",
      "source": [
        "# 클래스 대안 자료 형태\n",
        "# 딕셔너리\n",
        "hero = {\n",
        "    'name': 'Jun',\n",
        "    'hp': 100,\n",
        "    'mp': 100,\n",
        "    'power': 30,\n",
        "    'drop_rate': 0,\n",
        "    'attack': lambda: f'{hero[\"power\"]}에 파워로 공격하였습니다.',\n",
        "}\n",
        "\n",
        "print(hero['hp'])\n",
        "print(hero['attack']())  # 출력: 30에 파워로 공격하였습니다."
      ],
      "metadata": {
        "id": "ckkPs9GQKviP"
      },
      "execution_count": null,
      "outputs": []
    },
    {
      "cell_type": "code",
      "source": [
        "# 클래스 대안 자료 형태\n",
        "# 딕셔너리\n",
        "hero = {\n",
        "    'name': 'Jun',\n",
        "    'hp': 100,\n",
        "    'mp': 100,\n",
        "    'power': 30,\n",
        "    'drop_rate': 0,\n",
        "    'attack': lambda: f'{hero[\"power\"]}에 파워로 공격하였습니다.',\n",
        "}\n",
        "\n",
        "print(hero['hp'])\n",
        "print(hero['attack']())  # 출력: 30에 파워로 공격하였습니다."
      ],
      "metadata": {
        "id": "OWD9PfTRLFNS"
      },
      "execution_count": null,
      "outputs": []
    },
    {
      "cell_type": "markdown",
      "source": [
        "## 매직메서드\n",
        "- 언더바 두개 붙인다고 던더(더블언더) 메서드라고 하기도 함\n",
        "- 서비스 만들 때 실질적으로 쓰는 것 : init, repr, len, str, eq 정도.."
      ],
      "metadata": {
        "id": "3409lSEQL4G3"
      }
    },
    {
      "cell_type": "markdown",
      "source": [
        "# 분위기 환기를 위한 크롤링 예제"
      ],
      "metadata": {
        "id": "p198D7nie2b3"
      }
    },
    {
      "cell_type": "code",
      "source": [
        "import requests\n",
        "from bs4 import BeautifulSoup\n",
        "\n",
        "response = requests.get('https://paullab.co.kr/bookservice/')\n",
        "soup = BeautifulSoup(response.text, 'html.parser')"
      ],
      "metadata": {
        "id": "B5eJUgA5Q06n"
      },
      "execution_count": 62,
      "outputs": []
    },
    {
      "cell_type": "code",
      "source": [
        "# 윗쪽 코드블럭 계속 요청하면 디도스임 완전~\n",
        "# 리퀘스트 하고 나면 코드블럭 분리해주는게 매너야~\n",
        "book_name = soup.select('.book_name')\n",
        "book_info = soup.select('.book_info')\n",
        "\n",
        "book_info[2].text"
      ],
      "metadata": {
        "colab": {
          "base_uri": "https://localhost:8080/",
          "height": 35
        },
        "id": "1fzZ5ZQGQ4ky",
        "outputId": "156bff97-431f-496b-ffde-f89a6f35521a"
      },
      "execution_count": 73,
      "outputs": [
        {
          "output_type": "execute_result",
          "data": {
            "text/plain": [
              "'Notion의 기본 사용 방법부터 Notion을 활용한 홈페이지 제작 방법까지 다양하게 다루고 있으며 특히 개발자가 원하는 Notion의 활용 방법을 다루고 있습니다.'"
            ],
            "application/vnd.google.colaboratory.intrinsic+json": {
              "type": "string"
            }
          },
          "metadata": {},
          "execution_count": 73
        }
      ]
    },
    {
      "cell_type": "code",
      "source": [
        "# list로 정리하는 예시\n",
        "# 단점 : 받아온 텍스트를 가공하기 시작하면 코드 지대 난잡해짐\n",
        "books = []\n",
        "\n",
        "for i, _ in enumerate(book_name):\n",
        "    books.append({\n",
        "        '제목' : book_name[i].text,\n",
        "        '가격' : book_info[i * 3 ].text,\n",
        "        '저자' : book_info[i * 3 + 1].text,\n",
        "        '설명' : book_info[i * 3 + 2].text,\n",
        "    })\n",
        "\n",
        "# 마음에 안드는 포인트들\n",
        "# 1. 가격이 int형이 아니다!\n",
        "# 2. 가격, 저자가 한 번 더 들어있다!\n",
        "# 3. 공백도 들어가 있다!"
      ],
      "metadata": {
        "id": "4KHyCcxeUiyQ"
      },
      "execution_count": null,
      "outputs": []
    },
    {
      "cell_type": "code",
      "source": [
        "# class로 정리하는 예시\n",
        "books = []\n",
        "\n",
        "class Book:\n",
        "    def __init__(self, name='', price=0, author='', info=''):\n",
        "        self.name = name\n",
        "        self.price = int(price.replace('가격: ', '').replace(',','').replace('원','').replace('무료','0'))\n",
        "        self.author = author.replace('저자: ', '').split(', ')\n",
        "        self.info = info\n",
        "\n",
        "    def __str__(self):\n",
        "        return self.name\n",
        "\n",
        "    def __repr__(self):\n",
        "        return self.name\n",
        "\n",
        "for i, _ in enumerate(book_name):\n",
        "    books.append(Book(\n",
        "        book_name[i].text,\n",
        "        book_info[(i*3)].text,\n",
        "        book_info[(i*3)+1].text,\n",
        "        book_info[(i*3)+2].text\n",
        "    ))\n",
        "\n",
        "books[1].price"
      ],
      "metadata": {
        "colab": {
          "base_uri": "https://localhost:8080/"
        },
        "id": "qr071R6TXNsh",
        "outputId": "085ec701-bee7-4efe-dfbe-b19676169ff7"
      },
      "execution_count": 91,
      "outputs": [
        {
          "output_type": "execute_result",
          "data": {
            "text/plain": [
              "10000"
            ]
          },
          "metadata": {},
          "execution_count": 91
        }
      ]
    },
    {
      "cell_type": "markdown",
      "source": [
        "# 오늘의 문제\n",
        "오늘 진행한 책 크롤링 코드를 이용하여 다음 요구사항을 만족하는 코드를 작성해주세요.\n",
        "\n",
        "1. 모든 텍스트는 앞, 뒤 공백이 제거된 텍스트여야 합니다.\n",
        "2. 가격은 int 형이어야 합니다.\n",
        "3. 저자는 앞에 '저자: '가 없어야 합니다.\n",
        "4. 가격을 달러로 바꿔주는 메서드를 작성해주세요.\n",
        "5. 할인 메서드를 작성해주세요. 할인율이 들어가면 변경되어야 합니다.<br/>\n",
        "  5.1 object.discount(10) => 10프로 할인된 가격을 반환합니다.<br/>\n",
        "  5.2 object.discount(0) => 0프로 할인된 가격을 반환합니다."
      ],
      "metadata": {
        "id": "41TUPhPsga3v"
      }
    },
    {
      "cell_type": "code",
      "source": [
        "books = []\n",
        "\n",
        "class Book:\n",
        "    def __init__(self, name='', price=0, author='', info=''):\n",
        "        self.name = name.strip()\n",
        "        self.price = int(price.replace('가격: ', '').replace(',','').replace('원','').replace('무료','0'))\n",
        "        self.author = author.strip().replace('저자: ', '').split(', ') # 저자 여럿인 경우가 있어 list로 관리하는게 좋을듯함\n",
        "        self.info = info.strip()\n",
        "\n",
        "    def __str__(self):\n",
        "        # 객체가 가진 인스턴스 변수를 한꺼번에 다 보고 싶어서 한 시도. 이거 좀 더 짧게 못쓰나...\n",
        "        # -> GPT 한테 물어보니 return str(self.__dict__) 를 알려줌!\n",
        "        return f\"{{ name: '{self.name}', price: {self.price}, author: {self.author}, info: '{self.info}' }}\"\n",
        "\n",
        "    def __repr__(self):\n",
        "        return f\"{{ name: '{self.name}', price: {self.price}, author: {self.author}, info: '{self.info}' }}\"\n",
        "\n",
        "    def toDollar(self):\n",
        "        환율 = 1300\n",
        "        return round(self.price / 환율, 2)\n",
        "\n",
        "    def discount(self, rate):\n",
        "        할인액 = self.price * (rate / 100)\n",
        "\n",
        "        return int(self.price - 할인액)\n",
        "\n",
        "for i, _ in enumerate(book_name):\n",
        "    books.append(Book(\n",
        "        book_name[i].text,\n",
        "        book_info[(i*3)].text,\n",
        "        book_info[(i*3)+1].text,\n",
        "        book_info[(i*3)+2].text\n",
        "    ))\n",
        "\n",
        "\n",
        "books[0].discount(0)"
      ],
      "metadata": {
        "colab": {
          "base_uri": "https://localhost:8080/"
        },
        "id": "kwwuQ3bZZDMA",
        "outputId": "78bafb79-7e3c-4ed3-ee6c-6fd7f08c520f"
      },
      "execution_count": 119,
      "outputs": [
        {
          "output_type": "execute_result",
          "data": {
            "text/plain": [
              "{'name': '메모혁신 Notion(노션) 활용 가이드', 'price': 7000, 'author': ['이호준', '이준호', '김혜원', '김유진', '차경림', '김진', '현지연', '정승한'], 'info': 'Notion의 기본 사용 방법부터 Notion을 활용한 홈페이지 제작 방법까지 다양하게 다루고 있으며 특히 개발자가 원하는 Notion의 활용 방법을 다루고 있습니다.'}"
            ]
          },
          "metadata": {},
          "execution_count": 119
        }
      ]
    },
    {
      "cell_type": "code",
      "source": [
        "# 파이알고 23\n",
        "data = ([[1, 3, 5], [7, 9, 11], [13, 15, 17]], 7)\n",
        "\n",
        "def solution(data):\n",
        "    num_list = sum(data[0], [])\n",
        "\n",
        "    try:\n",
        "        num_list.index(data[1])\n",
        "        return True\n",
        "    except :\n",
        "        return False\n",
        "\n",
        "solution(data)"
      ],
      "metadata": {
        "colab": {
          "base_uri": "https://localhost:8080/"
        },
        "id": "ODNZIW0uh0_v",
        "outputId": "b68a2c28-a6cc-4ec1-bc89-825d31293d88"
      },
      "execution_count": 127,
      "outputs": [
        {
          "output_type": "execute_result",
          "data": {
            "text/plain": [
              "True"
            ]
          },
          "metadata": {},
          "execution_count": 127
        }
      ]
    },
    {
      "cell_type": "code",
      "source": [
        "# 파이알고 29\n",
        "data = [4, 1, 2, 1, 2]\n",
        "\n",
        "def solution(data):\n",
        "    num_set = list(set(data))\n",
        "\n",
        "    for i in num_set :\n",
        "        if data.count(i) == 1 :\n",
        "           return i\n",
        "\n",
        "solution(data)"
      ],
      "metadata": {
        "colab": {
          "base_uri": "https://localhost:8080/"
        },
        "id": "BQRsDNLFtzWO",
        "outputId": "6b79701d-5722-41d0-97f3-a7dfe855652a"
      },
      "execution_count": 130,
      "outputs": [
        {
          "output_type": "execute_result",
          "data": {
            "text/plain": [
              "4"
            ]
          },
          "metadata": {},
          "execution_count": 130
        }
      ]
    },
    {
      "cell_type": "code",
      "source": [
        "# 파이알고 34\n",
        "data = \"Dates: 2023-12-31, 2024-01-01, and 2024-02-28.\"\n",
        "\n",
        "def solution(data):\n",
        "    filterd_data = ''.join(filter(str.isdigit, data))\n",
        "\n",
        "    res = []\n",
        "    for i in range(0, (len(filterd_data)), 8):\n",
        "        res.append(\n",
        "            (int(filterd_data[i : i+4]), int(filterd_data[i+4 : i+6]), int(filterd_data[i+6 : i+8]))\n",
        "        )\n",
        "\n",
        "    return res\n",
        "\n",
        "solution(data)\n",
        "\n",
        "# 코드 줄여보자\n",
        "def solution2(data):\n",
        "    filterd_data = ''.join(filter(str.isdigit, data))\n",
        "\n",
        "    res = [(int(filterd_data[i : i+4]), int(filterd_data[i+4 : i+6]), int(filterd_data[i+6 : i+8])) for i in range(0, (len(filterd_data)), 8)]\n",
        "\n",
        "    return res\n",
        "\n",
        "solution2(data)"
      ],
      "metadata": {
        "colab": {
          "base_uri": "https://localhost:8080/"
        },
        "id": "BHQe6rEzyBOh",
        "outputId": "954dafea-5a44-4d95-9a05-0b7cf5fa337c"
      },
      "execution_count": 16,
      "outputs": [
        {
          "output_type": "execute_result",
          "data": {
            "text/plain": [
              "[(2023, 12, 31), (2024, 1, 1), (2024, 2, 28)]"
            ]
          },
          "metadata": {},
          "execution_count": 16
        }
      ]
    },
    {
      "cell_type": "code",
      "source": [],
      "metadata": {
        "id": "gHxA9rhay9_J"
      },
      "execution_count": null,
      "outputs": []
    }
  ]
}